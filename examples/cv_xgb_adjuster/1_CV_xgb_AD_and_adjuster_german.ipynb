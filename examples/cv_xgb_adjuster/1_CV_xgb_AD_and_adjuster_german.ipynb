{
 "cells": [
  {
   "cell_type": "markdown",
   "id": "f77f78f1-bbf9-4aa2-8ec6-770e81cff82c",
   "metadata": {},
   "source": [
    "# CV Routine"
   ]
  },
  {
   "cell_type": "code",
   "execution_count": 1,
   "id": "83e77836-ff32-42a7-bd51-7253f8e050ed",
   "metadata": {},
   "outputs": [],
   "source": [
    "%load_ext autoreload\n",
    "%autoreload 2"
   ]
  },
  {
   "cell_type": "code",
   "execution_count": 2,
   "id": "779c3e6c-a01b-4980-955f-13df60267837",
   "metadata": {},
   "outputs": [
    {
     "name": "stderr",
     "output_type": "stream",
     "text": [
      "2025-01-19 00:11:25.721710: I tensorflow/core/util/port.cc:111] oneDNN custom operations are on. You may see slightly different numerical results due to floating-point round-off errors from different computation orders. To turn them off, set the environment variable `TF_ENABLE_ONEDNN_OPTS=0`.\n",
      "2025-01-19 00:11:25.723780: I tensorflow/tsl/cuda/cudart_stub.cc:28] Could not find cuda drivers on your machine, GPU will not be used.\n",
      "2025-01-19 00:11:25.753444: E tensorflow/compiler/xla/stream_executor/cuda/cuda_dnn.cc:9342] Unable to register cuDNN factory: Attempting to register factory for plugin cuDNN when one has already been registered\n",
      "2025-01-19 00:11:25.753470: E tensorflow/compiler/xla/stream_executor/cuda/cuda_fft.cc:609] Unable to register cuFFT factory: Attempting to register factory for plugin cuFFT when one has already been registered\n",
      "2025-01-19 00:11:25.753489: E tensorflow/compiler/xla/stream_executor/cuda/cuda_blas.cc:1518] Unable to register cuBLAS factory: Attempting to register factory for plugin cuBLAS when one has already been registered\n",
      "2025-01-19 00:11:25.759104: I tensorflow/tsl/cuda/cudart_stub.cc:28] Could not find cuda drivers on your machine, GPU will not be used.\n",
      "2025-01-19 00:11:25.759805: I tensorflow/core/platform/cpu_feature_guard.cc:182] This TensorFlow binary is optimized to use available CPU instructions in performance-critical operations.\n",
      "To enable the following instructions: AVX2 AVX512F AVX512_VNNI AVX512_BF16 AVX_VNNI AMX_TILE AMX_INT8 AMX_BF16 FMA, in other operations, rebuild TensorFlow with the appropriate compiler flags.\n",
      "2025-01-19 00:11:26.355971: W tensorflow/compiler/tf2tensorrt/utils/py_utils.cc:38] TF-TRT Warning: Could not find TensorRT\n"
     ]
    }
   ],
   "source": [
    "%matplotlib inline\n",
    "# Load all necessary packages\n",
    "import sys\n",
    "\n",
    "import pandas as pd\n",
    "import scipy\n",
    "\n",
    "sys.path.append(\"../\")\n",
    "import matplotlib.pyplot as plt\n",
    "import tensorflow.compat.v1 as tf\n",
    "from aif360.algorithms.inprocessing.adversarial_debiasing import AdversarialDebiasing\n",
    "from aif360.algorithms.inprocessing.fairness_adjuster import FairnessAdjuster\n",
    "from aif360.algorithms.preprocessing.optim_preproc_helpers.data_preproc_functions import (\n",
    "    load_preproc_data_adult,\n",
    "    load_preproc_data_compas,\n",
    "    load_preproc_data_german,\n",
    ")\n",
    "from aif360.datasets import (\n",
    "    AdultDataset,\n",
    "    BinaryLabelDataset,\n",
    "    CompasDataset,\n",
    "    GermanDataset,\n",
    ")\n",
    "from aif360.metrics import BinaryLabelDatasetMetric, ClassificationMetric\n",
    "from aif360.metrics.utils import compute_boolean_conditioning_vector\n",
    "from IPython.display import Markdown, display\n",
    "from sklearn.linear_model import LogisticRegression\n",
    "from sklearn.metrics import accuracy_score\n",
    "from sklearn.preprocessing import MaxAbsScaler, StandardScaler\n",
    "\n",
    "from aif360.algorithms.inprocessing.xgb_fairness_adjuster import XGBFairnessAdjuster\n",
    "from aif360.algorithms.inprocessing.xgb_adversarial_debiasing import (\n",
    "    XGBAdversarialDebiasing,\n",
    ")\n",
    "\n",
    "tf.disable_eager_execution()"
   ]
  },
  {
   "cell_type": "code",
   "execution_count": 3,
   "id": "0b9b720e-6392-4bc4-be66-592bcb471c27",
   "metadata": {},
   "outputs": [],
   "source": [
    "N_SEEDS = 50\n",
    "SHOW_CI = False\n",
    "\n",
    "ADVERSARY_WEIGHT_AD = 1.5\n",
    "ADVERSARY_WEIGHT_ADJUSTER = 1.5"
   ]
  },
  {
   "cell_type": "code",
   "execution_count": 4,
   "id": "faaf39f4-c97f-41d0-8fbc-bc77ea549c5b",
   "metadata": {},
   "outputs": [],
   "source": [
    "dataset_orig = load_preproc_data_german([\"age\", \"sex\"])\n",
    "privileged_groups = [{\"age\": 1}]\n",
    "unprivileged_groups = [{\"age\": 0}]"
   ]
  },
  {
   "cell_type": "code",
   "execution_count": 5,
   "id": "c81b6fd7-4d91-4d75-b2ed-db763fbff33a",
   "metadata": {
    "scrolled": true
   },
   "outputs": [],
   "source": [
    "import numpy as np\n",
    "\n",
    "protected_attribute_name = list(unprivileged_groups[0].keys())[0]"
   ]
  },
  {
   "cell_type": "code",
   "execution_count": 6,
   "id": "23007a55-be71-44bc-9fd2-f78ce2bd3c3d",
   "metadata": {},
   "outputs": [],
   "source": [
    "from sklearn.model_selection import KFold, cross_val_score, cross_validate\n",
    "\n",
    "min_max_scaler = MaxAbsScaler()"
   ]
  },
  {
   "cell_type": "markdown",
   "id": "0e72b206-70b0-4189-97a2-c255e21f7614",
   "metadata": {},
   "source": [
    "Prep"
   ]
  },
  {
   "cell_type": "code",
   "execution_count": 7,
   "id": "9a49cb98-4106-4c39-828f-88ddecec6471",
   "metadata": {},
   "outputs": [],
   "source": [
    "dataset_orig.features = min_max_scaler.fit_transform(dataset_orig.features)"
   ]
  },
  {
   "cell_type": "markdown",
   "id": "29974c55-e8af-45e6-a41f-e71184477f62",
   "metadata": {},
   "source": [
    "CV"
   ]
  },
  {
   "cell_type": "code",
   "execution_count": 8,
   "id": "a45f5854-17ad-4b22-9408-40ec54907c4e",
   "metadata": {},
   "outputs": [],
   "source": [
    "def get_metrics(\n",
    "    dataset_orig_test, dataset_pred_test, unprivileged_groups, privileged_groups\n",
    "):\n",
    "    metric_dataset_debiasing_test = BinaryLabelDatasetMetric(\n",
    "        dataset_orig_test,\n",
    "        unprivileged_groups=unprivileged_groups,\n",
    "        privileged_groups=privileged_groups,\n",
    "    )\n",
    "    classified_metric_debiasing_test = ClassificationMetric(\n",
    "        dataset_orig_test,\n",
    "        dataset_pred_test,\n",
    "        unprivileged_groups=unprivileged_groups,\n",
    "        privileged_groups=privileged_groups,\n",
    "    )\n",
    "    metrics_dict = {\n",
    "        \"Test Set: mean outcomes difference\": metric_dataset_debiasing_test.mean_difference(),\n",
    "        \"Test Set: Classification accuracy\": classified_metric_debiasing_test.accuracy(),\n",
    "        \"Test Set: Disparate impact\": classified_metric_debiasing_test.disparate_impact(),\n",
    "        \"Test Set: Average odds difference\": classified_metric_debiasing_test.average_odds_difference(),\n",
    "    }\n",
    "    return metrics_dict"
   ]
  },
  {
   "cell_type": "code",
   "execution_count": 59,
   "id": "166e2407-f436-49aa-819d-0cc61542cbd1",
   "metadata": {},
   "outputs": [],
   "source": [
    "from copy import copy, deepcopy\n",
    "\n",
    "import numpy as np\n",
    "from sklearn.metrics import accuracy_score  # Replace with desired metric\n",
    "from sklearn.model_selection import KFold\n",
    "\n",
    "\n",
    "def cross_validate_seeds(\n",
    "    model_class,\n",
    "    model_kwargs,\n",
    "    dataset,\n",
    "    seeds=5,\n",
    "    n_folds=5,\n",
    "    xgb_kwargs={},\n",
    "):\n",
    "    \"\"\"\n",
    "    Runs cross-validation with multiple seeds.\n",
    "\n",
    "    Parameters:\n",
    "        model: The Scikit-learn model to validate.\n",
    "        X: Feature matrix.\n",
    "        y: Target vector.\n",
    "        seeds: Number of seeds for cross-validation.\n",
    "        folds: Number of folds for each cross-validation.\n",
    "\n",
    "    Returns:\n",
    "        results: Dictionary containing accuracy scores for each seed and fold.\n",
    "    \"\"\"\n",
    "    results = {}\n",
    "    in_sample_preds = {}\n",
    "    oos_preds = {}\n",
    "    \n",
    "    original_df = dataset.convert_to_dataframe()[0]\n",
    "    for seed in range(seeds):\n",
    "        print(f\"\\nSeed {seed + 1}/{seeds}\")\n",
    "        kf = KFold(n_splits=n_folds, shuffle=True, random_state=seed)\n",
    "        seed_results = {}\n",
    "        seed_in_sample_preds = {}\n",
    "        seed_oos_preds = {}\n",
    "        \n",
    "        for to_debias in [True, False]:\n",
    "            model_kwargs[\"debias\"] = to_debias\n",
    "            fold_results = []\n",
    "            fold_in_sample_preds = pd.DataFrame(\n",
    "                {\"pred\": np.zeros(dataset.features.shape[0])},\n",
    "                index=dataset.instance_names\n",
    "            )\n",
    "            fold_oos_preds = pd.DataFrame(\n",
    "                {\"pred\": np.zeros(dataset.features.shape[0])},\n",
    "                index=dataset.instance_names\n",
    "            )\n",
    "            \n",
    "            for fold, (train_idx, test_idx) in enumerate(kf.split(original_df)):\n",
    "                # print(f\"{seed=} || {fold=}\")\n",
    "                # Splitting data\n",
    "                dataset_X_train = dataset.subset(train_idx)\n",
    "                dataset_X_test = dataset.subset(test_idx)\n",
    "    \n",
    "                # Training model\n",
    "                Z = dataset_X_train.protected_attributes[\n",
    "                    :,\n",
    "                    dataset_X_train.protected_attribute_names.index(\n",
    "                        protected_attribute_name\n",
    "                    ),\n",
    "                ]\n",
    "                model_kwargs[\"protected_group_vector\"] = Z\n",
    "                model = model_class(**model_kwargs)\n",
    "                model.fit(dataset_X_train, **xgb_kwargs)\n",
    "    \n",
    "                # Making predictions\n",
    "                dataset_preds = model.predict(dataset_X_test)\n",
    "                dataset_preds_in_sample = model.predict(dataset_X_train)\n",
    "    \n",
    "                dataset_pred_df = pd.DataFrame(\n",
    "                    {\"pred\": dataset_preds.scores.reshape(-1)},\n",
    "                    dataset_preds.instance_names,\n",
    "                )\n",
    "                in_sample_pred_df = pd.DataFrame(\n",
    "                    {\"pred\": dataset_preds_in_sample.scores.reshape(-1)},\n",
    "                    dataset_preds_in_sample.instance_names,\n",
    "                )\n",
    "    \n",
    "                # add to the full results\n",
    "                fold_in_sample_preds.loc[in_sample_pred_df.index] += in_sample_pred_df\n",
    "                fold_oos_preds.loc[dataset_pred_df.index] += dataset_pred_df\n",
    "                \n",
    "                # Evaluating model\n",
    "                metrics = get_metrics(\n",
    "                    dataset_X_test,\n",
    "                    dataset_preds,\n",
    "                    model_kwargs[\"unprivileged_groups\"],\n",
    "                    model_kwargs[\"privileged_groups\"],\n",
    "                )\n",
    "                fold_results.append(metrics)\n",
    "\n",
    "            # take the average of the in-sample predictions, since we added each one (k-1) times\n",
    "            fold_in_sample_preds /= (n_folds - 1)\n",
    "            \n",
    "            seed_results[f\"{to_debias=}\"] = fold_results\n",
    "            seed_in_sample_preds[f\"{to_debias=}\"] = fold_in_sample_preds\n",
    "            seed_oos_preds[f\"{to_debias=}\"] = fold_oos_preds\n",
    "            \n",
    "        results[f\"Seed {seed}\"] = seed_results\n",
    "        in_sample_preds[f\"Seed {seed}\"] = seed_in_sample_preds\n",
    "        oos_preds[f\"Seed {seed}\"] = seed_oos_preds\n",
    "\n",
    "    return results, in_sample_preds, oos_preds"
   ]
  },
  {
   "cell_type": "markdown",
   "id": "8abd638e-026b-4ed7-9010-5e0fadcf7e99",
   "metadata": {},
   "source": [
    "Fairness adjuster"
   ]
  },
  {
   "cell_type": "code",
   "execution_count": 21,
   "id": "c8fa353a-7302-4cda-83b6-d840f1802397",
   "metadata": {},
   "outputs": [],
   "source": [
    "from numpy import nan\n",
    "\n",
    "model_class = XGBFairnessAdjuster\n",
    "model_kwargs = {\n",
    "    \"privileged_groups\": privileged_groups,\n",
    "    \"unprivileged_groups\": unprivileged_groups,\n",
    "    \"adversary_loss_weight\": ADVERSARY_WEIGHT_ADJUSTER,\n",
    "    \"seed\": 1234,\n",
    "    \"task\": \"classification\",\n",
    "    \"use_target\": False,\n",
    "}\n",
    "\n",
    "# from HPT\n",
    "learning_rate_scaling = 20\n",
    "\n",
    "xgb_kwargs = {\n",
    " 'base_score': None,\n",
    " 'booster': None,\n",
    " 'callbacks': [],\n",
    " 'colsample_bylevel': 0.7058998664178697,\n",
    " 'colsample_bynode': None,\n",
    " 'colsample_bytree': 0.42240721131546477,\n",
    " 'device': None,\n",
    " 'early_stopping_rounds': None,\n",
    " 'enable_categorical': False,\n",
    " 'eval_metric': None,\n",
    " 'feature_types': None,\n",
    " 'gamma': None,\n",
    " 'grow_policy': 'lossguide',\n",
    " 'importance_type': None,\n",
    " 'interaction_constraints': None,\n",
    " 'learning_rate': 1.0 / learning_rate_scaling,\n",
    " 'max_bin': None,\n",
    " 'max_cat_threshold': None,\n",
    " 'max_cat_to_onehot': None,\n",
    " 'max_delta_step': None,\n",
    " 'max_depth': 0,\n",
    " 'max_leaves': 183,\n",
    " 'min_child_weight': 0.001,\n",
    " 'missing': nan,\n",
    " 'monotone_constraints': None,\n",
    " 'multi_strategy': None,\n",
    " 'n_estimators': 4 * learning_rate_scaling,\n",
    " 'n_jobs': -1,\n",
    " 'num_parallel_tree': None,\n",
    " 'random_state': None,\n",
    " 'reg_alpha': 0.7574637704877056,\n",
    " 'reg_lambda': 0.0009765625,\n",
    " 'sampling_method': None,\n",
    " 'scale_pos_weight': None,\n",
    " 'subsample': 0.794149258757137,\n",
    " 'tree_method': 'hist',\n",
    " 'validate_parameters': None,\n",
    " 'verbosity': 0}"
   ]
  },
  {
   "cell_type": "code",
   "execution_count": 61,
   "id": "cddf7c8f-1cbd-48f5-90bb-77fe8eb235d6",
   "metadata": {},
   "outputs": [
    {
     "name": "stdout",
     "output_type": "stream",
     "text": [
      "\n",
      "Seed 1/50\n",
      "\n",
      "Seed 2/50\n",
      "\n",
      "Seed 3/50\n",
      "\n",
      "Seed 4/50\n",
      "\n",
      "Seed 5/50\n",
      "\n",
      "Seed 6/50\n",
      "\n",
      "Seed 7/50\n",
      "\n",
      "Seed 8/50\n",
      "\n",
      "Seed 9/50\n",
      "\n",
      "Seed 10/50\n",
      "\n",
      "Seed 11/50\n",
      "\n",
      "Seed 12/50\n",
      "\n",
      "Seed 13/50\n",
      "\n",
      "Seed 14/50\n",
      "\n",
      "Seed 15/50\n",
      "\n",
      "Seed 16/50\n",
      "\n",
      "Seed 17/50\n",
      "\n",
      "Seed 18/50\n",
      "\n",
      "Seed 19/50\n",
      "\n",
      "Seed 20/50\n",
      "\n",
      "Seed 21/50\n",
      "\n",
      "Seed 22/50\n",
      "\n",
      "Seed 23/50\n",
      "\n",
      "Seed 24/50\n",
      "\n",
      "Seed 25/50\n",
      "\n",
      "Seed 26/50\n",
      "\n",
      "Seed 27/50\n",
      "\n",
      "Seed 28/50\n",
      "\n",
      "Seed 29/50\n",
      "\n",
      "Seed 30/50\n",
      "\n",
      "Seed 31/50\n",
      "\n",
      "Seed 32/50\n",
      "\n",
      "Seed 33/50\n",
      "\n",
      "Seed 34/50\n",
      "\n",
      "Seed 35/50\n",
      "\n",
      "Seed 36/50\n",
      "\n",
      "Seed 37/50\n",
      "\n",
      "Seed 38/50\n",
      "\n",
      "Seed 39/50\n",
      "\n",
      "Seed 40/50\n",
      "\n",
      "Seed 41/50\n",
      "\n",
      "Seed 42/50\n",
      "\n",
      "Seed 43/50\n",
      "\n",
      "Seed 44/50\n",
      "\n",
      "Seed 45/50\n",
      "\n",
      "Seed 46/50\n",
      "\n",
      "Seed 47/50\n",
      "\n",
      "Seed 48/50\n",
      "\n",
      "Seed 49/50\n",
      "\n",
      "Seed 50/50\n"
     ]
    }
   ],
   "source": [
    "results, in_sample_preds_adjuster, oos_preds_adjuster = cross_validate_seeds(\n",
    "    model_class,\n",
    "    model_kwargs,\n",
    "    dataset_orig,\n",
    "    seeds=N_SEEDS,\n",
    "    n_folds=10,\n",
    "    xgb_kwargs=xgb_kwargs,\n",
    ")"
   ]
  },
  {
   "cell_type": "code",
   "execution_count": 73,
   "id": "ac515715-373e-4375-bfba-c351bf09c340",
   "metadata": {},
   "outputs": [],
   "source": [
    "# import pickle\n",
    "\n",
    "# with open(\"./data/xgb_adjuster_group_cv_results.pickle\", \"wb\") as path:\n",
    "#     pickle.dump(results, path, protocol=pickle.HIGHEST_PROTOCOL)"
   ]
  },
  {
   "cell_type": "code",
   "execution_count": 74,
   "id": "f0f6d54e-b6c6-4ab9-bf7a-9303c9e891a7",
   "metadata": {},
   "outputs": [
    {
     "data": {
      "text/html": [
       "<div>\n",
       "<style scoped>\n",
       "    .dataframe tbody tr th:only-of-type {\n",
       "        vertical-align: middle;\n",
       "    }\n",
       "\n",
       "    .dataframe tbody tr th {\n",
       "        vertical-align: top;\n",
       "    }\n",
       "\n",
       "    .dataframe thead th {\n",
       "        text-align: right;\n",
       "    }\n",
       "</style>\n",
       "<table border=\"1\" class=\"dataframe\">\n",
       "  <thead>\n",
       "    <tr style=\"text-align: right;\">\n",
       "      <th></th>\n",
       "      <th></th>\n",
       "      <th>Test Set: mean outcomes difference</th>\n",
       "      <th>Test Set: Classification accuracy</th>\n",
       "      <th>Test Set: Disparate impact</th>\n",
       "      <th>Test Set: Average odds difference</th>\n",
       "    </tr>\n",
       "  </thead>\n",
       "  <tbody>\n",
       "    <tr>\n",
       "      <th rowspan=\"2\" valign=\"top\">Seed 0</th>\n",
       "      <th>to_debias=True</th>\n",
       "      <td>-0.138795</td>\n",
       "      <td>0.697</td>\n",
       "      <td>1.003714</td>\n",
       "      <td>0.002633</td>\n",
       "    </tr>\n",
       "    <tr>\n",
       "      <th>to_debias=False</th>\n",
       "      <td>-0.138795</td>\n",
       "      <td>0.711</td>\n",
       "      <td>0.775871</td>\n",
       "      <td>-0.252822</td>\n",
       "    </tr>\n",
       "    <tr>\n",
       "      <th rowspan=\"2\" valign=\"top\">Seed 1</th>\n",
       "      <th>to_debias=True</th>\n",
       "      <td>-0.155415</td>\n",
       "      <td>0.696</td>\n",
       "      <td>1.004970</td>\n",
       "      <td>0.003205</td>\n",
       "    </tr>\n",
       "    <tr>\n",
       "      <th>to_debias=False</th>\n",
       "      <td>-0.155415</td>\n",
       "      <td>0.704</td>\n",
       "      <td>0.817244</td>\n",
       "      <td>-0.205778</td>\n",
       "    </tr>\n",
       "    <tr>\n",
       "      <th>Seed 2</th>\n",
       "      <th>to_debias=True</th>\n",
       "      <td>-0.153424</td>\n",
       "      <td>0.699</td>\n",
       "      <td>1.001429</td>\n",
       "      <td>0.000847</td>\n",
       "    </tr>\n",
       "    <tr>\n",
       "      <th>...</th>\n",
       "      <th>...</th>\n",
       "      <td>...</td>\n",
       "      <td>...</td>\n",
       "      <td>...</td>\n",
       "      <td>...</td>\n",
       "    </tr>\n",
       "    <tr>\n",
       "      <th>Seed 47</th>\n",
       "      <th>to_debias=False</th>\n",
       "      <td>-0.159121</td>\n",
       "      <td>0.704</td>\n",
       "      <td>0.830907</td>\n",
       "      <td>-0.184191</td>\n",
       "    </tr>\n",
       "    <tr>\n",
       "      <th rowspan=\"2\" valign=\"top\">Seed 48</th>\n",
       "      <th>to_debias=True</th>\n",
       "      <td>-0.159927</td>\n",
       "      <td>0.698</td>\n",
       "      <td>1.002439</td>\n",
       "      <td>0.001587</td>\n",
       "    </tr>\n",
       "    <tr>\n",
       "      <th>to_debias=False</th>\n",
       "      <td>-0.159927</td>\n",
       "      <td>0.708</td>\n",
       "      <td>0.795936</td>\n",
       "      <td>-0.216367</td>\n",
       "    </tr>\n",
       "    <tr>\n",
       "      <th rowspan=\"2\" valign=\"top\">Seed 49</th>\n",
       "      <th>to_debias=True</th>\n",
       "      <td>-0.156960</td>\n",
       "      <td>0.695</td>\n",
       "      <td>1.009453</td>\n",
       "      <td>0.007817</td>\n",
       "    </tr>\n",
       "    <tr>\n",
       "      <th>to_debias=False</th>\n",
       "      <td>-0.156960</td>\n",
       "      <td>0.713</td>\n",
       "      <td>0.747502</td>\n",
       "      <td>-0.276429</td>\n",
       "    </tr>\n",
       "  </tbody>\n",
       "</table>\n",
       "<p>100 rows × 4 columns</p>\n",
       "</div>"
      ],
      "text/plain": [
       "                         Test Set: mean outcomes difference  \\\n",
       "Seed 0  to_debias=True                            -0.138795   \n",
       "        to_debias=False                           -0.138795   \n",
       "Seed 1  to_debias=True                            -0.155415   \n",
       "        to_debias=False                           -0.155415   \n",
       "Seed 2  to_debias=True                            -0.153424   \n",
       "...                                                     ...   \n",
       "Seed 47 to_debias=False                           -0.159121   \n",
       "Seed 48 to_debias=True                            -0.159927   \n",
       "        to_debias=False                           -0.159927   \n",
       "Seed 49 to_debias=True                            -0.156960   \n",
       "        to_debias=False                           -0.156960   \n",
       "\n",
       "                         Test Set: Classification accuracy  \\\n",
       "Seed 0  to_debias=True                               0.697   \n",
       "        to_debias=False                              0.711   \n",
       "Seed 1  to_debias=True                               0.696   \n",
       "        to_debias=False                              0.704   \n",
       "Seed 2  to_debias=True                               0.699   \n",
       "...                                                    ...   \n",
       "Seed 47 to_debias=False                              0.704   \n",
       "Seed 48 to_debias=True                               0.698   \n",
       "        to_debias=False                              0.708   \n",
       "Seed 49 to_debias=True                               0.695   \n",
       "        to_debias=False                              0.713   \n",
       "\n",
       "                         Test Set: Disparate impact  \\\n",
       "Seed 0  to_debias=True                     1.003714   \n",
       "        to_debias=False                    0.775871   \n",
       "Seed 1  to_debias=True                     1.004970   \n",
       "        to_debias=False                    0.817244   \n",
       "Seed 2  to_debias=True                     1.001429   \n",
       "...                                             ...   \n",
       "Seed 47 to_debias=False                    0.830907   \n",
       "Seed 48 to_debias=True                     1.002439   \n",
       "        to_debias=False                    0.795936   \n",
       "Seed 49 to_debias=True                     1.009453   \n",
       "        to_debias=False                    0.747502   \n",
       "\n",
       "                         Test Set: Average odds difference  \n",
       "Seed 0  to_debias=True                            0.002633  \n",
       "        to_debias=False                          -0.252822  \n",
       "Seed 1  to_debias=True                            0.003205  \n",
       "        to_debias=False                          -0.205778  \n",
       "Seed 2  to_debias=True                            0.000847  \n",
       "...                                                    ...  \n",
       "Seed 47 to_debias=False                          -0.184191  \n",
       "Seed 48 to_debias=True                            0.001587  \n",
       "        to_debias=False                          -0.216367  \n",
       "Seed 49 to_debias=True                            0.007817  \n",
       "        to_debias=False                          -0.276429  \n",
       "\n",
       "[100 rows x 4 columns]"
      ]
     },
     "execution_count": 74,
     "metadata": {},
     "output_type": "execute_result"
    }
   ],
   "source": [
    "aggs = {}\n",
    "for seed, res_dict in results.items():\n",
    "    aggs[seed] = {}\n",
    "    for to_debias, fold_res_dict in res_dict.items():\n",
    "        res = pd.DataFrame(fold_res_dict).quantile([0.025, 0.975]).T\n",
    "        res[\"means\"] = pd.DataFrame(fold_res_dict).mean()\n",
    "\n",
    "        if SHOW_CI:\n",
    "            aggs[seed][to_debias] = res.apply(\n",
    "                lambda x: f\"{x.means:.4f} ({x[0.025]:.4f},{x[0.975]:.4f})\", axis=1\n",
    "            )\n",
    "        else:\n",
    "            aggs[seed][to_debias] = res.means\n",
    "\n",
    "reform = {\n",
    "    (outerKey, innerKey): values\n",
    "    for outerKey, innerDict in aggs.items()\n",
    "    for innerKey, values in innerDict.items()\n",
    "}\n",
    "\n",
    "adjuster_results = pd.DataFrame(reform).T\n",
    "adjuster_results"
   ]
  },
  {
   "cell_type": "markdown",
   "id": "5ce3e8fd-af1a-4af3-9385-cf961c315102",
   "metadata": {},
   "source": [
    "AD"
   ]
  },
  {
   "cell_type": "code",
   "execution_count": 75,
   "id": "6d43353e-c3d3-4093-a180-81aad160953d",
   "metadata": {},
   "outputs": [],
   "source": [
    "model_class = XGBAdversarialDebiasing\n",
    "model_kwargs = {\n",
    "    \"privileged_groups\": privileged_groups,\n",
    "    \"unprivileged_groups\": unprivileged_groups,\n",
    "    \"adversary_loss_weight\": ADVERSARY_WEIGHT_AD,\n",
    "    \"seed\": 1234,\n",
    "}"
   ]
  },
  {
   "cell_type": "code",
   "execution_count": 77,
   "id": "ff72dd54-832a-4600-b630-603643e7e075",
   "metadata": {},
   "outputs": [
    {
     "name": "stdout",
     "output_type": "stream",
     "text": [
      "\n",
      "Seed 1/50\n",
      "\n",
      "Seed 2/50\n",
      "\n",
      "Seed 3/50\n",
      "\n",
      "Seed 4/50\n",
      "\n",
      "Seed 5/50\n",
      "\n",
      "Seed 6/50\n",
      "\n",
      "Seed 7/50\n",
      "\n",
      "Seed 8/50\n",
      "\n",
      "Seed 9/50\n",
      "\n",
      "Seed 10/50\n",
      "\n",
      "Seed 11/50\n",
      "\n",
      "Seed 12/50\n",
      "\n",
      "Seed 13/50\n",
      "\n",
      "Seed 14/50\n",
      "\n",
      "Seed 15/50\n",
      "\n",
      "Seed 16/50\n",
      "\n",
      "Seed 17/50\n",
      "\n",
      "Seed 18/50\n",
      "\n",
      "Seed 19/50\n",
      "\n",
      "Seed 20/50\n",
      "\n",
      "Seed 21/50\n",
      "\n",
      "Seed 22/50\n",
      "\n",
      "Seed 23/50\n",
      "\n",
      "Seed 24/50\n",
      "\n",
      "Seed 25/50\n",
      "\n",
      "Seed 26/50\n",
      "\n",
      "Seed 27/50\n",
      "\n",
      "Seed 28/50\n",
      "\n",
      "Seed 29/50\n",
      "\n",
      "Seed 30/50\n",
      "\n",
      "Seed 31/50\n",
      "\n",
      "Seed 32/50\n",
      "\n",
      "Seed 33/50\n",
      "\n",
      "Seed 34/50\n",
      "\n",
      "Seed 35/50\n",
      "\n",
      "Seed 36/50\n",
      "\n",
      "Seed 37/50\n",
      "\n",
      "Seed 38/50\n",
      "\n",
      "Seed 39/50\n",
      "\n",
      "Seed 40/50\n",
      "\n",
      "Seed 41/50\n",
      "\n",
      "Seed 42/50\n",
      "\n",
      "Seed 43/50\n",
      "\n",
      "Seed 44/50\n",
      "\n",
      "Seed 45/50\n",
      "\n",
      "Seed 46/50\n",
      "\n",
      "Seed 47/50\n",
      "\n",
      "Seed 48/50\n",
      "\n",
      "Seed 49/50\n",
      "\n",
      "Seed 50/50\n"
     ]
    }
   ],
   "source": [
    "results, in_sample_preds_ad, oos_preds_ad = cross_validate_seeds(\n",
    "    model_class,\n",
    "    model_kwargs,\n",
    "    dataset_orig,\n",
    "    seeds=N_SEEDS,\n",
    "    n_folds=10,\n",
    "    xgb_kwargs=xgb_kwargs,\n",
    ")"
   ]
  },
  {
   "cell_type": "code",
   "execution_count": 78,
   "id": "9b5d194e-86a2-49a1-9a0d-100cd333dc54",
   "metadata": {},
   "outputs": [],
   "source": [
    "# with open(\"./data/xgb_ad_group_cv_results.pickle\", \"wb\") as path:\n",
    "#     pickle.dump(results, path, protocol=pickle.HIGHEST_PROTOCOL)"
   ]
  },
  {
   "cell_type": "code",
   "execution_count": 79,
   "id": "5b0bddb0-96c5-4e83-9c50-3b1bc1f08f6b",
   "metadata": {},
   "outputs": [
    {
     "data": {
      "text/html": [
       "<div>\n",
       "<style scoped>\n",
       "    .dataframe tbody tr th:only-of-type {\n",
       "        vertical-align: middle;\n",
       "    }\n",
       "\n",
       "    .dataframe tbody tr th {\n",
       "        vertical-align: top;\n",
       "    }\n",
       "\n",
       "    .dataframe thead th {\n",
       "        text-align: right;\n",
       "    }\n",
       "</style>\n",
       "<table border=\"1\" class=\"dataframe\">\n",
       "  <thead>\n",
       "    <tr style=\"text-align: right;\">\n",
       "      <th></th>\n",
       "      <th></th>\n",
       "      <th>Test Set: mean outcomes difference</th>\n",
       "      <th>Test Set: Classification accuracy</th>\n",
       "      <th>Test Set: Disparate impact</th>\n",
       "      <th>Test Set: Average odds difference</th>\n",
       "    </tr>\n",
       "  </thead>\n",
       "  <tbody>\n",
       "    <tr>\n",
       "      <th rowspan=\"2\" valign=\"top\">Seed 0</th>\n",
       "      <th>to_debias=True</th>\n",
       "      <td>-0.138795</td>\n",
       "      <td>0.697</td>\n",
       "      <td>1.003714</td>\n",
       "      <td>0.002633</td>\n",
       "    </tr>\n",
       "    <tr>\n",
       "      <th>to_debias=False</th>\n",
       "      <td>-0.138795</td>\n",
       "      <td>0.711</td>\n",
       "      <td>0.775871</td>\n",
       "      <td>-0.252822</td>\n",
       "    </tr>\n",
       "    <tr>\n",
       "      <th rowspan=\"2\" valign=\"top\">Seed 1</th>\n",
       "      <th>to_debias=True</th>\n",
       "      <td>-0.155415</td>\n",
       "      <td>0.696</td>\n",
       "      <td>1.004954</td>\n",
       "      <td>0.003406</td>\n",
       "    </tr>\n",
       "    <tr>\n",
       "      <th>to_debias=False</th>\n",
       "      <td>-0.155415</td>\n",
       "      <td>0.704</td>\n",
       "      <td>0.817244</td>\n",
       "      <td>-0.205778</td>\n",
       "    </tr>\n",
       "    <tr>\n",
       "      <th>Seed 2</th>\n",
       "      <th>to_debias=True</th>\n",
       "      <td>-0.153424</td>\n",
       "      <td>0.698</td>\n",
       "      <td>1.002899</td>\n",
       "      <td>0.001695</td>\n",
       "    </tr>\n",
       "  </tbody>\n",
       "</table>\n",
       "</div>"
      ],
      "text/plain": [
       "                        Test Set: mean outcomes difference  \\\n",
       "Seed 0 to_debias=True                            -0.138795   \n",
       "       to_debias=False                           -0.138795   \n",
       "Seed 1 to_debias=True                            -0.155415   \n",
       "       to_debias=False                           -0.155415   \n",
       "Seed 2 to_debias=True                            -0.153424   \n",
       "\n",
       "                        Test Set: Classification accuracy  \\\n",
       "Seed 0 to_debias=True                               0.697   \n",
       "       to_debias=False                              0.711   \n",
       "Seed 1 to_debias=True                               0.696   \n",
       "       to_debias=False                              0.704   \n",
       "Seed 2 to_debias=True                               0.698   \n",
       "\n",
       "                        Test Set: Disparate impact  \\\n",
       "Seed 0 to_debias=True                     1.003714   \n",
       "       to_debias=False                    0.775871   \n",
       "Seed 1 to_debias=True                     1.004954   \n",
       "       to_debias=False                    0.817244   \n",
       "Seed 2 to_debias=True                     1.002899   \n",
       "\n",
       "                        Test Set: Average odds difference  \n",
       "Seed 0 to_debias=True                            0.002633  \n",
       "       to_debias=False                          -0.252822  \n",
       "Seed 1 to_debias=True                            0.003406  \n",
       "       to_debias=False                          -0.205778  \n",
       "Seed 2 to_debias=True                            0.001695  "
      ]
     },
     "execution_count": 79,
     "metadata": {},
     "output_type": "execute_result"
    }
   ],
   "source": [
    "aggs = {}\n",
    "for seed, res_dict in results.items():\n",
    "    aggs[seed] = {}\n",
    "    for to_debias, fold_res_dict in res_dict.items():\n",
    "        res = pd.DataFrame(fold_res_dict).quantile([0.025, 0.975]).T\n",
    "        res[\"means\"] = pd.DataFrame(fold_res_dict).mean()\n",
    "\n",
    "        if SHOW_CI:\n",
    "            aggs[seed][to_debias] = res.apply(\n",
    "                lambda x: f\"{x.means:.4f} ({x[0.025]:.4f},{x[0.975]:.4f})\", axis=1\n",
    "            )\n",
    "        else:\n",
    "            aggs[seed][to_debias] = res.means\n",
    "\n",
    "reform = {\n",
    "    (outerKey, innerKey): values\n",
    "    for outerKey, innerDict in aggs.items()\n",
    "    for innerKey, values in innerDict.items()\n",
    "}\n",
    "\n",
    "ad_results = pd.DataFrame(reform).T\n",
    "ad_results.head()"
   ]
  },
  {
   "cell_type": "code",
   "execution_count": 80,
   "id": "6aa86873-07f9-4608-aa8d-153ad751128d",
   "metadata": {},
   "outputs": [
    {
     "data": {
      "text/html": [
       "<div>\n",
       "<style scoped>\n",
       "    .dataframe tbody tr th:only-of-type {\n",
       "        vertical-align: middle;\n",
       "    }\n",
       "\n",
       "    .dataframe tbody tr th {\n",
       "        vertical-align: top;\n",
       "    }\n",
       "\n",
       "    .dataframe thead th {\n",
       "        text-align: right;\n",
       "    }\n",
       "</style>\n",
       "<table border=\"1\" class=\"dataframe\">\n",
       "  <thead>\n",
       "    <tr style=\"text-align: right;\">\n",
       "      <th></th>\n",
       "      <th></th>\n",
       "      <th>Test Set: mean outcomes difference</th>\n",
       "      <th>Test Set: Classification accuracy</th>\n",
       "      <th>Test Set: Disparate impact</th>\n",
       "      <th>Test Set: Average odds difference</th>\n",
       "    </tr>\n",
       "  </thead>\n",
       "  <tbody>\n",
       "    <tr>\n",
       "      <th rowspan=\"2\" valign=\"top\">Seed 0</th>\n",
       "      <th>to_debias=True</th>\n",
       "      <td>-0.138795</td>\n",
       "      <td>0.697</td>\n",
       "      <td>1.003714</td>\n",
       "      <td>0.002633</td>\n",
       "    </tr>\n",
       "    <tr>\n",
       "      <th>to_debias=False</th>\n",
       "      <td>-0.138795</td>\n",
       "      <td>0.711</td>\n",
       "      <td>0.775871</td>\n",
       "      <td>-0.252822</td>\n",
       "    </tr>\n",
       "    <tr>\n",
       "      <th rowspan=\"2\" valign=\"top\">Seed 1</th>\n",
       "      <th>to_debias=True</th>\n",
       "      <td>-0.155415</td>\n",
       "      <td>0.696</td>\n",
       "      <td>1.004970</td>\n",
       "      <td>0.003205</td>\n",
       "    </tr>\n",
       "    <tr>\n",
       "      <th>to_debias=False</th>\n",
       "      <td>-0.155415</td>\n",
       "      <td>0.704</td>\n",
       "      <td>0.817244</td>\n",
       "      <td>-0.205778</td>\n",
       "    </tr>\n",
       "    <tr>\n",
       "      <th>Seed 2</th>\n",
       "      <th>to_debias=True</th>\n",
       "      <td>-0.153424</td>\n",
       "      <td>0.699</td>\n",
       "      <td>1.001429</td>\n",
       "      <td>0.000847</td>\n",
       "    </tr>\n",
       "  </tbody>\n",
       "</table>\n",
       "</div>"
      ],
      "text/plain": [
       "                        Test Set: mean outcomes difference  \\\n",
       "Seed 0 to_debias=True                            -0.138795   \n",
       "       to_debias=False                           -0.138795   \n",
       "Seed 1 to_debias=True                            -0.155415   \n",
       "       to_debias=False                           -0.155415   \n",
       "Seed 2 to_debias=True                            -0.153424   \n",
       "\n",
       "                        Test Set: Classification accuracy  \\\n",
       "Seed 0 to_debias=True                               0.697   \n",
       "       to_debias=False                              0.711   \n",
       "Seed 1 to_debias=True                               0.696   \n",
       "       to_debias=False                              0.704   \n",
       "Seed 2 to_debias=True                               0.699   \n",
       "\n",
       "                        Test Set: Disparate impact  \\\n",
       "Seed 0 to_debias=True                     1.003714   \n",
       "       to_debias=False                    0.775871   \n",
       "Seed 1 to_debias=True                     1.004970   \n",
       "       to_debias=False                    0.817244   \n",
       "Seed 2 to_debias=True                     1.001429   \n",
       "\n",
       "                        Test Set: Average odds difference  \n",
       "Seed 0 to_debias=True                            0.002633  \n",
       "       to_debias=False                          -0.252822  \n",
       "Seed 1 to_debias=True                            0.003205  \n",
       "       to_debias=False                          -0.205778  \n",
       "Seed 2 to_debias=True                            0.000847  "
      ]
     },
     "execution_count": 80,
     "metadata": {},
     "output_type": "execute_result"
    }
   ],
   "source": [
    "adjuster_results.head()"
   ]
  },
  {
   "cell_type": "code",
   "execution_count": 81,
   "id": "d4cb2c43-1217-4d25-9d70-43b0dc588620",
   "metadata": {},
   "outputs": [],
   "source": [
    "def mean_confidence_interval(data, confidence=0.95):\n",
    "    a = 1.0 * np.array(data)\n",
    "    n = len(a)\n",
    "    m, se = np.mean(a), scipy.stats.sem(a)\n",
    "    h = se * scipy.stats.t.ppf((1 + confidence) / 2., n-1)\n",
    "    return f\"{m:0.4f}±{h:0.4f}\""
   ]
  },
  {
   "cell_type": "code",
   "execution_count": 82,
   "id": "97fd059d-b195-42cb-a99d-93a36d6bfa4c",
   "metadata": {},
   "outputs": [],
   "source": [
    "base_results_filtered = adjuster_results.loc[adjuster_results.index.get_level_values(1) == \"to_debias=False\"]\n",
    "adjuster_results_filtered = adjuster_results.loc[adjuster_results.index.get_level_values(1) == \"to_debias=True\"]\n",
    "ad_results_filtered = ad_results.loc[ad_results.index.get_level_values(1) == \"to_debias=True\"]"
   ]
  },
  {
   "cell_type": "code",
   "execution_count": 83,
   "id": "d5d7f835-08ab-4aa5-809e-ccc4c9b9bfdd",
   "metadata": {},
   "outputs": [
    {
     "data": {
      "text/plain": [
       "Test Set: mean outcomes difference    -0.1507±0.0021\n",
       "Test Set: Classification accuracy      0.7055±0.0011\n",
       "Test Set: Disparate impact             0.8215±0.0098\n",
       "Test Set: Average odds difference     -0.1980±0.0107\n",
       "dtype: object"
      ]
     },
     "execution_count": 83,
     "metadata": {},
     "output_type": "execute_result"
    }
   ],
   "source": [
    "base_results_filtered.apply(mean_confidence_interval, axis=0)"
   ]
  },
  {
   "cell_type": "code",
   "execution_count": 84,
   "id": "a53fb107-10e1-4e67-b8d7-7132ddc3179d",
   "metadata": {},
   "outputs": [
    {
     "data": {
      "text/plain": [
       "Test Set: mean outcomes difference    -0.1507±0.0021\n",
       "Test Set: Classification accuracy      0.6977±0.0004\n",
       "Test Set: Disparate impact             1.0040±0.0006\n",
       "Test Set: Average odds difference      0.0034±0.0006\n",
       "dtype: object"
      ]
     },
     "execution_count": 84,
     "metadata": {},
     "output_type": "execute_result"
    }
   ],
   "source": [
    "adjuster_results_filtered.apply(mean_confidence_interval, axis=0)"
   ]
  },
  {
   "cell_type": "code",
   "execution_count": 85,
   "id": "245415b6-9a73-42ae-80bd-1523be21abb6",
   "metadata": {},
   "outputs": [
    {
     "data": {
      "text/plain": [
       "Test Set: mean outcomes difference    -0.1507±0.0021\n",
       "Test Set: Classification accuracy      0.6980±0.0004\n",
       "Test Set: Disparate impact             1.0027±0.0009\n",
       "Test Set: Average odds difference      0.0023±0.0008\n",
       "dtype: object"
      ]
     },
     "execution_count": 85,
     "metadata": {},
     "output_type": "execute_result"
    }
   ],
   "source": [
    "ad_results_filtered.apply(mean_confidence_interval, axis=0)"
   ]
  },
  {
   "cell_type": "code",
   "execution_count": 86,
   "id": "a7185d94-a2d3-4ca4-b6c0-7cc6b55dd129",
   "metadata": {},
   "outputs": [],
   "source": [
    "import seaborn as sns"
   ]
  },
  {
   "cell_type": "code",
   "execution_count": 87,
   "id": "0dc773cb-6c5e-4d9a-acfd-4b006bc600f5",
   "metadata": {},
   "outputs": [
    {
     "data": {
      "image/png": "[encoded data removed]",
      "text/plain": [
       "<Figure size 640x480 with 1 Axes>"
      ]
     },
     "metadata": {},
     "output_type": "display_data"
    },
    {
     "data": {
      "text/plain": [
       "Test Set: mean outcomes difference    0.000000\n",
       "Test Set: Classification accuracy    -0.034134\n",
       "Test Set: Disparate impact            0.131316\n",
       "Test Set: Average odds difference          inf\n",
       "dtype: float64"
      ]
     },
     "metadata": {},
     "output_type": "display_data"
    },
    {
     "data": {
      "image/png": "[encoded data removed]",
      "text/plain": [
       "<Figure size 640x480 with 1 Axes>"
      ]
     },
     "metadata": {},
     "output_type": "display_data"
    }
   ],
   "source": [
    "sns.set()\n",
    "if not SHOW_CI:\n",
    "    adjuster_results = adjuster_results.loc[adjuster_results.index.get_level_values(1) == \"to_debias=True\"]\n",
    "    ad_results = ad_results.loc[ad_results.index.get_level_values(1) == \"to_debias=True\"]\n",
    "\n",
    "    sns.regplot(\n",
    "        x=adjuster_results[\"Test Set: Classification accuracy\"],\n",
    "        y=adjuster_results[\"Test Set: Disparate impact\"],\n",
    "        label=\"Adjuster\",\n",
    "    )\n",
    "    sns.regplot(\n",
    "        x=ad_results[\"Test Set: Classification accuracy\"],\n",
    "        y=ad_results[\"Test Set: Disparate impact\"],\n",
    "        label=\"AD\"\n",
    "    )\n",
    "    plt.legend()\n",
    "    plt.xlabel(\"Accuracy\")\n",
    "    plt.ylabel(\"Disparate Impact\")\n",
    "    plt.show()\n",
    "    \n",
    "    diffs = (adjuster_results - ad_results) / ad_results * 100\n",
    "    display(diffs.mean(axis=0))\n",
    "\n",
    "    sns.regplot(\n",
    "        x=diffs[\"Test Set: Classification accuracy\"],\n",
    "        y=diffs[\"Test Set: Disparate impact\"]\n",
    "    )\n",
    "    plt.xlabel(\"Accuracy Percent Change: AD to Adjuster\")\n",
    "    plt.ylabel(\"Disparate Impact Percent Change: AD to Adjuster\")\n",
    "    plt.show()"
   ]
  },
  {
   "cell_type": "markdown",
   "id": "f760bf71-1cce-408c-81bf-2bb5908e1c58",
   "metadata": {},
   "source": [
    "## Analyze Difference Term\n",
    "\n",
    "Compute the value of $(\\sigma(b) - y)^T (\\beta' - (\\beta - b))$ for each seed on the in-sample predictions."
   ]
  },
  {
   "cell_type": "code",
   "execution_count": 121,
   "id": "8af6eb1c-679d-4283-9d10-52ef89231e28",
   "metadata": {},
   "outputs": [],
   "source": [
    "def get_labels(dataset):\n",
    "    # Map the dataset labels to 0 and 1.\n",
    "    temp_labels = dataset.labels.copy()\n",
    "    temp_labels[(dataset.labels == dataset.favorable_label).ravel(), 0] = 1.0\n",
    "    temp_labels[(dataset.labels == dataset.unfavorable_label).ravel(), 0] = 0.0\n",
    "    Y = temp_labels\n",
    "    return Y"
   ]
  },
  {
   "cell_type": "code",
   "execution_count": 122,
   "id": "cf368f5f-8d06-45ce-acdb-2eed2d4cdbdb",
   "metadata": {},
   "outputs": [],
   "source": [
    "from scipy.special import expit, logit"
   ]
  },
  {
   "cell_type": "code",
   "execution_count": 123,
   "id": "48dd6b86-2a0b-48e5-a4d8-7f1d37046628",
   "metadata": {},
   "outputs": [
    {
     "data": {
      "text/plain": [
       "0.0007124600617673052"
      ]
     },
     "execution_count": 123,
     "metadata": {},
     "output_type": "execute_result"
    }
   ],
   "source": [
    "diff_terms = []\n",
    "\n",
    "for seed in range(N_SEEDS):\n",
    "    seed_key = f\"Seed {seed}\"\n",
    "    base_preds = in_sample_preds_adjuster[seed_key][\"to_debias=False\"]\n",
    "    labels = get_labels(dataset_orig)\n",
    "    \n",
    "    adjuster_preds = in_sample_preds_adjuster[seed_key][\"to_debias=True\"]\n",
    "    ad_preds = in_sample_preds_ad[seed_key][\"to_debias=True\"]\n",
    "\n",
    "    residuals = base_preds - labels\n",
    "    adjuster_adjustment = logit(base_preds) - logit(adjuster_preds)\n",
    "    ad_adjustment = logit(base_preds) - logit(ad_preds)\n",
    "    adjustment_diff = adjuster_adjustment - ad_adjustment\n",
    "\n",
    "    inner_prod = (residuals * adjustment_diff).mean()[0]\n",
    "    diff_terms.append(inner_prod)\n",
    "\n",
    "np.mean(diff_terms)"
   ]
  },
  {
   "cell_type": "code",
   "execution_count": 124,
   "id": "f270690f-0e93-4d59-9003-f8f995ada9ea",
   "metadata": {},
   "outputs": [
    {
     "data": {
      "image/png": "[encoded data removed]",
      "text/plain": [
       "<Figure size 1000x800 with 1 Axes>"
      ]
     },
     "metadata": {},
     "output_type": "display_data"
    }
   ],
   "source": [
    "plt.figure(figsize=(10, 8))\n",
    "sns.histplot(diff_terms)\n",
    "plt.show()"
   ]
  },
  {
   "cell_type": "code",
   "execution_count": 125,
   "id": "4b638e07-ea2e-4107-b08b-e2732d90439c",
   "metadata": {},
   "outputs": [
    {
     "data": {
      "image/png": "[encoded data removed]",
      "text/plain": [
       "<Figure size 640x480 with 1 Axes>"
      ]
     },
     "metadata": {},
     "output_type": "display_data"
    }
   ],
   "source": [
    "plt.hist(adjustment_diff)\n",
    "plt.show()"
   ]
  },
  {
   "cell_type": "code",
   "execution_count": 126,
   "id": "3d548a69-c77f-45fa-b028-3807514a2937",
   "metadata": {},
   "outputs": [
    {
     "data": {
      "text/plain": [
       "-0.0008085013498023506"
      ]
     },
     "execution_count": 126,
     "metadata": {},
     "output_type": "execute_result"
    }
   ],
   "source": [
    "oos_diff_terms = []\n",
    "\n",
    "for seed in range(N_SEEDS):\n",
    "    seed_key = f\"Seed {seed}\"\n",
    "    base_preds = oos_preds_adjuster[seed_key][\"to_debias=False\"]\n",
    "    labels = get_labels(dataset_orig)\n",
    "    \n",
    "    adjuster_preds = oos_preds_adjuster[seed_key][\"to_debias=True\"]\n",
    "    ad_preds = oos_preds_ad[seed_key][\"to_debias=True\"]\n",
    "\n",
    "    residuals = base_preds - labels\n",
    "    adjuster_adjustment = logit(base_preds) - logit(adjuster_preds)\n",
    "    ad_adjustment = logit(base_preds) - logit(ad_preds)\n",
    "    adjustment_diff = adjuster_adjustment - ad_adjustment\n",
    "\n",
    "    inner_prod = (residuals * adjustment_diff).mean()[0]\n",
    "    oos_diff_terms.append(inner_prod)\n",
    "\n",
    "np.mean(oos_diff_terms)"
   ]
  },
  {
   "cell_type": "code",
   "execution_count": 127,
   "id": "95f10f10-077e-410a-b301-bc1edf6b9903",
   "metadata": {},
   "outputs": [
    {
     "data": {
      "image/png": "[encoded data removed]",
      "text/plain": [
       "<Figure size 1000x800 with 1 Axes>"
      ]
     },
     "metadata": {},
     "output_type": "display_data"
    }
   ],
   "source": [
    "plt.figure(figsize=(10, 8))\n",
    "sns.histplot(oos_diff_terms)\n",
    "plt.show()"
   ]
  },
  {
   "cell_type": "code",
   "execution_count": 128,
   "id": "d6b6978a-8a1d-4ec3-9380-6b3f039ba445",
   "metadata": {},
   "outputs": [
    {
     "data": {
      "image/png": "[encoded data removed]",
      "text/plain": [
       "<Figure size 640x480 with 1 Axes>"
      ]
     },
     "metadata": {},
     "output_type": "display_data"
    }
   ],
   "source": [
    "plt.hist(adjustment_diff)\n",
    "plt.show()"
   ]
  },
  {
   "cell_type": "code",
   "execution_count": null,
   "id": "07a711fa-6f7a-411c-8a79-b098c5532ab7",
   "metadata": {},
   "outputs": [],
   "source": []
  },
  {
   "cell_type": "code",
   "execution_count": null,
   "id": "a8add895-5f52-47f2-9909-8c1176284767",
   "metadata": {},
   "outputs": [],
   "source": []
  }
 ],
 "metadata": {
  "kernelspec": {
   "display_name": "aif360",
   "language": "python",
   "name": "aif360"
  },
  "language_info": {
   "codemirror_mode": {
    "name": "ipython",
    "version": 3
   },
   "file_extension": ".py",
   "mimetype": "text/x-python",
   "name": "python",
   "nbconvert_exporter": "python",
   "pygments_lexer": "ipython3",
   "version": "3.10.15"
  }
 },
 "nbformat": 4,
 "nbformat_minor": 5
}
