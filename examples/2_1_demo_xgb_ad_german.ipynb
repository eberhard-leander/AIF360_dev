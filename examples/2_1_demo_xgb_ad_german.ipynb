{
 "cells": [
  {
   "cell_type": "markdown",
   "id": "4c1ceb52-54f2-4ec2-84b6-0f957a821a61",
   "metadata": {},
   "source": [
    "#### This notebook demonstrates the use of adversarial debiasing algorithm to learn a fair classifier.\n",
    "Adversarial debiasing [1] is an in-processing technique that learns a classifier to maximize prediction accuracy and simultaneously reduce an adversary's ability to determine the protected attribute from the predictions. This approach leads to a fair classifier as the predictions cannot carry any group discrimination information that the adversary can exploit. We will see how to use this algorithm for learning models with and without fairness constraints and apply them on the Adult dataset."
   ]
  },
  {
   "cell_type": "code",
   "execution_count": 2,
   "id": "9880e0d5-9cbd-4b8e-aa72-712efcfb25ac",
   "metadata": {
    "scrolled": true
   },
   "outputs": [
    {
     "name": "stdout",
     "output_type": "stream",
     "text": [
<<<<<<< HEAD
      "2025-01-15 19:24:39.108217: I tensorflow/core/util/port.cc:111] oneDNN custom operations are on. You may see slightly different numerical results due to floating-point round-off errors from different computation orders. To turn them off, set the environment variable `TF_ENABLE_ONEDNN_OPTS=0`.\n",
      "2025-01-15 19:24:39.111284: I tensorflow/tsl/cuda/cudart_stub.cc:28] Could not find cuda drivers on your machine, GPU will not be used.\n",
      "2025-01-15 19:24:39.153231: E tensorflow/compiler/xla/stream_executor/cuda/cuda_dnn.cc:9342] Unable to register cuDNN factory: Attempting to register factory for plugin cuDNN when one has already been registered\n",
      "2025-01-15 19:24:39.153326: E tensorflow/compiler/xla/stream_executor/cuda/cuda_fft.cc:609] Unable to register cuFFT factory: Attempting to register factory for plugin cuFFT when one has already been registered\n",
      "2025-01-15 19:24:39.153350: E tensorflow/compiler/xla/stream_executor/cuda/cuda_blas.cc:1518] Unable to register cuBLAS factory: Attempting to register factory for plugin cuBLAS when one has already been registered\n",
      "2025-01-15 19:24:39.162714: I tensorflow/tsl/cuda/cudart_stub.cc:28] Could not find cuda drivers on your machine, GPU will not be used.\n",
      "2025-01-15 19:24:39.164523: I tensorflow/core/platform/cpu_feature_guard.cc:182] This TensorFlow binary is optimized to use available CPU instructions in performance-critical operations.\n",
      "To enable the following instructions: AVX2 AVX512F AVX512_VNNI AVX512_BF16 AVX_VNNI AMX_TILE AMX_INT8 AMX_BF16 FMA, in other operations, rebuild TensorFlow with the appropriate compiler flags.\n",
      "2025-01-15 19:24:40.553409: W tensorflow/compiler/tf2tensorrt/utils/py_utils.cc:38] TF-TRT Warning: Could not find TensorRT\n"
=======
      "The autoreload extension is already loaded. To reload it, use:\n",
      "  %reload_ext autoreload\n"
>>>>>>> origin/main
     ]
    }
   ],
   "source": [
    "%load_ext autoreload\n",
    "%autoreload 2\n",
    "\n",
    "\n",
    "from aif360.algorithms.inprocessing.xgb_adversarial_debiasing import (\n",
    "    XGBAdversarialDebiasing,\n",
    ")\n",
    "from aif360.algorithms.preprocessing.optim_preproc_helpers.data_preproc_functions import (\n",
    "    load_preproc_data_german,\n",
    ")\n",
    "from aif360.metrics import BinaryLabelDatasetMetric, ClassificationMetric\n",
    "from IPython.display import Markdown, display"
   ]
  },
  {
   "cell_type": "markdown",
   "id": "97f4683b-2336-4563-a90e-ee7dae7b6fe2",
   "metadata": {},
   "source": [
    "#### Load dataset and set options"
   ]
  },
  {
   "cell_type": "code",
   "execution_count": 3,
   "id": "a4fe68c4-6f1b-455a-850d-507c53718838",
   "metadata": {},
   "outputs": [],
   "source": [
    "dataset_orig = load_preproc_data_german([\"age\", \"sex\"])\n",
    "privileged_groups = [{\"age\": 1}]\n",
    "unprivileged_groups = [{\"age\": 0}]\n",
    "\n",
    "dataset_orig_train, dataset_orig_test = dataset_orig.split(\n",
    "    [0.7], shuffle=True, seed=1234\n",
    ")"
   ]
  },
  {
   "cell_type": "code",
   "execution_count": 4,
   "id": "1ed3b31e-b6b3-46b9-93d8-d82b05bbf8dc",
   "metadata": {},
   "outputs": [
    {
     "data": {
      "text/markdown": [
       "#### Training Dataset shape"
      ],
      "text/plain": [
       "<IPython.core.display.Markdown object>"
      ]
     },
     "metadata": {},
     "output_type": "display_data"
    },
    {
     "name": "stdout",
     "output_type": "stream",
     "text": [
      "(700, 11)\n"
     ]
    },
    {
     "data": {
      "text/markdown": [
       "#### Favorable and unfavorable labels"
      ],
      "text/plain": [
       "<IPython.core.display.Markdown object>"
      ]
     },
     "metadata": {},
     "output_type": "display_data"
    },
    {
     "name": "stdout",
     "output_type": "stream",
     "text": [
      "1.0 2.0\n"
     ]
    },
    {
     "data": {
      "text/markdown": [
       "#### Protected attribute names"
      ],
      "text/plain": [
       "<IPython.core.display.Markdown object>"
      ]
     },
     "metadata": {},
     "output_type": "display_data"
    },
    {
     "name": "stdout",
     "output_type": "stream",
     "text": [
      "['age', 'sex']\n"
     ]
    },
    {
     "data": {
      "text/markdown": [
       "#### Privileged and unprivileged protected attribute values"
      ],
      "text/plain": [
       "<IPython.core.display.Markdown object>"
      ]
     },
     "metadata": {},
     "output_type": "display_data"
    },
    {
     "name": "stdout",
     "output_type": "stream",
     "text": [
      "[array([1.]), array([1.])] [array([0.]), array([0.])]\n"
     ]
    },
    {
     "data": {
      "text/markdown": [
       "#### Dataset feature names"
      ],
      "text/plain": [
       "<IPython.core.display.Markdown object>"
      ]
     },
     "metadata": {},
     "output_type": "display_data"
    },
    {
     "name": "stdout",
     "output_type": "stream",
     "text": [
      "['age', 'sex', 'credit_history=Delay', 'credit_history=None/Paid', 'credit_history=Other', 'savings=500+', 'savings=<500', 'savings=Unknown/None', 'employment=1-4 years', 'employment=4+ years', 'employment=Unemployed']\n"
     ]
    }
   ],
   "source": [
    "# print out some labels, names, etc.\n",
    "display(Markdown(\"#### Training Dataset shape\"))\n",
    "print(dataset_orig_train.features.shape)\n",
    "display(Markdown(\"#### Favorable and unfavorable labels\"))\n",
    "print(dataset_orig_train.favorable_label, dataset_orig_train.unfavorable_label)\n",
    "display(Markdown(\"#### Protected attribute names\"))\n",
    "print(dataset_orig_train.protected_attribute_names)\n",
    "display(Markdown(\"#### Privileged and unprivileged protected attribute values\"))\n",
    "print(\n",
    "    dataset_orig_train.privileged_protected_attributes,\n",
    "    dataset_orig_train.unprivileged_protected_attributes,\n",
    ")\n",
    "display(Markdown(\"#### Dataset feature names\"))\n",
    "print(dataset_orig_train.feature_names)"
   ]
  },
  {
   "cell_type": "markdown",
   "id": "cd8ec93b-140e-4f66-af88-005e8fb72dcb",
   "metadata": {},
   "source": [
    "#### Metric for original training data"
   ]
  },
  {
   "cell_type": "code",
   "execution_count": 5,
   "id": "8a4bb1fb-68ec-4045-99b2-9dc84b77191f",
   "metadata": {
    "scrolled": true
   },
   "outputs": [
    {
     "data": {
      "text/markdown": [
       "#### Original dataset"
      ],
      "text/plain": [
       "<IPython.core.display.Markdown object>"
      ]
     },
     "metadata": {},
     "output_type": "display_data"
    },
    {
     "name": "stdout",
     "output_type": "stream",
     "text": [
      "Overall: Difference in mean outcomes between unprivileged and privileged groups = -0.149448\n"
     ]
    },
    {
     "data": {
      "text/markdown": [
       "#### Original training dataset"
      ],
      "text/plain": [
       "<IPython.core.display.Markdown object>"
      ]
     },
     "metadata": {},
     "output_type": "display_data"
    },
    {
     "name": "stdout",
     "output_type": "stream",
     "text": [
      "Train set: Difference in mean outcomes between unprivileged and privileged groups = -0.135639\n",
      "Test set: Difference in mean outcomes between unprivileged and privileged groups = -0.183895\n"
     ]
    }
   ],
   "source": [
    "# Metric for the original dataset\n",
    "metric_orig = BinaryLabelDatasetMetric(\n",
    "    dataset_orig,\n",
    "    unprivileged_groups=unprivileged_groups,\n",
    "    privileged_groups=privileged_groups,\n",
    ")\n",
    "\n",
    "display(Markdown(\"#### Original dataset\"))\n",
    "print(\n",
    "    \"Overall: Difference in mean outcomes between unprivileged and privileged groups = %f\"\n",
    "    % metric_orig.mean_difference()\n",
    ")\n",
    "# Metric for the training dataset\n",
    "\n",
    "metric_orig_train = BinaryLabelDatasetMetric(\n",
    "    dataset_orig_train,\n",
    "    unprivileged_groups=unprivileged_groups,\n",
    "    privileged_groups=privileged_groups,\n",
    ")\n",
    "display(Markdown(\"#### Original training dataset\"))\n",
    "print(\n",
    "    \"Train set: Difference in mean outcomes between unprivileged and privileged groups = %f\"\n",
    "    % metric_orig_train.mean_difference()\n",
    ")\n",
    "# Metric for the Test dataset\n",
    "\n",
    "metric_orig_test = BinaryLabelDatasetMetric(\n",
    "    dataset_orig_test,\n",
    "    unprivileged_groups=unprivileged_groups,\n",
    "    privileged_groups=privileged_groups,\n",
    ")\n",
    "print(\n",
    "    \"Test set: Difference in mean outcomes between unprivileged and privileged groups = %f\"\n",
    "    % metric_orig_test.mean_difference()\n",
    ")"
   ]
  },
  {
   "cell_type": "markdown",
   "id": "2a16b86d-e757-437c-9a81-7d19b946227e",
   "metadata": {},
   "source": [
    "### Learn plan classifier without debiasing"
   ]
  },
  {
   "cell_type": "code",
<<<<<<< HEAD
   "execution_count": 5,
   "id": "b67cf691",
   "metadata": {},
   "outputs": [],
   "source": [
    "tuning_settings = {\n",
    "    \"time_budget\": 600,  # total running time in seconds\n",
    "    \"metric\": \"log_loss\",\n",
    "}   "
   ]
  },
  {
   "cell_type": "code",
   "execution_count": 6,
=======
   "execution_count": 22,
>>>>>>> origin/main
   "id": "e631abf2-4478-44af-8d3c-1b295446e342",
   "metadata": {},
   "outputs": [],
   "source": [
    "from _utils import _XGBAdversarialDebiasing\n",
    "\n",
    "plain_model = _XGBAdversarialDebiasing(\n",
    "    unprivileged_groups=unprivileged_groups,\n",
    "    privileged_groups=privileged_groups,\n",
    "    tune_hyperparameters=True,\n",
    "    tuning_settings=tuning_settings,\n",
    "    seed=1234,\n",
    "    debias=False,\n",
    ")"
   ]
  },
  {
   "cell_type": "code",
<<<<<<< HEAD
   "execution_count": 7,
=======
   "execution_count": 23,
>>>>>>> origin/main
   "id": "4e77a704-19c3-4371-affb-9733bf7f0278",
   "metadata": {
    "scrolled": true
   },
   "outputs": [
    {
     "data": {
      "text/plain": [
<<<<<<< HEAD
       "<aif360.algorithms.inprocessing.xgb_adversarial_debiasing.XGBAdversarialDebiasing at 0x7f8d3ef854b0>"
      ]
     },
     "execution_count": 7,
=======
       "<_utils._XGBAdversarialDebiasing at 0x7fb665a2c410>"
      ]
     },
     "execution_count": 23,
>>>>>>> origin/main
     "metadata": {},
     "output_type": "execute_result"
    }
   ],
   "source": [
    "plain_model.fit(dataset_orig_train)"
   ]
  },
  {
   "cell_type": "code",
<<<<<<< HEAD
   "execution_count": 8,
=======
   "execution_count": 24,
>>>>>>> origin/main
   "id": "a0491160-1a05-44c2-8810-09be145ec168",
   "metadata": {},
   "outputs": [],
   "source": [
    "# Apply the plain model to test data\n",
    "dataset_nodebiasing_train = plain_model.predict(dataset_orig_train)\n",
    "dataset_nodebiasing_test = plain_model.predict(dataset_orig_test)"
   ]
  },
  {
   "cell_type": "code",
<<<<<<< HEAD
   "execution_count": 9,
=======
   "execution_count": 25,
>>>>>>> origin/main
   "id": "2ccfbab8-b16a-43ce-9ce5-218cdaaf4de3",
   "metadata": {},
   "outputs": [
    {
     "data": {
      "text/markdown": [
       "#### Plain model - without debiasing - dataset metrics"
      ],
      "text/plain": [
       "<IPython.core.display.Markdown object>"
      ]
     },
     "metadata": {},
     "output_type": "display_data"
    },
    {
     "name": "stdout",
     "output_type": "stream",
     "text": [
      "Train set: Difference in mean outcomes between unprivileged and privileged groups = -0.240310\n",
      "Test set: Difference in mean outcomes between unprivileged and privileged groups = -0.344262\n"
     ]
    },
    {
     "data": {
      "text/markdown": [
       "#### Plain model - without debiasing - classification metrics"
      ],
      "text/plain": [
       "<IPython.core.display.Markdown object>"
      ]
     },
     "metadata": {},
     "output_type": "display_data"
    },
    {
     "name": "stdout",
     "output_type": "stream",
     "text": [
      "Test set: Classification accuracy = 0.733333\n",
      "Test set: Balanced classification accuracy = 0.538404\n",
      "Test set: Disparate impact = 0.655738\n",
      "Test set: Equal opportunity difference = -0.305556\n",
      "Test set: Average odds difference = -0.352778\n",
      "Test set: Theil_index = 0.090440\n"
     ]
    }
   ],
   "source": [
    "# Metrics for the dataset from plain model (without debiasing)\n",
    "display(Markdown(\"#### Plain model - without debiasing - dataset metrics\"))\n",
    "metric_dataset_nodebiasing_train = BinaryLabelDatasetMetric(\n",
    "    dataset_nodebiasing_train,\n",
    "    unprivileged_groups=unprivileged_groups,\n",
    "    privileged_groups=privileged_groups,\n",
    ")\n",
    "\n",
    "print(\n",
    "    \"Train set: Difference in mean outcomes between unprivileged and privileged groups = %f\"\n",
    "    % metric_dataset_nodebiasing_train.mean_difference()\n",
    ")\n",
    "\n",
    "metric_dataset_nodebiasing_test = BinaryLabelDatasetMetric(\n",
    "    dataset_nodebiasing_test,\n",
    "    unprivileged_groups=unprivileged_groups,\n",
    "    privileged_groups=privileged_groups,\n",
    ")\n",
    "\n",
    "print(\n",
    "    \"Test set: Difference in mean outcomes between unprivileged and privileged groups = %f\"\n",
    "    % metric_dataset_nodebiasing_test.mean_difference()\n",
    ")\n",
    "\n",
    "display(Markdown(\"#### Plain model - without debiasing - classification metrics\"))\n",
    "classified_metric_nodebiasing_test = ClassificationMetric(\n",
    "    dataset_orig_test,\n",
    "    dataset_nodebiasing_test,\n",
    "    unprivileged_groups=unprivileged_groups,\n",
    "    privileged_groups=privileged_groups,\n",
    ")\n",
    "print(\n",
    "    \"Test set: Classification accuracy = %f\"\n",
    "    % classified_metric_nodebiasing_test.accuracy()\n",
    ")\n",
    "TPR = classified_metric_nodebiasing_test.true_positive_rate()\n",
    "TNR = classified_metric_nodebiasing_test.true_negative_rate()\n",
    "bal_acc_nodebiasing_test = 0.5 * (TPR + TNR)\n",
    "print(\"Test set: Balanced classification accuracy = %f\" % bal_acc_nodebiasing_test)\n",
    "print(\n",
    "    \"Test set: Disparate impact = %f\"\n",
    "    % classified_metric_nodebiasing_test.disparate_impact()\n",
    ")\n",
    "print(\n",
    "    \"Test set: Equal opportunity difference = %f\"\n",
    "    % classified_metric_nodebiasing_test.equal_opportunity_difference()\n",
    ")\n",
    "print(\n",
    "    \"Test set: Average odds difference = %f\"\n",
    "    % classified_metric_nodebiasing_test.average_odds_difference()\n",
    ")\n",
    "print(\"Test set: Theil_index = %f\" % classified_metric_nodebiasing_test.theil_index())"
   ]
  },
  {
   "cell_type": "markdown",
   "id": "a0fc8347-736a-4e96-8cd3-c24d718cbdcd",
   "metadata": {},
   "source": [
    "### Apply in-processing algorithm based on adversarial learning"
   ]
  },
  {
   "cell_type": "code",
<<<<<<< HEAD
   "execution_count": 10,
=======
   "execution_count": 58,
>>>>>>> origin/main
   "id": "a58c98dd-d323-4db3-98b7-2a94940721e4",
   "metadata": {},
   "outputs": [
    {
     "name": "stdout",
     "output_type": "stream",
     "text": [
      "debug=True\n"
     ]
    }
   ],
   "source": [
<<<<<<< HEAD
    "debiased_model = XGBAdversarialDebiasing(\n",
=======
    "from _utils import _XGBAdversarialDebiasing\n",
    "\n",
    "protected_attribute_name = \"age\"\n",
    "Z = dataset_orig_train.protected_attributes[\n",
    "    :,\n",
    "    dataset_orig_train.protected_attribute_names.index(protected_attribute_name),\n",
    "]\n",
    "debiased_model = _XGBAdversarialDebiasing(\n",
>>>>>>> origin/main
    "    unprivileged_groups=unprivileged_groups,\n",
    "    privileged_groups=privileged_groups,\n",
    "    seed=1234,\n",
    "    debias=True,\n",
<<<<<<< HEAD
    "    tune_hyperparameters=True,\n",
    "    tuning_settings=tuning_settings,\n",
    "    adversary_loss_weight=1.0,\n",
    "    debug=False,\n",
=======
    "    protected_group_vector=Z,\n",
    "    adversary_loss_weight=10,\n",
    "    debug=True,\n",
>>>>>>> origin/main
    ")"
   ]
  },
  {
   "cell_type": "code",
<<<<<<< HEAD
   "execution_count": 11,
   "id": "8f863d48",
   "metadata": {},
   "outputs": [
    {
     "data": {
      "text/plain": [
       "(300, 1)"
      ]
     },
     "execution_count": 11,
     "metadata": {},
     "output_type": "execute_result"
    }
   ],
   "source": [
    "dataset_orig_test.labels.shape"
   ]
  },
  {
   "cell_type": "code",
   "execution_count": 12,
   "id": "36ca5aac",
   "metadata": {},
   "outputs": [],
   "source": [
    "def get_X_Y(dataset):\n",
    "    X = dataset.features\n",
    "    # Map the dataset labels to 0 and 1.\n",
    "    temp_labels = dataset.labels.copy()\n",
    "\n",
    "    temp_labels[(dataset.labels == dataset.favorable_label).ravel(), 0] = 1.0\n",
    "    temp_labels[(dataset.labels == dataset.unfavorable_label).ravel(), 0] = 0.0\n",
    "    Y = temp_labels\n",
    "    return X, Y"
   ]
  },
  {
   "cell_type": "code",
   "execution_count": 13,
   "id": "0674019a",
   "metadata": {},
   "outputs": [],
   "source": [
    "X, Y = get_X_Y(dataset_orig_train)"
   ]
  },
  {
   "cell_type": "code",
   "execution_count": 14,
=======
   "execution_count": 59,
>>>>>>> origin/main
   "id": "4b8f420b-15dc-4593-a066-10f732014cad",
   "metadata": {
    "scrolled": true
   },
   "outputs": [
    {
     "name": "stdout",
     "output_type": "stream",
     "text": [
      "adversary_loss=tensor(622.6611, grad_fn=<BinaryCrossEntropyBackward0>)\n",
      "[ 0.13188441  0.13188441 -0.07862598  0.13188441  0.13188441 -0.07862598\n",
      "  0.13188441 -0.07862598  0.13188441  0.13188441]\n",
      "[0.01036954 0.01036954 0.01036954 0.01036954 0.01036954 0.01036954\n",
      " 0.01036954 0.01036954 0.01036954 0.01036954]\n",
      "adversary_loss=tensor(592.6995, grad_fn=<BinaryCrossEntropyBackward0>)\n",
      "[ 0.1092284   0.1092284  -0.07677058  0.10921805  0.10921805 -0.07538632\n",
      "  0.11014505 -0.07538632  0.10921805  0.10775362]\n",
      "[-0.01038918 -0.01038918 -0.00130494 -0.010443   -0.010443    0.0103446\n",
      "  0.00259279  0.0103446  -0.010443   -0.01623366]\n",
      "adversary_loss=tensor(557.4992, grad_fn=<BinaryCrossEntropyBackward0>)\n",
      "[ 0.08570711  0.08570711 -0.07087249  0.08439078  0.08439078 -0.07075202\n",
      "  0.08933145 -0.07075202  0.08439078  0.08048242]\n",
      "[-0.01746472 -0.01746472 -0.00922472 -0.0200536  -0.0200536   0.009668\n",
      " -0.00159685  0.009668   -0.0200536  -0.0255501 ]\n",
      "adversary_loss=tensor(521.0822, grad_fn=<BinaryCrossEntropyBackward0>)\n",
      "[ 0.06289747  0.06289747 -0.06264888  0.06217281  0.06217281 -0.0645408\n",
      "  0.07013904 -0.0645408   0.06217281  0.05701482]\n",
      "[-0.02053879 -0.02053879 -0.01353548 -0.02126922 -0.02126922  0.00854689\n",
      " -0.00351752  0.00854689 -0.02126922 -0.02491577]\n",
      "adversary_loss=tensor(485.6953, grad_fn=<BinaryCrossEntropyBackward0>)\n",
      "[ 0.04491631  0.0434253  -0.05292014  0.04387642  0.04387642 -0.05647973\n",
      "  0.05291171 -0.05647973  0.04387642  0.03771231]\n",
      "[-0.01778655 -0.01867739 -0.01505455 -0.0184315  -0.0184315   0.00770538\n",
      " -0.00390045  0.00770538 -0.0184315  -0.02040743]\n",
      "adversary_loss=tensor(453.3840, grad_fn=<BinaryCrossEntropyBackward0>)\n",
      "[ 0.03052009  0.02798084 -0.04228323  0.02937988  0.02937988 -0.04677372\n",
      "  0.03774902 -0.04677372  0.02937988  0.02352445]\n",
      "[-0.01363319 -0.01444178 -0.01423455 -0.01407671 -0.01407671  0.00640135\n",
      " -0.00356468  0.00640135 -0.01407671 -0.01457   ]\n",
      "adversary_loss=tensor(424.7581, grad_fn=<BinaryCrossEntropyBackward0>)\n",
      "[ 0.01907903  0.01651477 -0.03100309  0.01806411  0.01894046 -0.03545389\n",
      "  0.02460736 -0.03545389  0.01806411  0.01349843]\n",
      "[-0.0092887  -0.00962633 -0.01167364 -0.00951923 -0.00932863  0.0047948\n",
      " -0.00304494  0.0047948  -0.00951923 -0.00916039]\n",
      "adversary_loss=tensor(400.2299, grad_fn=<BinaryCrossEntropyBackward0>)\n",
      "[ 0.01011523  0.00826244 -0.01937654  0.00951565  0.0103065  -0.02259059\n",
      "  0.01358216 -0.02259059  0.00951565  0.0065948 ]\n",
      "[-0.00525445 -0.00524953 -0.00773563 -0.00532495 -0.00521493  0.00318164\n",
      " -0.00188711  0.00318164 -0.00532495 -0.00477425]\n",
      "adversary_loss=tensor(379.9770, grad_fn=<BinaryCrossEntropyBackward0>)\n",
      "[ 0.00319013  0.00246385 -0.00713445  0.00298521  0.00330526 -0.00854686\n",
      "  0.00443634 -0.00854686  0.00298521  0.00189253]\n",
      "[-0.00174382 -0.00166825 -0.00301434 -0.00175049 -0.00172854  0.0010765\n",
      " -0.00069925  0.0010765  -0.00175049 -0.00144631]\n",
      "adversary_loss=tensor(363.7143, grad_fn=<BinaryCrossEntropyBackward0>)\n",
      "[-0.00209077 -0.00151676  0.0054053  -0.00193415 -0.00219096  0.00662419\n",
      " -0.00297505  0.00662419 -0.00193415 -0.00112789]\n",
      "[ 0.00118244  0.00107955  0.00237517  0.00117777  0.00117427 -0.00069845\n",
      "  0.00053351 -0.00069845  0.00117777  0.00089743]\n",
      "adversary_loss=tensor(351.4548, grad_fn=<BinaryCrossEntropyBackward0>)\n",
      "[-0.00612921 -0.00405562  0.01889198 -0.0056865  -0.00652776  0.02232593\n",
      " -0.00890238  0.02232593 -0.0056865  -0.00296161]\n",
      "[ 0.00354341  0.00303376  0.0077904   0.00351617  0.00352075 -0.00308633\n",
      "  0.00160994 -0.00308633  0.00351617  0.00243935]\n",
      "adversary_loss=tensor(343.9286, grad_fn=<BinaryCrossEntropyBackward0>)\n",
      "[-0.00971289 -0.00601669  0.03515063 -0.00900171 -0.01028145  0.03672481\n",
      " -0.01370234  0.03672481 -0.00900171 -0.00413347]\n",
      "[ 0.00538665  0.00454808  0.01113398  0.00538872  0.00531214 -0.00899472\n",
      "  0.00205001 -0.00899472  0.00538872  0.00347229]\n",
      "adversary_loss=tensor(340.9660, grad_fn=<BinaryCrossEntropyBackward0>)\n",
      "[-0.01294443 -0.00818608  0.05351468 -0.01205111 -0.01364882  0.04698771\n",
      " -0.01751562  0.04698771 -0.01205111 -0.00567256]\n",
      "[ 0.00671696  0.00600771  0.00916855  0.00681594  0.00653619 -0.01807368\n",
      "  0.00173696 -0.01807368  0.00681594  0.00467958]\n",
      "adversary_loss=tensor(341.7224, grad_fn=<BinaryCrossEntropyBackward0>)\n",
      "[-0.01577721 -0.01022165  0.06947833 -0.01476578 -0.0165609   0.05411543\n",
      " -0.02036218  0.05411543 -0.01476578 -0.00715578]\n",
      "[ 0.00753504  0.00723626 -0.0082506   0.00778397  0.0072087  -0.02609978\n",
      "  0.0008775  -0.02609978  0.00778397  0.00577497]\n",
      "adversary_loss=tensor(344.3320, grad_fn=<BinaryCrossEntropyBackward0>)\n",
      "[-0.01809521 -0.01200554  0.07982802 -0.01702234 -0.01891092  0.05698379\n",
      " -0.02232167  0.05698379 -0.01702234 -0.00849044]\n",
      "[ 0.00791338  0.00818991 -0.01914898  0.00833339  0.0074309  -0.03263221\n",
      " -0.00020871 -0.03263221  0.00833339  0.00670019]\n",
      "adversary_loss=tensor(348.1144, grad_fn=<BinaryCrossEntropyBackward0>)\n",
      "[-0.01985467 -0.01345463  0.08606494 -0.01876249 -0.02066964  0.05722427\n",
      " -0.02355053  0.05722427 -0.01876249 -0.00960251]\n",
      "[ 0.00797692  0.00886781 -0.02948091  0.00856009  0.00735179 -0.03681493\n",
      " -0.00127116 -0.03681493  0.00856009  0.00742304]\n",
      "adversary_loss=tensor(352.3484, grad_fn=<BinaryCrossEntropyBackward0>)\n",
      "[-0.02108711 -0.01454348  0.08883615 -0.02000214 -0.02188272  0.05581569\n",
      " -0.0242264   0.05581569 -0.02000214 -0.01045929]\n",
      "[ 0.00785253  0.00930473 -0.03794001  0.00857328  0.00711122 -0.03895395\n",
      " -0.00217433 -0.03895395  0.00857328  0.00794402]\n",
      "adversary_loss=tensor(356.5090, grad_fn=<BinaryCrossEntropyBackward0>)\n",
      "[-0.02204337 -0.01470815  0.08902049 -0.02092549 -0.02273274  0.05348649\n",
      " -0.02453546  0.05348649 -0.02092549 -0.01004784]\n",
      "[ 0.00746634  0.00945936 -0.04411482  0.00838297  0.00668489 -0.03957403\n",
      " -0.00274263 -0.03957403  0.00838297  0.00779286]\n",
      "adversary_loss=tensor(360.2933, grad_fn=<BinaryCrossEntropyBackward0>)\n",
      "[-0.02237846 -0.0151715   0.08745501 -0.02138557 -0.0231213   0.05073479\n",
      " -0.02453069  0.05073479 -0.02138557 -0.01009946]\n",
      "[ 0.00728334  0.00957961 -0.0481343   0.00818426  0.00635591 -0.03917622\n",
      " -0.00327998 -0.03917622  0.00818426  0.00783788]\n",
      "adversary_loss=tensor(363.5001, grad_fn=<BinaryCrossEntropyBackward0>)\n",
      "[-0.02238262 -0.01522679  0.08482221 -0.02161895 -0.0232754   0.04787998\n",
      " -0.024374    0.04787998 -0.02161895 -0.00955508]\n",
      "[ 0.00716269  0.00956531 -0.05036915  0.00790677  0.00596671 -0.03815836\n",
      " -0.0034882  -0.03815836  0.00790677  0.00754252]\n",
      "adversary_loss=tensor(366.0233, grad_fn=<BinaryCrossEntropyBackward0>)\n",
      "[-0.02225334 -0.01520986  0.08162501 -0.02155558 -0.02311786  0.04511197\n",
      " -0.02403138  0.04511197 -0.02155558 -0.00906971]\n",
      "[ 0.00696173  0.00948555 -0.05124315  0.00767762  0.00575212 -0.03680561\n",
      " -0.00370921 -0.03680561  0.00767762  0.00724979]\n",
      "adversary_loss=tensor(367.7976, grad_fn=<BinaryCrossEntropyBackward0>)\n",
      "[-0.02188061 -0.01494783  0.07707085 -0.02128534 -0.02266503  0.04334875\n",
      " -0.02359603  0.04334875 -0.02128534 -0.00884273]\n",
      "[ 0.00685896  0.00933046 -0.05088397  0.00747793  0.00578203 -0.03582887\n",
      " -0.00377498 -0.03582887  0.00747793  0.00708711]\n",
      "adversary_loss=tensor(368.8234, grad_fn=<BinaryCrossEntropyBackward0>)\n",
      "[-0.02138597 -0.01445003  0.07282757 -0.02086802 -0.02229322  0.04178366\n",
      " -0.02307976  0.04178366 -0.02086802 -0.00828787]\n",
      "[ 0.00674986  0.00910851 -0.04980727  0.00728831  0.00547918 -0.03483331\n",
      " -0.00374408 -0.03483331  0.00728831  0.00672148]\n",
      "adversary_loss=tensor(369.1497, grad_fn=<BinaryCrossEntropyBackward0>)\n",
      "[-0.02074615 -0.01402214  0.0693889  -0.02032889 -0.0217908   0.03949113\n",
      " -0.02248555  0.03949113 -0.02032889 -0.00801594]\n",
      "[ 0.00668113  0.00886528 -0.04845506  0.00710602  0.00522105 -0.03324609\n",
      " -0.00366165 -0.03324609  0.00710602  0.00651273]\n",
      "adversary_loss=tensor(368.7881, grad_fn=<BinaryCrossEntropyBackward0>)\n",
      "[-0.020086   -0.0132134   0.0657481  -0.01970282 -0.02114237  0.03768187\n",
      " -0.02182796  0.03768187 -0.01970282 -0.00749438]\n",
      "[ 0.0065248   0.00853241 -0.0466794   0.00690987  0.00506156 -0.03188653\n",
      " -0.00351534 -0.03188653  0.00690987  0.00614482]\n",
      "adversary_loss=tensor(367.8008, grad_fn=<BinaryCrossEntropyBackward0>)\n",
      "[-0.01934976 -0.01264153  0.062934   -0.01898144 -0.0203835   0.03598978\n",
      " -0.02109824  0.03598978 -0.01898144 -0.00693032]\n",
      "[ 0.00634991  0.00821299 -0.04493492  0.00671241  0.00494762 -0.03053709\n",
      " -0.00334308 -0.03053709  0.00671241  0.00573962]\n",
      "adversary_loss=tensor(366.2790, grad_fn=<BinaryCrossEntropyBackward0>)\n",
      "[-0.01854288 -0.01184218  0.06027449 -0.01818445 -0.01954541  0.03434892\n",
      " -0.020305    0.03434892 -0.01818445 -0.00645011]\n",
      "[ 0.00615107  0.00782229 -0.04304324  0.00649548  0.00482345 -0.02916618\n",
      " -0.00311886 -0.02916618  0.00649548  0.00537852]\n",
      "adversary_loss=tensor(364.2673, grad_fn=<BinaryCrossEntropyBackward0>)\n",
      "[-0.01764994 -0.01105026  0.05758412 -0.01730756 -0.01862411  0.03286624\n",
      " -0.0194362   0.03286624 -0.01730756 -0.00598459]\n",
      "[ 0.00594097  0.00740507 -0.04096158  0.00625981  0.00469046 -0.02785466\n",
      " -0.00286848 -0.02785466  0.00625981  0.00502   ]\n",
      "adversary_loss=tensor(361.8852, grad_fn=<BinaryCrossEntropyBackward0>)\n",
      "[-0.01661409 -0.01028103  0.05477896 -0.01634801 -0.01761603  0.0318055\n",
      " -0.01848574  0.0318055  -0.01634801 -0.00558358]\n",
      "[ 0.00576718  0.00696838 -0.03867427  0.00600232  0.00454517 -0.02678107\n",
      " -0.00259408 -0.02678107  0.00600232  0.00469837]\n",
      "adversary_loss=tensor(359.1847, grad_fn=<BinaryCrossEntropyBackward0>)\n",
      "[-0.01551474 -0.0095325   0.05220105 -0.01530511 -0.01651893  0.03048309\n",
      " -0.01744528  0.03048309 -0.01530511 -0.00516018]\n",
      "[ 0.00554176  0.00651457 -0.03630273  0.00571711  0.00438029 -0.0254798\n",
      " -0.002302   -0.0254798   0.00571711  0.00435676]\n",
      "adversary_loss=tensor(356.2737, grad_fn=<BinaryCrossEntropyBackward0>)\n",
      "[-0.01436459 -0.00877448  0.04940422 -0.01416615 -0.01532116  0.02906409\n",
      " -0.01631075  0.02906409 -0.01416615 -0.00473737]\n",
      "[ 0.00525041  0.00603642 -0.03368657  0.00540733  0.00420194 -0.02406207\n",
      " -0.00198123 -0.02406207  0.00540733  0.00401057]\n",
      "adversary_loss=tensor(353.2347, grad_fn=<BinaryCrossEntropyBackward0>)\n",
      "[-0.01312743 -0.00796612  0.04634076 -0.01294162 -0.01402915  0.02751542\n",
      " -0.01506992  0.02751542 -0.01294162 -0.00428801]\n",
      "[ 0.00492075  0.00552153 -0.03081337  0.00505855  0.00399043 -0.02250443\n",
      " -0.0016539  -0.02250443  0.00505855  0.00364141]\n",
      "adversary_loss=tensor(350.1662, grad_fn=<BinaryCrossEntropyBackward0>)\n",
      "[-0.01180299 -0.00710907  0.04304335 -0.01163141 -0.01264173  0.02586311\n",
      " -0.01371733  0.02586311 -0.01163141 -0.00381345]\n",
      "[ 0.00454866  0.00496954 -0.0276903   0.00466685  0.00374081 -0.02081882\n",
      " -0.00132476 -0.02081882  0.00466685  0.00324999]\n",
      "adversary_loss=tensor(347.1658, grad_fn=<BinaryCrossEntropyBackward0>)\n",
      "[-0.01040731 -0.00630491  0.03943344 -0.01022394 -0.01114895  0.02405332\n",
      " -0.0122466   0.02405332 -0.01022394 -0.00332551]\n",
      "[ 0.00412142  0.00441475 -0.02429578  0.00423719  0.00346173 -0.01896579\n",
      " -0.00101932 -0.01896579  0.00423719  0.00284444]\n",
      "adversary_loss=tensor(344.2967, grad_fn=<BinaryCrossEntropyBackward0>)\n",
      "[-0.00888859 -0.00531937  0.03542329 -0.00877059 -0.00959314  0.022021\n",
      " -0.01066326  0.022021   -0.00877059 -0.0027887 ]\n",
      "[ 0.00367401  0.00377843 -0.02062121  0.0037406   0.00310664 -0.01690221\n",
      " -0.0007235  -0.01690221  0.0037406   0.00239982]\n",
      "adversary_loss=tensor(341.6550, grad_fn=<BinaryCrossEntropyBackward0>)\n",
      "[-0.00734726 -0.00435028  0.03091479 -0.00724625 -0.00795569  0.0196839\n",
      " -0.00897386  0.0196839  -0.00724625 -0.00226866]\n",
      "[ 0.00314842  0.0031283  -0.01668487  0.00319884  0.00270787 -0.01458259\n",
      " -0.00043792 -0.01458259  0.00319884  0.00196256]\n",
      "adversary_loss=tensor(339.3243, grad_fn=<BinaryCrossEntropyBackward0>)\n",
      "[-0.00576958 -0.00337631  0.02580351 -0.00568726 -0.00626996  0.0169357\n",
      " -0.00718805  0.0169357  -0.00568726 -0.00175057]\n",
      "[ 0.00256872  0.0024605  -0.01255695  0.00260421  0.00224828 -0.01196533\n",
      " -0.00019883 -0.01196533  0.00260421  0.00152307]\n",
      "adversary_loss=tensor(337.3826, grad_fn=<BinaryCrossEntropyBackward0>)\n",
      "[-0.00418507 -0.00241811  0.01999455 -0.00412299 -0.00456593  0.01364048\n",
      " -0.00532831  0.01364048 -0.00412299 -0.00124593]\n",
      "[ 1.9392830e-03  1.7874498e-03 -8.4011136e-03  1.9616890e-03\n",
      "  1.7278544e-03 -9.0302657e-03 -2.3421786e-05 -9.0302657e-03\n",
      "  1.9616890e-03  1.0906924e-03]\n",
      "adversary_loss=tensor(335.9046, grad_fn=<BinaryCrossEntropyBackward0>)\n",
      "[-0.00263057 -0.00149944  0.01344441 -0.00258996 -0.00288209  0.00963605\n",
      " -0.00342849  0.00963605 -0.00258996 -0.00076748]\n",
      "[ 1.2701246e-03  1.1250101e-03 -4.5329006e-03  1.2818850e-03\n",
      "  1.1520544e-03 -5.8197314e-03  7.1696741e-05 -5.8197314e-03\n",
      "  1.2818850e-03  6.7620969e-04]\n",
      "adversary_loss=tensor(334.9599, grad_fn=<BinaryCrossEntropyBackward0>)\n",
      "[-0.00114896 -0.00064569  0.00624945 -0.0011305  -0.00126442  0.00476816\n",
      " -0.00153514  0.00476816 -0.0011305  -0.00032822]\n",
      "[ 5.7825464e-04  4.9190299e-04 -1.4681190e-03  5.8228482e-04\n",
      "  5.3384411e-04 -2.5191831e-03  7.3729731e-05 -2.5191831e-03\n",
      "  5.8228482e-04  2.9111886e-04]\n",
      "adversary_loss=tensor(334.6040, grad_fn=<BinaryCrossEntropyBackward0>)\n",
      "[ 2.1342315e-04  1.1820929e-04 -1.2169646e-03  2.0985315e-04\n",
      "  2.3594654e-04 -1.0028032e-03  2.9262280e-04 -1.0028032e-03\n",
      "  2.0985315e-04  5.9670441e-05]\n",
      "[-1.1190558e-04 -9.1442584e-05  1.3793922e-04 -1.1243461e-04\n",
      " -1.0509797e-04  4.3314442e-04 -2.2400855e-05  4.3314442e-04\n",
      " -1.1243461e-04 -5.3280040e-05]\n",
      "adversary_loss=tensor(334.8516, grad_fn=<BinaryCrossEntropyBackward0>)\n",
      "[ 0.00141107  0.0007703  -0.00821743  0.00138654  0.00156719 -0.0074032\n",
      "  0.00198625 -0.0074032   0.00138654  0.00038616]\n",
      "[-0.00076974 -0.00060485 -0.00017946 -0.00077172 -0.00073482  0.00233546\n",
      " -0.00021036  0.00233546 -0.00077172 -0.00034707]\n",
      "adversary_loss=tensor(335.6297, grad_fn=<BinaryCrossEntropyBackward0>)\n",
      "[ 0.00240511  0.00129457 -0.01385334  0.00236175  0.00268332 -0.01371101\n",
      "  0.00347485 -0.01371101  0.00236175  0.00064468]\n",
      "[-0.0013618  -0.00103106 -0.00218791 -0.00136256 -0.00131999  0.0025637\n",
      " -0.00047039  0.0025637  -0.00136256 -0.00058304]\n",
      "adversary_loss=tensor(336.7532, grad_fn=<BinaryCrossEntropyBackward0>)\n",
      "[ 0.00317738  0.00166945 -0.01757078  0.00309121  0.00353244 -0.01900375\n",
      "  0.00469859 -0.01900375  0.00309121  0.00083639]\n",
      "[-0.00185709 -0.00135022 -0.00493092 -0.00185336 -0.00182873  0.00114145\n",
      " -0.00076103  0.00114145 -0.00185336 -0.00076049]\n",
      "adversary_loss=tensor(337.9781, grad_fn=<BinaryCrossEntropyBackward0>)\n",
      "[ 0.00370261  0.00192147 -0.01942056  0.0035992   0.00413161 -0.02266647\n",
      "  0.00560535 -0.02266647  0.0035992   0.00095735]\n",
      "[-0.00223154 -0.00157235 -0.00741263 -0.00222171 -0.00222273 -0.00121161\n",
      " -0.00106027 -0.00121161 -0.00222171 -0.00087503]\n",
      "adversary_loss=tensor(339.0493, grad_fn=<BinaryCrossEntropyBackward0>)\n",
      "[ 0.00397017  0.00203407 -0.01952258  0.0038871   0.0044789  -0.02474573\n",
      "  0.00617812 -0.02474573  0.0038871   0.00100772]\n",
      "[-0.00246821 -0.00168443 -0.00923139 -0.00245639 -0.00248503 -0.00311026\n",
      " -0.00131074 -0.00311026 -0.00245639 -0.00092597]\n",
      "adversary_loss=tensor(339.8333, grad_fn=<BinaryCrossEntropyBackward0>)\n",
      "[ 0.00401595  0.00203719 -0.01888315  0.00393355  0.00455094 -0.02523133\n",
      "  0.00641334 -0.02523133  0.00393355  0.00100307]\n",
      "[-0.00256363 -0.00170386 -0.01002837 -0.00254823 -0.00260846 -0.00508302\n",
      " -0.00148305 -0.00508302 -0.00254823 -0.00092591]\n",
      "adversary_loss=tensor(340.1883, grad_fn=<BinaryCrossEntropyBackward0>)\n",
      "[ 0.00385873  0.00197108 -0.01734717  0.0037807   0.00444027 -0.02467564\n",
      "  0.0063239  -0.02467564  0.0037807   0.00094979]\n",
      "[-0.00252234 -0.00165797 -0.01009501 -0.00250462 -0.00259259 -0.00600188\n",
      " -0.00156272 -0.00600188 -0.00250462 -0.00088033]\n",
      "adversary_loss=tensor(340.1043, grad_fn=<BinaryCrossEntropyBackward0>)\n",
      "[ 0.00358132  0.00184451 -0.01542256  0.00349883  0.00406351 -0.0231367\n",
      "  0.00593802 -0.0231367   0.00349883  0.00084905]\n",
      "[-0.00236962 -0.00155477 -0.00954231 -0.00234905 -0.00244507 -0.00629451\n",
      " -0.00154306 -0.00629451 -0.00234905 -0.00079047]\n",
      "adversary_loss=tensor(339.5865, grad_fn=<BinaryCrossEntropyBackward0>)\n",
      "[ 0.00315294  0.00159392 -0.01307148  0.00308239  0.00363026 -0.02081156\n",
      "  0.00530665 -0.02081156  0.00308239  0.00071251]\n",
      "[-0.00211029 -0.00135341 -0.0085039  -0.00209133 -0.00219132 -0.00594611\n",
      " -0.00141039 -0.00594611 -0.00209133 -0.0006666 ]\n",
      "adversary_loss=tensor(338.7450, grad_fn=<BinaryCrossEntropyBackward0>)\n",
      "[ 0.0026205   0.00130341 -0.01068204  0.00257118  0.00305101 -0.01778901\n",
      "  0.00446083 -0.01778901  0.00257118  0.00056696]\n",
      "[-0.00176745 -0.00111281 -0.00715174 -0.00175364 -0.00184411 -0.0050654\n",
      " -0.00119625 -0.0050654  -0.00175364 -0.00053249]\n",
      "adversary_loss=tensor(337.6759, grad_fn=<BinaryCrossEntropyBackward0>)\n",
      "[ 0.00202042  0.00099811 -0.00810501  0.00197899  0.00235719 -0.01414737\n",
      "  0.00344433 -0.01414737  0.00197899  0.00041771]\n",
      "[-0.00136336 -0.00085334 -0.00553778 -0.00135169 -0.00142321 -0.00372463\n",
      " -0.0009202  -0.00372463 -0.00135169 -0.00039349]\n",
      "adversary_loss=tensor(336.5036, grad_fn=<BinaryCrossEntropyBackward0>)\n",
      "[ 0.00135419  0.00067005 -0.00545925  0.00132725  0.00157748 -0.0098003\n",
      "  0.00230086 -0.0098003   0.00132725  0.00026898]\n",
      "[-0.00091055 -0.00057207 -0.00374827 -0.00090313 -0.0009488  -0.00221454\n",
      " -0.0006046  -0.00221454 -0.00090313 -0.00025392]\n",
      "adversary_loss=tensor(335.3483, grad_fn=<BinaryCrossEntropyBackward0>)\n",
      "[ 0.00063657  0.00031592 -0.00277076  0.00062399  0.00074066 -0.00474636\n",
      "  0.00107431 -0.00474636  0.00062399  0.00012701]\n",
      "[-0.00042514 -0.00026901 -0.00182701 -0.00042183 -0.00044159 -0.00084619\n",
      " -0.00027412 -0.00084619 -0.00042183 -0.00011979]\n",
      "adversary_loss=tensor(334.3677, grad_fn=<BinaryCrossEntropyBackward0>)\n",
      "[-1.1565582e-04 -5.7646510e-05  5.5126217e-04 -1.1339205e-04\n",
      " -1.3434312e-04  8.8430458e-04 -1.9331426e-04  8.8430458e-04\n",
      " -1.1339205e-04 -2.3225981e-05]\n",
      "[7.6491749e-05 4.8900765e-05 3.4187804e-04 7.5932643e-05 7.9081779e-05\n",
      " 1.0017568e-04 4.7218287e-05 1.0017568e-04 7.5932643e-05 2.1874655e-05]\n",
      "adversary_loss=tensor(333.6816, grad_fn=<BinaryCrossEntropyBackward0>)\n",
      "[-0.00088574 -0.00044388  0.00465787 -0.00086861 -0.00102668  0.00686718\n",
      " -0.0014627   0.00686718 -0.00086861 -0.00017933]\n",
      "[0.00057857 0.00037473 0.00264498 0.00057471 0.00059463 0.00022527\n",
      " 0.0003374  0.00022527 0.00057471 0.0001686 ]\n",
      "adversary_loss=tensor(333.3669, grad_fn=<BinaryCrossEntropyBackward0>)\n",
      "[-0.00165604 -0.00083519  0.00959471 -0.00162447 -0.00191487  0.01279296\n",
      " -0.00269682  0.01279296 -0.00162447 -0.00033849]\n",
      "[ 0.00106603  0.0007011   0.00482226  0.0010597   0.00108799 -0.00075122\n",
      "  0.00057989 -0.00075122  0.0010597   0.00031759]\n",
      "adversary_loss=tensor(333.4388, grad_fn=<BinaryCrossEntropyBackward0>)\n",
      "[-0.00240835 -0.00122312  0.01520778 -0.00236317 -0.00277725  0.01814714\n",
      " -0.00386233  0.01814714 -0.00236317 -0.00049747]\n",
      "[ 0.00152509  0.00102029  0.00648823  0.00151731  0.00154437 -0.00280524\n",
      "  0.00076474 -0.00280524  0.00151731  0.00046569]\n",
      "adversary_loss=tensor(333.8484, grad_fn=<BinaryCrossEntropyBackward0>)\n",
      "[-0.00312458 -0.0015987   0.02112214 -0.00306696 -0.00359292  0.02249124\n",
      " -0.00493099  0.02249124 -0.00306696 -0.00065268]\n",
      "[ 0.00194405  0.0013246   0.00726979  0.00193587  0.00195207 -0.00556876\n",
      "  0.00088872 -0.00556876  0.00193587  0.00060949]\n",
      "adversary_loss=tensor(334.5012, grad_fn=<BinaryCrossEntropyBackward0>)\n",
      "[-0.00378771 -0.0019528   0.02683986 -0.00371909 -0.00434278  0.02561268\n",
      " -0.00588068  0.02561268 -0.00371909 -0.00080035]\n",
      "[ 0.00231375  0.0016067   0.00698572  0.00230618  0.00230291 -0.00850947\n",
      "  0.00095464 -0.00850947  0.00230618  0.0007455 ]\n",
      "adversary_loss=tensor(335.2855, grad_fn=<BinaryCrossEntropyBackward0>)\n",
      "[-0.00438253 -0.00227667  0.03189587 -0.00430456 -0.00501028  0.02753881\n",
      " -0.00669562  0.02753881 -0.00430456 -0.00093672]\n",
      "[ 0.00262786  0.00186001  0.00572656  0.00262174  0.0025923  -0.01116891\n",
      "  0.00096982 -0.01116891  0.00262174  0.0008703 ]\n",
      "adversary_loss=tensor(336.0956, grad_fn=<BinaryCrossEntropyBackward0>)\n",
      "[-0.00489617 -0.00256227  0.0359707  -0.0048106  -0.00558194  0.02844951\n",
      " -0.00736598  0.02844951 -0.0048106  -0.00105823]\n",
      "[ 0.00288274  0.00207893  0.00379112  0.00287868  0.00281878 -0.01328235\n",
      "  0.00094445 -0.01328235  0.00287868  0.00098075]\n",
      "adversary_loss=tensor(336.8443, grad_fn=<BinaryCrossEntropyBackward0>)\n",
      "[-0.00531839 -0.00280262  0.03892004 -0.00522702 -0.00604746  0.02857761\n",
      " -0.00788693  0.02857761 -0.00522702 -0.00116166]\n",
      "[ 0.00307705  0.00225901  0.00155537  0.00307546  0.00298344 -0.01476765\n",
      "  0.00088979 -0.01476765  0.00307546  0.00107406]\n",
      "adversary_loss=tensor(337.4763, grad_fn=<BinaryCrossEntropyBackward0>)\n",
      "[-0.00564148 -0.0029919   0.04067575 -0.00554608 -0.00639953  0.0285025\n",
      " -0.00825739  0.0285025  -0.00554608 -0.00124424]\n",
      "[ 0.00321124  0.00239688 -0.00177091  0.00321224  0.00308906 -0.01563106\n",
      "  0.00081689 -0.01563106  0.00321224  0.00114789]\n",
      "adversary_loss=tensor(337.9354, grad_fn=<BinaryCrossEntropyBackward0>)\n",
      "[-0.00586527 -0.00312942  0.04124154 -0.00576758 -0.00651408  0.02796412\n",
      " -0.00848057  0.02796412 -0.00576758 -0.00129147]\n",
      "[ 0.00328693  0.00249243 -0.00426769  0.00329055  0.00317805 -0.01604867\n",
      "  0.00072961 -0.01604867  0.00329055  0.0011901 ]\n",
      "adversary_loss=tensor(338.2121, grad_fn=<BinaryCrossEntropyBackward0>)\n",
      "[-0.00598016 -0.00320701  0.0409935  -0.00588184 -0.00663131  0.02685761\n",
      " -0.00855895  0.02685761 -0.00588184 -0.00132707]\n",
      "[ 0.00330704  0.00254156 -0.00573612  0.00331292  0.00318073 -0.01606581\n",
      "  0.00064499 -0.01606581  0.00331292  0.00122075]\n",
      "adversary_loss=tensor(338.2978, grad_fn=<BinaryCrossEntropyBackward0>)\n",
      "[-0.00597857 -0.00323845  0.03985947 -0.00589226 -0.00663308  0.02580039\n",
      " -0.00849941  0.02580039 -0.00589226 -0.00133801]\n",
      "[ 0.00327581  0.00255258 -0.00711916  0.00328249  0.00313555 -0.0157683\n",
      "  0.00056484 -0.0157683   0.00328249  0.00122895]\n",
      "adversary_loss=tensor(338.1970, grad_fn=<BinaryCrossEntropyBackward0>)\n",
      "[-0.00587719 -0.00320712  0.03834276 -0.00579581 -0.00651754  0.0245486\n",
      " -0.00830894  0.0245486  -0.00579581 -0.00127712]\n",
      "[ 0.00319604  0.00251712 -0.00742537  0.00320342  0.00304895 -0.01521062\n",
      "  0.00050054 -0.01521062  0.00320342  0.00117549]\n",
      "adversary_loss=tensor(337.9717, grad_fn=<BinaryCrossEntropyBackward0>)\n",
      "[-0.00569473 -0.00311774  0.03637446 -0.00559842 -0.00631085  0.02327527\n",
      " -0.0079965   0.02327527 -0.00559842 -0.00120431]\n",
      "[ 0.0030697   0.00243879 -0.00725484  0.00307955  0.00291721 -0.01445526\n",
      "  0.00045235 -0.01445526  0.00307955  0.00111042]\n",
      "adversary_loss=tensor(337.6017, grad_fn=<BinaryCrossEntropyBackward0>)\n",
      "[-0.00540872 -0.00297185  0.03403218 -0.00531219 -0.00599908  0.02206468\n",
      " -0.00757382  0.02206468 -0.00531219 -0.00110838]\n",
      "[ 0.0029046   0.00231966 -0.00669098  0.00291498  0.00275306 -0.01354481\n",
      "  0.00041495 -0.01354481  0.00291498  0.00102448]\n",
      "adversary_loss=tensor(337.2014, grad_fn=<BinaryCrossEntropyBackward0>)\n",
      "[-0.00503542 -0.00278784  0.03131085 -0.00493904 -0.00552648  0.02041142\n",
      " -0.00705337  0.02041142 -0.00493904 -0.00103552]\n",
      "[ 0.00270431  0.00217067 -0.00595973  0.00271452  0.00258595 -0.01244637\n",
      "  0.00037436 -0.01244637  0.00271452  0.00095684]\n",
      "adversary_loss=tensor(336.7509, grad_fn=<BinaryCrossEntropyBackward0>)\n",
      "[-0.00459474 -0.00258138  0.02841286 -0.00450024 -0.00508628  0.01887771\n",
      " -0.00644639  0.01887771 -0.00450024 -0.00092782]\n",
      "[ 0.00247263  0.00200128 -0.00479073  0.00248217  0.0023503  -0.01124083\n",
      "  0.00034983 -0.01124083  0.00248217  0.00085875]\n",
      "adversary_loss=tensor(336.2920, grad_fn=<BinaryCrossEntropyBackward0>)\n",
      "[-0.00409812 -0.00229862  0.02526901 -0.00401279 -0.0045383   0.01721727\n",
      " -0.00576935  0.01721727 -0.00401279 -0.00082512]\n",
      "[ 0.00221553  0.00178519 -0.00354083  0.00222345  0.00211015 -0.00992179\n",
      "  0.00033484 -0.00992179  0.00222345  0.00076411]\n",
      "adversary_loss=tensor(335.8570, grad_fn=<BinaryCrossEntropyBackward0>)\n",
      "[-0.00356132 -0.00199221  0.02193584 -0.00348663 -0.00394724  0.01540145\n",
      " -0.00504155  0.01540145 -0.00348663 -0.00071393]\n",
      "[ 0.00193966  0.00155166 -0.00233968  0.00194564  0.00185299 -0.0085186\n",
      "  0.00032188 -0.0085186   0.00194564  0.00066171]\n",
      "adversary_loss=tensor(335.4714, grad_fn=<BinaryCrossEntropyBackward0>)\n",
      "[-0.00300573 -0.00167569  0.0185056  -0.00294212 -0.00333511  0.01345017\n",
      " -0.00428532  0.01345017 -0.00294212 -0.00059922]\n",
      "[ 0.00165252  0.00130991 -0.00127152  0.0016566   0.00158471 -0.00707445\n",
      "  0.00030537 -0.00707445  0.0016566   0.000556  ]\n",
      "adversary_loss=tensor(335.1641, grad_fn=<BinaryCrossEntropyBackward0>)\n",
      "[-0.00245187 -0.00136141  0.01508965 -0.00239942 -0.0027241   0.0114462\n",
      " -0.00352517  0.0114462  -0.00239942 -0.00048561]\n",
      "[ 0.00136293  0.00106882 -0.00034261  0.00136532  0.00131282 -0.00562923\n",
      "  0.00028223 -0.00562923  0.00136532  0.00045116]\n",
      "adversary_loss=tensor(334.9442, grad_fn=<BinaryCrossEntropyBackward0>)\n",
      "[-0.00192059 -0.00106161  0.01179555 -0.00187902 -0.00213695  0.00936863\n",
      " -0.00278752  0.00936863 -0.00187902 -0.00037761]\n",
      "[ 0.00108071  0.00083746  0.00030351  0.00108173  0.00104608 -0.00425512\n",
      "  0.00025082 -0.00425512  0.00108173  0.00035133]\n",
      "adversary_loss=tensor(334.8137, grad_fn=<BinaryCrossEntropyBackward0>)\n",
      "[-0.00143186 -0.00078765  0.00875493 -0.00140048 -0.00159566  0.00730777\n",
      " -0.00209939  0.00730777 -0.00140048 -0.00027932]\n",
      "[ 0.00081617  0.00062451  0.00067246  0.00081625  0.0007941  -0.00301509\n",
      "  0.00021138 -0.00301509  0.00081625  0.00026028]\n",
      "adversary_loss=tensor(334.7618, grad_fn=<BinaryCrossEntropyBackward0>)\n",
      "[-0.00100351 -0.00054929  0.00609139 -0.00098123 -0.00112012  0.00535358\n",
      " -0.00148689  0.00535358 -0.00098123 -0.00019419]\n",
      "[ 0.00057956  0.00043778  0.00078282  0.00057913  0.00056685 -0.00197169\n",
      "  0.00016625 -0.00197169  0.00057913  0.00018124]\n",
      "adversary_loss=tensor(334.7689, grad_fn=<BinaryCrossEntropyBackward0>)\n",
      "[-0.0006499  -0.00035399  0.00390115 -0.00063529 -0.00072658  0.00362218\n",
      " -0.00097309  0.00362218 -0.00063529 -0.00012477]\n",
      "[ 0.0003802   0.00028357  0.00071051  0.00037959  0.00037376 -0.00115858\n",
      "  0.00011965 -0.00115858  0.00037959  0.00011662]\n",
      "adversary_loss=tensor(334.8054, grad_fn=<BinaryCrossEntropyBackward0>)\n",
      "[-3.8143346e-04 -2.0678990e-04  2.2590328e-03 -3.7276014e-04\n",
      " -4.2709504e-04  2.2101188e-03 -5.7690404e-04  2.2101188e-03\n",
      " -3.7276014e-04 -7.2673516e-05]\n",
      "[ 2.2586908e-04  1.6645805e-04  5.2374176e-04  2.2533264e-04\n",
      "  2.2312094e-04 -6.0219207e-04  7.7146098e-05 -6.0219207e-04\n",
      "  2.2533264e-04  6.8029629e-05]\n",
      "adversary_loss=tensor(334.8441, grad_fn=<BinaryCrossEntropyBackward0>)\n",
      "[-2.0317519e-04 -1.0967660e-04  1.1800663e-03 -1.9850559e-04\n",
      " -2.2781861e-04  1.2024980e-03 -3.1016406e-04  1.2024980e-03\n",
      " -1.9850559e-04 -3.8442471e-05]\n",
      "[ 1.2164591e-04  8.8675042e-05  3.3593862e-04  1.2126972e-04\n",
      "  1.2069202e-04 -3.0319445e-04  4.4571781e-05 -3.0319445e-04\n",
      "  1.2126972e-04  3.6033893e-05]\n",
      "adversary_loss=tensor(334.8558, grad_fn=<BinaryCrossEntropyBackward0>)\n",
      "[-1.17050913e-04 -6.29478309e-05  6.71151909e-04 -1.14335606e-04\n",
      " -1.31411056e-04  7.13467074e-04 -1.80159477e-04  7.13467074e-04\n",
      " -1.14335606e-04 -2.20127877e-05]\n",
      "[ 7.0756498e-05  5.1089850e-05  2.1511245e-04  7.0493537e-05\n",
      "  7.0468574e-05 -1.5328161e-04  2.7482945e-05 -1.5328161e-04\n",
      "  7.0493537e-05  2.0657550e-05]\n",
      "adversary_loss=tensor(334.8260, grad_fn=<BinaryCrossEntropyBackward0>)\n",
      "[-1.19550008e-04 -6.49526482e-05  6.70320820e-04 -1.16602045e-04\n",
      " -1.35473572e-04  7.43973884e-04 -1.85375349e-04  7.43973884e-04\n",
      " -1.16602045e-04 -2.25501317e-05]\n",
      "[ 7.2851042e-05  5.2705524e-05  2.4441615e-04  7.2522598e-05\n",
      "  7.2652954e-05 -1.4442056e-04  2.9424189e-05 -1.4442056e-04\n",
      "  7.2522598e-05  2.1170948e-05]\n",
      "adversary_loss=tensor(334.7470, grad_fn=<BinaryCrossEntropyBackward0>)\n",
      "[-2.04372220e-04 -1.10720895e-04  1.12767250e-03 -1.99071452e-04\n",
      " -2.32262464e-04  1.29096908e-03 -3.18305887e-04  1.29096908e-03\n",
      " -1.99071452e-04 -3.74723386e-05]\n",
      "[ 1.2521350e-04  9.0059024e-05  4.4570232e-04  1.2457010e-04\n",
      "  1.2510456e-04 -2.3814167e-04  5.2446630e-05 -2.3814167e-04\n",
      "  1.2457010e-04  3.5261295e-05]\n",
      "adversary_loss=tensor(334.6229, grad_fn=<BinaryCrossEntropyBackward0>)\n",
      "[-3.6270759e-04 -1.9576926e-04  1.9827813e-03 -3.5266808e-04\n",
      " -4.1104847e-04  2.3212323e-03 -5.6685414e-04  2.3212323e-03\n",
      " -3.5266808e-04 -6.5105014e-05]\n",
      "[ 2.2308974e-04  1.5957854e-04  8.2588510e-04  2.2179337e-04\n",
      "  2.2342686e-04 -4.1792041e-04  9.5515192e-05 -4.1792041e-04\n",
      "  2.2179337e-04  6.1365012e-05]\n",
      "adversary_loss=tensor(334.4678, grad_fn=<BinaryCrossEntropyBackward0>)\n",
      "[-0.00058401 -0.00031534  0.00319193 -0.0005666  -0.00065628  0.00378636\n",
      " -0.00091489  0.00378636 -0.0005666  -0.00010411]\n",
      "[ 3.6007585e-04  2.5721008e-04  1.3651359e-03  3.5773189e-04\n",
      "  3.6151221e-04 -6.6392194e-04  1.5565183e-04 -6.6392194e-04\n",
      "  3.5773189e-04  9.8190023e-05]\n",
      "adversary_loss=tensor(334.3037, grad_fn=<BinaryCrossEntropyBackward0>)\n",
      "[-0.00085726 -0.00046215  0.00474062 -0.00083069 -0.00096599  0.00557729\n",
      " -0.00134298  0.00557729 -0.00083069 -0.00015131]\n",
      "[ 0.00052856  0.00037711  0.00201795  0.00052496  0.00053045 -0.00106822\n",
      "  0.0002285  -0.00106822  0.00052496  0.00014279]\n",
      "adversary_loss=tensor(334.1553, grad_fn=<BinaryCrossEntropyBackward0>)\n",
      "[-0.0011697  -0.00063098  0.00659651 -0.00113351 -0.00130609  0.00760535\n",
      " -0.00182982  0.00760535 -0.00113351 -0.00020503]\n",
      "[ 0.00072005  0.00051455  0.00273618  0.00071524  0.00072311 -0.00162095\n",
      "  0.00030846 -0.00162095  0.00071524  0.00019355]\n",
      "adversary_loss=tensor(334.0475, grad_fn=<BinaryCrossEntropyBackward0>)\n",
      "[-0.00150415 -0.00080944  0.00875126 -0.00146214 -0.00168429  0.00976233\n",
      " -0.00235333  0.00976233 -0.00146214 -0.0002575 ]\n",
      "[ 0.00092523  0.00066032  0.00343816  0.00091979  0.00092852 -0.00232346\n",
      "  0.00038934 -0.00232346  0.00091979  0.00024341]\n",
      "adversary_loss=tensor(334.0058, grad_fn=<BinaryCrossEntropyBackward0>)\n",
      "[-0.00185718 -0.00100158  0.01109256 -0.00180557 -0.00205034  0.0119333\n",
      " -0.00289159  0.0119333  -0.00180557 -0.00031331]\n",
      "[ 0.00113617  0.00081526  0.00408593  0.00112997  0.00114006 -0.003161\n",
      "  0.00046318 -0.003161    0.00112997  0.00029632]\n",
      "adversary_loss=tensor(334.0361, grad_fn=<BinaryCrossEntropyBackward0>)\n",
      "[-0.00221071 -0.00118595  0.01356027 -0.00215111 -0.00244039  0.01398343\n",
      " -0.00342308  0.01398343 -0.00215111 -0.00036433]\n",
      "[ 0.00134376  0.00096477  0.00459911  0.00133728  0.00134541 -0.00413424\n",
      "  0.00052544 -0.00413424  0.00133728  0.00034489]\n",
      "adversary_loss=tensor(334.1392, grad_fn=<BinaryCrossEntropyBackward0>)\n",
      "[-0.00255247 -0.00137322  0.01605265 -0.00248413 -0.00281544  0.01580671\n",
      " -0.00392726  0.01580671 -0.00248413 -0.00042264]\n",
      "[ 0.00154028  0.00111388  0.00492195  0.00153369  0.00153852 -0.00519206\n",
      "  0.00057598 -0.00519206  0.00153369  0.00039978]\n",
      "adversary_loss=tensor(334.3037, grad_fn=<BinaryCrossEntropyBackward0>)\n",
      "[-0.00287139 -0.00154959  0.01845462 -0.0027951  -0.00316453  0.01732506\n",
      " -0.00438789  0.01732506 -0.0027951  -0.00047788]\n",
      "[ 0.00171911  0.001253    0.00502282  0.00171277  0.00171271 -0.00626487\n",
      "  0.00061137 -0.00626487  0.00171277  0.00045166]\n",
      "adversary_loss=tensor(334.5114, grad_fn=<BinaryCrossEntropyBackward0>)\n",
      "[-0.00315739 -0.00170941  0.02065001 -0.00307416 -0.00347666  0.0184939\n",
      " -0.00479107  0.0184939  -0.00307416 -0.00052827]\n",
      "[ 0.00187483  0.00137771  0.00490132  0.00186908  0.00186281 -0.00727836\n",
      "  0.00063144 -0.00727836  0.00186908  0.00049885]\n",
      "adversary_loss=tensor(334.7296, grad_fn=<BinaryCrossEntropyBackward0>)\n",
      "[-0.00340224 -0.00184788  0.02266764 -0.00331327 -0.00374299  0.01935948\n",
      " -0.00512663  0.01935948 -0.00331327 -0.00057226]\n",
      "[ 0.00200356  0.00148443  0.00429742  0.00199867  0.00198533 -0.00813719\n",
      "  0.00063743 -0.00813719  0.00199867  0.00053992]\n",
      "adversary_loss=tensor(334.9608, grad_fn=<BinaryCrossEntropyBackward0>)\n",
      "[-0.00359869 -0.00196063  0.02416034 -0.0035053  -0.00395577  0.01980833\n",
      " -0.00538636  0.01980833 -0.0035053  -0.0006084 ]\n",
      "[ 0.00210228  0.00156999  0.00379229  0.00209842  0.00207766 -0.00886677\n",
      "  0.00063133 -0.00886677  0.00209842  0.00057354]\n",
      "adversary_loss=tensor(335.1644, grad_fn=<BinaryCrossEntropyBackward0>)\n",
      "[-0.00374141 -0.00204427  0.0252795  -0.00364503 -0.00410944  0.02004873\n",
      " -0.0055653   0.02004873 -0.00364503 -0.00063555]\n",
      "[ 0.00216926  0.00163209  0.00293263  0.0021665   0.00213857 -0.00935313\n",
      "  0.00061574 -0.00935313  0.0021665   0.00059866]\n",
      "adversary_loss=tensor(335.3304, grad_fn=<BinaryCrossEntropyBackward0>)\n",
      "[-0.00382835 -0.00209747  0.02584191 -0.0037304  -0.00420181  0.0199036\n",
      " -0.00566143  0.0199036  -0.0037304  -0.00065326]\n",
      "[ 0.00220383  0.00166982  0.00235258  0.00220221  0.00216754 -0.00967391\n",
      "  0.00059152 -0.00967391  0.00220221  0.00061489]\n",
      "adversary_loss=tensor(335.4327, grad_fn=<BinaryCrossEntropyBackward0>)\n",
      "[-0.00385222 -0.00213752  0.0259553  -0.00375328 -0.0042629   0.01969564\n",
      " -0.00567541  0.01969564 -0.00375328 -0.00066098]\n",
      "[ 0.0022066   0.00169296  0.00175922  0.00220577  0.00215869 -0.00974318\n",
      "  0.00056186 -0.00974318  0.00220577  0.00062174]\n"
     ]
    },
    {
     "data": {
      "text/plain": [
<<<<<<< HEAD
       "<aif360.algorithms.inprocessing.xgb_adversarial_debiasing.XGBAdversarialDebiasing at 0x7f8d3ee5dc00>"
      ]
     },
     "execution_count": 14,
=======
       "<_utils._XGBAdversarialDebiasing at 0x7fb65589aa90>"
      ]
     },
     "execution_count": 59,
>>>>>>> origin/main
     "metadata": {},
     "output_type": "execute_result"
    }
   ],
   "source": [
    "debiased_model.fit(dataset=dataset_orig_train, test_dataset=dataset_orig_test)"
   ]
  },
  {
   "cell_type": "code",
<<<<<<< HEAD
   "execution_count": 15,
=======
   "execution_count": 60,
>>>>>>> origin/main
   "id": "74db4876-6c63-4d95-aaaf-45bbd72f8c42",
   "metadata": {
    "scrolled": true
   },
   "outputs": [],
   "source": [
    "# Apply the plain model to test data\n",
    "dataset_debiasing_train = debiased_model.predict(dataset_orig_train)\n",
    "dataset_debiasing_test = debiased_model.predict(dataset_orig_test)"
   ]
  },
  {
   "cell_type": "code",
<<<<<<< HEAD
   "execution_count": 16,
=======
   "execution_count": 61,
>>>>>>> origin/main
   "id": "038c9554-70a0-4d26-99be-29a242202fd4",
   "metadata": {},
   "outputs": [
    {
     "data": {
      "text/markdown": [
       "#### Plain model - without debiasing - dataset metrics"
      ],
      "text/plain": [
       "<IPython.core.display.Markdown object>"
      ]
     },
     "metadata": {},
     "output_type": "display_data"
    },
    {
     "name": "stdout",
     "output_type": "stream",
     "text": [
      "Train set: Difference in mean outcomes between unprivileged and privileged groups = -0.240310\n",
      "Test set: Difference in mean outcomes between unprivileged and privileged groups = -0.344262\n"
     ]
    },
    {
     "data": {
      "text/markdown": [
       "#### Model - with debiasing - dataset metrics"
      ],
      "text/plain": [
       "<IPython.core.display.Markdown object>"
      ]
     },
     "metadata": {},
     "output_type": "display_data"
    },
    {
     "name": "stdout",
     "output_type": "stream",
     "text": [
      "Train set: Difference in mean outcomes between unprivileged and privileged groups = -0.009992\n",
      "Test set: Difference in mean outcomes between unprivileged and privileged groups = 0.012895\n"
     ]
    },
    {
     "data": {
      "text/markdown": [
       "#### Plain model - without debiasing - classification metrics"
      ],
      "text/plain": [
       "<IPython.core.display.Markdown object>"
      ]
     },
     "metadata": {},
     "output_type": "display_data"
    },
    {
     "name": "stdout",
     "output_type": "stream",
     "text": [
      "Test set: Classification accuracy = 0.733333\n",
      "Test set: Balanced classification accuracy = 0.538404\n",
      "Test set: Disparate impact = 0.655738\n",
      "Test set: Equal opportunity difference = -0.305556\n",
      "Test set: Average odds difference = -0.352778\n",
      "Test set: Theil_index = 0.090440\n"
     ]
    },
    {
     "data": {
      "text/markdown": [
       "#### Model - with debiasing - classification metrics"
      ],
      "text/plain": [
       "<IPython.core.display.Markdown object>"
      ]
     },
     "metadata": {},
     "output_type": "display_data"
    },
    {
     "name": "stdout",
     "output_type": "stream",
     "text": [
      "Test set: Classification accuracy = 0.736667\n",
      "Test set: Balanced classification accuracy = 0.516267\n",
      "Test set: Disparate impact = 1.013284\n",
      "Test set: Equal opportunity difference = -0.011562\n",
      "Test set: Average odds difference = 0.031256\n",
      "Test set: Theil_index = 0.067829\n"
     ]
    }
   ],
   "source": [
    "# Metrics for the dataset from plain model (without debiasing)\n",
    "display(Markdown(\"#### Plain model - without debiasing - dataset metrics\"))\n",
    "print(\n",
    "    \"Train set: Difference in mean outcomes between unprivileged and privileged groups = %f\"\n",
    "    % metric_dataset_nodebiasing_train.mean_difference()\n",
    ")\n",
    "print(\n",
    "    \"Test set: Difference in mean outcomes between unprivileged and privileged groups = %f\"\n",
    "    % metric_dataset_nodebiasing_test.mean_difference()\n",
    ")\n",
    "\n",
    "# Metrics for the dataset from model with debiasing\n",
    "display(Markdown(\"#### Model - with debiasing - dataset metrics\"))\n",
    "metric_dataset_debiasing_train = BinaryLabelDatasetMetric(\n",
    "    dataset_debiasing_train,\n",
    "    unprivileged_groups=unprivileged_groups,\n",
    "    privileged_groups=privileged_groups,\n",
    ")\n",
    "\n",
    "print(\n",
    "    \"Train set: Difference in mean outcomes between unprivileged and privileged groups = %f\"\n",
    "    % metric_dataset_debiasing_train.mean_difference()\n",
    ")\n",
    "\n",
    "metric_dataset_debiasing_test = BinaryLabelDatasetMetric(\n",
    "    dataset_debiasing_test,\n",
    "    unprivileged_groups=unprivileged_groups,\n",
    "    privileged_groups=privileged_groups,\n",
    ")\n",
    "\n",
    "print(\n",
    "    \"Test set: Difference in mean outcomes between unprivileged and privileged groups = %f\"\n",
    "    % metric_dataset_debiasing_test.mean_difference()\n",
    ")\n",
    "\n",
    "\n",
    "display(Markdown(\"#### Plain model - without debiasing - classification metrics\"))\n",
    "print(\n",
    "    \"Test set: Classification accuracy = %f\"\n",
    "    % classified_metric_nodebiasing_test.accuracy()\n",
    ")\n",
    "TPR = classified_metric_nodebiasing_test.true_positive_rate()\n",
    "TNR = classified_metric_nodebiasing_test.true_negative_rate()\n",
    "bal_acc_nodebiasing_test = 0.5 * (TPR + TNR)\n",
    "print(\"Test set: Balanced classification accuracy = %f\" % bal_acc_nodebiasing_test)\n",
    "print(\n",
    "    \"Test set: Disparate impact = %f\"\n",
    "    % classified_metric_nodebiasing_test.disparate_impact()\n",
    ")\n",
    "print(\n",
    "    \"Test set: Equal opportunity difference = %f\"\n",
    "    % classified_metric_nodebiasing_test.equal_opportunity_difference()\n",
    ")\n",
    "print(\n",
    "    \"Test set: Average odds difference = %f\"\n",
    "    % classified_metric_nodebiasing_test.average_odds_difference()\n",
    ")\n",
    "print(\"Test set: Theil_index = %f\" % classified_metric_nodebiasing_test.theil_index())\n",
    "\n",
    "\n",
    "display(Markdown(\"#### Model - with debiasing - classification metrics\"))\n",
    "classified_metric_debiasing_test = ClassificationMetric(\n",
    "    dataset_orig_test,\n",
    "    dataset_debiasing_test,\n",
    "    unprivileged_groups=unprivileged_groups,\n",
    "    privileged_groups=privileged_groups,\n",
    ")\n",
    "print(\n",
    "    \"Test set: Classification accuracy = %f\"\n",
    "    % classified_metric_debiasing_test.accuracy()\n",
    ")\n",
    "TPR = classified_metric_debiasing_test.true_positive_rate()\n",
    "TNR = classified_metric_debiasing_test.true_negative_rate()\n",
    "bal_acc_debiasing_test = 0.5 * (TPR + TNR)\n",
    "print(\"Test set: Balanced classification accuracy = %f\" % bal_acc_debiasing_test)\n",
    "print(\n",
    "    \"Test set: Disparate impact = %f\"\n",
    "    % classified_metric_debiasing_test.disparate_impact()\n",
    ")\n",
    "print(\n",
    "    \"Test set: Equal opportunity difference = %f\"\n",
    "    % classified_metric_debiasing_test.equal_opportunity_difference()\n",
    ")\n",
    "print(\n",
    "    \"Test set: Average odds difference = %f\"\n",
    "    % classified_metric_debiasing_test.average_odds_difference()\n",
    ")\n",
    "print(\"Test set: Theil_index = %f\" % classified_metric_debiasing_test.theil_index())"
   ]
  },
  {
   "cell_type": "code",
<<<<<<< HEAD
   "execution_count": 17,
=======
   "execution_count": 62,
>>>>>>> origin/main
   "id": "4baecde1-b527-4377-bd75-db6320687997",
   "metadata": {},
   "outputs": [
    {
     "data": {
<<<<<<< HEAD
      "image/png": "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",
=======
      "image/png": "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",
>>>>>>> origin/main
      "text/plain": [
       "<Figure size 640x480 with 1 Axes>"
      ]
     },
     "metadata": {},
     "output_type": "display_data"
    }
   ],
   "source": [
    "import matplotlib.pyplot as plt\n",
    "\n",
    "bins = 20\n",
    "probs_ad = debiased_model.predict_proba(dataset_orig_test)[:, 1]\n",
    "base_probs = plain_model.predict_proba(dataset_orig_test)[:, 1]\n",
    "# plt.hist(adjusted_probs, bins=bins, histtype=\"step\", label=\"Fairness Adjuster\")\n",
    "plt.hist(probs_ad, bins=bins, histtype=\"step\", label=\"Adversarial Debiasing\")\n",
    "plt.hist(base_probs, bins=bins, histtype=\"step\", label=\"Plain Model\")\n",
    "plt.legend()\n",
    "plt.show()"
   ]
  },
  {
<<<<<<< HEAD
   "cell_type": "code",
   "execution_count": 18,
   "id": "2d8b40de-f518-4712-9db7-3a08af91431d",
   "metadata": {},
   "outputs": [
    {
     "data": {
      "text/plain": [
       "{'n_estimators': 8,\n",
       " 'max_leaves': 9,\n",
       " 'min_child_weight': 9.232131954429383,\n",
       " 'learning_rate': 0.8598978349396178,\n",
       " 'subsample': 0.964593082343062,\n",
       " 'colsample_bylevel': 0.40396500095162347,\n",
       " 'colsample_bytree': 0.7477971102634645,\n",
       " 'reg_alpha': 0.002247666139172512,\n",
       " 'reg_lambda': 8.809520328961995}"
      ]
     },
     "execution_count": 18,
     "metadata": {},
     "output_type": "execute_result"
    }
   ],
   "source": [
    "plain_model.estimator.best_config"
   ]
  },
  {
   "cell_type": "code",
   "execution_count": 19,
   "id": "a829f604-e4b5-4cd3-bb39-e59d2b88d472",
   "metadata": {},
   "outputs": [
    {
     "data": {
      "text/plain": [
       "{'n_estimators': 6,\n",
       " 'max_leaves': 51,\n",
       " 'min_child_weight': 0.0011074582449367685,\n",
       " 'learning_rate': 1.0,\n",
       " 'subsample': 0.1265743180611953,\n",
       " 'colsample_bylevel': 0.30511523489779213,\n",
       " 'colsample_bytree': 0.512839732159211,\n",
       " 'reg_alpha': 0.010754817837047135,\n",
       " 'reg_lambda': 0.013801863233242444}"
      ]
     },
     "execution_count": 19,
     "metadata": {},
     "output_type": "execute_result"
    }
   ],
   "source": [
    "debiased_model.estimator.best_config"
   ]
  },
  {
=======
>>>>>>> origin/main
   "cell_type": "markdown",
   "id": "d8892995-7732-4b40-9905-c8fc49194798",
   "metadata": {},
   "source": [
    "\n",
    "    References:\n",
    "    [1] B. H. Zhang, B. Lemoine, and M. Mitchell, \"Mitigating UnwantedBiases with Adversarial Learning,\" \n",
    "    AAAI/ACM Conference on Artificial Intelligence, Ethics, and Society, 2018."
   ]
  },
  {
   "cell_type": "code",
   "execution_count": null,
   "id": "e919c0be-354b-4d75-969b-160bd3e5184e",
   "metadata": {},
   "outputs": [],
   "source": []
  },
  {
   "cell_type": "code",
   "execution_count": null,
   "id": "91fedd4b",
   "metadata": {},
   "outputs": [],
   "source": []
  },
  {
   "cell_type": "code",
   "execution_count": null,
   "id": "bf0468ef",
   "metadata": {},
   "outputs": [],
   "source": []
  }
 ],
 "metadata": {
  "kernelspec": {
   "display_name": "aif360",
   "language": "python",
   "name": "aif360"
  },
  "language_info": {
   "codemirror_mode": {
    "name": "ipython",
    "version": 3
   },
   "file_extension": ".py",
   "mimetype": "text/x-python",
   "name": "python",
   "nbconvert_exporter": "python",
   "pygments_lexer": "ipython3",
   "version": "3.10.15"
  }
 },
 "nbformat": 4,
 "nbformat_minor": 5
}
