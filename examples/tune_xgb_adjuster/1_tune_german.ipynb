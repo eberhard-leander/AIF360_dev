{
 "cells": [
  {
   "cell_type": "markdown",
   "id": "4c1ceb52-54f2-4ec2-84b6-0f957a821a61",
   "metadata": {
    "papermill": {
     "duration": 0.001753,
     "end_time": "2025-01-17T23:45:01.472609",
     "exception": false,
     "start_time": "2025-01-17T23:45:01.470856",
     "status": "completed"
    },
    "tags": []
   },
   "source": [
    "#### Tuning XGB Adjuster: German Data"
   ]
  },
  {
   "cell_type": "code",
   "execution_count": 1,
   "id": "88fe6d28-b025-4030-98ed-f2ea77cff6da",
   "metadata": {
    "papermill": {
     "duration": 4.224895,
     "end_time": "2025-01-17T23:45:05.699089",
     "exception": false,
     "start_time": "2025-01-17T23:45:01.474194",
     "status": "completed"
    },
    "tags": []
   },
   "outputs": [
    {
     "name": "stderr",
     "output_type": "stream",
     "text": [
      "2025-01-18 20:48:27.564973: I tensorflow/core/util/port.cc:111] oneDNN custom operations are on. You may see slightly different numerical results due to floating-point round-off errors from different computation orders. To turn them off, set the environment variable `TF_ENABLE_ONEDNN_OPTS=0`.\n",
      "2025-01-18 20:48:27.567034: I tensorflow/tsl/cuda/cudart_stub.cc:28] Could not find cuda drivers on your machine, GPU will not be used.\n",
      "2025-01-18 20:48:27.597182: E tensorflow/compiler/xla/stream_executor/cuda/cuda_dnn.cc:9342] Unable to register cuDNN factory: Attempting to register factory for plugin cuDNN when one has already been registered\n",
      "2025-01-18 20:48:27.597208: E tensorflow/compiler/xla/stream_executor/cuda/cuda_fft.cc:609] Unable to register cuFFT factory: Attempting to register factory for plugin cuFFT when one has already been registered\n",
      "2025-01-18 20:48:27.597226: E tensorflow/compiler/xla/stream_executor/cuda/cuda_blas.cc:1518] Unable to register cuBLAS factory: Attempting to register factory for plugin cuBLAS when one has already been registered\n",
      "2025-01-18 20:48:27.602882: I tensorflow/tsl/cuda/cudart_stub.cc:28] Could not find cuda drivers on your machine, GPU will not be used.\n",
      "2025-01-18 20:48:27.603565: I tensorflow/core/platform/cpu_feature_guard.cc:182] This TensorFlow binary is optimized to use available CPU instructions in performance-critical operations.\n",
      "To enable the following instructions: AVX2 AVX512F AVX512_VNNI AVX512_BF16 AVX_VNNI AMX_TILE AMX_INT8 AMX_BF16 FMA, in other operations, rebuild TensorFlow with the appropriate compiler flags.\n",
      "2025-01-18 20:48:28.202109: W tensorflow/compiler/tf2tensorrt/utils/py_utils.cc:38] TF-TRT Warning: Could not find TensorRT\n"
     ]
    }
   ],
   "source": [
    "from aif360.algorithms.inprocessing.xgb_fairness_adjuster import XGBFairnessAdjuster\n",
    "from aif360.algorithms.preprocessing.optim_preproc_helpers.data_preproc_functions import (\n",
    "    load_preproc_data_german,\n",
    ")\n",
    "\n",
    "from IPython.display import Markdown, display\n",
    "from aif360.metrics import BinaryLabelDatasetMetric, ClassificationMetric"
   ]
  },
  {
   "cell_type": "markdown",
   "id": "97f4683b-2336-4563-a90e-ee7dae7b6fe2",
   "metadata": {
    "papermill": {
     "duration": 0.001571,
     "end_time": "2025-01-17T23:45:05.702541",
     "exception": false,
     "start_time": "2025-01-17T23:45:05.700970",
     "status": "completed"
    },
    "tags": []
   },
   "source": [
    "#### Load dataset and set options"
   ]
  },
  {
   "cell_type": "code",
   "execution_count": 2,
   "id": "a4fe68c4-6f1b-455a-850d-507c53718838",
   "metadata": {
    "papermill": {
     "duration": 0.01971,
     "end_time": "2025-01-17T23:45:05.723817",
     "exception": false,
     "start_time": "2025-01-17T23:45:05.704107",
     "status": "completed"
    },
    "tags": []
   },
   "outputs": [],
   "source": [
    "dataset_orig = load_preproc_data_german([\"age\", \"sex\"])\n",
    "dataset_orig_train, dataset_orig_test = dataset_orig.split(\n",
    "    [0.9], shuffle=True, seed=1234\n",
    ")\n",
    "privileged_groups = [{\"age\": 1}]\n",
    "unprivileged_groups = [{\"age\": 0}]"
   ]
  },
  {
   "cell_type": "markdown",
   "id": "2a16b86d-e757-437c-9a81-7d19b946227e",
   "metadata": {
    "papermill": {
     "duration": 0.00155,
     "end_time": "2025-01-17T23:45:05.726992",
     "exception": false,
     "start_time": "2025-01-17T23:45:05.725442",
     "status": "completed"
    },
    "tags": []
   },
   "source": [
    "### Learn plan classifier without debiasing"
   ]
  },
  {
   "cell_type": "code",
   "execution_count": 3,
   "id": "b67cf691",
   "metadata": {
    "papermill": {
     "duration": 0.004845,
     "end_time": "2025-01-17T23:45:05.733417",
     "exception": false,
     "start_time": "2025-01-17T23:45:05.728572",
     "status": "completed"
    },
    "tags": []
   },
   "outputs": [],
   "source": [
    "base_settings = {\n",
    "    \"time_budget\": 60,  # total running time in seconds\n",
    "    \"metric\": \"log_loss\",\n",
    "    \"estimator_list\": [\n",
    "        \"xgboost\",\n",
    "    ],\n",
    "}"
   ]
  },
  {
   "cell_type": "code",
   "execution_count": 4,
   "id": "e631abf2-4478-44af-8d3c-1b295446e342",
   "metadata": {
    "papermill": {
     "duration": 0.009344,
     "end_time": "2025-01-17T23:45:05.744436",
     "exception": false,
     "start_time": "2025-01-17T23:45:05.735092",
     "status": "completed"
    },
    "tags": []
   },
   "outputs": [],
   "source": [
    "plain_model = XGBFairnessAdjuster(\n",
    "    unprivileged_groups=unprivileged_groups,\n",
    "    privileged_groups=privileged_groups,\n",
    "    seed=1234,\n",
    "    debias=False,\n",
    "    tune_hyperparameters_base=True,\n",
    "    tuning_settings_base=base_settings,\n",
    "    tune_hyperparameters_adjuster=False,\n",
    ")"
   ]
  },
  {
   "cell_type": "code",
   "execution_count": 5,
   "id": "4e77a704-19c3-4371-affb-9733bf7f0278",
   "metadata": {
    "papermill": {
     "duration": 69.583303,
     "end_time": "2025-01-17T23:46:15.329379",
     "exception": false,
     "start_time": "2025-01-17T23:45:05.746076",
     "status": "completed"
    },
    "scrolled": true,
    "tags": []
   },
   "outputs": [
    {
     "data": {
      "text/plain": [
       "<aif360.algorithms.inprocessing.xgb_fairness_adjuster.XGBFairnessAdjuster at 0x7f20861df580>"
      ]
     },
     "execution_count": 5,
     "metadata": {},
     "output_type": "execute_result"
    }
   ],
   "source": [
    "plain_model.fit(dataset=dataset_orig_train, test_dataset=dataset_orig_test)"
   ]
  },
  {
   "cell_type": "markdown",
   "id": "a0fc8347-736a-4e96-8cd3-c24d718cbdcd",
   "metadata": {
    "papermill": {
     "duration": 0.00178,
     "end_time": "2025-01-17T23:46:15.333214",
     "exception": false,
     "start_time": "2025-01-17T23:46:15.331434",
     "status": "completed"
    },
    "tags": []
   },
   "source": [
    "### Apply in-processing algorithm based on adversarial learning"
   ]
  },
  {
   "cell_type": "code",
   "execution_count": 6,
   "id": "a58c98dd-d323-4db3-98b7-2a94940721e4",
   "metadata": {
    "papermill": {
     "duration": 0.005993,
     "end_time": "2025-01-17T23:46:15.340962",
     "exception": false,
     "start_time": "2025-01-17T23:46:15.334969",
     "status": "completed"
    },
    "tags": []
   },
   "outputs": [],
   "source": [
    "debiased_model = XGBFairnessAdjuster(\n",
    "    unprivileged_groups=unprivileged_groups,\n",
    "    privileged_groups=privileged_groups,\n",
    "    seed=1234,\n",
    "    debias=False,\n",
    "    adversary_loss_weight=1.0,\n",
    "    tune_hyperparameters_base=False,\n",
    "    tuning_settings_base=base_settings,\n",
    "    tune_hyperparameters_adjuster=False,\n",
    "    debug=False,\n",
    "    task=\"classification\",\n",
    ")"
   ]
  },
  {
   "cell_type": "code",
   "execution_count": 7,
   "id": "4b8f420b-15dc-4593-a066-10f732014cad",
   "metadata": {
    "papermill": {
     "duration": 68.665982,
     "end_time": "2025-01-17T23:47:24.008722",
     "exception": false,
     "start_time": "2025-01-17T23:46:15.342740",
     "status": "completed"
    },
    "scrolled": true,
    "tags": []
   },
   "outputs": [
    {
     "data": {
      "text/plain": [
       "<aif360.algorithms.inprocessing.xgb_fairness_adjuster.XGBFairnessAdjuster at 0x7f208621e3e0>"
      ]
     },
     "execution_count": 7,
     "metadata": {},
     "output_type": "execute_result"
    }
   ],
   "source": [
    "debiased_model.fit(dataset=dataset_orig_train, test_dataset=dataset_orig_test)"
   ]
  },
  {
   "cell_type": "code",
   "execution_count": 8,
   "id": "4baecde1-b527-4377-bd75-db6320687997",
   "metadata": {
    "papermill": {
     "duration": 0.084123,
     "end_time": "2025-01-17T23:47:24.094819",
     "exception": false,
     "start_time": "2025-01-17T23:47:24.010696",
     "status": "completed"
    },
    "tags": []
   },
   "outputs": [
    {
     "data": {
      "image/png": "[encoded data removed]",
      "text/plain": [
       "<Figure size 640x480 with 1 Axes>"
      ]
     },
     "metadata": {},
     "output_type": "display_data"
    }
   ],
   "source": [
    "import matplotlib.pyplot as plt\n",
    "\n",
    "bins = 20\n",
    "probs_ad = debiased_model.predict_proba(dataset_orig_test)\n",
    "base_probs = plain_model.predict_proba(dataset_orig_test)\n",
    "# plt.hist(adjusted_probs, bins=bins, histtype=\"step\", label=\"Fairness Adjuster\")\n",
    "plt.hist(probs_ad, bins=bins, histtype=\"step\", label=\"Debiased\")\n",
    "plt.hist(base_probs, bins=bins, histtype=\"step\", label=\"Not Debiased\")\n",
    "plt.legend()\n",
    "plt.show()"
   ]
  },
  {
   "cell_type": "code",
   "execution_count": 9,
   "id": "2d8b40de-f518-4712-9db7-3a08af91431d",
   "metadata": {
    "papermill": {
     "duration": 0.006616,
     "end_time": "2025-01-17T23:47:24.103561",
     "exception": false,
     "start_time": "2025-01-17T23:47:24.096945",
     "status": "completed"
    },
    "tags": []
   },
   "outputs": [
    {
     "data": {
      "text/plain": [
       "{'n_estimators': 4,\n",
       " 'max_leaves': 183,\n",
       " 'min_child_weight': 0.001,\n",
       " 'learning_rate': 1.0,\n",
       " 'subsample': 0.794149258757137,\n",
       " 'colsample_bylevel': 0.7058998664178697,\n",
       " 'colsample_bytree': 0.42240721131546477,\n",
       " 'reg_alpha': 0.7574637704877056,\n",
       " 'reg_lambda': 0.0009765625}"
      ]
     },
     "metadata": {},
     "output_type": "display_data"
    },
    {
     "data": {
      "text/plain": [
       "{'objective': 'binary:logistic',\n",
       " 'base_score': None,\n",
       " 'booster': None,\n",
       " 'callbacks': [],\n",
       " 'colsample_bylevel': 0.7058998664178697,\n",
       " 'colsample_bynode': None,\n",
       " 'colsample_bytree': 0.42240721131546477,\n",
       " 'device': None,\n",
       " 'early_stopping_rounds': None,\n",
       " 'enable_categorical': False,\n",
       " 'eval_metric': None,\n",
       " 'feature_types': None,\n",
       " 'gamma': None,\n",
       " 'grow_policy': 'lossguide',\n",
       " 'importance_type': None,\n",
       " 'interaction_constraints': None,\n",
       " 'learning_rate': 1.0,\n",
       " 'max_bin': None,\n",
       " 'max_cat_threshold': None,\n",
       " 'max_cat_to_onehot': None,\n",
       " 'max_delta_step': None,\n",
       " 'max_depth': 0,\n",
       " 'max_leaves': 183,\n",
       " 'min_child_weight': 0.001,\n",
       " 'missing': nan,\n",
       " 'monotone_constraints': None,\n",
       " 'multi_strategy': None,\n",
       " 'n_estimators': 4,\n",
       " 'n_jobs': -1,\n",
       " 'num_parallel_tree': None,\n",
       " 'random_state': None,\n",
       " 'reg_alpha': 0.7574637704877056,\n",
       " 'reg_lambda': 0.0009765625,\n",
       " 'sampling_method': None,\n",
       " 'scale_pos_weight': None,\n",
       " 'subsample': 0.794149258757137,\n",
       " 'tree_method': 'hist',\n",
       " 'validate_parameters': None,\n",
       " 'verbosity': 0}"
      ]
     },
     "metadata": {},
     "output_type": "display_data"
    }
   ],
   "source": [
    "if hasattr(plain_model.base_estimator, \"best_config\"):\n",
    "    display(plain_model.base_estimator.best_config)\n",
    "    display(plain_model.base_estimator.model.estimator.get_params(deep=True))"
   ]
  },
  {
   "cell_type": "code",
   "execution_count": 10,
   "id": "de2f7219-33d2-4293-94e4-ffac91d7d8c0",
   "metadata": {},
   "outputs": [
    {
     "data": {
      "text/markdown": [
       "#### Plain model - without debiasing - dataset metrics"
      ],
      "text/plain": [
       "<IPython.core.display.Markdown object>"
      ]
     },
     "metadata": {},
     "output_type": "display_data"
    },
    {
     "name": "stdout",
     "output_type": "stream",
     "text": [
      "Train set: Difference in mean outcomes between unprivileged and privileged groups = -0.404624\n",
      "Test set: Difference in mean outcomes between unprivileged and privileged groups = -0.529412\n"
     ]
    },
    {
     "data": {
      "text/markdown": [
       "#### Plain model - without debiasing - classification metrics"
      ],
      "text/plain": [
       "<IPython.core.display.Markdown object>"
      ]
     },
     "metadata": {},
     "output_type": "display_data"
    },
    {
     "name": "stdout",
     "output_type": "stream",
     "text": [
      "Test set: Classification accuracy = 0.750000\n",
      "Test set: Balanced classification accuracy = 0.569127\n",
      "Test set: Disparate impact = 0.470588\n",
      "Test set: Equal opportunity difference = -0.400000\n",
      "Test set: Average odds difference = -0.557143\n",
      "Test set: Theil_index = 0.091818\n"
     ]
    }
   ],
   "source": [
    "# Apply the plain model to test data\n",
    "dataset_nodebiasing_train = plain_model.predict(dataset_orig_train)\n",
    "dataset_nodebiasing_test = plain_model.predict(dataset_orig_test)\n",
    "# Metrics for the dataset from plain model (without debiasing)\n",
    "display(Markdown(\"#### Plain model - without debiasing - dataset metrics\"))\n",
    "metric_dataset_nodebiasing_train = BinaryLabelDatasetMetric(\n",
    "    dataset_nodebiasing_train,\n",
    "    unprivileged_groups=unprivileged_groups,\n",
    "    privileged_groups=privileged_groups,\n",
    ")\n",
    "\n",
    "print(\n",
    "    \"Train set: Difference in mean outcomes between unprivileged and privileged groups = %f\"\n",
    "    % metric_dataset_nodebiasing_train.mean_difference()\n",
    ")\n",
    "\n",
    "metric_dataset_nodebiasing_test = BinaryLabelDatasetMetric(\n",
    "    dataset_nodebiasing_test,\n",
    "    unprivileged_groups=unprivileged_groups,\n",
    "    privileged_groups=privileged_groups,\n",
    ")\n",
    "\n",
    "print(\n",
    "    \"Test set: Difference in mean outcomes between unprivileged and privileged groups = %f\"\n",
    "    % metric_dataset_nodebiasing_test.mean_difference()\n",
    ")\n",
    "\n",
    "display(Markdown(\"#### Plain model - without debiasing - classification metrics\"))\n",
    "classified_metric_nodebiasing_test = ClassificationMetric(\n",
    "    dataset_orig_test,\n",
    "    dataset_nodebiasing_test,\n",
    "    unprivileged_groups=unprivileged_groups,\n",
    "    privileged_groups=privileged_groups,\n",
    ")\n",
    "print(\n",
    "    \"Test set: Classification accuracy = %f\"\n",
    "    % classified_metric_nodebiasing_test.accuracy()\n",
    ")\n",
    "TPR = classified_metric_nodebiasing_test.true_positive_rate()\n",
    "TNR = classified_metric_nodebiasing_test.true_negative_rate()\n",
    "bal_acc_nodebiasing_test = 0.5 * (TPR + TNR)\n",
    "print(\"Test set: Balanced classification accuracy = %f\" % bal_acc_nodebiasing_test)\n",
    "print(\n",
    "    \"Test set: Disparate impact = %f\"\n",
    "    % classified_metric_nodebiasing_test.disparate_impact()\n",
    ")\n",
    "print(\n",
    "    \"Test set: Equal opportunity difference = %f\"\n",
    "    % classified_metric_nodebiasing_test.equal_opportunity_difference()\n",
    ")\n",
    "print(\n",
    "    \"Test set: Average odds difference = %f\"\n",
    "    % classified_metric_nodebiasing_test.average_odds_difference()\n",
    ")\n",
    "print(\"Test set: Theil_index = %f\" % classified_metric_nodebiasing_test.theil_index())"
   ]
  },
  {
   "cell_type": "code",
   "execution_count": 11,
   "id": "15b1e5c1-0bf8-416e-bc74-10b960039995",
   "metadata": {},
   "outputs": [
    {
     "data": {
      "text/markdown": [
       "#### Plain model - without debiasing - dataset metrics"
      ],
      "text/plain": [
       "<IPython.core.display.Markdown object>"
      ]
     },
     "metadata": {},
     "output_type": "display_data"
    },
    {
     "name": "stdout",
     "output_type": "stream",
     "text": [
      "Train set: Difference in mean outcomes between unprivileged and privileged groups = -0.404624\n",
      "Test set: Difference in mean outcomes between unprivileged and privileged groups = -0.529412\n"
     ]
    },
    {
     "data": {
      "text/markdown": [
       "#### Model - with debiasing - dataset metrics"
      ],
      "text/plain": [
       "<IPython.core.display.Markdown object>"
      ]
     },
     "metadata": {},
     "output_type": "display_data"
    },
    {
     "name": "stdout",
     "output_type": "stream",
     "text": [
      "Train set: Difference in mean outcomes between unprivileged and privileged groups = -0.323159\n",
      "Test set: Difference in mean outcomes between unprivileged and privileged groups = -0.458540\n"
     ]
    },
    {
     "data": {
      "text/markdown": [
       "#### Plain model - without debiasing - classification metrics"
      ],
      "text/plain": [
       "<IPython.core.display.Markdown object>"
      ]
     },
     "metadata": {},
     "output_type": "display_data"
    },
    {
     "name": "stdout",
     "output_type": "stream",
     "text": [
      "Test set: Classification accuracy = 0.750000\n",
      "Test set: Balanced classification accuracy = 0.569127\n",
      "Test set: Disparate impact = 0.470588\n",
      "Test set: Equal opportunity difference = -0.400000\n",
      "Test set: Average odds difference = -0.557143\n",
      "Test set: Theil_index = 0.091818\n"
     ]
    },
    {
     "data": {
      "text/markdown": [
       "#### Model - with debiasing - classification metrics"
      ],
      "text/plain": [
       "<IPython.core.display.Markdown object>"
      ]
     },
     "metadata": {},
     "output_type": "display_data"
    },
    {
     "name": "stdout",
     "output_type": "stream",
     "text": [
      "Test set: Classification accuracy = 0.750000\n",
      "Test set: Balanced classification accuracy = 0.569127\n",
      "Test set: Disparate impact = 0.535868\n",
      "Test set: Equal opportunity difference = -0.400000\n",
      "Test set: Average odds difference = -0.459398\n",
      "Test set: Theil_index = 0.091818\n"
     ]
    }
   ],
   "source": [
    "# Apply the plain model to test data\n",
    "dataset_debiasing_train = debiased_model.predict(dataset_orig_train)\n",
    "dataset_debiasing_test = debiased_model.predict(dataset_orig_test)\n",
    "# Metrics for the dataset from plain model (without debiasing)\n",
    "display(Markdown(\"#### Plain model - without debiasing - dataset metrics\"))\n",
    "print(\n",
    "    \"Train set: Difference in mean outcomes between unprivileged and privileged groups = %f\"\n",
    "    % metric_dataset_nodebiasing_train.mean_difference()\n",
    ")\n",
    "print(\n",
    "    \"Test set: Difference in mean outcomes between unprivileged and privileged groups = %f\"\n",
    "    % metric_dataset_nodebiasing_test.mean_difference()\n",
    ")\n",
    "\n",
    "# Metrics for the dataset from model with debiasing\n",
    "display(Markdown(\"#### Model - with debiasing - dataset metrics\"))\n",
    "metric_dataset_debiasing_train = BinaryLabelDatasetMetric(\n",
    "    dataset_debiasing_train,\n",
    "    unprivileged_groups=unprivileged_groups,\n",
    "    privileged_groups=privileged_groups,\n",
    ")\n",
    "\n",
    "print(\n",
    "    \"Train set: Difference in mean outcomes between unprivileged and privileged groups = %f\"\n",
    "    % metric_dataset_debiasing_train.mean_difference()\n",
    ")\n",
    "\n",
    "metric_dataset_debiasing_test = BinaryLabelDatasetMetric(\n",
    "    dataset_debiasing_test,\n",
    "    unprivileged_groups=unprivileged_groups,\n",
    "    privileged_groups=privileged_groups,\n",
    ")\n",
    "\n",
    "print(\n",
    "    \"Test set: Difference in mean outcomes between unprivileged and privileged groups = %f\"\n",
    "    % metric_dataset_debiasing_test.mean_difference()\n",
    ")\n",
    "\n",
    "\n",
    "display(Markdown(\"#### Plain model - without debiasing - classification metrics\"))\n",
    "print(\n",
    "    \"Test set: Classification accuracy = %f\"\n",
    "    % classified_metric_nodebiasing_test.accuracy()\n",
    ")\n",
    "TPR = classified_metric_nodebiasing_test.true_positive_rate()\n",
    "TNR = classified_metric_nodebiasing_test.true_negative_rate()\n",
    "bal_acc_nodebiasing_test = 0.5 * (TPR + TNR)\n",
    "print(\"Test set: Balanced classification accuracy = %f\" % bal_acc_nodebiasing_test)\n",
    "print(\n",
    "    \"Test set: Disparate impact = %f\"\n",
    "    % classified_metric_nodebiasing_test.disparate_impact()\n",
    ")\n",
    "print(\n",
    "    \"Test set: Equal opportunity difference = %f\"\n",
    "    % classified_metric_nodebiasing_test.equal_opportunity_difference()\n",
    ")\n",
    "print(\n",
    "    \"Test set: Average odds difference = %f\"\n",
    "    % classified_metric_nodebiasing_test.average_odds_difference()\n",
    ")\n",
    "print(\"Test set: Theil_index = %f\" % classified_metric_nodebiasing_test.theil_index())\n",
    "\n",
    "\n",
    "display(Markdown(\"#### Model - with debiasing - classification metrics\"))\n",
    "classified_metric_debiasing_test = ClassificationMetric(\n",
    "    dataset_orig_test,\n",
    "    dataset_debiasing_test,\n",
    "    unprivileged_groups=unprivileged_groups,\n",
    "    privileged_groups=privileged_groups,\n",
    ")\n",
    "print(\n",
    "    \"Test set: Classification accuracy = %f\"\n",
    "    % classified_metric_debiasing_test.accuracy()\n",
    ")\n",
    "TPR = classified_metric_debiasing_test.true_positive_rate()\n",
    "TNR = classified_metric_debiasing_test.true_negative_rate()\n",
    "bal_acc_debiasing_test = 0.5 * (TPR + TNR)\n",
    "print(\"Test set: Balanced classification accuracy = %f\" % bal_acc_debiasing_test)\n",
    "print(\n",
    "    \"Test set: Disparate impact = %f\"\n",
    "    % classified_metric_debiasing_test.disparate_impact()\n",
    ")\n",
    "print(\n",
    "    \"Test set: Equal opportunity difference = %f\"\n",
    "    % classified_metric_debiasing_test.equal_opportunity_difference()\n",
    ")\n",
    "print(\n",
    "    \"Test set: Average odds difference = %f\"\n",
    "    % classified_metric_debiasing_test.average_odds_difference()\n",
    ")\n",
    "print(\"Test set: Theil_index = %f\" % classified_metric_debiasing_test.theil_index())"
   ]
  },
  {
   "cell_type": "code",
   "execution_count": null,
   "id": "04a2fb93-e4c1-43b6-a2be-a0f13535c78b",
   "metadata": {},
   "outputs": [],
   "source": []
  }
 ],
 "metadata": {
  "kernelspec": {
   "display_name": "aif360",
   "language": "python",
   "name": "aif360"
  },
  "language_info": {
   "codemirror_mode": {
    "name": "ipython",
    "version": 3
   },
   "file_extension": ".py",
   "mimetype": "text/x-python",
   "name": "python",
   "nbconvert_exporter": "python",
   "pygments_lexer": "ipython3",
   "version": "3.10.15"
  },
  "papermill": {
   "default_parameters": {},
   "duration": 144.425385,
   "end_time": "2025-01-17T23:47:25.231083",
   "environment_variables": {},
   "exception": null,
   "input_path": "1_tune_german.ipynb",
   "output_path": "1_tune_german_rendered.ipynb",
   "parameters": {},
   "start_time": "2025-01-17T23:45:00.805698",
   "version": "2.6.0"
  }
 },
 "nbformat": 4,
 "nbformat_minor": 5
}
