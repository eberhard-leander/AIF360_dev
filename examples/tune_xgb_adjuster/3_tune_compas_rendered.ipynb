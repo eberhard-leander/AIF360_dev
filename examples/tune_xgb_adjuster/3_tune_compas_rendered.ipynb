{
 "cells": [
  {
   "cell_type": "markdown",
   "id": "fa97dfac-3d0f-4726-baef-374b898b10c1",
   "metadata": {
    "papermill": {
     "duration": 0.001864,
     "end_time": "2025-01-18T04:20:57.468234",
     "exception": false,
     "start_time": "2025-01-18T04:20:57.466370",
     "status": "completed"
    },
    "tags": []
   },
   "source": [
    "#### Tuning XGB Adjuster: Compas Data"
   ]
  },
  {
   "cell_type": "code",
   "execution_count": 1,
   "id": "d7436029-b0a8-4515-aa39-195b9a04a0de",
   "metadata": {
    "execution": {
     "iopub.execute_input": "2025-01-18T04:20:57.472255Z",
     "iopub.status.busy": "2025-01-18T04:20:57.471948Z",
     "iopub.status.idle": "2025-01-18T04:21:02.507723Z",
     "shell.execute_reply": "2025-01-18T04:21:02.507201Z"
    },
    "papermill": {
     "duration": 5.039185,
     "end_time": "2025-01-18T04:21:02.509124",
     "exception": false,
     "start_time": "2025-01-18T04:20:57.469939",
     "status": "completed"
    },
    "tags": []
   },
   "outputs": [
    {
     "name": "stderr",
     "output_type": "stream",
     "text": [
      "2025-01-18 04:20:58.313374: I tensorflow/core/util/port.cc:153] oneDNN custom operations are on. You may see slightly different numerical results due to floating-point round-off errors from different computation orders. To turn them off, set the environment variable `TF_ENABLE_ONEDNN_OPTS=0`.\n",
      "2025-01-18 04:20:58.325623: E external/local_xla/xla/stream_executor/cuda/cuda_fft.cc:477] Unable to register cuFFT factory: Attempting to register factory for plugin cuFFT when one has already been registered\n",
      "WARNING: All log messages before absl::InitializeLog() is called are written to STDERR\n",
      "E0000 00:00:1737174058.339770   51193 cuda_dnn.cc:8310] Unable to register cuDNN factory: Attempting to register factory for plugin cuDNN when one has already been registered\n",
      "E0000 00:00:1737174058.343992   51193 cuda_blas.cc:1418] Unable to register cuBLAS factory: Attempting to register factory for plugin cuBLAS when one has already been registered\n",
      "2025-01-18 04:20:58.358330: I tensorflow/core/platform/cpu_feature_guard.cc:210] This TensorFlow binary is optimized to use available CPU instructions in performance-critical operations.\n",
      "To enable the following instructions: AVX2 AVX512F AVX512_VNNI FMA, in other operations, rebuild TensorFlow with the appropriate compiler flags.\n"
     ]
    },
    {
     "name": "stderr",
     "output_type": "stream",
     "text": [
      "/home/ubuntu/miniconda3/envs/aif360/lib/python3.11/site-packages/inFairness/utils/ndcg.py:37: FutureWarning: We've integrated functorch into PyTorch. As the final step of the integration, `functorch.vmap` is deprecated as of PyTorch 2.0 and will be deleted in a future version of PyTorch >= 2.3. Please use `torch.vmap` instead; see the PyTorch 2.0 release notes and/or the `torch.func` migration guide for more details https://pytorch.org/docs/main/func.migrating.html\n",
      "  vect_normalized_discounted_cumulative_gain = vmap(\n"
     ]
    },
    {
     "name": "stderr",
     "output_type": "stream",
     "text": [
      "/home/ubuntu/miniconda3/envs/aif360/lib/python3.11/site-packages/inFairness/utils/ndcg.py:48: FutureWarning: We've integrated functorch into PyTorch. As the final step of the integration, `functorch.vmap` is deprecated as of PyTorch 2.0 and will be deleted in a future version of PyTorch >= 2.3. Please use `torch.vmap` instead; see the PyTorch 2.0 release notes and/or the `torch.func` migration guide for more details https://pytorch.org/docs/main/func.migrating.html\n",
      "  monte_carlo_vect_ndcg = vmap(vect_normalized_discounted_cumulative_gain, in_dims=(0,))\n",
      "/home/ubuntu/miniconda3/envs/aif360/lib/python3.11/site-packages/xgboost/core.py:265: FutureWarning: Your system has an old version of glibc (< 2.28). We will stop supporting Linux distros with glibc older than 2.28 after **May 31, 2025**. Please upgrade to a recent Linux distro (with glibc 2.28+) to use future versions of XGBoost.\n",
      "Note: You have installed the 'manylinux2014' variant of XGBoost. Certain features such as GPU algorithms or federated learning are not available. To use these features, please upgrade to a recent Linux distro with glibc 2.28+, and install the 'manylinux_2_28' variant.\n",
      "  warnings.warn(\n"
     ]
    }
   ],
   "source": [
    "from aif360.algorithms.inprocessing.xgb_fairness_adjuster import XGBFairnessAdjuster\n",
    "from aif360.algorithms.preprocessing.optim_preproc_helpers.data_preproc_functions import (\n",
    "    load_preproc_data_compas,\n",
    ")"
   ]
  },
  {
   "cell_type": "markdown",
   "id": "1acdb1c9-f05d-41ee-ac3d-44e1fef2be6d",
   "metadata": {
    "papermill": {
     "duration": 0.002434,
     "end_time": "2025-01-18T04:21:02.514412",
     "exception": false,
     "start_time": "2025-01-18T04:21:02.511978",
     "status": "completed"
    },
    "tags": []
   },
   "source": [
    "#### Load dataset and set options"
   ]
  },
  {
   "cell_type": "code",
   "execution_count": 2,
   "id": "9c0a6d05-349b-4fd2-96c6-f2dc76751313",
   "metadata": {
    "execution": {
     "iopub.execute_input": "2025-01-18T04:21:02.520649Z",
     "iopub.status.busy": "2025-01-18T04:21:02.520068Z",
     "iopub.status.idle": "2025-01-18T04:21:02.640570Z",
     "shell.execute_reply": "2025-01-18T04:21:02.640085Z"
    },
    "papermill": {
     "duration": 0.125412,
     "end_time": "2025-01-18T04:21:02.641891",
     "exception": false,
     "start_time": "2025-01-18T04:21:02.516479",
     "status": "completed"
    },
    "tags": []
   },
   "outputs": [
    {
     "name": "stderr",
     "output_type": "stream",
     "text": [
      "/home/ubuntu/AIF360_dev/aif360/algorithms/preprocessing/optim_preproc_helpers/data_preproc_functions.py:163: FutureWarning: Downcasting behavior in `replace` is deprecated and will be removed in a future version. To retain the old behavior, explicitly call `result.infer_objects(copy=False)`. To opt-in to the future behavior, set `pd.set_option('future.no_silent_downcasting', True)`\n",
      "  dfcutQ['sex'] = dfcutQ['sex'].replace({'Female': 1.0, 'Male': 0.0})\n"
     ]
    }
   ],
   "source": [
    "privileged_groups = [{\"sex\": 1}]\n",
    "unprivileged_groups = [{\"sex\": 0}]\n",
    "dataset_orig = load_preproc_data_compas([\"sex\", \"race\"])\n",
    "dataset_orig_train, dataset_orig_test = dataset_orig.split(\n",
    "    [0.9], shuffle=True, seed=1234\n",
    ")"
   ]
  },
  {
   "cell_type": "markdown",
   "id": "30fd9280-4a30-40c9-99a9-a4941abe4514",
   "metadata": {
    "papermill": {
     "duration": 0.002592,
     "end_time": "2025-01-18T04:21:02.647466",
     "exception": false,
     "start_time": "2025-01-18T04:21:02.644874",
     "status": "completed"
    },
    "tags": []
   },
   "source": [
    "### Learn plan classifier without debiasing"
   ]
  },
  {
   "cell_type": "code",
   "execution_count": 3,
   "id": "7202796d-e14d-4388-993a-e2586eb1e2e2",
   "metadata": {
    "execution": {
     "iopub.execute_input": "2025-01-18T04:21:02.653555Z",
     "iopub.status.busy": "2025-01-18T04:21:02.653156Z",
     "iopub.status.idle": "2025-01-18T04:21:02.655805Z",
     "shell.execute_reply": "2025-01-18T04:21:02.655388Z"
    },
    "papermill": {
     "duration": 0.007005,
     "end_time": "2025-01-18T04:21:02.657036",
     "exception": false,
     "start_time": "2025-01-18T04:21:02.650031",
     "status": "completed"
    },
    "tags": []
   },
   "outputs": [],
   "source": [
    "base_settings = {\n",
    "    \"time_budget\": 60,  # total running time in seconds\n",
    "    \"metric\": \"log_loss\",\n",
    "}"
   ]
  },
  {
   "cell_type": "code",
   "execution_count": 4,
   "id": "22a81fb7-1bf3-4a2d-a5ca-2af373e486b2",
   "metadata": {
    "execution": {
     "iopub.execute_input": "2025-01-18T04:21:02.662959Z",
     "iopub.status.busy": "2025-01-18T04:21:02.662661Z",
     "iopub.status.idle": "2025-01-18T04:21:02.667248Z",
     "shell.execute_reply": "2025-01-18T04:21:02.666848Z"
    },
    "papermill": {
     "duration": 0.00871,
     "end_time": "2025-01-18T04:21:02.668349",
     "exception": false,
     "start_time": "2025-01-18T04:21:02.659639",
     "status": "completed"
    },
    "tags": []
   },
   "outputs": [],
   "source": [
    "plain_model = XGBFairnessAdjuster(\n",
    "    unprivileged_groups=unprivileged_groups,\n",
    "    privileged_groups=privileged_groups,\n",
    "    seed=1234,\n",
    "    debias=False,\n",
    "    tune_hyperparameters_base=True,\n",
    "    tuning_settings_base=base_settings,\n",
    "    tune_hyperparameters_adjuster=False,\n",
    ")"
   ]
  },
  {
   "cell_type": "code",
   "execution_count": 5,
   "id": "191ec040-0ee7-4ce5-a301-2e56b90a1dca",
   "metadata": {
    "execution": {
     "iopub.execute_input": "2025-01-18T04:21:02.674277Z",
     "iopub.status.busy": "2025-01-18T04:21:02.673980Z",
     "iopub.status.idle": "2025-01-18T04:22:02.681677Z",
     "shell.execute_reply": "2025-01-18T04:22:02.681038Z"
    },
    "papermill": {
     "duration": 60.013711,
     "end_time": "2025-01-18T04:22:02.684620",
     "exception": false,
     "start_time": "2025-01-18T04:21:02.670909",
     "status": "completed"
    },
    "scrolled": true,
    "tags": []
   },
   "outputs": [
    {
     "data": {
      "text/plain": [
       "<aif360.algorithms.inprocessing.xgb_fairness_adjuster.XGBFairnessAdjuster at 0x7f29fd7efc90>"
      ]
     },
     "execution_count": 5,
     "metadata": {},
     "output_type": "execute_result"
    }
   ],
   "source": [
    "plain_model.fit(dataset=dataset_orig_train, test_dataset=dataset_orig_test)"
   ]
  },
  {
   "cell_type": "markdown",
   "id": "0b671791-7d37-4acb-a20b-003bb651e087",
   "metadata": {
    "papermill": {
     "duration": 0.002591,
     "end_time": "2025-01-18T04:22:02.690202",
     "exception": false,
     "start_time": "2025-01-18T04:22:02.687611",
     "status": "completed"
    },
    "tags": []
   },
   "source": [
    "### Apply in-processing algorithm based on adversarial learning"
   ]
  },
  {
   "cell_type": "code",
   "execution_count": 6,
   "id": "99d69bda-3d8c-440e-a895-1db7463ff7e8",
   "metadata": {
    "execution": {
     "iopub.execute_input": "2025-01-18T04:22:02.696119Z",
     "iopub.status.busy": "2025-01-18T04:22:02.695895Z",
     "iopub.status.idle": "2025-01-18T04:22:02.699251Z",
     "shell.execute_reply": "2025-01-18T04:22:02.698842Z"
    },
    "papermill": {
     "duration": 0.007657,
     "end_time": "2025-01-18T04:22:02.700462",
     "exception": false,
     "start_time": "2025-01-18T04:22:02.692805",
     "status": "completed"
    },
    "tags": []
   },
   "outputs": [],
   "source": [
    "debiased_model = XGBFairnessAdjuster(\n",
    "    unprivileged_groups=unprivileged_groups,\n",
    "    privileged_groups=privileged_groups,\n",
    "    seed=1234,\n",
    "    debias=True,\n",
    "    adversary_loss_weight=1.0,\n",
    "    tune_hyperparameters_base=True,\n",
    "    tuning_settings_base=base_settings,\n",
    "    tune_hyperparameters_adjuster=False,\n",
    "    debug=False,\n",
    "    task=\"classification\",\n",
    ")"
   ]
  },
  {
   "cell_type": "code",
   "execution_count": 7,
   "id": "8ae48e73-2431-4ad5-bdeb-0d086c3f6dd9",
   "metadata": {
    "execution": {
     "iopub.execute_input": "2025-01-18T04:22:02.706546Z",
     "iopub.status.busy": "2025-01-18T04:22:02.706213Z",
     "iopub.status.idle": "2025-01-18T04:23:02.759201Z",
     "shell.execute_reply": "2025-01-18T04:23:02.758522Z"
    },
    "papermill": {
     "duration": 60.058859,
     "end_time": "2025-01-18T04:23:02.761881",
     "exception": false,
     "start_time": "2025-01-18T04:22:02.703022",
     "status": "completed"
    },
    "scrolled": true,
    "tags": []
   },
   "outputs": [
    {
     "data": {
      "text/plain": [
       "<aif360.algorithms.inprocessing.xgb_fairness_adjuster.XGBFairnessAdjuster at 0x7f29ed087ad0>"
      ]
     },
     "execution_count": 7,
     "metadata": {},
     "output_type": "execute_result"
    }
   ],
   "source": [
    "debiased_model.fit(dataset=dataset_orig_train, test_dataset=dataset_orig_test)"
   ]
  },
  {
   "cell_type": "code",
   "execution_count": 8,
   "id": "e7a27fc5-4015-480d-911c-aded11cd377e",
   "metadata": {
    "execution": {
     "iopub.execute_input": "2025-01-18T04:23:02.767209Z",
     "iopub.status.busy": "2025-01-18T04:23:02.767006Z",
     "iopub.status.idle": "2025-01-18T04:23:02.851875Z",
     "shell.execute_reply": "2025-01-18T04:23:02.851546Z"
    },
    "papermill": {
     "duration": 0.088865,
     "end_time": "2025-01-18T04:23:02.852928",
     "exception": false,
     "start_time": "2025-01-18T04:23:02.764063",
     "status": "completed"
    },
    "tags": []
   },
   "outputs": [
    {
     "data": {
      "image/png": "[encoded data removed]",
      "text/plain": [
       "<Figure size 640x480 with 1 Axes>"
      ]
     },
     "metadata": {},
     "output_type": "display_data"
    }
   ],
   "source": [
    "import matplotlib.pyplot as plt\n",
    "\n",
    "bins = 20\n",
    "probs_ad = debiased_model.predict_proba(dataset_orig_test)\n",
    "base_probs = plain_model.predict_proba(dataset_orig_test)\n",
    "# plt.hist(adjusted_probs, bins=bins, histtype=\"step\", label=\"Fairness Adjuster\")\n",
    "plt.hist(probs_ad, bins=bins, histtype=\"step\", label=\"Debiased\")\n",
    "plt.hist(base_probs, bins=bins, histtype=\"step\", label=\"Not Debiased\")\n",
    "plt.legend()\n",
    "plt.show()"
   ]
  },
  {
   "cell_type": "code",
   "execution_count": 9,
   "id": "fe4e9823-82f6-465a-9de8-215f9112834e",
   "metadata": {
    "execution": {
     "iopub.execute_input": "2025-01-18T04:23:02.859171Z",
     "iopub.status.busy": "2025-01-18T04:23:02.859000Z",
     "iopub.status.idle": "2025-01-18T04:23:02.861962Z",
     "shell.execute_reply": "2025-01-18T04:23:02.861607Z"
    },
    "papermill": {
     "duration": 0.00737,
     "end_time": "2025-01-18T04:23:02.863077",
     "exception": false,
     "start_time": "2025-01-18T04:23:02.855707",
     "status": "completed"
    },
    "tags": []
   },
   "outputs": [
    {
     "data": {
      "text/plain": [
       "{'n_estimators': 6,\n",
       " 'max_leaves': 7,\n",
       " 'min_child_weight': 128.0,\n",
       " 'learning_rate': np.float64(0.5231544531670472),\n",
       " 'subsample': np.float64(0.952896117765248),\n",
       " 'colsample_bylevel': np.float64(0.637320154248828),\n",
       " 'colsample_bytree': 1.0,\n",
       " 'reg_alpha': np.float64(0.0048548536666718645),\n",
       " 'reg_lambda': np.float64(6.384975903947942)}"
      ]
     },
     "execution_count": 9,
     "metadata": {},
     "output_type": "execute_result"
    }
   ],
   "source": [
    "plain_model.base_estimator.best_config"
   ]
  },
  {
   "cell_type": "code",
   "execution_count": 10,
   "id": "34ae47c3-61eb-47bd-a4a6-994a5cd2518b",
   "metadata": {
    "execution": {
     "iopub.execute_input": "2025-01-18T04:23:02.869164Z",
     "iopub.status.busy": "2025-01-18T04:23:02.868990Z",
     "iopub.status.idle": "2025-01-18T04:23:02.873466Z",
     "shell.execute_reply": "2025-01-18T04:23:02.873168Z"
    },
    "papermill": {
     "duration": 0.008427,
     "end_time": "2025-01-18T04:23:02.874339",
     "exception": false,
     "start_time": "2025-01-18T04:23:02.865912",
     "status": "completed"
    },
    "tags": []
   },
   "outputs": [
    {
     "data": {
      "text/plain": [
       "{'n_estimators': 6,\n",
       " 'max_leaves': 7,\n",
       " 'min_child_weight': 128.0,\n",
       " 'learning_rate': np.float64(0.5231544531670472),\n",
       " 'subsample': np.float64(0.952896117765248),\n",
       " 'colsample_bylevel': np.float64(0.637320154248828),\n",
       " 'colsample_bytree': 1.0,\n",
       " 'reg_alpha': np.float64(0.0048548536666718645),\n",
       " 'reg_lambda': np.float64(6.384975903947942)}"
      ]
     },
     "execution_count": 10,
     "metadata": {},
     "output_type": "execute_result"
    }
   ],
   "source": [
    "debiased_model.base_estimator.best_config"
   ]
  }
 ],
 "metadata": {
  "kernelspec": {
   "display_name": "aif360",
   "language": "python",
   "name": "aif360"
  },
  "language_info": {
   "codemirror_mode": {
    "name": "ipython",
    "version": 3
   },
   "file_extension": ".py",
   "mimetype": "text/x-python",
   "name": "python",
   "nbconvert_exporter": "python",
   "pygments_lexer": "ipython3",
   "version": "3.11.10"
  },
  "papermill": {
   "default_parameters": {},
   "duration": 127.29347,
   "end_time": "2025-01-18T04:23:04.093845",
   "environment_variables": {},
   "exception": null,
   "input_path": "3_tune_compas.ipynb",
   "output_path": "3_tune_compas_rendered.ipynb",
   "parameters": {},
   "start_time": "2025-01-18T04:20:56.800375",
   "version": "2.6.0"
  }
 },
 "nbformat": 4,
 "nbformat_minor": 5
}