{
 "cells": [
  {
   "cell_type": "markdown",
   "id": "4c1ceb52-54f2-4ec2-84b6-0f957a821a61",
   "metadata": {
    "papermill": {
     "duration": 0.001753,
     "end_time": "2025-01-17T23:45:01.472609",
     "exception": false,
     "start_time": "2025-01-17T23:45:01.470856",
     "status": "completed"
    },
    "tags": []
   },
   "source": [
    "#### Tuning XGB Adjuster: German Data"
   ]
  },
  {
   "cell_type": "code",
   "execution_count": 1,
   "id": "88fe6d28-b025-4030-98ed-f2ea77cff6da",
   "metadata": {
    "execution": {
     "iopub.execute_input": "2025-01-17T23:45:01.476231Z",
     "iopub.status.busy": "2025-01-17T23:45:01.476006Z",
     "iopub.status.idle": "2025-01-17T23:45:05.698173Z",
     "shell.execute_reply": "2025-01-17T23:45:05.697770Z"
    },
    "papermill": {
     "duration": 4.224895,
     "end_time": "2025-01-17T23:45:05.699089",
     "exception": false,
     "start_time": "2025-01-17T23:45:01.474194",
     "status": "completed"
    },
    "tags": []
   },
   "outputs": [
    {
     "name": "stderr",
     "output_type": "stream",
     "text": [
      "2025-01-17 23:45:02.204454: I tensorflow/core/util/port.cc:153] oneDNN custom operations are on. You may see slightly different numerical results due to floating-point round-off errors from different computation orders. To turn them off, set the environment variable `TF_ENABLE_ONEDNN_OPTS=0`.\n",
      "2025-01-17 23:45:02.216472: E external/local_xla/xla/stream_executor/cuda/cuda_fft.cc:477] Unable to register cuFFT factory: Attempting to register factory for plugin cuFFT when one has already been registered\n",
      "WARNING: All log messages before absl::InitializeLog() is called are written to STDERR\n",
      "E0000 00:00:1737157502.230235   25816 cuda_dnn.cc:8310] Unable to register cuDNN factory: Attempting to register factory for plugin cuDNN when one has already been registered\n",
      "E0000 00:00:1737157502.234374   25816 cuda_blas.cc:1418] Unable to register cuBLAS factory: Attempting to register factory for plugin cuBLAS when one has already been registered\n",
      "2025-01-17 23:45:02.248510: I tensorflow/core/platform/cpu_feature_guard.cc:210] This TensorFlow binary is optimized to use available CPU instructions in performance-critical operations.\n",
      "To enable the following instructions: AVX2 AVX512F AVX512_VNNI FMA, in other operations, rebuild TensorFlow with the appropriate compiler flags.\n"
     ]
    },
    {
     "name": "stderr",
     "output_type": "stream",
     "text": [
      "/home/ubuntu/miniconda3/envs/aif360/lib/python3.11/site-packages/inFairness/utils/ndcg.py:37: FutureWarning: We've integrated functorch into PyTorch. As the final step of the integration, `functorch.vmap` is deprecated as of PyTorch 2.0 and will be deleted in a future version of PyTorch >= 2.3. Please use `torch.vmap` instead; see the PyTorch 2.0 release notes and/or the `torch.func` migration guide for more details https://pytorch.org/docs/main/func.migrating.html\n",
      "  vect_normalized_discounted_cumulative_gain = vmap(\n"
     ]
    },
    {
     "name": "stderr",
     "output_type": "stream",
     "text": [
      "/home/ubuntu/miniconda3/envs/aif360/lib/python3.11/site-packages/inFairness/utils/ndcg.py:48: FutureWarning: We've integrated functorch into PyTorch. As the final step of the integration, `functorch.vmap` is deprecated as of PyTorch 2.0 and will be deleted in a future version of PyTorch >= 2.3. Please use `torch.vmap` instead; see the PyTorch 2.0 release notes and/or the `torch.func` migration guide for more details https://pytorch.org/docs/main/func.migrating.html\n",
      "  monte_carlo_vect_ndcg = vmap(vect_normalized_discounted_cumulative_gain, in_dims=(0,))\n",
      "/home/ubuntu/miniconda3/envs/aif360/lib/python3.11/site-packages/xgboost/core.py:265: FutureWarning: Your system has an old version of glibc (< 2.28). We will stop supporting Linux distros with glibc older than 2.28 after **May 31, 2025**. Please upgrade to a recent Linux distro (with glibc 2.28+) to use future versions of XGBoost.\n",
      "Note: You have installed the 'manylinux2014' variant of XGBoost. Certain features such as GPU algorithms or federated learning are not available. To use these features, please upgrade to a recent Linux distro with glibc 2.28+, and install the 'manylinux_2_28' variant.\n",
      "  warnings.warn(\n"
     ]
    }
   ],
   "source": [
    "from aif360.algorithms.inprocessing.xgb_fairness_adjuster import XGBFairnessAdjuster\n",
    "from aif360.algorithms.preprocessing.optim_preproc_helpers.data_preproc_functions import (\n",
    "    load_preproc_data_german,\n",
    ")"
   ]
  },
  {
   "cell_type": "markdown",
   "id": "97f4683b-2336-4563-a90e-ee7dae7b6fe2",
   "metadata": {
    "papermill": {
     "duration": 0.001571,
     "end_time": "2025-01-17T23:45:05.702541",
     "exception": false,
     "start_time": "2025-01-17T23:45:05.700970",
     "status": "completed"
    },
    "tags": []
   },
   "source": [
    "#### Load dataset and set options"
   ]
  },
  {
   "cell_type": "code",
   "execution_count": 2,
   "id": "a4fe68c4-6f1b-455a-850d-507c53718838",
   "metadata": {
    "execution": {
     "iopub.execute_input": "2025-01-17T23:45:05.707416Z",
     "iopub.status.busy": "2025-01-17T23:45:05.706929Z",
     "iopub.status.idle": "2025-01-17T23:45:05.722996Z",
     "shell.execute_reply": "2025-01-17T23:45:05.722652Z"
    },
    "papermill": {
     "duration": 0.01971,
     "end_time": "2025-01-17T23:45:05.723817",
     "exception": false,
     "start_time": "2025-01-17T23:45:05.704107",
     "status": "completed"
    },
    "tags": []
   },
   "outputs": [
    {
     "name": "stderr",
     "output_type": "stream",
     "text": [
      "/home/ubuntu/AIF360_dev/aif360/algorithms/preprocessing/optim_preproc_helpers/data_preproc_functions.py:261: FutureWarning: Downcasting behavior in `replace` is deprecated and will be removed in a future version. To retain the old behavior, explicitly call `result.infer_objects(copy=False)`. To opt-in to the future behavior, set `pd.set_option('future.no_silent_downcasting', True)`\n",
      "  df['sex'] = df['personal_status'].replace(status_map)\n"
     ]
    }
   ],
   "source": [
    "dataset_orig = load_preproc_data_german([\"age\", \"sex\"])\n",
    "dataset_orig_train, dataset_orig_test = dataset_orig.split(\n",
    "    [0.9], shuffle=True, seed=1234\n",
    ")\n",
    "privileged_groups = [{\"age\": 1}]\n",
    "unprivileged_groups = [{\"age\": 0}]"
   ]
  },
  {
   "cell_type": "markdown",
   "id": "2a16b86d-e757-437c-9a81-7d19b946227e",
   "metadata": {
    "papermill": {
     "duration": 0.00155,
     "end_time": "2025-01-17T23:45:05.726992",
     "exception": false,
     "start_time": "2025-01-17T23:45:05.725442",
     "status": "completed"
    },
    "tags": []
   },
   "source": [
    "### Learn plan classifier without debiasing"
   ]
  },
  {
   "cell_type": "code",
   "execution_count": 3,
   "id": "b67cf691",
   "metadata": {
    "execution": {
     "iopub.execute_input": "2025-01-17T23:45:05.730790Z",
     "iopub.status.busy": "2025-01-17T23:45:05.730556Z",
     "iopub.status.idle": "2025-01-17T23:45:05.732613Z",
     "shell.execute_reply": "2025-01-17T23:45:05.732297Z"
    },
    "papermill": {
     "duration": 0.004845,
     "end_time": "2025-01-17T23:45:05.733417",
     "exception": false,
     "start_time": "2025-01-17T23:45:05.728572",
     "status": "completed"
    },
    "tags": []
   },
   "outputs": [],
   "source": [
    "base_settings = {\n",
    "    \"time_budget\": 6000,  # total running time in seconds\n",
    "    \"metric\": \"log_loss\",\n",
    "}"
   ]
  },
  {
   "cell_type": "code",
   "execution_count": 4,
   "id": "e631abf2-4478-44af-8d3c-1b295446e342",
   "metadata": {
    "execution": {
     "iopub.execute_input": "2025-01-17T23:45:05.737309Z",
     "iopub.status.busy": "2025-01-17T23:45:05.737102Z",
     "iopub.status.idle": "2025-01-17T23:45:05.743612Z",
     "shell.execute_reply": "2025-01-17T23:45:05.743284Z"
    },
    "papermill": {
     "duration": 0.009344,
     "end_time": "2025-01-17T23:45:05.744436",
     "exception": false,
     "start_time": "2025-01-17T23:45:05.735092",
     "status": "completed"
    },
    "tags": []
   },
   "outputs": [],
   "source": [
    "plain_model = XGBFairnessAdjuster(\n",
    "    unprivileged_groups=unprivileged_groups,\n",
    "    privileged_groups=privileged_groups,\n",
    "    seed=1234,\n",
    "    debias=False,\n",
    "    tune_hyperparameters_base=True,\n",
    "    tuning_settings_base=base_settings,\n",
    "    tune_hyperparameters_adjuster=False,\n",
    ")"
   ]
  },
  {
   "cell_type": "code",
   "execution_count": 5,
   "id": "4e77a704-19c3-4371-affb-9733bf7f0278",
   "metadata": {
    "execution": {
     "iopub.execute_input": "2025-01-17T23:45:05.748279Z",
     "iopub.status.busy": "2025-01-17T23:45:05.748061Z",
     "iopub.status.idle": "2025-01-17T23:46:15.326398Z",
     "shell.execute_reply": "2025-01-17T23:46:15.325868Z"
    },
    "papermill": {
     "duration": 69.583303,
     "end_time": "2025-01-17T23:46:15.329379",
     "exception": false,
     "start_time": "2025-01-17T23:45:05.746076",
     "status": "completed"
    },
    "scrolled": true,
    "tags": []
   },
   "outputs": [
    {
     "data": {
      "text/plain": [
       "<aif360.algorithms.inprocessing.xgb_fairness_adjuster.XGBFairnessAdjuster at 0x7f7da81c17d0>"
      ]
     },
     "execution_count": 5,
     "metadata": {},
     "output_type": "execute_result"
    }
   ],
   "source": [
    "plain_model.fit(dataset=dataset_orig_train, test_dataset=dataset_orig_test)"
   ]
  },
  {
   "cell_type": "markdown",
   "id": "a0fc8347-736a-4e96-8cd3-c24d718cbdcd",
   "metadata": {
    "papermill": {
     "duration": 0.00178,
     "end_time": "2025-01-17T23:46:15.333214",
     "exception": false,
     "start_time": "2025-01-17T23:46:15.331434",
     "status": "completed"
    },
    "tags": []
   },
   "source": [
    "### Apply in-processing algorithm based on adversarial learning"
   ]
  },
  {
   "cell_type": "code",
   "execution_count": 6,
   "id": "a58c98dd-d323-4db3-98b7-2a94940721e4",
   "metadata": {
    "execution": {
     "iopub.execute_input": "2025-01-17T23:46:15.337526Z",
     "iopub.status.busy": "2025-01-17T23:46:15.337315Z",
     "iopub.status.idle": "2025-01-17T23:46:15.339977Z",
     "shell.execute_reply": "2025-01-17T23:46:15.339599Z"
    },
    "papermill": {
     "duration": 0.005993,
     "end_time": "2025-01-17T23:46:15.340962",
     "exception": false,
     "start_time": "2025-01-17T23:46:15.334969",
     "status": "completed"
    },
    "tags": []
   },
   "outputs": [],
   "source": [
    "debiased_model = XGBFairnessAdjuster(\n",
    "    unprivileged_groups=unprivileged_groups,\n",
    "    privileged_groups=privileged_groups,\n",
    "    seed=1234,\n",
    "    debias=True,\n",
    "    adversary_loss_weight=1.0,\n",
    "    tune_hyperparameters_base=True,\n",
    "    tuning_settings_base=base_settings,\n",
    "    tune_hyperparameters_adjuster=False,\n",
    "    debug=False,\n",
    "    task=\"classification\",\n",
    ")"
   ]
  },
  {
   "cell_type": "code",
   "execution_count": null,
   "id": "4b8f420b-15dc-4593-a066-10f732014cad",
   "metadata": {
    "papermill": {
     "duration": null,
     "end_time": null,
     "exception": false,
     "start_time": "2025-01-17T23:46:15.342740",
     "status": "running"
    },
    "scrolled": true,
    "tags": []
   },
   "outputs": [],
   "source": [
    "debiased_model.fit(dataset=dataset_orig_train, test_dataset=dataset_orig_test)"
   ]
  },
  {
   "cell_type": "code",
   "execution_count": null,
   "id": "4baecde1-b527-4377-bd75-db6320687997",
   "metadata": {
    "papermill": {
     "duration": null,
     "end_time": null,
     "exception": null,
     "start_time": null,
     "status": "pending"
    },
    "tags": []
   },
   "outputs": [],
   "source": [
    "import matplotlib.pyplot as plt\n",
    "\n",
    "bins = 20\n",
    "probs_ad = debiased_model.predict_proba(dataset_orig_test)\n",
    "base_probs = plain_model.predict_proba(dataset_orig_test)\n",
    "# plt.hist(adjusted_probs, bins=bins, histtype=\"step\", label=\"Fairness Adjuster\")\n",
    "plt.hist(probs_ad, bins=bins, histtype=\"step\", label=\"Debiased\")\n",
    "plt.hist(base_probs, bins=bins, histtype=\"step\", label=\"Not Debiased\")\n",
    "plt.legend()\n",
    "plt.show()"
   ]
  },
  {
   "cell_type": "code",
   "execution_count": null,
   "id": "2d8b40de-f518-4712-9db7-3a08af91431d",
   "metadata": {
    "papermill": {
     "duration": null,
     "end_time": null,
     "exception": null,
     "start_time": null,
     "status": "pending"
    },
    "tags": []
   },
   "outputs": [],
   "source": [
    "plain_model.base_estimator.best_config"
   ]
  },
  {
   "cell_type": "code",
   "execution_count": null,
   "id": "a829f604-e4b5-4cd3-bb39-e59d2b88d472",
   "metadata": {
    "papermill": {
     "duration": null,
     "end_time": null,
     "exception": null,
     "start_time": null,
     "status": "pending"
    },
    "tags": []
   },
   "outputs": [],
   "source": [
    "debiased_model.base_estimator.best_config"
   ]
  }
 ],
 "metadata": {
  "kernelspec": {
   "display_name": "aif360",
   "language": "python",
   "name": "aif360"
  },
  "language_info": {
   "codemirror_mode": {
    "name": "ipython",
    "version": 3
   },
   "file_extension": ".py",
   "mimetype": "text/x-python",
   "name": "python",
   "nbconvert_exporter": "python",
   "pygments_lexer": "ipython3",
   "version": "3.11.10"
  },
  "papermill": {
   "default_parameters": {},
   "duration": null,
   "end_time": null,
   "environment_variables": {},
   "exception": null,
   "input_path": "1_tune_german.ipynb",
   "output_path": "1_tune_german_rendered.ipynb",
   "parameters": {},
   "start_time": "2025-01-17T23:45:00.805698",
   "version": "2.6.0"
  }
 },
 "nbformat": 4,
 "nbformat_minor": 5
}