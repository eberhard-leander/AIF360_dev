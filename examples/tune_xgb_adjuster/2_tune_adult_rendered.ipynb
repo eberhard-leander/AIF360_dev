{
 "cells": [
  {
   "cell_type": "markdown",
   "id": "bca3468d-c9ac-4636-84a4-600b70d47d67",
   "metadata": {
    "papermill": {
     "duration": 0.001704,
     "end_time": "2025-01-18T04:20:46.422503",
     "exception": false,
     "start_time": "2025-01-18T04:20:46.420799",
     "status": "completed"
    },
    "tags": []
   },
   "source": [
    "#### Tuning XGB Adjuster: Adult Data"
   ]
  },
  {
   "cell_type": "code",
   "execution_count": 1,
   "id": "7553b492-a00d-4e2a-8703-5855e98e7555",
   "metadata": {
    "execution": {
     "iopub.execute_input": "2025-01-18T04:20:46.426139Z",
     "iopub.status.busy": "2025-01-18T04:20:46.425923Z",
     "iopub.status.idle": "2025-01-18T04:20:50.660673Z",
     "shell.execute_reply": "2025-01-18T04:20:50.660270Z"
    },
    "papermill": {
     "duration": 4.237524,
     "end_time": "2025-01-18T04:20:50.661606",
     "exception": false,
     "start_time": "2025-01-18T04:20:46.424082",
     "status": "completed"
    },
    "tags": []
   },
   "outputs": [
    {
     "name": "stderr",
     "output_type": "stream",
     "text": [
      "2025-01-18 04:20:47.160384: I tensorflow/core/util/port.cc:153] oneDNN custom operations are on. You may see slightly different numerical results due to floating-point round-off errors from different computation orders. To turn them off, set the environment variable `TF_ENABLE_ONEDNN_OPTS=0`.\n",
      "2025-01-18 04:20:47.172482: E external/local_xla/xla/stream_executor/cuda/cuda_fft.cc:477] Unable to register cuFFT factory: Attempting to register factory for plugin cuFFT when one has already been registered\n",
      "WARNING: All log messages before absl::InitializeLog() is called are written to STDERR\n",
      "E0000 00:00:1737174047.186336   50946 cuda_dnn.cc:8310] Unable to register cuDNN factory: Attempting to register factory for plugin cuDNN when one has already been registered\n",
      "E0000 00:00:1737174047.190495   50946 cuda_blas.cc:1418] Unable to register cuBLAS factory: Attempting to register factory for plugin cuBLAS when one has already been registered\n",
      "2025-01-18 04:20:47.204717: I tensorflow/core/platform/cpu_feature_guard.cc:210] This TensorFlow binary is optimized to use available CPU instructions in performance-critical operations.\n",
      "To enable the following instructions: AVX2 AVX512F AVX512_VNNI FMA, in other operations, rebuild TensorFlow with the appropriate compiler flags.\n"
     ]
    },
    {
     "name": "stderr",
     "output_type": "stream",
     "text": [
      "/home/ubuntu/miniconda3/envs/aif360/lib/python3.11/site-packages/inFairness/utils/ndcg.py:37: FutureWarning: We've integrated functorch into PyTorch. As the final step of the integration, `functorch.vmap` is deprecated as of PyTorch 2.0 and will be deleted in a future version of PyTorch >= 2.3. Please use `torch.vmap` instead; see the PyTorch 2.0 release notes and/or the `torch.func` migration guide for more details https://pytorch.org/docs/main/func.migrating.html\n",
      "  vect_normalized_discounted_cumulative_gain = vmap(\n"
     ]
    },
    {
     "name": "stderr",
     "output_type": "stream",
     "text": [
      "/home/ubuntu/miniconda3/envs/aif360/lib/python3.11/site-packages/inFairness/utils/ndcg.py:48: FutureWarning: We've integrated functorch into PyTorch. As the final step of the integration, `functorch.vmap` is deprecated as of PyTorch 2.0 and will be deleted in a future version of PyTorch >= 2.3. Please use `torch.vmap` instead; see the PyTorch 2.0 release notes and/or the `torch.func` migration guide for more details https://pytorch.org/docs/main/func.migrating.html\n",
      "  monte_carlo_vect_ndcg = vmap(vect_normalized_discounted_cumulative_gain, in_dims=(0,))\n",
      "/home/ubuntu/miniconda3/envs/aif360/lib/python3.11/site-packages/xgboost/core.py:265: FutureWarning: Your system has an old version of glibc (< 2.28). We will stop supporting Linux distros with glibc older than 2.28 after **May 31, 2025**. Please upgrade to a recent Linux distro (with glibc 2.28+) to use future versions of XGBoost.\n",
      "Note: You have installed the 'manylinux2014' variant of XGBoost. Certain features such as GPU algorithms or federated learning are not available. To use these features, please upgrade to a recent Linux distro with glibc 2.28+, and install the 'manylinux_2_28' variant.\n",
      "  warnings.warn(\n"
     ]
    }
   ],
   "source": [
    "from aif360.algorithms.inprocessing.xgb_fairness_adjuster import XGBFairnessAdjuster\n",
    "from aif360.algorithms.preprocessing.optim_preproc_helpers.data_preproc_functions import (\n",
    "    load_preproc_data_adult,\n",
    ")"
   ]
  },
  {
   "cell_type": "markdown",
   "id": "970572f7-842c-43fd-8028-fc2287aa7f51",
   "metadata": {
    "papermill": {
     "duration": 0.001671,
     "end_time": "2025-01-18T04:20:50.665218",
     "exception": false,
     "start_time": "2025-01-18T04:20:50.663547",
     "status": "completed"
    },
    "tags": []
   },
   "source": [
    "#### Load dataset and set options"
   ]
  },
  {
   "cell_type": "code",
   "execution_count": 2,
   "id": "517b3488-94b4-489c-9e46-686bddd4f4fe",
   "metadata": {
    "execution": {
     "iopub.execute_input": "2025-01-18T04:20:50.670026Z",
     "iopub.status.busy": "2025-01-18T04:20:50.669568Z",
     "iopub.status.idle": "2025-01-18T04:20:50.888915Z",
     "shell.execute_reply": "2025-01-18T04:20:50.888523Z"
    },
    "papermill": {
     "duration": 0.223123,
     "end_time": "2025-01-18T04:20:50.889902",
     "exception": false,
     "start_time": "2025-01-18T04:20:50.666779",
     "status": "completed"
    },
    "tags": []
   },
   "outputs": [
    {
     "name": "stderr",
     "output_type": "stream",
     "text": [
      "/home/ubuntu/AIF360_dev/aif360/algorithms/preprocessing/optim_preproc_helpers/data_preproc_functions.py:50: FutureWarning: Downcasting behavior in `replace` is deprecated and will be removed in a future version. To retain the old behavior, explicitly call `result.infer_objects(copy=False)`. To opt-in to the future behavior, set `pd.set_option('future.no_silent_downcasting', True)`\n",
      "  df['sex'] = df['sex'].replace({'Female': 0.0, 'Male': 1.0})\n"
     ]
    }
   ],
   "source": [
    "# Get the dataset and split into train and test\n",
    "dataset_orig = load_preproc_data_adult(protected_attributes=[\"sex\", \"race\"])\n",
    "dataset_orig_train, dataset_orig_test = dataset_orig.split(\n",
    "    [0.9], shuffle=True, seed=1234\n",
    ")\n",
    "privileged_groups = [{\"sex\": 1}]\n",
    "unprivileged_groups = [{\"sex\": 0}]"
   ]
  },
  {
   "cell_type": "markdown",
   "id": "3b030cc8-b743-4446-9314-72466a12f581",
   "metadata": {
    "papermill": {
     "duration": 0.001715,
     "end_time": "2025-01-18T04:20:50.893559",
     "exception": false,
     "start_time": "2025-01-18T04:20:50.891844",
     "status": "completed"
    },
    "tags": []
   },
   "source": [
    "### Learn plan classifier without debiasing"
   ]
  },
  {
   "cell_type": "code",
   "execution_count": 3,
   "id": "6b551d1a-ec0f-4a13-96a9-f28cabee47e1",
   "metadata": {
    "execution": {
     "iopub.execute_input": "2025-01-18T04:20:50.897636Z",
     "iopub.status.busy": "2025-01-18T04:20:50.897368Z",
     "iopub.status.idle": "2025-01-18T04:20:50.899521Z",
     "shell.execute_reply": "2025-01-18T04:20:50.899193Z"
    },
    "papermill": {
     "duration": 0.005184,
     "end_time": "2025-01-18T04:20:50.900361",
     "exception": false,
     "start_time": "2025-01-18T04:20:50.895177",
     "status": "completed"
    },
    "tags": []
   },
   "outputs": [],
   "source": [
    "base_settings = {\n",
    "    \"time_budget\": 60,  # total running time in seconds\n",
    "    \"metric\": \"log_loss\",\n",
    "}"
   ]
  },
  {
   "cell_type": "code",
   "execution_count": 4,
   "id": "c81f6c93-75bd-4e2f-8682-fca34e3067a1",
   "metadata": {
    "execution": {
     "iopub.execute_input": "2025-01-18T04:20:50.904397Z",
     "iopub.status.busy": "2025-01-18T04:20:50.904187Z",
     "iopub.status.idle": "2025-01-18T04:20:50.910383Z",
     "shell.execute_reply": "2025-01-18T04:20:50.910065Z"
    },
    "papermill": {
     "duration": 0.009068,
     "end_time": "2025-01-18T04:20:50.911192",
     "exception": false,
     "start_time": "2025-01-18T04:20:50.902124",
     "status": "completed"
    },
    "tags": []
   },
   "outputs": [],
   "source": [
    "plain_model = XGBFairnessAdjuster(\n",
    "    unprivileged_groups=unprivileged_groups,\n",
    "    privileged_groups=privileged_groups,\n",
    "    seed=1234,\n",
    "    debias=False,\n",
    "    tune_hyperparameters_base=True,\n",
    "    tuning_settings_base=base_settings,\n",
    "    tune_hyperparameters_adjuster=False,\n",
    ")"
   ]
  },
  {
   "cell_type": "code",
   "execution_count": 5,
   "id": "afe9feb7-68bd-49f8-9143-58fcc2360889",
   "metadata": {
    "execution": {
     "iopub.execute_input": "2025-01-18T04:20:50.915207Z",
     "iopub.status.busy": "2025-01-18T04:20:50.914951Z",
     "iopub.status.idle": "2025-01-18T04:21:50.461292Z",
     "shell.execute_reply": "2025-01-18T04:21:50.460891Z"
    },
    "papermill": {
     "duration": 59.551886,
     "end_time": "2025-01-18T04:21:50.464799",
     "exception": false,
     "start_time": "2025-01-18T04:20:50.912913",
     "status": "completed"
    },
    "scrolled": true,
    "tags": []
   },
   "outputs": [
    {
     "data": {
      "text/plain": [
       "<aif360.algorithms.inprocessing.xgb_fairness_adjuster.XGBFairnessAdjuster at 0x7fd28c7c9a10>"
      ]
     },
     "execution_count": 5,
     "metadata": {},
     "output_type": "execute_result"
    }
   ],
   "source": [
    "plain_model.fit(dataset=dataset_orig_train, test_dataset=dataset_orig_test)"
   ]
  },
  {
   "cell_type": "markdown",
   "id": "9ca460dc-17d9-44eb-801d-97fc1a995e2d",
   "metadata": {
    "papermill": {
     "duration": 0.002289,
     "end_time": "2025-01-18T04:21:50.469673",
     "exception": false,
     "start_time": "2025-01-18T04:21:50.467384",
     "status": "completed"
    },
    "tags": []
   },
   "source": [
    "### Apply in-processing algorithm based on adversarial learning"
   ]
  },
  {
   "cell_type": "code",
   "execution_count": 6,
   "id": "ce2b0eee-cb36-499c-87a8-a9c6f4dc7915",
   "metadata": {
    "execution": {
     "iopub.execute_input": "2025-01-18T04:21:50.475348Z",
     "iopub.status.busy": "2025-01-18T04:21:50.474919Z",
     "iopub.status.idle": "2025-01-18T04:21:50.477874Z",
     "shell.execute_reply": "2025-01-18T04:21:50.477482Z"
    },
    "papermill": {
     "duration": 0.006815,
     "end_time": "2025-01-18T04:21:50.478831",
     "exception": false,
     "start_time": "2025-01-18T04:21:50.472016",
     "status": "completed"
    },
    "tags": []
   },
   "outputs": [],
   "source": [
    "debiased_model = XGBFairnessAdjuster(\n",
    "    unprivileged_groups=unprivileged_groups,\n",
    "    privileged_groups=privileged_groups,\n",
    "    seed=1234,\n",
    "    debias=True,\n",
    "    adversary_loss_weight=1.0,\n",
    "    tune_hyperparameters_base=True,\n",
    "    tuning_settings_base=base_settings,\n",
    "    tune_hyperparameters_adjuster=False,\n",
    "    debug=False,\n",
    "    task=\"classification\",\n",
    ")"
   ]
  },
  {
   "cell_type": "code",
   "execution_count": 7,
   "id": "3b32f4ae-563e-4d5b-a619-ff5668b0b797",
   "metadata": {
    "execution": {
     "iopub.execute_input": "2025-01-18T04:21:50.484244Z",
     "iopub.status.busy": "2025-01-18T04:21:50.483912Z",
     "iopub.status.idle": "2025-01-18T04:23:06.178298Z",
     "shell.execute_reply": "2025-01-18T04:23:06.177802Z"
    },
    "papermill": {
     "duration": 75.700231,
     "end_time": "2025-01-18T04:23:06.181448",
     "exception": false,
     "start_time": "2025-01-18T04:21:50.481217",
     "status": "completed"
    },
    "scrolled": true,
    "tags": []
   },
   "outputs": [
    {
     "data": {
      "text/plain": [
       "<aif360.algorithms.inprocessing.xgb_fairness_adjuster.XGBFairnessAdjuster at 0x7fd28c2f3a50>"
      ]
     },
     "execution_count": 7,
     "metadata": {},
     "output_type": "execute_result"
    }
   ],
   "source": [
    "debiased_model.fit(dataset=dataset_orig_train, test_dataset=dataset_orig_test)"
   ]
  },
  {
   "cell_type": "code",
   "execution_count": 8,
   "id": "a0594481-9c6e-4b97-a680-cf1dc46cab1f",
   "metadata": {
    "execution": {
     "iopub.execute_input": "2025-01-18T04:23:06.186254Z",
     "iopub.status.busy": "2025-01-18T04:23:06.186044Z",
     "iopub.status.idle": "2025-01-18T04:23:06.285660Z",
     "shell.execute_reply": "2025-01-18T04:23:06.285222Z"
    },
    "papermill": {
     "duration": 0.103129,
     "end_time": "2025-01-18T04:23:06.286670",
     "exception": false,
     "start_time": "2025-01-18T04:23:06.183541",
     "status": "completed"
    },
    "tags": []
   },
   "outputs": [
    {
     "data": {
      "image/png": "[encoded data removed]",
      "text/plain": [
       "<Figure size 640x480 with 1 Axes>"
      ]
     },
     "metadata": {},
     "output_type": "display_data"
    }
   ],
   "source": [
    "import matplotlib.pyplot as plt\n",
    "\n",
    "bins = 20\n",
    "probs_ad = debiased_model.predict_proba(dataset_orig_test)\n",
    "base_probs = plain_model.predict_proba(dataset_orig_test)\n",
    "# plt.hist(adjusted_probs, bins=bins, histtype=\"step\", label=\"Fairness Adjuster\")\n",
    "plt.hist(probs_ad, bins=bins, histtype=\"step\", label=\"Debiased\")\n",
    "plt.hist(base_probs, bins=bins, histtype=\"step\", label=\"Not Debiased\")\n",
    "plt.legend()\n",
    "plt.show()"
   ]
  },
  {
   "cell_type": "code",
   "execution_count": 9,
   "id": "05321ee9-ec14-4e95-90a5-ce7e14de7967",
   "metadata": {
    "execution": {
     "iopub.execute_input": "2025-01-18T04:23:06.292047Z",
     "iopub.status.busy": "2025-01-18T04:23:06.291859Z",
     "iopub.status.idle": "2025-01-18T04:23:06.295001Z",
     "shell.execute_reply": "2025-01-18T04:23:06.294572Z"
    },
    "papermill": {
     "duration": 0.006904,
     "end_time": "2025-01-18T04:23:06.296000",
     "exception": false,
     "start_time": "2025-01-18T04:23:06.289096",
     "status": "completed"
    },
    "tags": []
   },
   "outputs": [
    {
     "data": {
      "text/plain": [
       "{'n_estimators': 654,\n",
       " 'max_leaves': 25,\n",
       " 'min_child_weight': np.float64(0.003927690266404936),\n",
       " 'learning_rate': np.float64(0.009301703679887835),\n",
       " 'subsample': np.float64(0.5489666936183099),\n",
       " 'colsample_bylevel': np.float64(0.7318217010283135),\n",
       " 'colsample_bytree': np.float64(0.9159545743841531),\n",
       " 'reg_alpha': np.float64(0.021236193733879617),\n",
       " 'reg_lambda': np.float64(0.43724387863433545)}"
      ]
     },
     "execution_count": 9,
     "metadata": {},
     "output_type": "execute_result"
    }
   ],
   "source": [
    "plain_model.base_estimator.best_config"
   ]
  },
  {
   "cell_type": "code",
   "execution_count": 10,
   "id": "33bf13e4-369a-4eeb-8020-d13828847090",
   "metadata": {
    "execution": {
     "iopub.execute_input": "2025-01-18T04:23:06.301435Z",
     "iopub.status.busy": "2025-01-18T04:23:06.301215Z",
     "iopub.status.idle": "2025-01-18T04:23:06.306178Z",
     "shell.execute_reply": "2025-01-18T04:23:06.305849Z"
    },
    "papermill": {
     "duration": 0.008766,
     "end_time": "2025-01-18T04:23:06.307160",
     "exception": false,
     "start_time": "2025-01-18T04:23:06.298394",
     "status": "completed"
    },
    "tags": []
   },
   "outputs": [
    {
     "data": {
      "text/plain": [
       "{'n_estimators': 654,\n",
       " 'max_leaves': 25,\n",
       " 'min_child_weight': np.float64(0.003927690266404936),\n",
       " 'learning_rate': np.float64(0.009301703679887835),\n",
       " 'subsample': np.float64(0.5489666936183099),\n",
       " 'colsample_bylevel': np.float64(0.7318217010283135),\n",
       " 'colsample_bytree': np.float64(0.9159545743841531),\n",
       " 'reg_alpha': np.float64(0.021236193733879617),\n",
       " 'reg_lambda': np.float64(0.43724387863433545)}"
      ]
     },
     "execution_count": 10,
     "metadata": {},
     "output_type": "execute_result"
    }
   ],
   "source": [
    "debiased_model.base_estimator.best_config"
   ]
  }
 ],
 "metadata": {
  "kernelspec": {
   "display_name": "aif360",
   "language": "python",
   "name": "aif360"
  },
  "language_info": {
   "codemirror_mode": {
    "name": "ipython",
    "version": 3
   },
   "file_extension": ".py",
   "mimetype": "text/x-python",
   "name": "python",
   "nbconvert_exporter": "python",
   "pygments_lexer": "ipython3",
   "version": "3.11.10"
  },
  "papermill": {
   "default_parameters": {},
   "duration": 141.670304,
   "end_time": "2025-01-18T04:23:07.425839",
   "environment_variables": {},
   "exception": null,
   "input_path": "2_tune_adult.ipynb",
   "output_path": "2_tune_adult_rendered.ipynb",
   "parameters": {},
   "start_time": "2025-01-18T04:20:45.755535",
   "version": "2.6.0"
  }
 },
 "nbformat": 4,
 "nbformat_minor": 5
}