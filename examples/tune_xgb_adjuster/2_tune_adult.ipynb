{
 "cells": [
  {
   "cell_type": "markdown",
   "id": "bca3468d-c9ac-4636-84a4-600b70d47d67",
   "metadata": {
    "papermill": {
     "duration": 0.001704,
     "end_time": "2025-01-18T04:20:46.422503",
     "exception": false,
     "start_time": "2025-01-18T04:20:46.420799",
     "status": "completed"
    },
    "tags": []
   },
   "source": [
    "#### Tuning XGB Adjuster: Adult Data"
   ]
  },
  {
   "cell_type": "code",
   "execution_count": 1,
   "id": "7553b492-a00d-4e2a-8703-5855e98e7555",
   "metadata": {
    "papermill": {
     "duration": 4.237524,
     "end_time": "2025-01-18T04:20:50.661606",
     "exception": false,
     "start_time": "2025-01-18T04:20:46.424082",
     "status": "completed"
    },
    "tags": []
   },
   "outputs": [
    {
     "name": "stderr",
     "output_type": "stream",
     "text": [
      "2025-01-18 20:53:38.763456: I tensorflow/core/util/port.cc:111] oneDNN custom operations are on. You may see slightly different numerical results due to floating-point round-off errors from different computation orders. To turn them off, set the environment variable `TF_ENABLE_ONEDNN_OPTS=0`.\n",
      "2025-01-18 20:53:38.765508: I tensorflow/tsl/cuda/cudart_stub.cc:28] Could not find cuda drivers on your machine, GPU will not be used.\n",
      "2025-01-18 20:53:38.795326: E tensorflow/compiler/xla/stream_executor/cuda/cuda_dnn.cc:9342] Unable to register cuDNN factory: Attempting to register factory for plugin cuDNN when one has already been registered\n",
      "2025-01-18 20:53:38.795353: E tensorflow/compiler/xla/stream_executor/cuda/cuda_fft.cc:609] Unable to register cuFFT factory: Attempting to register factory for plugin cuFFT when one has already been registered\n",
      "2025-01-18 20:53:38.795372: E tensorflow/compiler/xla/stream_executor/cuda/cuda_blas.cc:1518] Unable to register cuBLAS factory: Attempting to register factory for plugin cuBLAS when one has already been registered\n",
      "2025-01-18 20:53:38.801020: I tensorflow/tsl/cuda/cudart_stub.cc:28] Could not find cuda drivers on your machine, GPU will not be used.\n",
      "2025-01-18 20:53:38.801756: I tensorflow/core/platform/cpu_feature_guard.cc:182] This TensorFlow binary is optimized to use available CPU instructions in performance-critical operations.\n",
      "To enable the following instructions: AVX2 AVX512F AVX512_VNNI AVX512_BF16 AVX_VNNI AMX_TILE AMX_INT8 AMX_BF16 FMA, in other operations, rebuild TensorFlow with the appropriate compiler flags.\n",
      "2025-01-18 20:53:39.391445: W tensorflow/compiler/tf2tensorrt/utils/py_utils.cc:38] TF-TRT Warning: Could not find TensorRT\n"
     ]
    }
   ],
   "source": [
    "from aif360.algorithms.inprocessing.xgb_fairness_adjuster import XGBFairnessAdjuster\n",
    "from aif360.algorithms.preprocessing.optim_preproc_helpers.data_preproc_functions import (\n",
    "    load_preproc_data_adult,\n",
    ")\n",
    "\n",
    "from IPython.display import Markdown, display\n",
    "from aif360.metrics import BinaryLabelDatasetMetric, ClassificationMetric"
   ]
  },
  {
   "cell_type": "markdown",
   "id": "970572f7-842c-43fd-8028-fc2287aa7f51",
   "metadata": {
    "papermill": {
     "duration": 0.001671,
     "end_time": "2025-01-18T04:20:50.665218",
     "exception": false,
     "start_time": "2025-01-18T04:20:50.663547",
     "status": "completed"
    },
    "tags": []
   },
   "source": [
    "#### Load dataset and set options"
   ]
  },
  {
   "cell_type": "code",
   "execution_count": 2,
   "id": "517b3488-94b4-489c-9e46-686bddd4f4fe",
   "metadata": {
    "papermill": {
     "duration": 0.223123,
     "end_time": "2025-01-18T04:20:50.889902",
     "exception": false,
     "start_time": "2025-01-18T04:20:50.666779",
     "status": "completed"
    },
    "tags": []
   },
   "outputs": [],
   "source": [
    "# Get the dataset and split into train and test\n",
    "dataset_orig = load_preproc_data_adult(protected_attributes=[\"sex\", \"race\"])\n",
    "dataset_orig_train, dataset_orig_test = dataset_orig.split(\n",
    "    [0.9], shuffle=True, seed=1234\n",
    ")\n",
    "privileged_groups = [{\"sex\": 1}]\n",
    "unprivileged_groups = [{\"sex\": 0}]"
   ]
  },
  {
   "cell_type": "markdown",
   "id": "3b030cc8-b743-4446-9314-72466a12f581",
   "metadata": {
    "papermill": {
     "duration": 0.001715,
     "end_time": "2025-01-18T04:20:50.893559",
     "exception": false,
     "start_time": "2025-01-18T04:20:50.891844",
     "status": "completed"
    },
    "tags": []
   },
   "source": [
    "### Learn plan classifier without debiasing"
   ]
  },
  {
   "cell_type": "code",
   "execution_count": 3,
   "id": "6b551d1a-ec0f-4a13-96a9-f28cabee47e1",
   "metadata": {
    "papermill": {
     "duration": 0.005184,
     "end_time": "2025-01-18T04:20:50.900361",
     "exception": false,
     "start_time": "2025-01-18T04:20:50.895177",
     "status": "completed"
    },
    "tags": []
   },
   "outputs": [],
   "source": [
    "base_settings = {\n",
    "    \"time_budget\": 6000,  # total running time in seconds\n",
    "    \"metric\": \"log_loss\",\n",
    "}"
   ]
  },
  {
   "cell_type": "code",
   "execution_count": 4,
   "id": "c81f6c93-75bd-4e2f-8682-fca34e3067a1",
   "metadata": {
    "papermill": {
     "duration": 0.009068,
     "end_time": "2025-01-18T04:20:50.911192",
     "exception": false,
     "start_time": "2025-01-18T04:20:50.902124",
     "status": "completed"
    },
    "tags": []
   },
   "outputs": [],
   "source": [
    "plain_model = XGBFairnessAdjuster(\n",
    "    unprivileged_groups=unprivileged_groups,\n",
    "    privileged_groups=privileged_groups,\n",
    "    seed=1234,\n",
    "    debias=False,\n",
    "    tune_hyperparameters_base=True,\n",
    "    tuning_settings_base=base_settings,\n",
    "    tune_hyperparameters_adjuster=False,\n",
    ")"
   ]
  },
  {
   "cell_type": "code",
   "execution_count": 5,
   "id": "afe9feb7-68bd-49f8-9143-58fcc2360889",
   "metadata": {
    "papermill": {
     "duration": 59.551886,
     "end_time": "2025-01-18T04:21:50.464799",
     "exception": false,
     "start_time": "2025-01-18T04:20:50.912913",
     "status": "completed"
    },
    "scrolled": true,
    "tags": []
   },
   "outputs": [
    {
     "data": {
      "text/plain": [
       "<aif360.algorithms.inprocessing.xgb_fairness_adjuster.XGBFairnessAdjuster at 0x7f4677cab130>"
      ]
     },
     "execution_count": 5,
     "metadata": {},
     "output_type": "execute_result"
    }
   ],
   "source": [
    "plain_model.fit(dataset=dataset_orig_train, test_dataset=dataset_orig_test)"
   ]
  },
  {
   "cell_type": "markdown",
   "id": "6c0b535b-053b-4922-af48-ca01ea1d14d5",
   "metadata": {
    "papermill": {
     "duration": 0.002289,
     "end_time": "2025-01-18T04:21:50.469673",
     "exception": false,
     "start_time": "2025-01-18T04:21:50.467384",
     "status": "completed"
    },
    "tags": []
   },
   "source": [
    "### Compare to default hyperparams"
   ]
  },
  {
   "cell_type": "code",
   "execution_count": 6,
   "id": "963a5c2f-cf88-4158-bf07-cad083029c93",
   "metadata": {
    "papermill": {
     "duration": 0.006815,
     "end_time": "2025-01-18T04:21:50.478831",
     "exception": false,
     "start_time": "2025-01-18T04:21:50.472016",
     "status": "completed"
    },
    "tags": []
   },
   "outputs": [],
   "source": [
    "default_model = XGBFairnessAdjuster(\n",
    "    unprivileged_groups=unprivileged_groups,\n",
    "    privileged_groups=privileged_groups,\n",
    "    seed=1234,\n",
    "    debias=False,\n",
    "    tune_hyperparameters_base=False,\n",
    "    tune_hyperparameters_adjuster=False,\n",
    ")"
   ]
  },
  {
   "cell_type": "code",
   "execution_count": 7,
   "id": "57e25e27-26d2-437d-9d7d-8ed5e8f3ffd6",
   "metadata": {
    "papermill": {
     "duration": 75.700231,
     "end_time": "2025-01-18T04:23:06.181448",
     "exception": false,
     "start_time": "2025-01-18T04:21:50.481217",
     "status": "completed"
    },
    "scrolled": true,
    "tags": []
   },
   "outputs": [
    {
     "data": {
      "text/plain": [
       "<aif360.algorithms.inprocessing.xgb_fairness_adjuster.XGBFairnessAdjuster at 0x7f4677aea260>"
      ]
     },
     "execution_count": 7,
     "metadata": {},
     "output_type": "execute_result"
    }
   ],
   "source": [
    "default_model.fit(dataset=dataset_orig_train, test_dataset=dataset_orig_test)"
   ]
  },
  {
   "cell_type": "code",
   "execution_count": 8,
   "id": "b724519e-42f7-4619-a751-446fc49f356a",
   "metadata": {
    "papermill": {
     "duration": 0.103129,
     "end_time": "2025-01-18T04:23:06.286670",
     "exception": false,
     "start_time": "2025-01-18T04:23:06.183541",
     "status": "completed"
    },
    "tags": []
   },
   "outputs": [
    {
     "data": {
      "image/png": "[encoded data removed]",
      "text/plain": [
       "<Figure size 640x480 with 1 Axes>"
      ]
     },
     "metadata": {},
     "output_type": "display_data"
    }
   ],
   "source": [
    "import matplotlib.pyplot as plt\n",
    "\n",
    "bins = 20\n",
    "probs_default = default_model.predict_proba(dataset_orig_test)\n",
    "base_probs = plain_model.predict_proba(dataset_orig_test)\n",
    "# plt.hist(adjusted_probs, bins=bins, histtype=\"step\", label=\"Fairness Adjuster\")\n",
    "plt.hist(probs_default, bins=bins, histtype=\"step\", label=\"Debiased\")\n",
    "plt.hist(base_probs, bins=bins, histtype=\"step\", label=\"Not Debiased\")\n",
    "plt.legend()\n",
    "plt.show()"
   ]
  },
  {
   "cell_type": "code",
   "execution_count": 9,
   "id": "2f616985-71c3-49f7-9486-b7c7644f5d87",
   "metadata": {
    "papermill": {
     "duration": 0.006616,
     "end_time": "2025-01-17T23:47:24.103561",
     "exception": false,
     "start_time": "2025-01-17T23:47:24.096945",
     "status": "completed"
    },
    "tags": []
   },
   "outputs": [
    {
     "data": {
      "text/plain": [
       "{'n_estimators': 33,\n",
       " 'max_leaves': 24,\n",
       " 'min_child_weight': 0.9831737154142802,\n",
       " 'learning_rate': 1.0,\n",
       " 'subsample': 0.7988687125027718,\n",
       " 'colsample_bylevel': 0.01,\n",
       " 'colsample_bytree': 1.0,\n",
       " 'reg_alpha': 0.03428452962082703,\n",
       " 'reg_lambda': 3.5945835893789444}"
      ]
     },
     "metadata": {},
     "output_type": "display_data"
    },
    {
     "data": {
      "text/plain": [
       "{'objective': 'binary:logistic',\n",
       " 'base_score': None,\n",
       " 'booster': None,\n",
       " 'callbacks': [],\n",
       " 'colsample_bylevel': 0.01,\n",
       " 'colsample_bynode': None,\n",
       " 'colsample_bytree': 1.0,\n",
       " 'device': None,\n",
       " 'early_stopping_rounds': None,\n",
       " 'enable_categorical': False,\n",
       " 'eval_metric': None,\n",
       " 'feature_types': None,\n",
       " 'gamma': None,\n",
       " 'grow_policy': 'lossguide',\n",
       " 'importance_type': None,\n",
       " 'interaction_constraints': None,\n",
       " 'learning_rate': 1.0,\n",
       " 'max_bin': None,\n",
       " 'max_cat_threshold': None,\n",
       " 'max_cat_to_onehot': None,\n",
       " 'max_delta_step': None,\n",
       " 'max_depth': 0,\n",
       " 'max_leaves': 24,\n",
       " 'min_child_weight': 0.9831737154142802,\n",
       " 'missing': nan,\n",
       " 'monotone_constraints': None,\n",
       " 'multi_strategy': None,\n",
       " 'n_estimators': 33,\n",
       " 'n_jobs': -1,\n",
       " 'num_parallel_tree': None,\n",
       " 'random_state': None,\n",
       " 'reg_alpha': 0.03428452962082703,\n",
       " 'reg_lambda': 3.5945835893789444,\n",
       " 'sampling_method': None,\n",
       " 'scale_pos_weight': None,\n",
       " 'subsample': 0.7988687125027718,\n",
       " 'tree_method': 'hist',\n",
       " 'validate_parameters': None,\n",
       " 'verbosity': 0}"
      ]
     },
     "metadata": {},
     "output_type": "display_data"
    }
   ],
   "source": [
    "if hasattr(plain_model.base_estimator, \"best_config\"):\n",
    "    display(plain_model.base_estimator.best_config)\n",
    "    display(plain_model.base_estimator.model.estimator.get_params(deep=True))"
   ]
  },
  {
   "cell_type": "code",
   "execution_count": 10,
   "id": "e3372e4b-81f9-4244-9846-726f1b15216e",
   "metadata": {},
   "outputs": [
    {
     "data": {
      "text/markdown": [
       "#### Plain model - without debiasing - dataset metrics"
      ],
      "text/plain": [
       "<IPython.core.display.Markdown object>"
      ]
     },
     "metadata": {},
     "output_type": "display_data"
    },
    {
     "name": "stdout",
     "output_type": "stream",
     "text": [
      "Train set: Difference in mean outcomes between unprivileged and privileged groups = -0.209813\n",
      "Test set: Difference in mean outcomes between unprivileged and privileged groups = -0.205343\n"
     ]
    },
    {
     "data": {
      "text/markdown": [
       "#### Plain model - without debiasing - classification metrics"
      ],
      "text/plain": [
       "<IPython.core.display.Markdown object>"
      ]
     },
     "metadata": {},
     "output_type": "display_data"
    },
    {
     "name": "stdout",
     "output_type": "stream",
     "text": [
      "Test set: Classification accuracy = 0.801433\n",
      "Test set: Balanced classification accuracy = 0.652605\n",
      "Test set: Disparate impact = 0.000000\n",
      "Test set: Equal opportunity difference = -0.438650\n",
      "Test set: Average odds difference = -0.271088\n",
      "Test set: Theil_index = 0.182795\n"
     ]
    }
   ],
   "source": [
    "# Apply the plain model to test data\n",
    "dataset_nodebiasing_train = plain_model.predict(dataset_orig_train)\n",
    "dataset_nodebiasing_test = plain_model.predict(dataset_orig_test)\n",
    "# Metrics for the dataset from plain model (without debiasing)\n",
    "display(Markdown(\"#### Plain model - without debiasing - dataset metrics\"))\n",
    "metric_dataset_nodebiasing_train = BinaryLabelDatasetMetric(\n",
    "    dataset_nodebiasing_train,\n",
    "    unprivileged_groups=unprivileged_groups,\n",
    "    privileged_groups=privileged_groups,\n",
    ")\n",
    "\n",
    "print(\n",
    "    \"Train set: Difference in mean outcomes between unprivileged and privileged groups = %f\"\n",
    "    % metric_dataset_nodebiasing_train.mean_difference()\n",
    ")\n",
    "\n",
    "metric_dataset_nodebiasing_test = BinaryLabelDatasetMetric(\n",
    "    dataset_nodebiasing_test,\n",
    "    unprivileged_groups=unprivileged_groups,\n",
    "    privileged_groups=privileged_groups,\n",
    ")\n",
    "\n",
    "print(\n",
    "    \"Test set: Difference in mean outcomes between unprivileged and privileged groups = %f\"\n",
    "    % metric_dataset_nodebiasing_test.mean_difference()\n",
    ")\n",
    "\n",
    "display(Markdown(\"#### Plain model - without debiasing - classification metrics\"))\n",
    "classified_metric_nodebiasing_test = ClassificationMetric(\n",
    "    dataset_orig_test,\n",
    "    dataset_nodebiasing_test,\n",
    "    unprivileged_groups=unprivileged_groups,\n",
    "    privileged_groups=privileged_groups,\n",
    ")\n",
    "print(\n",
    "    \"Test set: Classification accuracy = %f\"\n",
    "    % classified_metric_nodebiasing_test.accuracy()\n",
    ")\n",
    "TPR = classified_metric_nodebiasing_test.true_positive_rate()\n",
    "TNR = classified_metric_nodebiasing_test.true_negative_rate()\n",
    "bal_acc_nodebiasing_test = 0.5 * (TPR + TNR)\n",
    "print(\"Test set: Balanced classification accuracy = %f\" % bal_acc_nodebiasing_test)\n",
    "print(\n",
    "    \"Test set: Disparate impact = %f\"\n",
    "    % classified_metric_nodebiasing_test.disparate_impact()\n",
    ")\n",
    "print(\n",
    "    \"Test set: Equal opportunity difference = %f\"\n",
    "    % classified_metric_nodebiasing_test.equal_opportunity_difference()\n",
    ")\n",
    "print(\n",
    "    \"Test set: Average odds difference = %f\"\n",
    "    % classified_metric_nodebiasing_test.average_odds_difference()\n",
    ")\n",
    "print(\"Test set: Theil_index = %f\" % classified_metric_nodebiasing_test.theil_index())"
   ]
  },
  {
   "cell_type": "code",
   "execution_count": 11,
   "id": "6bd0c808-bb61-4a00-8abe-b194b4c49573",
   "metadata": {},
   "outputs": [
    {
     "data": {
      "text/markdown": [
       "#### Plain model - without debiasing - dataset metrics"
      ],
      "text/plain": [
       "<IPython.core.display.Markdown object>"
      ]
     },
     "metadata": {},
     "output_type": "display_data"
    },
    {
     "name": "stdout",
     "output_type": "stream",
     "text": [
      "Train set: Difference in mean outcomes between unprivileged and privileged groups = -0.209813\n",
      "Test set: Difference in mean outcomes between unprivileged and privileged groups = -0.205343\n"
     ]
    },
    {
     "data": {
      "text/markdown": [
       "#### Model - with debiasing - dataset metrics"
      ],
      "text/plain": [
       "<IPython.core.display.Markdown object>"
      ]
     },
     "metadata": {},
     "output_type": "display_data"
    },
    {
     "name": "stdout",
     "output_type": "stream",
     "text": [
      "Train set: Difference in mean outcomes between unprivileged and privileged groups = -0.215045\n",
      "Test set: Difference in mean outcomes between unprivileged and privileged groups = -0.212488\n"
     ]
    },
    {
     "data": {
      "text/markdown": [
       "#### Plain model - without debiasing - classification metrics"
      ],
      "text/plain": [
       "<IPython.core.display.Markdown object>"
      ]
     },
     "metadata": {},
     "output_type": "display_data"
    },
    {
     "name": "stdout",
     "output_type": "stream",
     "text": [
      "Test set: Classification accuracy = 0.801433\n",
      "Test set: Balanced classification accuracy = 0.652605\n",
      "Test set: Disparate impact = 0.000000\n",
      "Test set: Equal opportunity difference = -0.438650\n",
      "Test set: Average odds difference = -0.271088\n",
      "Test set: Theil_index = 0.182795\n"
     ]
    },
    {
     "data": {
      "text/markdown": [
       "#### Model - with debiasing - classification metrics"
      ],
      "text/plain": [
       "<IPython.core.display.Markdown object>"
      ]
     },
     "metadata": {},
     "output_type": "display_data"
    },
    {
     "name": "stdout",
     "output_type": "stream",
     "text": [
      "Test set: Classification accuracy = 0.800819\n",
      "Test set: Balanced classification accuracy = 0.655141\n",
      "Test set: Disparate impact = 0.000000\n",
      "Test set: Equal opportunity difference = -0.448875\n",
      "Test set: Average odds difference = -0.279101\n",
      "Test set: Theil_index = 0.181267\n"
     ]
    }
   ],
   "source": [
    "# Apply the plain model to test data\n",
    "dataset_debiasing_train = default_model.predict(dataset_orig_train)\n",
    "dataset_debiasing_test = default_model.predict(dataset_orig_test)\n",
    "# Metrics for the dataset from plain model (without debiasing)\n",
    "display(Markdown(\"#### Plain model - without debiasing - dataset metrics\"))\n",
    "print(\n",
    "    \"Train set: Difference in mean outcomes between unprivileged and privileged groups = %f\"\n",
    "    % metric_dataset_nodebiasing_train.mean_difference()\n",
    ")\n",
    "print(\n",
    "    \"Test set: Difference in mean outcomes between unprivileged and privileged groups = %f\"\n",
    "    % metric_dataset_nodebiasing_test.mean_difference()\n",
    ")\n",
    "\n",
    "# Metrics for the dataset from model with debiasing\n",
    "display(Markdown(\"#### Model - with debiasing - dataset metrics\"))\n",
    "metric_dataset_debiasing_train = BinaryLabelDatasetMetric(\n",
    "    dataset_debiasing_train,\n",
    "    unprivileged_groups=unprivileged_groups,\n",
    "    privileged_groups=privileged_groups,\n",
    ")\n",
    "\n",
    "print(\n",
    "    \"Train set: Difference in mean outcomes between unprivileged and privileged groups = %f\"\n",
    "    % metric_dataset_debiasing_train.mean_difference()\n",
    ")\n",
    "\n",
    "metric_dataset_debiasing_test = BinaryLabelDatasetMetric(\n",
    "    dataset_debiasing_test,\n",
    "    unprivileged_groups=unprivileged_groups,\n",
    "    privileged_groups=privileged_groups,\n",
    ")\n",
    "\n",
    "print(\n",
    "    \"Test set: Difference in mean outcomes between unprivileged and privileged groups = %f\"\n",
    "    % metric_dataset_debiasing_test.mean_difference()\n",
    ")\n",
    "\n",
    "\n",
    "display(Markdown(\"#### Plain model - without debiasing - classification metrics\"))\n",
    "print(\n",
    "    \"Test set: Classification accuracy = %f\"\n",
    "    % classified_metric_nodebiasing_test.accuracy()\n",
    ")\n",
    "TPR = classified_metric_nodebiasing_test.true_positive_rate()\n",
    "TNR = classified_metric_nodebiasing_test.true_negative_rate()\n",
    "bal_acc_nodebiasing_test = 0.5 * (TPR + TNR)\n",
    "print(\"Test set: Balanced classification accuracy = %f\" % bal_acc_nodebiasing_test)\n",
    "print(\n",
    "    \"Test set: Disparate impact = %f\"\n",
    "    % classified_metric_nodebiasing_test.disparate_impact()\n",
    ")\n",
    "print(\n",
    "    \"Test set: Equal opportunity difference = %f\"\n",
    "    % classified_metric_nodebiasing_test.equal_opportunity_difference()\n",
    ")\n",
    "print(\n",
    "    \"Test set: Average odds difference = %f\"\n",
    "    % classified_metric_nodebiasing_test.average_odds_difference()\n",
    ")\n",
    "print(\"Test set: Theil_index = %f\" % classified_metric_nodebiasing_test.theil_index())\n",
    "\n",
    "\n",
    "display(Markdown(\"#### Model - with debiasing - classification metrics\"))\n",
    "classified_metric_debiasing_test = ClassificationMetric(\n",
    "    dataset_orig_test,\n",
    "    dataset_debiasing_test,\n",
    "    unprivileged_groups=unprivileged_groups,\n",
    "    privileged_groups=privileged_groups,\n",
    ")\n",
    "print(\n",
    "    \"Test set: Classification accuracy = %f\"\n",
    "    % classified_metric_debiasing_test.accuracy()\n",
    ")\n",
    "TPR = classified_metric_debiasing_test.true_positive_rate()\n",
    "TNR = classified_metric_debiasing_test.true_negative_rate()\n",
    "bal_acc_debiasing_test = 0.5 * (TPR + TNR)\n",
    "print(\"Test set: Balanced classification accuracy = %f\" % bal_acc_debiasing_test)\n",
    "print(\n",
    "    \"Test set: Disparate impact = %f\"\n",
    "    % classified_metric_debiasing_test.disparate_impact()\n",
    ")\n",
    "print(\n",
    "    \"Test set: Equal opportunity difference = %f\"\n",
    "    % classified_metric_debiasing_test.equal_opportunity_difference()\n",
    ")\n",
    "print(\n",
    "    \"Test set: Average odds difference = %f\"\n",
    "    % classified_metric_debiasing_test.average_odds_difference()\n",
    ")\n",
    "print(\"Test set: Theil_index = %f\" % classified_metric_debiasing_test.theil_index())"
   ]
  },
  {
   "cell_type": "code",
   "execution_count": null,
   "id": "48edc10a-9e42-48ea-9ecb-9648636a1af9",
   "metadata": {},
   "outputs": [],
   "source": []
  },
  {
   "cell_type": "code",
   "execution_count": null,
   "id": "f1e6cbe1-6a5c-4fc3-96d5-561b78236ef6",
   "metadata": {},
   "outputs": [],
   "source": []
  },
  {
   "cell_type": "code",
   "execution_count": null,
   "id": "c2a4caa9-545f-493b-aa32-67a95efe0c9a",
   "metadata": {},
   "outputs": [],
   "source": []
  },
  {
   "cell_type": "code",
   "execution_count": null,
   "id": "60d0a701-c026-4a87-b388-a9f2dbd7db65",
   "metadata": {},
   "outputs": [],
   "source": []
  },
  {
   "cell_type": "code",
   "execution_count": null,
   "id": "c9060eb2-b405-497a-b05d-4b47233cde07",
   "metadata": {},
   "outputs": [],
   "source": []
  },
  {
   "cell_type": "code",
   "execution_count": null,
   "id": "fd41b0ea-0afa-4279-b838-0a681a48b174",
   "metadata": {},
   "outputs": [],
   "source": []
  },
  {
   "cell_type": "code",
   "execution_count": null,
   "id": "1523d590-e6c8-487b-aa33-abad3c4a57ad",
   "metadata": {},
   "outputs": [],
   "source": []
  },
  {
   "cell_type": "code",
   "execution_count": null,
   "id": "6262c673-1080-46f3-a3a6-4c0f96b1a1b7",
   "metadata": {},
   "outputs": [],
   "source": []
  },
  {
   "cell_type": "code",
   "execution_count": null,
   "id": "81c03c76-df96-4a8f-a8c7-d7945c74f418",
   "metadata": {},
   "outputs": [],
   "source": []
  },
  {
   "cell_type": "code",
   "execution_count": null,
   "id": "62e1b131-2c05-43af-a547-8c53249db65a",
   "metadata": {},
   "outputs": [],
   "source": []
  },
  {
   "cell_type": "markdown",
   "id": "9ca460dc-17d9-44eb-801d-97fc1a995e2d",
   "metadata": {
    "papermill": {
     "duration": 0.002289,
     "end_time": "2025-01-18T04:21:50.469673",
     "exception": false,
     "start_time": "2025-01-18T04:21:50.467384",
     "status": "completed"
    },
    "tags": []
   },
   "source": [
    "### Apply in-processing algorithm based on adversarial learning"
   ]
  },
  {
   "cell_type": "code",
   "execution_count": 12,
   "id": "ce2b0eee-cb36-499c-87a8-a9c6f4dc7915",
   "metadata": {
    "papermill": {
     "duration": 0.006815,
     "end_time": "2025-01-18T04:21:50.478831",
     "exception": false,
     "start_time": "2025-01-18T04:21:50.472016",
     "status": "completed"
    },
    "tags": []
   },
   "outputs": [],
   "source": [
    "# debiased_model = XGBFairnessAdjuster(\n",
    "#     unprivileged_groups=unprivileged_groups,\n",
    "#     privileged_groups=privileged_groups,\n",
    "#     seed=1234,\n",
    "#     debias=True,\n",
    "#     adversary_loss_weight=1.0,\n",
    "#     tune_hyperparameters_base=False,\n",
    "#     tuning_settings_base=base_settings,\n",
    "#     tune_hyperparameters_adjuster=False,\n",
    "#     debug=False,\n",
    "#     task=\"classification\",\n",
    "# )"
   ]
  },
  {
   "cell_type": "code",
   "execution_count": 13,
   "id": "3b32f4ae-563e-4d5b-a619-ff5668b0b797",
   "metadata": {
    "papermill": {
     "duration": 75.700231,
     "end_time": "2025-01-18T04:23:06.181448",
     "exception": false,
     "start_time": "2025-01-18T04:21:50.481217",
     "status": "completed"
    },
    "scrolled": true,
    "tags": []
   },
   "outputs": [],
   "source": [
    "# debiased_model.fit(dataset=dataset_orig_train, test_dataset=dataset_orig_test)"
   ]
  },
  {
   "cell_type": "code",
   "execution_count": 14,
   "id": "a0594481-9c6e-4b97-a680-cf1dc46cab1f",
   "metadata": {
    "papermill": {
     "duration": 0.103129,
     "end_time": "2025-01-18T04:23:06.286670",
     "exception": false,
     "start_time": "2025-01-18T04:23:06.183541",
     "status": "completed"
    },
    "tags": []
   },
   "outputs": [],
   "source": [
    "# import matplotlib.pyplot as plt\n",
    "\n",
    "# bins = 20\n",
    "# probs_ad = debiased_model.predict_proba(dataset_orig_test)\n",
    "# base_probs = plain_model.predict_proba(dataset_orig_test)\n",
    "# # plt.hist(adjusted_probs, bins=bins, histtype=\"step\", label=\"Fairness Adjuster\")\n",
    "# plt.hist(probs_ad, bins=bins, histtype=\"step\", label=\"Debiased\")\n",
    "# plt.hist(base_probs, bins=bins, histtype=\"step\", label=\"Not Debiased\")\n",
    "# plt.legend()\n",
    "# plt.show()"
   ]
  },
  {
   "cell_type": "code",
   "execution_count": 15,
   "id": "05321ee9-ec14-4e95-90a5-ce7e14de7967",
   "metadata": {
    "papermill": {
     "duration": 0.006904,
     "end_time": "2025-01-18T04:23:06.296000",
     "exception": false,
     "start_time": "2025-01-18T04:23:06.289096",
     "status": "completed"
    },
    "tags": []
   },
   "outputs": [],
   "source": [
    "# plain_model.base_estimator.best_config"
   ]
  },
  {
   "cell_type": "code",
   "execution_count": 16,
   "id": "33bf13e4-369a-4eeb-8020-d13828847090",
   "metadata": {
    "papermill": {
     "duration": 0.008766,
     "end_time": "2025-01-18T04:23:06.307160",
     "exception": false,
     "start_time": "2025-01-18T04:23:06.298394",
     "status": "completed"
    },
    "tags": []
   },
   "outputs": [],
   "source": [
    "# debiased_model.base_estimator.best_config"
   ]
  }
 ],
 "metadata": {
  "kernelspec": {
   "display_name": "aif360",
   "language": "python",
   "name": "aif360"
  },
  "language_info": {
   "codemirror_mode": {
    "name": "ipython",
    "version": 3
   },
   "file_extension": ".py",
   "mimetype": "text/x-python",
   "name": "python",
   "nbconvert_exporter": "python",
   "pygments_lexer": "ipython3",
   "version": "3.10.15"
  },
  "papermill": {
   "default_parameters": {},
   "duration": 141.670304,
   "end_time": "2025-01-18T04:23:07.425839",
   "environment_variables": {},
   "exception": null,
   "input_path": "2_tune_adult.ipynb",
   "output_path": "2_tune_adult_rendered.ipynb",
   "parameters": {},
   "start_time": "2025-01-18T04:20:45.755535",
   "version": "2.6.0"
  }
 },
 "nbformat": 4,
 "nbformat_minor": 5
}
