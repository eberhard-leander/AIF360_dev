{
 "cells": [
  {
   "cell_type": "markdown",
   "metadata": {},
   "source": [
    "#### This notebook demonstrates the use of adversarial debiasing algorithm to learn a fair classifier.\n",
    "Adversarial debiasing [1] is an in-processing technique that learns a classifier to maximize prediction accuracy and simultaneously reduce an adversary's ability to determine the protected attribute from the predictions. This approach leads to a fair classifier as the predictions cannot carry any group discrimination information that the adversary can exploit. We will see how to use this algorithm for learning models with and without fairness constraints and apply them on the Adult dataset."
   ]
  },
  {
   "cell_type": "code",
   "execution_count": 1,
   "metadata": {},
   "outputs": [
    {
     "name": "stderr",
     "output_type": "stream",
     "text": [
      "2024-12-09 19:59:37.912380: I tensorflow/core/util/port.cc:111] oneDNN custom operations are on. You may see slightly different numerical results due to floating-point round-off errors from different computation orders. To turn them off, set the environment variable `TF_ENABLE_ONEDNN_OPTS=0`.\n",
      "2024-12-09 19:59:37.914571: I tensorflow/tsl/cuda/cudart_stub.cc:28] Could not find cuda drivers on your machine, GPU will not be used.\n",
      "2024-12-09 19:59:37.943808: E tensorflow/compiler/xla/stream_executor/cuda/cuda_dnn.cc:9342] Unable to register cuDNN factory: Attempting to register factory for plugin cuDNN when one has already been registered\n",
      "2024-12-09 19:59:37.943836: E tensorflow/compiler/xla/stream_executor/cuda/cuda_fft.cc:609] Unable to register cuFFT factory: Attempting to register factory for plugin cuFFT when one has already been registered\n",
      "2024-12-09 19:59:37.943864: E tensorflow/compiler/xla/stream_executor/cuda/cuda_blas.cc:1518] Unable to register cuBLAS factory: Attempting to register factory for plugin cuBLAS when one has already been registered\n",
      "2024-12-09 19:59:37.950164: I tensorflow/tsl/cuda/cudart_stub.cc:28] Could not find cuda drivers on your machine, GPU will not be used.\n",
      "2024-12-09 19:59:37.951029: I tensorflow/core/platform/cpu_feature_guard.cc:182] This TensorFlow binary is optimized to use available CPU instructions in performance-critical operations.\n",
      "To enable the following instructions: AVX2 AVX512F AVX512_VNNI AVX512_BF16 AVX_VNNI AMX_TILE AMX_INT8 AMX_BF16 FMA, in other operations, rebuild TensorFlow with the appropriate compiler flags.\n",
      "2024-12-09 19:59:38.553536: W tensorflow/compiler/tf2tensorrt/utils/py_utils.cc:38] TF-TRT Warning: Could not find TensorRT\n"
     ]
    }
   ],
   "source": [
    "%matplotlib inline\n",
    "# Load all necessary packages\n",
    "import sys\n",
    "\n",
    "sys.path.append(\"../\")\n",
    "from aif360.datasets import BinaryLabelDataset\n",
    "from aif360.datasets import AdultDataset, GermanDataset, CompasDataset\n",
    "from aif360.metrics import BinaryLabelDatasetMetric\n",
    "from aif360.metrics import ClassificationMetric\n",
    "from aif360.metrics.utils import compute_boolean_conditioning_vector\n",
    "\n",
    "from aif360.algorithms.preprocessing.optim_preproc_helpers.data_preproc_functions import (\n",
    "    load_preproc_data_adult,\n",
    "    load_preproc_data_compas,\n",
    "    load_preproc_data_german,\n",
    ")\n",
    "\n",
    "from aif360.algorithms.inprocessing.adversarial_debiasing import AdversarialDebiasing\n",
    "\n",
    "from sklearn.linear_model import LogisticRegression\n",
    "from sklearn.preprocessing import StandardScaler, MaxAbsScaler\n",
    "from sklearn.metrics import accuracy_score\n",
    "\n",
    "from IPython.display import Markdown, display\n",
    "import matplotlib.pyplot as plt\n",
    "\n",
    "import tensorflow.compat.v1 as tf\n",
    "\n",
    "import numpy as np\n",
    "import pandas as pd\n",
    "\n",
    "tf.disable_eager_execution()"
   ]
  },
  {
   "cell_type": "code",
   "execution_count": 2,
   "metadata": {},
   "outputs": [],
   "source": [
    "NUM_EPOCHS = 50\n",
    "SEED = 1\n",
    "\n",
    "np.random.seed(SEED)"
   ]
  },
  {
   "cell_type": "markdown",
   "metadata": {},
   "source": [
    "#### Load dataset and set options"
   ]
  },
  {
   "cell_type": "code",
   "execution_count": 3,
   "metadata": {},
   "outputs": [],
   "source": [
    "# Get the dataset and split into train and test\n",
    "dataset_orig = load_preproc_data_adult()\n",
    "\n",
    "privileged_groups = [{\"sex\": 1}]\n",
    "unprivileged_groups = [{\"sex\": 0}]\n",
    "\n",
    "dataset_orig_train, dataset_orig_test = dataset_orig.split([0.7], shuffle=True)"
   ]
  },
  {
   "cell_type": "code",
   "execution_count": 4,
   "metadata": {},
   "outputs": [
    {
     "data": {
      "text/markdown": [
       "#### Training Dataset shape"
      ],
      "text/plain": [
       "<IPython.core.display.Markdown object>"
      ]
     },
     "metadata": {},
     "output_type": "display_data"
    },
    {
     "name": "stdout",
     "output_type": "stream",
     "text": [
      "(34189, 18)\n"
     ]
    },
    {
     "data": {
      "text/markdown": [
       "#### Favorable and unfavorable labels"
      ],
      "text/plain": [
       "<IPython.core.display.Markdown object>"
      ]
     },
     "metadata": {},
     "output_type": "display_data"
    },
    {
     "name": "stdout",
     "output_type": "stream",
     "text": [
      "1.0 0.0\n"
     ]
    },
    {
     "data": {
      "text/markdown": [
       "#### Protected attribute names"
      ],
      "text/plain": [
       "<IPython.core.display.Markdown object>"
      ]
     },
     "metadata": {},
     "output_type": "display_data"
    },
    {
     "name": "stdout",
     "output_type": "stream",
     "text": [
      "['sex', 'race']\n"
     ]
    },
    {
     "data": {
      "text/markdown": [
       "#### Privileged and unprivileged protected attribute values"
      ],
      "text/plain": [
       "<IPython.core.display.Markdown object>"
      ]
     },
     "metadata": {},
     "output_type": "display_data"
    },
    {
     "name": "stdout",
     "output_type": "stream",
     "text": [
      "[array([1.]), array([1.])] [array([0.]), array([0.])]\n"
     ]
    },
    {
     "data": {
      "text/markdown": [
       "#### Dataset feature names"
      ],
      "text/plain": [
       "<IPython.core.display.Markdown object>"
      ]
     },
     "metadata": {},
     "output_type": "display_data"
    },
    {
     "name": "stdout",
     "output_type": "stream",
     "text": [
      "['race', 'sex', 'Age (decade)=10', 'Age (decade)=20', 'Age (decade)=30', 'Age (decade)=40', 'Age (decade)=50', 'Age (decade)=60', 'Age (decade)=>=70', 'Education Years=6', 'Education Years=7', 'Education Years=8', 'Education Years=9', 'Education Years=10', 'Education Years=11', 'Education Years=12', 'Education Years=<6', 'Education Years=>12']\n"
     ]
    }
   ],
   "source": [
    "# print out some labels, names, etc.\n",
    "display(Markdown(\"#### Training Dataset shape\"))\n",
    "print(dataset_orig_train.features.shape)\n",
    "display(Markdown(\"#### Favorable and unfavorable labels\"))\n",
    "print(dataset_orig_train.favorable_label, dataset_orig_train.unfavorable_label)\n",
    "display(Markdown(\"#### Protected attribute names\"))\n",
    "print(dataset_orig_train.protected_attribute_names)\n",
    "display(Markdown(\"#### Privileged and unprivileged protected attribute values\"))\n",
    "print(\n",
    "    dataset_orig_train.privileged_protected_attributes,\n",
    "    dataset_orig_train.unprivileged_protected_attributes,\n",
    ")\n",
    "display(Markdown(\"#### Dataset feature names\"))\n",
    "print(dataset_orig_train.feature_names)"
   ]
  },
  {
   "cell_type": "markdown",
   "metadata": {},
   "source": [
    "#### Metric for original training data"
   ]
  },
  {
   "cell_type": "code",
   "execution_count": 5,
   "metadata": {},
   "outputs": [
    {
     "data": {
      "text/markdown": [
       "#### Original training dataset"
      ],
      "text/plain": [
       "<IPython.core.display.Markdown object>"
      ]
     },
     "metadata": {},
     "output_type": "display_data"
    },
    {
     "name": "stdout",
     "output_type": "stream",
     "text": [
      "Train set: Difference in mean outcomes between unprivileged and privileged groups = -0.190244\n",
      "Test set: Difference in mean outcomes between unprivileged and privileged groups = -0.204482\n"
     ]
    }
   ],
   "source": [
    "# Metric for the original dataset\n",
    "metric_orig_train = BinaryLabelDatasetMetric(\n",
    "    dataset_orig_train,\n",
    "    unprivileged_groups=unprivileged_groups,\n",
    "    privileged_groups=privileged_groups,\n",
    ")\n",
    "display(Markdown(\"#### Original training dataset\"))\n",
    "print(\n",
    "    \"Train set: Difference in mean outcomes between unprivileged and privileged groups = %f\"\n",
    "    % metric_orig_train.mean_difference()\n",
    ")\n",
    "metric_orig_test = BinaryLabelDatasetMetric(\n",
    "    dataset_orig_test,\n",
    "    unprivileged_groups=unprivileged_groups,\n",
    "    privileged_groups=privileged_groups,\n",
    ")\n",
    "print(\n",
    "    \"Test set: Difference in mean outcomes between unprivileged and privileged groups = %f\"\n",
    "    % metric_orig_test.mean_difference()\n",
    ")"
   ]
  },
  {
   "cell_type": "code",
   "execution_count": 6,
   "metadata": {},
   "outputs": [
    {
     "data": {
      "text/markdown": [
       "#### Scaled dataset - Verify that the scaling does not affect the group label statistics"
      ],
      "text/plain": [
       "<IPython.core.display.Markdown object>"
      ]
     },
     "metadata": {},
     "output_type": "display_data"
    },
    {
     "name": "stdout",
     "output_type": "stream",
     "text": [
      "Train set: Difference in mean outcomes between unprivileged and privileged groups = -0.190244\n",
      "Test set: Difference in mean outcomes between unprivileged and privileged groups = -0.204482\n"
     ]
    }
   ],
   "source": [
    "min_max_scaler = MaxAbsScaler()\n",
    "dataset_orig_train.features = min_max_scaler.fit_transform(dataset_orig_train.features)\n",
    "dataset_orig_test.features = min_max_scaler.transform(dataset_orig_test.features)\n",
    "metric_scaled_train = BinaryLabelDatasetMetric(\n",
    "    dataset_orig_train,\n",
    "    unprivileged_groups=unprivileged_groups,\n",
    "    privileged_groups=privileged_groups,\n",
    ")\n",
    "display(\n",
    "    Markdown(\n",
    "        \"#### Scaled dataset - Verify that the scaling does not affect the group label statistics\"\n",
    "    )\n",
    ")\n",
    "print(\n",
    "    \"Train set: Difference in mean outcomes between unprivileged and privileged groups = %f\"\n",
    "    % metric_scaled_train.mean_difference()\n",
    ")\n",
    "metric_scaled_test = BinaryLabelDatasetMetric(\n",
    "    dataset_orig_test,\n",
    "    unprivileged_groups=unprivileged_groups,\n",
    "    privileged_groups=privileged_groups,\n",
    ")\n",
    "print(\n",
    "    \"Test set: Difference in mean outcomes between unprivileged and privileged groups = %f\"\n",
    "    % metric_scaled_test.mean_difference()\n",
    ")"
   ]
  },
  {
   "cell_type": "markdown",
   "metadata": {},
   "source": [
    "### Learn plan classifier without debiasing"
   ]
  },
  {
   "cell_type": "code",
   "execution_count": null,
   "metadata": {},
   "outputs": [],
   "source": [
    "# Load post-processing algorithm that equalizes the odds\n",
    "# Learn parameters with debias set to False\n",
    "sess = tf.Session()\n",
    "plain_model = AdversarialDebiasing(\n",
    "    privileged_groups=privileged_groups,\n",
    "    unprivileged_groups=unprivileged_groups,\n",
    "    scope_name=\"plain_classifier\",\n",
    "    debias=False,\n",
    "    sess=sess,\n",
    "    num_epochs=NUM_EPOCHS,\n",
    "    seed=SEED,\n",
    ")"
   ]
  },
  {
   "cell_type": "code",
   "execution_count": 8,
   "metadata": {
    "scrolled": true
   },
   "outputs": [
    {
     "name": "stdout",
     "output_type": "stream",
     "text": [
      "WARNING:tensorflow:From /home/ubuntu/miniconda3/envs/aif360/lib/python3.10/site-packages/tensorflow/python/util/dispatch.py:1260: calling dropout (from tensorflow.python.ops.nn_ops) with keep_prob is deprecated and will be removed in a future version.\n",
      "Instructions for updating:\n",
      "Please use `rate` instead of `keep_prob`. Rate should be set to `rate = 1 - keep_prob`.\n",
      "epoch 0; iter: 0; batch classifier loss: 0.765594\n"
     ]
    },
    {
     "name": "stderr",
     "output_type": "stream",
     "text": [
      "2024-12-09 19:59:41.354684: I tensorflow/compiler/mlir/mlir_graph_optimization_pass.cc:382] MLIR V1 optimization pass is not enabled\n"
     ]
    },
    {
     "name": "stdout",
     "output_type": "stream",
     "text": [
      "epoch 0; iter: 200; batch classifier loss: 0.397594\n",
      "epoch 1; iter: 0; batch classifier loss: 0.404856\n",
      "epoch 1; iter: 200; batch classifier loss: 0.326321\n",
      "epoch 2; iter: 0; batch classifier loss: 0.350711\n",
      "epoch 2; iter: 200; batch classifier loss: 0.494848\n",
      "epoch 3; iter: 0; batch classifier loss: 0.519571\n",
      "epoch 3; iter: 200; batch classifier loss: 0.500756\n",
      "epoch 4; iter: 0; batch classifier loss: 0.468232\n",
      "epoch 4; iter: 200; batch classifier loss: 0.445431\n",
      "epoch 5; iter: 0; batch classifier loss: 0.375359\n",
      "epoch 5; iter: 200; batch classifier loss: 0.497606\n",
      "epoch 6; iter: 0; batch classifier loss: 0.462785\n",
      "epoch 6; iter: 200; batch classifier loss: 0.418034\n",
      "epoch 7; iter: 0; batch classifier loss: 0.434241\n",
      "epoch 7; iter: 200; batch classifier loss: 0.393653\n",
      "epoch 8; iter: 0; batch classifier loss: 0.403229\n",
      "epoch 8; iter: 200; batch classifier loss: 0.536279\n",
      "epoch 9; iter: 0; batch classifier loss: 0.369118\n",
      "epoch 9; iter: 200; batch classifier loss: 0.398182\n",
      "epoch 10; iter: 0; batch classifier loss: 0.423371\n",
      "epoch 10; iter: 200; batch classifier loss: 0.398988\n",
      "epoch 11; iter: 0; batch classifier loss: 0.421774\n",
      "epoch 11; iter: 200; batch classifier loss: 0.382192\n",
      "epoch 12; iter: 0; batch classifier loss: 0.390207\n",
      "epoch 12; iter: 200; batch classifier loss: 0.437247\n",
      "epoch 13; iter: 0; batch classifier loss: 0.481505\n",
      "epoch 13; iter: 200; batch classifier loss: 0.379015\n",
      "epoch 14; iter: 0; batch classifier loss: 0.399184\n",
      "epoch 14; iter: 200; batch classifier loss: 0.493150\n",
      "epoch 15; iter: 0; batch classifier loss: 0.414089\n",
      "epoch 15; iter: 200; batch classifier loss: 0.372546\n",
      "epoch 16; iter: 0; batch classifier loss: 0.312371\n",
      "epoch 16; iter: 200; batch classifier loss: 0.388461\n",
      "epoch 17; iter: 0; batch classifier loss: 0.461338\n",
      "epoch 17; iter: 200; batch classifier loss: 0.332762\n",
      "epoch 18; iter: 0; batch classifier loss: 0.421684\n",
      "epoch 18; iter: 200; batch classifier loss: 0.386823\n",
      "epoch 19; iter: 0; batch classifier loss: 0.487428\n",
      "epoch 19; iter: 200; batch classifier loss: 0.434410\n",
      "epoch 20; iter: 0; batch classifier loss: 0.379242\n",
      "epoch 20; iter: 200; batch classifier loss: 0.409856\n",
      "epoch 21; iter: 0; batch classifier loss: 0.459341\n",
      "epoch 21; iter: 200; batch classifier loss: 0.509833\n",
      "epoch 22; iter: 0; batch classifier loss: 0.508698\n",
      "epoch 22; iter: 200; batch classifier loss: 0.451468\n",
      "epoch 23; iter: 0; batch classifier loss: 0.407931\n",
      "epoch 23; iter: 200; batch classifier loss: 0.567859\n",
      "epoch 24; iter: 0; batch classifier loss: 0.369389\n",
      "epoch 24; iter: 200; batch classifier loss: 0.428750\n",
      "epoch 25; iter: 0; batch classifier loss: 0.340493\n",
      "epoch 25; iter: 200; batch classifier loss: 0.402700\n",
      "epoch 26; iter: 0; batch classifier loss: 0.415787\n",
      "epoch 26; iter: 200; batch classifier loss: 0.361397\n",
      "epoch 27; iter: 0; batch classifier loss: 0.507152\n",
      "epoch 27; iter: 200; batch classifier loss: 0.391631\n",
      "epoch 28; iter: 0; batch classifier loss: 0.414579\n",
      "epoch 28; iter: 200; batch classifier loss: 0.411044\n",
      "epoch 29; iter: 0; batch classifier loss: 0.427924\n",
      "epoch 29; iter: 200; batch classifier loss: 0.426605\n",
      "epoch 30; iter: 0; batch classifier loss: 0.573609\n",
      "epoch 30; iter: 200; batch classifier loss: 0.440873\n",
      "epoch 31; iter: 0; batch classifier loss: 0.437413\n",
      "epoch 31; iter: 200; batch classifier loss: 0.456647\n",
      "epoch 32; iter: 0; batch classifier loss: 0.388217\n",
      "epoch 32; iter: 200; batch classifier loss: 0.420976\n",
      "epoch 33; iter: 0; batch classifier loss: 0.403192\n",
      "epoch 33; iter: 200; batch classifier loss: 0.446408\n",
      "epoch 34; iter: 0; batch classifier loss: 0.461411\n",
      "epoch 34; iter: 200; batch classifier loss: 0.364941\n",
      "epoch 35; iter: 0; batch classifier loss: 0.398727\n",
      "epoch 35; iter: 200; batch classifier loss: 0.432498\n",
      "epoch 36; iter: 0; batch classifier loss: 0.431648\n",
      "epoch 36; iter: 200; batch classifier loss: 0.411217\n",
      "epoch 37; iter: 0; batch classifier loss: 0.482901\n",
      "epoch 37; iter: 200; batch classifier loss: 0.421567\n",
      "epoch 38; iter: 0; batch classifier loss: 0.425709\n",
      "epoch 38; iter: 200; batch classifier loss: 0.380824\n",
      "epoch 39; iter: 0; batch classifier loss: 0.496349\n",
      "epoch 39; iter: 200; batch classifier loss: 0.440958\n",
      "epoch 40; iter: 0; batch classifier loss: 0.420193\n",
      "epoch 40; iter: 200; batch classifier loss: 0.386137\n",
      "epoch 41; iter: 0; batch classifier loss: 0.465859\n",
      "epoch 41; iter: 200; batch classifier loss: 0.279028\n",
      "epoch 42; iter: 0; batch classifier loss: 0.398128\n",
      "epoch 42; iter: 200; batch classifier loss: 0.422614\n",
      "epoch 43; iter: 0; batch classifier loss: 0.462120\n",
      "epoch 43; iter: 200; batch classifier loss: 0.442930\n",
      "epoch 44; iter: 0; batch classifier loss: 0.462822\n",
      "epoch 44; iter: 200; batch classifier loss: 0.362554\n",
      "epoch 45; iter: 0; batch classifier loss: 0.409395\n",
      "epoch 45; iter: 200; batch classifier loss: 0.364547\n",
      "epoch 46; iter: 0; batch classifier loss: 0.398150\n",
      "epoch 46; iter: 200; batch classifier loss: 0.398440\n",
      "epoch 47; iter: 0; batch classifier loss: 0.382539\n",
      "epoch 47; iter: 200; batch classifier loss: 0.401545\n",
      "epoch 48; iter: 0; batch classifier loss: 0.416000\n",
      "epoch 48; iter: 200; batch classifier loss: 0.372416\n",
      "epoch 49; iter: 0; batch classifier loss: 0.390531\n",
      "epoch 49; iter: 200; batch classifier loss: 0.395290\n"
     ]
    },
    {
     "data": {
      "text/plain": [
       "<aif360.algorithms.inprocessing.adversarial_debiasing.AdversarialDebiasing at 0x7f0e5fa7b3a0>"
      ]
     },
     "execution_count": 8,
     "metadata": {},
     "output_type": "execute_result"
    }
   ],
   "source": [
    "plain_model.fit(dataset_orig_train)"
   ]
  },
  {
   "cell_type": "code",
   "execution_count": 9,
   "metadata": {},
   "outputs": [],
   "source": [
    "# Apply the plain model to test data\n",
    "dataset_nodebiasing_train = plain_model.predict(dataset_orig_train)\n",
    "dataset_nodebiasing_test = plain_model.predict(dataset_orig_test)"
   ]
  },
  {
   "cell_type": "code",
   "execution_count": 10,
   "metadata": {},
   "outputs": [
    {
     "data": {
      "text/markdown": [
       "#### Plain model - without debiasing - dataset metrics"
      ],
      "text/plain": [
       "<IPython.core.display.Markdown object>"
      ]
     },
     "metadata": {},
     "output_type": "display_data"
    },
    {
     "name": "stdout",
     "output_type": "stream",
     "text": [
      "Train set: Difference in mean outcomes between unprivileged and privileged groups = -0.234486\n",
      "Test set: Difference in mean outcomes between unprivileged and privileged groups = -0.240213\n"
     ]
    },
    {
     "data": {
      "text/markdown": [
       "#### Plain model - without debiasing - classification metrics"
      ],
      "text/plain": [
       "<IPython.core.display.Markdown object>"
      ]
     },
     "metadata": {},
     "output_type": "display_data"
    },
    {
     "name": "stdout",
     "output_type": "stream",
     "text": [
      "Test set: Classification accuracy = 0.802839\n",
      "Test set: Balanced classification accuracy = 0.674101\n",
      "Test set: Disparate impact = 0.000000\n",
      "Test set: Equal opportunity difference = -0.496213\n",
      "Test set: Average odds difference = -0.310588\n",
      "Test set: Theil_index = 0.172554\n"
     ]
    }
   ],
   "source": [
    "# Metrics for the dataset from plain model (without debiasing)\n",
    "display(Markdown(\"#### Plain model - without debiasing - dataset metrics\"))\n",
    "metric_dataset_nodebiasing_train = BinaryLabelDatasetMetric(\n",
    "    dataset_nodebiasing_train,\n",
    "    unprivileged_groups=unprivileged_groups,\n",
    "    privileged_groups=privileged_groups,\n",
    ")\n",
    "\n",
    "print(\n",
    "    \"Train set: Difference in mean outcomes between unprivileged and privileged groups = %f\"\n",
    "    % metric_dataset_nodebiasing_train.mean_difference()\n",
    ")\n",
    "\n",
    "metric_dataset_nodebiasing_test = BinaryLabelDatasetMetric(\n",
    "    dataset_nodebiasing_test,\n",
    "    unprivileged_groups=unprivileged_groups,\n",
    "    privileged_groups=privileged_groups,\n",
    ")\n",
    "\n",
    "print(\n",
    "    \"Test set: Difference in mean outcomes between unprivileged and privileged groups = %f\"\n",
    "    % metric_dataset_nodebiasing_test.mean_difference()\n",
    ")\n",
    "\n",
    "display(Markdown(\"#### Plain model - without debiasing - classification metrics\"))\n",
    "classified_metric_nodebiasing_test = ClassificationMetric(\n",
    "    dataset_orig_test,\n",
    "    dataset_nodebiasing_test,\n",
    "    unprivileged_groups=unprivileged_groups,\n",
    "    privileged_groups=privileged_groups,\n",
    ")\n",
    "print(\n",
    "    \"Test set: Classification accuracy = %f\"\n",
    "    % classified_metric_nodebiasing_test.accuracy()\n",
    ")\n",
    "TPR = classified_metric_nodebiasing_test.true_positive_rate()\n",
    "TNR = classified_metric_nodebiasing_test.true_negative_rate()\n",
    "bal_acc_nodebiasing_test = 0.5 * (TPR + TNR)\n",
    "print(\"Test set: Balanced classification accuracy = %f\" % bal_acc_nodebiasing_test)\n",
    "print(\n",
    "    \"Test set: Disparate impact = %f\"\n",
    "    % classified_metric_nodebiasing_test.disparate_impact()\n",
    ")\n",
    "print(\n",
    "    \"Test set: Equal opportunity difference = %f\"\n",
    "    % classified_metric_nodebiasing_test.equal_opportunity_difference()\n",
    ")\n",
    "print(\n",
    "    \"Test set: Average odds difference = %f\"\n",
    "    % classified_metric_nodebiasing_test.average_odds_difference()\n",
    ")\n",
    "print(\"Test set: Theil_index = %f\" % classified_metric_nodebiasing_test.theil_index())"
   ]
  },
  {
   "cell_type": "markdown",
   "metadata": {},
   "source": [
    "### Apply in-processing algorithm based on adversarial learning"
   ]
  },
  {
   "cell_type": "code",
   "execution_count": 11,
   "metadata": {},
   "outputs": [],
   "source": [
    "tf.reset_default_graph()\n",
    "sess2 = tf.Session()"
   ]
  },
  {
   "cell_type": "code",
   "execution_count": 12,
   "metadata": {},
   "outputs": [],
   "source": [
    "# Learn parameters with debias set to True\n",
    "debiased_model = AdversarialDebiasing(\n",
    "    privileged_groups=privileged_groups,\n",
    "    unprivileged_groups=unprivileged_groups,\n",
    "    scope_name=\"debiased_classifier\",\n",
    "    adversary_loss_weight=0.1,\n",
    "    debias=True,\n",
    "    sess=sess2,\n",
    "    num_epochs=NUM_EPOCHS,\n",
    "    seed=SEED,\n",
    ")"
   ]
  },
  {
   "cell_type": "code",
   "execution_count": 13,
   "metadata": {
    "scrolled": true
   },
   "outputs": [
    {
     "name": "stdout",
     "output_type": "stream",
     "text": [
      "epoch 0; iter: 0; batch classifier loss: 0.765594; batch adversarial loss: 0.790412\n",
      "epoch 0; iter: 200; batch classifier loss: 0.844750; batch adversarial loss: 0.759443\n",
      "epoch 1; iter: 0; batch classifier loss: 0.784072; batch adversarial loss: 0.702877\n",
      "epoch 1; iter: 200; batch classifier loss: 0.452323; batch adversarial loss: 0.677762\n",
      "epoch 2; iter: 0; batch classifier loss: 0.383183; batch adversarial loss: 0.674800\n",
      "epoch 2; iter: 200; batch classifier loss: 0.507451; batch adversarial loss: 0.631823\n",
      "epoch 3; iter: 0; batch classifier loss: 0.516562; batch adversarial loss: 0.637285\n",
      "epoch 3; iter: 200; batch classifier loss: 0.532662; batch adversarial loss: 0.615696\n",
      "epoch 4; iter: 0; batch classifier loss: 0.515124; batch adversarial loss: 0.637867\n",
      "epoch 4; iter: 200; batch classifier loss: 0.469652; batch adversarial loss: 0.638728\n",
      "epoch 5; iter: 0; batch classifier loss: 0.411972; batch adversarial loss: 0.627269\n",
      "epoch 5; iter: 200; batch classifier loss: 0.569593; batch adversarial loss: 0.639223\n",
      "epoch 6; iter: 0; batch classifier loss: 0.474520; batch adversarial loss: 0.631293\n",
      "epoch 6; iter: 200; batch classifier loss: 0.423694; batch adversarial loss: 0.676221\n",
      "epoch 7; iter: 0; batch classifier loss: 0.464037; batch adversarial loss: 0.654140\n",
      "epoch 7; iter: 200; batch classifier loss: 0.457503; batch adversarial loss: 0.613278\n",
      "epoch 8; iter: 0; batch classifier loss: 0.411078; batch adversarial loss: 0.660381\n",
      "epoch 8; iter: 200; batch classifier loss: 0.557103; batch adversarial loss: 0.613228\n",
      "epoch 9; iter: 0; batch classifier loss: 0.413630; batch adversarial loss: 0.634411\n",
      "epoch 9; iter: 200; batch classifier loss: 0.428288; batch adversarial loss: 0.640353\n",
      "epoch 10; iter: 0; batch classifier loss: 0.431812; batch adversarial loss: 0.624851\n",
      "epoch 10; iter: 200; batch classifier loss: 0.413348; batch adversarial loss: 0.602185\n",
      "epoch 11; iter: 0; batch classifier loss: 0.469545; batch adversarial loss: 0.603081\n",
      "epoch 11; iter: 200; batch classifier loss: 0.372469; batch adversarial loss: 0.622361\n",
      "epoch 12; iter: 0; batch classifier loss: 0.381724; batch adversarial loss: 0.602602\n",
      "epoch 12; iter: 200; batch classifier loss: 0.477884; batch adversarial loss: 0.639754\n",
      "epoch 13; iter: 0; batch classifier loss: 0.504918; batch adversarial loss: 0.642244\n",
      "epoch 13; iter: 200; batch classifier loss: 0.367828; batch adversarial loss: 0.636883\n",
      "epoch 14; iter: 0; batch classifier loss: 0.415500; batch adversarial loss: 0.604970\n",
      "epoch 14; iter: 200; batch classifier loss: 0.515254; batch adversarial loss: 0.624380\n",
      "epoch 15; iter: 0; batch classifier loss: 0.436388; batch adversarial loss: 0.650211\n",
      "epoch 15; iter: 200; batch classifier loss: 0.398727; batch adversarial loss: 0.591576\n",
      "epoch 16; iter: 0; batch classifier loss: 0.320231; batch adversarial loss: 0.590296\n",
      "epoch 16; iter: 200; batch classifier loss: 0.409468; batch adversarial loss: 0.621538\n",
      "epoch 17; iter: 0; batch classifier loss: 0.492127; batch adversarial loss: 0.636292\n",
      "epoch 17; iter: 200; batch classifier loss: 0.343647; batch adversarial loss: 0.586043\n",
      "epoch 18; iter: 0; batch classifier loss: 0.460783; batch adversarial loss: 0.603985\n",
      "epoch 18; iter: 200; batch classifier loss: 0.400629; batch adversarial loss: 0.606005\n",
      "epoch 19; iter: 0; batch classifier loss: 0.514340; batch adversarial loss: 0.573418\n",
      "epoch 19; iter: 200; batch classifier loss: 0.450785; batch adversarial loss: 0.614363\n",
      "epoch 20; iter: 0; batch classifier loss: 0.383247; batch adversarial loss: 0.606561\n",
      "epoch 20; iter: 200; batch classifier loss: 0.429726; batch adversarial loss: 0.578242\n",
      "epoch 21; iter: 0; batch classifier loss: 0.461081; batch adversarial loss: 0.625773\n",
      "epoch 21; iter: 200; batch classifier loss: 0.513310; batch adversarial loss: 0.566367\n",
      "epoch 22; iter: 0; batch classifier loss: 0.517436; batch adversarial loss: 0.616146\n",
      "epoch 22; iter: 200; batch classifier loss: 0.453145; batch adversarial loss: 0.577565\n",
      "epoch 23; iter: 0; batch classifier loss: 0.414402; batch adversarial loss: 0.658686\n",
      "epoch 23; iter: 200; batch classifier loss: 0.540229; batch adversarial loss: 0.660699\n",
      "epoch 24; iter: 0; batch classifier loss: 0.366008; batch adversarial loss: 0.591151\n",
      "epoch 24; iter: 200; batch classifier loss: 0.443200; batch adversarial loss: 0.553541\n",
      "epoch 25; iter: 0; batch classifier loss: 0.361273; batch adversarial loss: 0.586929\n",
      "epoch 25; iter: 200; batch classifier loss: 0.429407; batch adversarial loss: 0.590683\n",
      "epoch 26; iter: 0; batch classifier loss: 0.411153; batch adversarial loss: 0.616745\n",
      "epoch 26; iter: 200; batch classifier loss: 0.379322; batch adversarial loss: 0.635941\n",
      "epoch 27; iter: 0; batch classifier loss: 0.506930; batch adversarial loss: 0.599254\n",
      "epoch 27; iter: 200; batch classifier loss: 0.404811; batch adversarial loss: 0.570421\n",
      "epoch 28; iter: 0; batch classifier loss: 0.429713; batch adversarial loss: 0.588197\n",
      "epoch 28; iter: 200; batch classifier loss: 0.430757; batch adversarial loss: 0.610872\n",
      "epoch 29; iter: 0; batch classifier loss: 0.437218; batch adversarial loss: 0.624856\n",
      "epoch 29; iter: 200; batch classifier loss: 0.430539; batch adversarial loss: 0.646195\n",
      "epoch 30; iter: 0; batch classifier loss: 0.575550; batch adversarial loss: 0.596625\n",
      "epoch 30; iter: 200; batch classifier loss: 0.477214; batch adversarial loss: 0.585260\n",
      "epoch 31; iter: 0; batch classifier loss: 0.433606; batch adversarial loss: 0.595776\n",
      "epoch 31; iter: 200; batch classifier loss: 0.460708; batch adversarial loss: 0.652665\n",
      "epoch 32; iter: 0; batch classifier loss: 0.431145; batch adversarial loss: 0.555770\n",
      "epoch 32; iter: 200; batch classifier loss: 0.407730; batch adversarial loss: 0.641190\n",
      "epoch 33; iter: 0; batch classifier loss: 0.420057; batch adversarial loss: 0.587391\n",
      "epoch 33; iter: 200; batch classifier loss: 0.489168; batch adversarial loss: 0.566581\n",
      "epoch 34; iter: 0; batch classifier loss: 0.479987; batch adversarial loss: 0.602412\n",
      "epoch 34; iter: 200; batch classifier loss: 0.385084; batch adversarial loss: 0.661660\n",
      "epoch 35; iter: 0; batch classifier loss: 0.425216; batch adversarial loss: 0.638114\n",
      "epoch 35; iter: 200; batch classifier loss: 0.417355; batch adversarial loss: 0.586208\n",
      "epoch 36; iter: 0; batch classifier loss: 0.448624; batch adversarial loss: 0.655344\n",
      "epoch 36; iter: 200; batch classifier loss: 0.426134; batch adversarial loss: 0.656619\n",
      "epoch 37; iter: 0; batch classifier loss: 0.472022; batch adversarial loss: 0.673968\n",
      "epoch 37; iter: 200; batch classifier loss: 0.438104; batch adversarial loss: 0.600310\n",
      "epoch 38; iter: 0; batch classifier loss: 0.408289; batch adversarial loss: 0.642238\n",
      "epoch 38; iter: 200; batch classifier loss: 0.395873; batch adversarial loss: 0.596162\n",
      "epoch 39; iter: 0; batch classifier loss: 0.498599; batch adversarial loss: 0.587274\n",
      "epoch 39; iter: 200; batch classifier loss: 0.422525; batch adversarial loss: 0.593158\n",
      "epoch 40; iter: 0; batch classifier loss: 0.439546; batch adversarial loss: 0.618657\n",
      "epoch 40; iter: 200; batch classifier loss: 0.397021; batch adversarial loss: 0.642608\n",
      "epoch 41; iter: 0; batch classifier loss: 0.472951; batch adversarial loss: 0.583762\n",
      "epoch 41; iter: 200; batch classifier loss: 0.285954; batch adversarial loss: 0.592038\n",
      "epoch 42; iter: 0; batch classifier loss: 0.399687; batch adversarial loss: 0.595014\n",
      "epoch 42; iter: 200; batch classifier loss: 0.445186; batch adversarial loss: 0.591220\n",
      "epoch 43; iter: 0; batch classifier loss: 0.458207; batch adversarial loss: 0.622524\n",
      "epoch 43; iter: 200; batch classifier loss: 0.416855; batch adversarial loss: 0.609302\n",
      "epoch 44; iter: 0; batch classifier loss: 0.505854; batch adversarial loss: 0.534444\n",
      "epoch 44; iter: 200; batch classifier loss: 0.378807; batch adversarial loss: 0.582728\n",
      "epoch 45; iter: 0; batch classifier loss: 0.452215; batch adversarial loss: 0.593041\n",
      "epoch 45; iter: 200; batch classifier loss: 0.393757; batch adversarial loss: 0.662814\n",
      "epoch 46; iter: 0; batch classifier loss: 0.400735; batch adversarial loss: 0.559755\n",
      "epoch 46; iter: 200; batch classifier loss: 0.415774; batch adversarial loss: 0.658313\n",
      "epoch 47; iter: 0; batch classifier loss: 0.426375; batch adversarial loss: 0.580994\n",
      "epoch 47; iter: 200; batch classifier loss: 0.430975; batch adversarial loss: 0.600858\n",
      "epoch 48; iter: 0; batch classifier loss: 0.425452; batch adversarial loss: 0.609893\n",
      "epoch 48; iter: 200; batch classifier loss: 0.396084; batch adversarial loss: 0.659829\n",
      "epoch 49; iter: 0; batch classifier loss: 0.383549; batch adversarial loss: 0.582190\n",
      "epoch 49; iter: 200; batch classifier loss: 0.417588; batch adversarial loss: 0.599883\n"
     ]
    },
    {
     "data": {
      "text/plain": [
       "<aif360.algorithms.inprocessing.adversarial_debiasing.AdversarialDebiasing at 0x7f0e5fa7b7f0>"
      ]
     },
     "execution_count": 13,
     "metadata": {},
     "output_type": "execute_result"
    }
   ],
   "source": [
    "debiased_model.fit(dataset_orig_train)"
   ]
  },
  {
   "cell_type": "code",
   "execution_count": 14,
   "metadata": {},
   "outputs": [],
   "source": [
    "# Apply the plain model to test data\n",
    "dataset_debiasing_train = debiased_model.predict(dataset_orig_train)\n",
    "dataset_debiasing_test = debiased_model.predict(dataset_orig_test)"
   ]
  },
  {
   "cell_type": "code",
   "execution_count": 15,
   "metadata": {},
   "outputs": [
    {
     "data": {
      "text/markdown": [
       "#### Plain model - without debiasing - dataset metrics"
      ],
      "text/plain": [
       "<IPython.core.display.Markdown object>"
      ]
     },
     "metadata": {},
     "output_type": "display_data"
    },
    {
     "name": "stdout",
     "output_type": "stream",
     "text": [
      "Train set: Difference in mean outcomes between unprivileged and privileged groups = -0.234486\n",
      "Test set: Difference in mean outcomes between unprivileged and privileged groups = -0.240213\n"
     ]
    },
    {
     "data": {
      "text/markdown": [
       "#### Model - with debiasing - dataset metrics"
      ],
      "text/plain": [
       "<IPython.core.display.Markdown object>"
      ]
     },
     "metadata": {},
     "output_type": "display_data"
    },
    {
     "name": "stdout",
     "output_type": "stream",
     "text": [
      "Train set: Difference in mean outcomes between unprivileged and privileged groups = -0.085338\n",
      "Test set: Difference in mean outcomes between unprivileged and privileged groups = -0.090867\n"
     ]
    },
    {
     "data": {
      "text/markdown": [
       "#### Plain model - without debiasing - classification metrics"
      ],
      "text/plain": [
       "<IPython.core.display.Markdown object>"
      ]
     },
     "metadata": {},
     "output_type": "display_data"
    },
    {
     "name": "stdout",
     "output_type": "stream",
     "text": [
      "Test set: Classification accuracy = 0.802839\n",
      "Test set: Balanced classification accuracy = 0.674101\n",
      "Test set: Disparate impact = 0.000000\n",
      "Test set: Equal opportunity difference = -0.496213\n",
      "Test set: Average odds difference = -0.310588\n",
      "Test set: Theil_index = 0.172554\n"
     ]
    },
    {
     "data": {
      "text/markdown": [
       "#### Model - with debiasing - classification metrics"
      ],
      "text/plain": [
       "<IPython.core.display.Markdown object>"
      ]
     },
     "metadata": {},
     "output_type": "display_data"
    },
    {
     "name": "stdout",
     "output_type": "stream",
     "text": [
      "Test set: Classification accuracy = 0.789872\n",
      "Test set: Balanced classification accuracy = 0.668892\n",
      "Test set: Disparate impact = 0.563813\n",
      "Test set: Equal opportunity difference = -0.061088\n",
      "Test set: Average odds difference = -0.038844\n",
      "Test set: Theil_index = 0.174511\n"
     ]
    }
   ],
   "source": [
    "# Metrics for the dataset from plain model (without debiasing)\n",
    "display(Markdown(\"#### Plain model - without debiasing - dataset metrics\"))\n",
    "print(\n",
    "    \"Train set: Difference in mean outcomes between unprivileged and privileged groups = %f\"\n",
    "    % metric_dataset_nodebiasing_train.mean_difference()\n",
    ")\n",
    "print(\n",
    "    \"Test set: Difference in mean outcomes between unprivileged and privileged groups = %f\"\n",
    "    % metric_dataset_nodebiasing_test.mean_difference()\n",
    ")\n",
    "\n",
    "# Metrics for the dataset from model with debiasing\n",
    "display(Markdown(\"#### Model - with debiasing - dataset metrics\"))\n",
    "metric_dataset_debiasing_train = BinaryLabelDatasetMetric(\n",
    "    dataset_debiasing_train,\n",
    "    unprivileged_groups=unprivileged_groups,\n",
    "    privileged_groups=privileged_groups,\n",
    ")\n",
    "\n",
    "print(\n",
    "    \"Train set: Difference in mean outcomes between unprivileged and privileged groups = %f\"\n",
    "    % metric_dataset_debiasing_train.mean_difference()\n",
    ")\n",
    "\n",
    "metric_dataset_debiasing_test = BinaryLabelDatasetMetric(\n",
    "    dataset_debiasing_test,\n",
    "    unprivileged_groups=unprivileged_groups,\n",
    "    privileged_groups=privileged_groups,\n",
    ")\n",
    "\n",
    "print(\n",
    "    \"Test set: Difference in mean outcomes between unprivileged and privileged groups = %f\"\n",
    "    % metric_dataset_debiasing_test.mean_difference()\n",
    ")\n",
    "\n",
    "\n",
    "display(Markdown(\"#### Plain model - without debiasing - classification metrics\"))\n",
    "print(\n",
    "    \"Test set: Classification accuracy = %f\"\n",
    "    % classified_metric_nodebiasing_test.accuracy()\n",
    ")\n",
    "TPR = classified_metric_nodebiasing_test.true_positive_rate()\n",
    "TNR = classified_metric_nodebiasing_test.true_negative_rate()\n",
    "bal_acc_nodebiasing_test = 0.5 * (TPR + TNR)\n",
    "print(\"Test set: Balanced classification accuracy = %f\" % bal_acc_nodebiasing_test)\n",
    "print(\n",
    "    \"Test set: Disparate impact = %f\"\n",
    "    % classified_metric_nodebiasing_test.disparate_impact()\n",
    ")\n",
    "print(\n",
    "    \"Test set: Equal opportunity difference = %f\"\n",
    "    % classified_metric_nodebiasing_test.equal_opportunity_difference()\n",
    ")\n",
    "print(\n",
    "    \"Test set: Average odds difference = %f\"\n",
    "    % classified_metric_nodebiasing_test.average_odds_difference()\n",
    ")\n",
    "print(\"Test set: Theil_index = %f\" % classified_metric_nodebiasing_test.theil_index())\n",
    "\n",
    "\n",
    "display(Markdown(\"#### Model - with debiasing - classification metrics\"))\n",
    "classified_metric_debiasing_test = ClassificationMetric(\n",
    "    dataset_orig_test,\n",
    "    dataset_debiasing_test,\n",
    "    unprivileged_groups=unprivileged_groups,\n",
    "    privileged_groups=privileged_groups,\n",
    ")\n",
    "print(\n",
    "    \"Test set: Classification accuracy = %f\"\n",
    "    % classified_metric_debiasing_test.accuracy()\n",
    ")\n",
    "TPR = classified_metric_debiasing_test.true_positive_rate()\n",
    "TNR = classified_metric_debiasing_test.true_negative_rate()\n",
    "bal_acc_debiasing_test = 0.5 * (TPR + TNR)\n",
    "print(\"Test set: Balanced classification accuracy = %f\" % bal_acc_debiasing_test)\n",
    "print(\n",
    "    \"Test set: Disparate impact = %f\"\n",
    "    % classified_metric_debiasing_test.disparate_impact()\n",
    ")\n",
    "print(\n",
    "    \"Test set: Equal opportunity difference = %f\"\n",
    "    % classified_metric_debiasing_test.equal_opportunity_difference()\n",
    ")\n",
    "print(\n",
    "    \"Test set: Average odds difference = %f\"\n",
    "    % classified_metric_debiasing_test.average_odds_difference()\n",
    ")\n",
    "print(\"Test set: Theil_index = %f\" % classified_metric_debiasing_test.theil_index())"
   ]
  },
  {
   "cell_type": "markdown",
   "metadata": {},
   "source": [
    "\n",
    "    References:\n",
    "    [1] B. H. Zhang, B. Lemoine, and M. Mitchell, \"Mitigating UnwantedBiases with Adversarial Learning,\" \n",
    "    AAAI/ACM Conference on Artificial Intelligence, Ethics, and Society, 2018."
   ]
  },
  {
   "cell_type": "markdown",
   "metadata": {},
   "source": [
    "Print predicted labels for the test set."
   ]
  },
  {
   "cell_type": "code",
   "execution_count": 17,
   "metadata": {},
   "outputs": [
    {
     "data": {
      "text/plain": [
       "0.0    12043\n",
       "1.0     2610\n",
       "Name: count, dtype: int64"
      ]
     },
     "execution_count": 17,
     "metadata": {},
     "output_type": "execute_result"
    }
   ],
   "source": [
    "pd.Series(dataset_debiasing_test.labels.reshape(-1)).value_counts()"
   ]
  },
  {
   "cell_type": "code",
   "execution_count": 18,
   "metadata": {},
   "outputs": [
    {
     "data": {
      "text/plain": [
       "0.0    12303\n",
       "1.0     2350\n",
       "Name: count, dtype: int64"
      ]
     },
     "execution_count": 18,
     "metadata": {},
     "output_type": "execute_result"
    }
   ],
   "source": [
    "pd.Series(dataset_nodebiasing_test.labels.reshape(-1)).value_counts()"
   ]
  },
  {
   "cell_type": "code",
   "execution_count": null,
   "metadata": {},
   "outputs": [],
   "source": []
  },
  {
   "cell_type": "code",
   "execution_count": null,
   "metadata": {},
   "outputs": [],
   "source": []
  },
  {
   "cell_type": "code",
   "execution_count": null,
   "metadata": {},
   "outputs": [],
   "source": []
  }
 ],
 "metadata": {
  "kernelspec": {
   "display_name": "aif360",
   "language": "python",
   "name": "aif360"
  },
  "language_info": {
   "codemirror_mode": {
    "name": "ipython",
    "version": 3
   },
   "file_extension": ".py",
   "mimetype": "text/x-python",
   "name": "python",
   "nbconvert_exporter": "python",
   "pygments_lexer": "ipython3",
   "version": "3.10.15"
  }
 },
 "nbformat": 4,
 "nbformat_minor": 4
}
