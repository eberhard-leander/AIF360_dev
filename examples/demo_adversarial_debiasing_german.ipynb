{
 "cells": [
  {
   "cell_type": "markdown",
   "metadata": {},
   "source": [
    "#### This notebook demonstrates the use of adversarial debiasing algorithm to learn a fair classifier.\n",
    "Adversarial debiasing [1] is an in-processing technique that learns a classifier to maximize prediction accuracy and simultaneously reduce an adversary's ability to determine the protected attribute from the predictions. This approach leads to a fair classifier as the predictions cannot carry any group discrimination information that the adversary can exploit. We will see how to use this algorithm for learning models with and without fairness constraints and apply them on the Adult dataset."
   ]
  },
  {
   "cell_type": "code",
   "execution_count": 2,
   "metadata": {},
   "outputs": [],
   "source": [
    "%matplotlib inline\n",
    "# Load all necessary packages\n",
    "import sys\n",
    "\n",
    "sys.path.append(\"../\")\n",
    "import matplotlib.pyplot as plt\n",
    "import tensorflow.compat.v1 as tf\n",
    "from aif360.algorithms.inprocessing.adversarial_debiasing import AdversarialDebiasing\n",
    "from aif360.algorithms.preprocessing.optim_preproc_helpers.data_preproc_functions import (\n",
    "    load_preproc_data_adult,\n",
    "    load_preproc_data_compas,\n",
    "    load_preproc_data_german,\n",
    ")\n",
    "from aif360.datasets import (\n",
    "    AdultDataset,\n",
    "    BinaryLabelDataset,\n",
    "    CompasDataset,\n",
    "    GermanDataset,\n",
    ")\n",
    "from aif360.metrics import BinaryLabelDatasetMetric, ClassificationMetric\n",
    "from aif360.metrics.utils import compute_boolean_conditioning_vector\n",
    "from IPython.display import Markdown, display\n",
    "from sklearn.linear_model import LogisticRegression\n",
    "from sklearn.metrics import accuracy_score\n",
    "from sklearn.preprocessing import MaxAbsScaler, StandardScaler\n",
    "\n",
    "tf.disable_eager_execution()"
   ]
  },
  {
   "cell_type": "markdown",
   "metadata": {},
   "source": [
    "#### Load dataset and set options"
   ]
  },
  {
   "cell_type": "code",
   "execution_count": 3,
   "metadata": {},
   "outputs": [
    {
     "name": "stderr",
     "output_type": "stream",
     "text": [
      "/home/ubuntu/AIF360_dev/aif360/algorithms/preprocessing/optim_preproc_helpers/data_preproc_functions.py:261: FutureWarning: Downcasting behavior in `replace` is deprecated and will be removed in a future version. To retain the old behavior, explicitly call `result.infer_objects(copy=False)`. To opt-in to the future behavior, set `pd.set_option('future.no_silent_downcasting', True)`\n",
      "  df['sex'] = df['personal_status'].replace(status_map)\n"
     ]
    }
   ],
   "source": [
    "# Get the dataset and split into train and test\n",
    "dataset_orig = load_preproc_data_german([\"age\", \"sex\"])\n",
    "\n",
    "# privileged_groups = [{'sex': 1}]\n",
    "# unprivileged_groups = [{'sex': 0}]\n",
    "privileged_groups = [{\"age\": 1}]\n",
    "unprivileged_groups = [{\"age\": 0}]\n",
    "\n",
    "\n",
    "dataset_orig_train, dataset_orig_test = dataset_orig.split([0.7], shuffle=True)"
   ]
  },
  {
   "cell_type": "code",
   "execution_count": 3,
   "metadata": {},
   "outputs": [],
   "source": [
    "# privileged_groups = [{\"age\": 1}]\n",
    "# unprivileged_groups = [{\"age\": 0}]\n",
    "\n",
    "# dataset_orig = GermanDataset(\n",
    "#     protected_attribute_names=[\"age\"],  # this dataset also contains protected\n",
    "#     # attribute for \"sex\" which we do not\n",
    "#     # consider in this evaluation\n",
    "#     privileged_classes=[lambda x: x >= 25],  # age >=25 is considered privileged\n",
    "#     features_to_drop=[\"personal_status\", \"sex\"],  # ignore sex-related attributes\n",
    "# )\n",
    "# dataset_orig_train, dataset_orig_test = dataset_orig.split([0.7], shuffle=True)"
   ]
  },
  {
   "cell_type": "code",
   "execution_count": 4,
   "metadata": {},
   "outputs": [
    {
     "data": {
      "text/markdown": [
       "#### Training Dataset shape"
      ],
      "text/plain": [
       "<IPython.core.display.Markdown object>"
      ]
     },
     "metadata": {},
     "output_type": "display_data"
    },
    {
     "name": "stdout",
     "output_type": "stream",
     "text": [
      "(700, 11)\n"
     ]
    },
    {
     "data": {
      "text/markdown": [
       "#### Favorable and unfavorable labels"
      ],
      "text/plain": [
       "<IPython.core.display.Markdown object>"
      ]
     },
     "metadata": {},
     "output_type": "display_data"
    },
    {
     "name": "stdout",
     "output_type": "stream",
     "text": [
      "1.0 2.0\n"
     ]
    },
    {
     "data": {
      "text/markdown": [
       "#### Protected attribute names"
      ],
      "text/plain": [
       "<IPython.core.display.Markdown object>"
      ]
     },
     "metadata": {},
     "output_type": "display_data"
    },
    {
     "name": "stdout",
     "output_type": "stream",
     "text": [
      "['age', 'sex']\n"
     ]
    },
    {
     "data": {
      "text/markdown": [
       "#### Privileged and unprivileged protected attribute values"
      ],
      "text/plain": [
       "<IPython.core.display.Markdown object>"
      ]
     },
     "metadata": {},
     "output_type": "display_data"
    },
    {
     "name": "stdout",
     "output_type": "stream",
     "text": [
      "[array([1.]), array([1.])] [array([0.]), array([0.])]\n"
     ]
    },
    {
     "data": {
      "text/markdown": [
       "#### Dataset feature names"
      ],
      "text/plain": [
       "<IPython.core.display.Markdown object>"
      ]
     },
     "metadata": {},
     "output_type": "display_data"
    },
    {
     "name": "stdout",
     "output_type": "stream",
     "text": [
      "['age', 'sex', 'credit_history=Delay', 'credit_history=None/Paid', 'credit_history=Other', 'savings=500+', 'savings=<500', 'savings=Unknown/None', 'employment=1-4 years', 'employment=4+ years', 'employment=Unemployed']\n"
     ]
    }
   ],
   "source": [
    "# print out some labels, names, etc.\n",
    "display(Markdown(\"#### Training Dataset shape\"))\n",
    "print(dataset_orig_train.features.shape)\n",
    "display(Markdown(\"#### Favorable and unfavorable labels\"))\n",
    "print(dataset_orig_train.favorable_label, dataset_orig_train.unfavorable_label)\n",
    "display(Markdown(\"#### Protected attribute names\"))\n",
    "print(dataset_orig_train.protected_attribute_names)\n",
    "display(Markdown(\"#### Privileged and unprivileged protected attribute values\"))\n",
    "print(\n",
    "    dataset_orig_train.privileged_protected_attributes,\n",
    "    dataset_orig_train.unprivileged_protected_attributes,\n",
    ")\n",
    "display(Markdown(\"#### Dataset feature names\"))\n",
    "print(dataset_orig_train.feature_names)"
   ]
  },
  {
   "cell_type": "markdown",
   "metadata": {},
   "source": [
    "#### Metric for original training data"
   ]
  },
  {
   "cell_type": "code",
   "execution_count": 5,
   "metadata": {},
   "outputs": [
    {
     "data": {
      "text/markdown": [
       "#### Original dataset"
      ],
      "text/plain": [
       "<IPython.core.display.Markdown object>"
      ]
     },
     "metadata": {},
     "output_type": "display_data"
    },
    {
     "name": "stdout",
     "output_type": "stream",
     "text": [
      "Overall: Difference in mean outcomes between unprivileged and privileged groups = -0.149448\n"
     ]
    },
    {
     "data": {
      "text/markdown": [
       "#### Original training dataset"
      ],
      "text/plain": [
       "<IPython.core.display.Markdown object>"
      ]
     },
     "metadata": {},
     "output_type": "display_data"
    },
    {
     "name": "stdout",
     "output_type": "stream",
     "text": [
      "Train set: Difference in mean outcomes between unprivileged and privileged groups = -0.122178\n",
      "Test set: Difference in mean outcomes between unprivileged and privileged groups = -0.209368\n"
     ]
    }
   ],
   "source": [
    "# Metric for the original dataset\n",
    "metric_orig = BinaryLabelDatasetMetric(\n",
    "    dataset_orig,\n",
    "    unprivileged_groups=unprivileged_groups,\n",
    "    privileged_groups=privileged_groups,\n",
    ")\n",
    "\n",
    "display(Markdown(\"#### Original dataset\"))\n",
    "print(\n",
    "    \"Overall: Difference in mean outcomes between unprivileged and privileged groups = %f\"\n",
    "    % metric_orig.mean_difference()\n",
    ")\n",
    "# Metric for the training dataset\n",
    "\n",
    "metric_orig_train = BinaryLabelDatasetMetric(\n",
    "    dataset_orig_train,\n",
    "    unprivileged_groups=unprivileged_groups,\n",
    "    privileged_groups=privileged_groups,\n",
    ")\n",
    "display(Markdown(\"#### Original training dataset\"))\n",
    "print(\n",
    "    \"Train set: Difference in mean outcomes between unprivileged and privileged groups = %f\"\n",
    "    % metric_orig_train.mean_difference()\n",
    ")\n",
    "# Metric for the Test dataset\n",
    "\n",
    "metric_orig_test = BinaryLabelDatasetMetric(\n",
    "    dataset_orig_test,\n",
    "    unprivileged_groups=unprivileged_groups,\n",
    "    privileged_groups=privileged_groups,\n",
    ")\n",
    "print(\n",
    "    \"Test set: Difference in mean outcomes between unprivileged and privileged groups = %f\"\n",
    "    % metric_orig_test.mean_difference()\n",
    ")"
   ]
  },
  {
   "cell_type": "code",
   "execution_count": 6,
   "metadata": {},
   "outputs": [],
   "source": [
    "min_max_scaler = MaxAbsScaler()\n",
    "dataset_orig_train.features = min_max_scaler.fit_transform(dataset_orig_train.features)\n",
    "dataset_orig_test.features = min_max_scaler.transform(dataset_orig_test.features)\n",
    "metric_scaled_train = BinaryLabelDatasetMetric(\n",
    "    dataset_orig_train,\n",
    "    unprivileged_groups=unprivileged_groups,\n",
    "    privileged_groups=privileged_groups,\n",
    ")"
   ]
  },
  {
   "cell_type": "markdown",
   "metadata": {},
   "source": [
    "### Learn plan classifier without debiasing"
   ]
  },
  {
   "cell_type": "code",
   "execution_count": 7,
   "metadata": {},
   "outputs": [
    {
     "name": "stderr",
     "output_type": "stream",
     "text": [
      "2024-12-05 21:00:03.120933: E external/local_xla/xla/stream_executor/cuda/cuda_driver.cc:152] failed call to cuInit: INTERNAL: CUDA error: Failed call to cuInit: UNKNOWN ERROR (303)\n"
     ]
    }
   ],
   "source": [
    "# Load post-processing algorithm that equalizes the odds\n",
    "# Learn parameters with debias set to False\n",
    "sess = tf.Session()\n",
    "plain_model = AdversarialDebiasing(\n",
    "    privileged_groups=privileged_groups,\n",
    "    unprivileged_groups=unprivileged_groups,\n",
    "    scope_name=\"plain_classifier\",\n",
    "    debias=False,\n",
    "    sess=sess,\n",
    ")"
   ]
  },
  {
   "cell_type": "code",
   "execution_count": 8,
   "metadata": {
    "scrolled": true
   },
   "outputs": [
    {
     "name": "stdout",
     "output_type": "stream",
     "text": [
      "WARNING:tensorflow:From /home/ubuntu/miniconda3/envs/aif360/lib/python3.11/site-packages/tensorflow/python/util/dispatch.py:1260: calling dropout (from tensorflow.python.ops.nn_ops) with keep_prob is deprecated and will be removed in a future version.\n",
      "Instructions for updating:\n",
      "Please use `rate` instead of `keep_prob`. Rate should be set to `rate = 1 - keep_prob`.\n",
      "epoch 0; iter: 0; batch classifier loss: 0.713554\n",
      "epoch 1; iter: 0; batch classifier loss: 0.658058\n"
     ]
    },
    {
     "name": "stderr",
     "output_type": "stream",
     "text": [
      "WARNING: All log messages before absl::InitializeLog() is called are written to STDERR\n",
      "I0000 00:00:1733432403.541454   30852 mlir_graph_optimization_pass.cc:401] MLIR V1 optimization pass is not enabled\n"
     ]
    },
    {
     "name": "stdout",
     "output_type": "stream",
     "text": [
      "epoch 2; iter: 0; batch classifier loss: 0.645264\n",
      "epoch 3; iter: 0; batch classifier loss: 0.638450\n",
      "epoch 4; iter: 0; batch classifier loss: 0.601208\n",
      "epoch 5; iter: 0; batch classifier loss: 0.598833\n",
      "epoch 6; iter: 0; batch classifier loss: 0.561015\n",
      "epoch 7; iter: 0; batch classifier loss: 0.651929\n",
      "epoch 8; iter: 0; batch classifier loss: 0.538543\n",
      "epoch 9; iter: 0; batch classifier loss: 0.530933\n",
      "epoch 10; iter: 0; batch classifier loss: 0.558925\n",
      "epoch 11; iter: 0; batch classifier loss: 0.610113\n",
      "epoch 12; iter: 0; batch classifier loss: 0.497282\n",
      "epoch 13; iter: 0; batch classifier loss: 0.545335\n",
      "epoch 14; iter: 0; batch classifier loss: 0.565533\n",
      "epoch 15; iter: 0; batch classifier loss: 0.545654\n",
      "epoch 16; iter: 0; batch classifier loss: 0.539721\n",
      "epoch 17; iter: 0; batch classifier loss: 0.527085\n",
      "epoch 18; iter: 0; batch classifier loss: 0.530085\n",
      "epoch 19; iter: 0; batch classifier loss: 0.557717\n",
      "epoch 20; iter: 0; batch classifier loss: 0.565869\n",
      "epoch 21; iter: 0; batch classifier loss: 0.584957\n",
      "epoch 22; iter: 0; batch classifier loss: 0.579305\n",
      "epoch 23; iter: 0; batch classifier loss: 0.547902\n",
      "epoch 24; iter: 0; batch classifier loss: 0.528681\n",
      "epoch 25; iter: 0; batch classifier loss: 0.562855\n",
      "epoch 26; iter: 0; batch classifier loss: 0.592182\n",
      "epoch 27; iter: 0; batch classifier loss: 0.549808\n",
      "epoch 28; iter: 0; batch classifier loss: 0.514990\n",
      "epoch 29; iter: 0; batch classifier loss: 0.569804\n",
      "epoch 30; iter: 0; batch classifier loss: 0.610816\n",
      "epoch 31; iter: 0; batch classifier loss: 0.565493\n",
      "epoch 32; iter: 0; batch classifier loss: 0.597087\n",
      "epoch 33; iter: 0; batch classifier loss: 0.594313\n",
      "epoch 34; iter: 0; batch classifier loss: 0.553028\n",
      "epoch 35; iter: 0; batch classifier loss: 0.584150\n",
      "epoch 36; iter: 0; batch classifier loss: 0.538451\n",
      "epoch 37; iter: 0; batch classifier loss: 0.553752\n",
      "epoch 38; iter: 0; batch classifier loss: 0.536048\n",
      "epoch 39; iter: 0; batch classifier loss: 0.544725\n",
      "epoch 40; iter: 0; batch classifier loss: 0.521273\n",
      "epoch 41; iter: 0; batch classifier loss: 0.551475\n",
      "epoch 42; iter: 0; batch classifier loss: 0.618192\n",
      "epoch 43; iter: 0; batch classifier loss: 0.583031\n",
      "epoch 44; iter: 0; batch classifier loss: 0.548832\n",
      "epoch 45; iter: 0; batch classifier loss: 0.552263\n",
      "epoch 46; iter: 0; batch classifier loss: 0.586678\n",
      "epoch 47; iter: 0; batch classifier loss: 0.577904\n",
      "epoch 48; iter: 0; batch classifier loss: 0.555631\n",
      "epoch 49; iter: 0; batch classifier loss: 0.525410\n"
     ]
    },
    {
     "data": {
      "text/plain": [
       "<aif360.algorithms.inprocessing.adversarial_debiasing.AdversarialDebiasing at 0x7f3c86487ed0>"
      ]
     },
     "execution_count": 8,
     "metadata": {},
     "output_type": "execute_result"
    }
   ],
   "source": [
    "plain_model.fit(dataset_orig_train)"
   ]
  },
  {
   "cell_type": "code",
   "execution_count": 9,
   "metadata": {},
   "outputs": [],
   "source": [
    "# Apply the plain model to test data\n",
    "dataset_nodebiasing_train = plain_model.predict(dataset_orig_train)\n",
    "dataset_nodebiasing_test = plain_model.predict(dataset_orig_test)"
   ]
  },
  {
   "cell_type": "code",
   "execution_count": 10,
   "metadata": {},
   "outputs": [
    {
     "data": {
      "text/markdown": [
       "#### Plain model - without debiasing - dataset metrics"
      ],
      "text/plain": [
       "<IPython.core.display.Markdown object>"
      ]
     },
     "metadata": {},
     "output_type": "display_data"
    },
    {
     "name": "stdout",
     "output_type": "stream",
     "text": [
      "Train set: Difference in mean outcomes between unprivileged and privileged groups = -0.259542\n",
      "Test set: Difference in mean outcomes between unprivileged and privileged groups = -0.271186\n"
     ]
    },
    {
     "data": {
      "text/markdown": [
       "#### Plain model - without debiasing - classification metrics"
      ],
      "text/plain": [
       "<IPython.core.display.Markdown object>"
      ]
     },
     "metadata": {},
     "output_type": "display_data"
    },
    {
     "name": "stdout",
     "output_type": "stream",
     "text": [
      "Test set: Classification accuracy = 0.703333\n",
      "Test set: Balanced classification accuracy = 0.552003\n",
      "Test set: Disparate impact = 0.728814\n",
      "Test set: Equal opportunity difference = -0.133333\n",
      "Test set: Average odds difference = -0.273563\n",
      "Test set: Theil_index = 0.070261\n"
     ]
    }
   ],
   "source": [
    "# Metrics for the dataset from plain model (without debiasing)\n",
    "display(Markdown(\"#### Plain model - without debiasing - dataset metrics\"))\n",
    "metric_dataset_nodebiasing_train = BinaryLabelDatasetMetric(\n",
    "    dataset_nodebiasing_train,\n",
    "    unprivileged_groups=unprivileged_groups,\n",
    "    privileged_groups=privileged_groups,\n",
    ")\n",
    "\n",
    "print(\n",
    "    \"Train set: Difference in mean outcomes between unprivileged and privileged groups = %f\"\n",
    "    % metric_dataset_nodebiasing_train.mean_difference()\n",
    ")\n",
    "\n",
    "metric_dataset_nodebiasing_test = BinaryLabelDatasetMetric(\n",
    "    dataset_nodebiasing_test,\n",
    "    unprivileged_groups=unprivileged_groups,\n",
    "    privileged_groups=privileged_groups,\n",
    ")\n",
    "\n",
    "print(\n",
    "    \"Test set: Difference in mean outcomes between unprivileged and privileged groups = %f\"\n",
    "    % metric_dataset_nodebiasing_test.mean_difference()\n",
    ")\n",
    "\n",
    "display(Markdown(\"#### Plain model - without debiasing - classification metrics\"))\n",
    "classified_metric_nodebiasing_test = ClassificationMetric(\n",
    "    dataset_orig_test,\n",
    "    dataset_nodebiasing_test,\n",
    "    unprivileged_groups=unprivileged_groups,\n",
    "    privileged_groups=privileged_groups,\n",
    ")\n",
    "print(\n",
    "    \"Test set: Classification accuracy = %f\"\n",
    "    % classified_metric_nodebiasing_test.accuracy()\n",
    ")\n",
    "TPR = classified_metric_nodebiasing_test.true_positive_rate()\n",
    "TNR = classified_metric_nodebiasing_test.true_negative_rate()\n",
    "bal_acc_nodebiasing_test = 0.5 * (TPR + TNR)\n",
    "print(\"Test set: Balanced classification accuracy = %f\" % bal_acc_nodebiasing_test)\n",
    "print(\n",
    "    \"Test set: Disparate impact = %f\"\n",
    "    % classified_metric_nodebiasing_test.disparate_impact()\n",
    ")\n",
    "print(\n",
    "    \"Test set: Equal opportunity difference = %f\"\n",
    "    % classified_metric_nodebiasing_test.equal_opportunity_difference()\n",
    ")\n",
    "print(\n",
    "    \"Test set: Average odds difference = %f\"\n",
    "    % classified_metric_nodebiasing_test.average_odds_difference()\n",
    ")\n",
    "print(\"Test set: Theil_index = %f\" % classified_metric_nodebiasing_test.theil_index())"
   ]
  },
  {
   "cell_type": "markdown",
   "metadata": {},
   "source": [
    "### Apply in-processing algorithm based on adversarial learning"
   ]
  },
  {
   "cell_type": "code",
   "execution_count": 12,
   "metadata": {},
   "outputs": [],
   "source": [
    "sess.close()\n",
    "tf.reset_default_graph()\n",
    "sess = tf.Session()"
   ]
  },
  {
   "cell_type": "code",
   "execution_count": 13,
   "metadata": {},
   "outputs": [],
   "source": [
    "# Learn parameters with debias set to True\n",
    "debiased_model = AdversarialDebiasing(\n",
    "    privileged_groups=privileged_groups,\n",
    "    unprivileged_groups=unprivileged_groups,\n",
    "    scope_name=\"debiased_classifier\",\n",
    "    debias=True,\n",
    "    sess=sess,\n",
    "    classifier_num_hidden_units=100,\n",
    ")"
   ]
  },
  {
   "cell_type": "code",
   "execution_count": 14,
   "metadata": {
    "scrolled": true
   },
   "outputs": [
    {
     "name": "stdout",
     "output_type": "stream",
     "text": [
      "epoch 0; iter: 0; batch classifier loss: 0.802375; batch adversarial loss: 0.717762\n",
      "epoch 1; iter: 0; batch classifier loss: 0.748406; batch adversarial loss: 0.710581\n",
      "epoch 2; iter: 0; batch classifier loss: 0.732363; batch adversarial loss: 0.696123\n",
      "epoch 3; iter: 0; batch classifier loss: 0.687451; batch adversarial loss: 0.709399\n",
      "epoch 4; iter: 0; batch classifier loss: 0.649584; batch adversarial loss: 0.702732\n",
      "epoch 5; iter: 0; batch classifier loss: 0.615525; batch adversarial loss: 0.704097\n",
      "epoch 6; iter: 0; batch classifier loss: 0.619977; batch adversarial loss: 0.707481\n",
      "epoch 7; iter: 0; batch classifier loss: 0.616553; batch adversarial loss: 0.715477\n",
      "epoch 8; iter: 0; batch classifier loss: 0.607726; batch adversarial loss: 0.707984\n",
      "epoch 9; iter: 0; batch classifier loss: 0.584955; batch adversarial loss: 0.692472\n",
      "epoch 10; iter: 0; batch classifier loss: 0.570408; batch adversarial loss: 0.686875\n",
      "epoch 11; iter: 0; batch classifier loss: 0.577319; batch adversarial loss: 0.679067\n",
      "epoch 12; iter: 0; batch classifier loss: 0.593913; batch adversarial loss: 0.672174\n",
      "epoch 13; iter: 0; batch classifier loss: 0.568313; batch adversarial loss: 0.690283\n",
      "epoch 14; iter: 0; batch classifier loss: 0.619708; batch adversarial loss: 0.682145\n",
      "epoch 15; iter: 0; batch classifier loss: 0.523234; batch adversarial loss: 0.666936\n",
      "epoch 16; iter: 0; batch classifier loss: 0.577739; batch adversarial loss: 0.670871\n",
      "epoch 17; iter: 0; batch classifier loss: 0.601040; batch adversarial loss: 0.682882\n",
      "epoch 18; iter: 0; batch classifier loss: 0.582427; batch adversarial loss: 0.659412\n",
      "epoch 19; iter: 0; batch classifier loss: 0.619448; batch adversarial loss: 0.666079\n",
      "epoch 20; iter: 0; batch classifier loss: 0.548158; batch adversarial loss: 0.666930\n",
      "epoch 21; iter: 0; batch classifier loss: 0.575206; batch adversarial loss: 0.638868\n",
      "epoch 22; iter: 0; batch classifier loss: 0.533468; batch adversarial loss: 0.631416\n",
      "epoch 23; iter: 0; batch classifier loss: 0.571867; batch adversarial loss: 0.634904\n",
      "epoch 24; iter: 0; batch classifier loss: 0.522497; batch adversarial loss: 0.648404\n",
      "epoch 25; iter: 0; batch classifier loss: 0.576596; batch adversarial loss: 0.626907\n",
      "epoch 26; iter: 0; batch classifier loss: 0.544496; batch adversarial loss: 0.616832\n",
      "epoch 27; iter: 0; batch classifier loss: 0.546783; batch adversarial loss: 0.609961\n",
      "epoch 28; iter: 0; batch classifier loss: 0.563948; batch adversarial loss: 0.625738\n",
      "epoch 29; iter: 0; batch classifier loss: 0.565983; batch adversarial loss: 0.622855\n",
      "epoch 30; iter: 0; batch classifier loss: 0.550847; batch adversarial loss: 0.637835\n",
      "epoch 31; iter: 0; batch classifier loss: 0.557445; batch adversarial loss: 0.615109\n",
      "epoch 32; iter: 0; batch classifier loss: 0.598300; batch adversarial loss: 0.603356\n",
      "epoch 33; iter: 0; batch classifier loss: 0.618302; batch adversarial loss: 0.635384\n",
      "epoch 34; iter: 0; batch classifier loss: 0.570970; batch adversarial loss: 0.586551\n",
      "epoch 35; iter: 0; batch classifier loss: 0.524167; batch adversarial loss: 0.578803\n",
      "epoch 36; iter: 0; batch classifier loss: 0.569283; batch adversarial loss: 0.625022\n",
      "epoch 37; iter: 0; batch classifier loss: 0.583146; batch adversarial loss: 0.595930\n",
      "epoch 38; iter: 0; batch classifier loss: 0.518501; batch adversarial loss: 0.584639\n",
      "epoch 39; iter: 0; batch classifier loss: 0.599847; batch adversarial loss: 0.611647\n",
      "epoch 40; iter: 0; batch classifier loss: 0.559718; batch adversarial loss: 0.585681\n",
      "epoch 41; iter: 0; batch classifier loss: 0.505203; batch adversarial loss: 0.573577\n",
      "epoch 42; iter: 0; batch classifier loss: 0.531899; batch adversarial loss: 0.613178\n",
      "epoch 43; iter: 0; batch classifier loss: 0.527092; batch adversarial loss: 0.604038\n",
      "epoch 44; iter: 0; batch classifier loss: 0.558905; batch adversarial loss: 0.589377\n",
      "epoch 45; iter: 0; batch classifier loss: 0.527111; batch adversarial loss: 0.568272\n",
      "epoch 46; iter: 0; batch classifier loss: 0.583890; batch adversarial loss: 0.549963\n",
      "epoch 47; iter: 0; batch classifier loss: 0.538187; batch adversarial loss: 0.559648\n",
      "epoch 48; iter: 0; batch classifier loss: 0.614267; batch adversarial loss: 0.563562\n",
      "epoch 49; iter: 0; batch classifier loss: 0.551565; batch adversarial loss: 0.584835\n"
     ]
    },
    {
     "data": {
      "text/plain": [
       "<aif360.algorithms.inprocessing.adversarial_debiasing.AdversarialDebiasing at 0x7f3a163292d0>"
      ]
     },
     "execution_count": 14,
     "metadata": {},
     "output_type": "execute_result"
    }
   ],
   "source": [
    "debiased_model.fit(dataset_orig_train)"
   ]
  },
  {
   "cell_type": "code",
   "execution_count": 15,
   "metadata": {},
   "outputs": [],
   "source": [
    "# Apply the plain model to test data\n",
    "dataset_debiasing_train = debiased_model.predict(dataset_orig_train)\n",
    "dataset_debiasing_test = debiased_model.predict(dataset_orig_test)"
   ]
  },
  {
   "cell_type": "code",
   "execution_count": 16,
   "metadata": {},
   "outputs": [
    {
     "data": {
      "text/markdown": [
       "#### Plain model - without debiasing - dataset metrics"
      ],
      "text/plain": [
       "<IPython.core.display.Markdown object>"
      ]
     },
     "metadata": {},
     "output_type": "display_data"
    },
    {
     "name": "stdout",
     "output_type": "stream",
     "text": [
      "Train set: Difference in mean outcomes between unprivileged and privileged groups = -0.259542\n",
      "Test set: Difference in mean outcomes between unprivileged and privileged groups = -0.271186\n"
     ]
    },
    {
     "data": {
      "text/markdown": [
       "#### Model - with debiasing - dataset metrics"
      ],
      "text/plain": [
       "<IPython.core.display.Markdown object>"
      ]
     },
     "metadata": {},
     "output_type": "display_data"
    },
    {
     "name": "stdout",
     "output_type": "stream",
     "text": [
      "Train set: Difference in mean outcomes between unprivileged and privileged groups = -0.236695\n",
      "Test set: Difference in mean outcomes between unprivileged and privileged groups = -0.246290\n"
     ]
    },
    {
     "data": {
      "text/markdown": [
       "#### Plain model - without debiasing - classification metrics"
      ],
      "text/plain": [
       "<IPython.core.display.Markdown object>"
      ]
     },
     "metadata": {},
     "output_type": "display_data"
    },
    {
     "name": "stdout",
     "output_type": "stream",
     "text": [
      "Test set: Classification accuracy = 0.703333\n",
      "Test set: Balanced classification accuracy = 0.552003\n",
      "Test set: Disparate impact = 0.728814\n",
      "Test set: Equal opportunity difference = -0.133333\n",
      "Test set: Average odds difference = -0.273563\n",
      "Test set: Theil_index = 0.070261\n"
     ]
    },
    {
     "data": {
      "text/markdown": [
       "#### Model - with debiasing - classification metrics"
      ],
      "text/plain": [
       "<IPython.core.display.Markdown object>"
      ]
     },
     "metadata": {},
     "output_type": "display_data"
    },
    {
     "name": "stdout",
     "output_type": "stream",
     "text": [
      "Test set: Classification accuracy = 0.710000\n",
      "Test set: Balanced classification accuracy = 0.567696\n",
      "Test set: Disparate impact = 0.747422\n",
      "Test set: Equal opportunity difference = -0.121773\n",
      "Test set: Average odds difference = -0.238371\n",
      "Test set: Theil_index = 0.076296\n"
     ]
    }
   ],
   "source": [
    "# Metrics for the dataset from plain model (without debiasing)\n",
    "display(Markdown(\"#### Plain model - without debiasing - dataset metrics\"))\n",
    "print(\n",
    "    \"Train set: Difference in mean outcomes between unprivileged and privileged groups = %f\"\n",
    "    % metric_dataset_nodebiasing_train.mean_difference()\n",
    ")\n",
    "print(\n",
    "    \"Test set: Difference in mean outcomes between unprivileged and privileged groups = %f\"\n",
    "    % metric_dataset_nodebiasing_test.mean_difference()\n",
    ")\n",
    "\n",
    "# Metrics for the dataset from model with debiasing\n",
    "display(Markdown(\"#### Model - with debiasing - dataset metrics\"))\n",
    "metric_dataset_debiasing_train = BinaryLabelDatasetMetric(\n",
    "    dataset_debiasing_train,\n",
    "    unprivileged_groups=unprivileged_groups,\n",
    "    privileged_groups=privileged_groups,\n",
    ")\n",
    "\n",
    "print(\n",
    "    \"Train set: Difference in mean outcomes between unprivileged and privileged groups = %f\"\n",
    "    % metric_dataset_debiasing_train.mean_difference()\n",
    ")\n",
    "\n",
    "metric_dataset_debiasing_test = BinaryLabelDatasetMetric(\n",
    "    dataset_debiasing_test,\n",
    "    unprivileged_groups=unprivileged_groups,\n",
    "    privileged_groups=privileged_groups,\n",
    ")\n",
    "\n",
    "print(\n",
    "    \"Test set: Difference in mean outcomes between unprivileged and privileged groups = %f\"\n",
    "    % metric_dataset_debiasing_test.mean_difference()\n",
    ")\n",
    "\n",
    "\n",
    "display(Markdown(\"#### Plain model - without debiasing - classification metrics\"))\n",
    "print(\n",
    "    \"Test set: Classification accuracy = %f\"\n",
    "    % classified_metric_nodebiasing_test.accuracy()\n",
    ")\n",
    "TPR = classified_metric_nodebiasing_test.true_positive_rate()\n",
    "TNR = classified_metric_nodebiasing_test.true_negative_rate()\n",
    "bal_acc_nodebiasing_test = 0.5 * (TPR + TNR)\n",
    "print(\"Test set: Balanced classification accuracy = %f\" % bal_acc_nodebiasing_test)\n",
    "print(\n",
    "    \"Test set: Disparate impact = %f\"\n",
    "    % classified_metric_nodebiasing_test.disparate_impact()\n",
    ")\n",
    "print(\n",
    "    \"Test set: Equal opportunity difference = %f\"\n",
    "    % classified_metric_nodebiasing_test.equal_opportunity_difference()\n",
    ")\n",
    "print(\n",
    "    \"Test set: Average odds difference = %f\"\n",
    "    % classified_metric_nodebiasing_test.average_odds_difference()\n",
    ")\n",
    "print(\"Test set: Theil_index = %f\" % classified_metric_nodebiasing_test.theil_index())\n",
    "\n",
    "\n",
    "display(Markdown(\"#### Model - with debiasing - classification metrics\"))\n",
    "classified_metric_debiasing_test = ClassificationMetric(\n",
    "    dataset_orig_test,\n",
    "    dataset_debiasing_test,\n",
    "    unprivileged_groups=unprivileged_groups,\n",
    "    privileged_groups=privileged_groups,\n",
    ")\n",
    "print(\n",
    "    \"Test set: Classification accuracy = %f\"\n",
    "    % classified_metric_debiasing_test.accuracy()\n",
    ")\n",
    "TPR = classified_metric_debiasing_test.true_positive_rate()\n",
    "TNR = classified_metric_debiasing_test.true_negative_rate()\n",
    "bal_acc_debiasing_test = 0.5 * (TPR + TNR)\n",
    "print(\"Test set: Balanced classification accuracy = %f\" % bal_acc_debiasing_test)\n",
    "print(\n",
    "    \"Test set: Disparate impact = %f\"\n",
    "    % classified_metric_debiasing_test.disparate_impact()\n",
    ")\n",
    "print(\n",
    "    \"Test set: Equal opportunity difference = %f\"\n",
    "    % classified_metric_debiasing_test.equal_opportunity_difference()\n",
    ")\n",
    "print(\n",
    "    \"Test set: Average odds difference = %f\"\n",
    "    % classified_metric_debiasing_test.average_odds_difference()\n",
    ")\n",
    "print(\"Test set: Theil_index = %f\" % classified_metric_debiasing_test.theil_index())"
   ]
  },
  {
   "cell_type": "markdown",
   "metadata": {},
   "source": [
    "\n",
    "    References:\n",
    "    [1] B. H. Zhang, B. Lemoine, and M. Mitchell, \"Mitigating UnwantedBiases with Adversarial Learning,\" \n",
    "    AAAI/ACM Conference on Artificial Intelligence, Ethics, and Society, 2018."
   ]
  },
  {
   "cell_type": "code",
   "execution_count": null,
   "metadata": {},
   "outputs": [],
   "source": []
  }
 ],
 "metadata": {
  "kernelspec": {
   "display_name": "aif360",
   "language": "python",
   "name": "aif360"
  },
  "language_info": {
   "codemirror_mode": {
    "name": "ipython",
    "version": 3
   },
   "file_extension": ".py",
   "mimetype": "text/x-python",
   "name": "python",
   "nbconvert_exporter": "python",
   "pygments_lexer": "ipython3",
   "version": "3.11.10"
  }
 },
 "nbformat": 4,
 "nbformat_minor": 4
}
