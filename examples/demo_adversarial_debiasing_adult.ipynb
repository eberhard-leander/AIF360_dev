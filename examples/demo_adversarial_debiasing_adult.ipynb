{
 "cells": [
  {
   "cell_type": "markdown",
   "metadata": {},
   "source": [
    "#### This notebook demonstrates the use of adversarial debiasing algorithm to learn a fair classifier.\n",
    "Adversarial debiasing [1] is an in-processing technique that learns a classifier to maximize prediction accuracy and simultaneously reduce an adversary's ability to determine the protected attribute from the predictions. This approach leads to a fair classifier as the predictions cannot carry any group discrimination information that the adversary can exploit. We will see how to use this algorithm for learning models with and without fairness constraints and apply them on the Adult dataset."
   ]
  },
  {
   "cell_type": "code",
   "execution_count": 1,
   "metadata": {},
   "outputs": [
    {
     "name": "stderr",
     "output_type": "stream",
     "text": [
      "2024-12-05 00:51:57.675957: E external/local_xla/xla/stream_executor/cuda/cuda_fft.cc:477] Unable to register cuFFT factory: Attempting to register factory for plugin cuFFT when one has already been registered\n",
      "WARNING: All log messages before absl::InitializeLog() is called are written to STDERR\n",
      "E0000 00:00:1733359917.687495  130338 cuda_dnn.cc:8310] Unable to register cuDNN factory: Attempting to register factory for plugin cuDNN when one has already been registered\n",
      "E0000 00:00:1733359917.690959  130338 cuda_blas.cc:1418] Unable to register cuBLAS factory: Attempting to register factory for plugin cuBLAS when one has already been registered\n",
      "2024-12-05 00:51:57.703172: I tensorflow/core/platform/cpu_feature_guard.cc:210] This TensorFlow binary is optimized to use available CPU instructions in performance-critical operations.\n",
      "To enable the following instructions: AVX2 FMA, in other operations, rebuild TensorFlow with the appropriate compiler flags.\n",
      "/home/ubuntu/miniconda3/envs/aif360/lib/python3.11/site-packages/inFairness/utils/ndcg.py:37: FutureWarning: We've integrated functorch into PyTorch. As the final step of the integration, `functorch.vmap` is deprecated as of PyTorch 2.0 and will be deleted in a future version of PyTorch >= 2.3. Please use `torch.vmap` instead; see the PyTorch 2.0 release notes and/or the `torch.func` migration guide for more details https://pytorch.org/docs/main/func.migrating.html\n",
      "  vect_normalized_discounted_cumulative_gain = vmap(\n",
      "/home/ubuntu/miniconda3/envs/aif360/lib/python3.11/site-packages/inFairness/utils/ndcg.py:48: FutureWarning: We've integrated functorch into PyTorch. As the final step of the integration, `functorch.vmap` is deprecated as of PyTorch 2.0 and will be deleted in a future version of PyTorch >= 2.3. Please use `torch.vmap` instead; see the PyTorch 2.0 release notes and/or the `torch.func` migration guide for more details https://pytorch.org/docs/main/func.migrating.html\n",
      "  monte_carlo_vect_ndcg = vmap(vect_normalized_discounted_cumulative_gain, in_dims=(0,))\n"
     ]
    }
   ],
   "source": [
    "%matplotlib inline\n",
    "# Load all necessary packages\n",
    "import sys\n",
    "\n",
    "sys.path.append(\"../\")\n",
    "import matplotlib.pyplot as plt\n",
    "import tensorflow.compat.v1 as tf\n",
    "from aif360.algorithms.inprocessing.adversarial_debiasing import AdversarialDebiasing\n",
    "from aif360.algorithms.preprocessing.optim_preproc_helpers.data_preproc_functions import (\n",
    "    load_preproc_data_adult,\n",
    "    load_preproc_data_compas,\n",
    "    load_preproc_data_german,\n",
    ")\n",
    "from aif360.datasets import (\n",
    "    AdultDataset,\n",
    "    BinaryLabelDataset,\n",
    "    CompasDataset,\n",
    "    GermanDataset,\n",
    ")\n",
    "from aif360.metrics import BinaryLabelDatasetMetric, ClassificationMetric\n",
    "from aif360.metrics.utils import compute_boolean_conditioning_vector\n",
    "from IPython.display import Markdown, display\n",
    "from sklearn.linear_model import LogisticRegression\n",
    "from sklearn.metrics import accuracy_score\n",
    "from sklearn.preprocessing import MaxAbsScaler, StandardScaler\n",
    "\n",
    "tf.disable_eager_execution()"
   ]
  },
  {
   "cell_type": "markdown",
   "metadata": {},
   "source": [
    "#### Load dataset and set options"
   ]
  },
  {
   "cell_type": "code",
   "execution_count": 2,
   "metadata": {},
   "outputs": [
    {
     "name": "stderr",
     "output_type": "stream",
     "text": [
      "/home/ubuntu/AIF360_dev/aif360/algorithms/preprocessing/optim_preproc_helpers/data_preproc_functions.py:50: FutureWarning: Downcasting behavior in `replace` is deprecated and will be removed in a future version. To retain the old behavior, explicitly call `result.infer_objects(copy=False)`. To opt-in to the future behavior, set `pd.set_option('future.no_silent_downcasting', True)`\n",
      "  df['sex'] = df['sex'].replace({'Female': 0.0, 'Male': 1.0})\n"
     ]
    }
   ],
   "source": [
    "# Get the dataset and split into train and test\n",
    "dataset_orig = load_preproc_data_adult()\n",
    "\n",
    "privileged_groups = [{\"sex\": 1}]\n",
    "unprivileged_groups = [{\"sex\": 0}]\n",
    "\n",
    "dataset_orig_train, dataset_orig_test = dataset_orig.split([0.7], shuffle=True)"
   ]
  },
  {
   "cell_type": "code",
   "execution_count": 3,
   "metadata": {},
   "outputs": [
    {
     "data": {
      "text/markdown": [
       "#### Training Dataset shape"
      ],
      "text/plain": [
       "<IPython.core.display.Markdown object>"
      ]
     },
     "metadata": {},
     "output_type": "display_data"
    },
    {
     "name": "stdout",
     "output_type": "stream",
     "text": [
      "(34189, 18)\n"
     ]
    },
    {
     "data": {
      "text/markdown": [
       "#### Favorable and unfavorable labels"
      ],
      "text/plain": [
       "<IPython.core.display.Markdown object>"
      ]
     },
     "metadata": {},
     "output_type": "display_data"
    },
    {
     "name": "stdout",
     "output_type": "stream",
     "text": [
      "1.0 0.0\n"
     ]
    },
    {
     "data": {
      "text/markdown": [
       "#### Protected attribute names"
      ],
      "text/plain": [
       "<IPython.core.display.Markdown object>"
      ]
     },
     "metadata": {},
     "output_type": "display_data"
    },
    {
     "name": "stdout",
     "output_type": "stream",
     "text": [
      "['sex', 'race']\n"
     ]
    },
    {
     "data": {
      "text/markdown": [
       "#### Privileged and unprivileged protected attribute values"
      ],
      "text/plain": [
       "<IPython.core.display.Markdown object>"
      ]
     },
     "metadata": {},
     "output_type": "display_data"
    },
    {
     "name": "stdout",
     "output_type": "stream",
     "text": [
      "[array([1.]), array([1.])] [array([0.]), array([0.])]\n"
     ]
    },
    {
     "data": {
      "text/markdown": [
       "#### Dataset feature names"
      ],
      "text/plain": [
       "<IPython.core.display.Markdown object>"
      ]
     },
     "metadata": {},
     "output_type": "display_data"
    },
    {
     "name": "stdout",
     "output_type": "stream",
     "text": [
      "['race', 'sex', 'Age (decade)=10', 'Age (decade)=20', 'Age (decade)=30', 'Age (decade)=40', 'Age (decade)=50', 'Age (decade)=60', 'Age (decade)=>=70', 'Education Years=6', 'Education Years=7', 'Education Years=8', 'Education Years=9', 'Education Years=10', 'Education Years=11', 'Education Years=12', 'Education Years=<6', 'Education Years=>12']\n"
     ]
    }
   ],
   "source": [
    "# print out some labels, names, etc.\n",
    "display(Markdown(\"#### Training Dataset shape\"))\n",
    "print(dataset_orig_train.features.shape)\n",
    "display(Markdown(\"#### Favorable and unfavorable labels\"))\n",
    "print(dataset_orig_train.favorable_label, dataset_orig_train.unfavorable_label)\n",
    "display(Markdown(\"#### Protected attribute names\"))\n",
    "print(dataset_orig_train.protected_attribute_names)\n",
    "display(Markdown(\"#### Privileged and unprivileged protected attribute values\"))\n",
    "print(\n",
    "    dataset_orig_train.privileged_protected_attributes,\n",
    "    dataset_orig_train.unprivileged_protected_attributes,\n",
    ")\n",
    "display(Markdown(\"#### Dataset feature names\"))\n",
    "print(dataset_orig_train.feature_names)"
   ]
  },
  {
   "cell_type": "markdown",
   "metadata": {},
   "source": [
    "#### Metric for original training data"
   ]
  },
  {
   "cell_type": "code",
   "execution_count": 4,
   "metadata": {},
   "outputs": [
    {
     "data": {
      "text/markdown": [
       "#### Original training dataset"
      ],
      "text/plain": [
       "<IPython.core.display.Markdown object>"
      ]
     },
     "metadata": {},
     "output_type": "display_data"
    },
    {
     "name": "stdout",
     "output_type": "stream",
     "text": [
      "Train set: Difference in mean outcomes between unprivileged and privileged groups = -0.194138\n",
      "Test set: Difference in mean outcomes between unprivileged and privileged groups = -0.195347\n"
     ]
    }
   ],
   "source": [
    "# Metric for the original dataset\n",
    "metric_orig_train = BinaryLabelDatasetMetric(\n",
    "    dataset_orig_train,\n",
    "    unprivileged_groups=unprivileged_groups,\n",
    "    privileged_groups=privileged_groups,\n",
    ")\n",
    "display(Markdown(\"#### Original training dataset\"))\n",
    "print(\n",
    "    \"Train set: Difference in mean outcomes between unprivileged and privileged groups = %f\"\n",
    "    % metric_orig_train.mean_difference()\n",
    ")\n",
    "metric_orig_test = BinaryLabelDatasetMetric(\n",
    "    dataset_orig_test,\n",
    "    unprivileged_groups=unprivileged_groups,\n",
    "    privileged_groups=privileged_groups,\n",
    ")\n",
    "print(\n",
    "    \"Test set: Difference in mean outcomes between unprivileged and privileged groups = %f\"\n",
    "    % metric_orig_test.mean_difference()\n",
    ")"
   ]
  },
  {
   "cell_type": "code",
   "execution_count": 5,
   "metadata": {},
   "outputs": [
    {
     "data": {
      "text/markdown": [
       "#### Scaled dataset - Verify that the scaling does not affect the group label statistics"
      ],
      "text/plain": [
       "<IPython.core.display.Markdown object>"
      ]
     },
     "metadata": {},
     "output_type": "display_data"
    },
    {
     "name": "stdout",
     "output_type": "stream",
     "text": [
      "Train set: Difference in mean outcomes between unprivileged and privileged groups = -0.194138\n",
      "Test set: Difference in mean outcomes between unprivileged and privileged groups = -0.195347\n"
     ]
    }
   ],
   "source": [
    "min_max_scaler = MaxAbsScaler()\n",
    "dataset_orig_train.features = min_max_scaler.fit_transform(dataset_orig_train.features)\n",
    "dataset_orig_test.features = min_max_scaler.transform(dataset_orig_test.features)\n",
    "metric_scaled_train = BinaryLabelDatasetMetric(\n",
    "    dataset_orig_train,\n",
    "    unprivileged_groups=unprivileged_groups,\n",
    "    privileged_groups=privileged_groups,\n",
    ")\n",
    "display(\n",
    "    Markdown(\n",
    "        \"#### Scaled dataset - Verify that the scaling does not affect the group label statistics\"\n",
    "    )\n",
    ")\n",
    "print(\n",
    "    \"Train set: Difference in mean outcomes between unprivileged and privileged groups = %f\"\n",
    "    % metric_scaled_train.mean_difference()\n",
    ")\n",
    "metric_scaled_test = BinaryLabelDatasetMetric(\n",
    "    dataset_orig_test,\n",
    "    unprivileged_groups=unprivileged_groups,\n",
    "    privileged_groups=privileged_groups,\n",
    ")\n",
    "print(\n",
    "    \"Test set: Difference in mean outcomes between unprivileged and privileged groups = %f\"\n",
    "    % metric_scaled_test.mean_difference()\n",
    ")"
   ]
  },
  {
   "cell_type": "markdown",
   "metadata": {},
   "source": [
    "### Learn plan classifier without debiasing"
   ]
  },
  {
   "cell_type": "code",
   "execution_count": 6,
   "metadata": {},
   "outputs": [
    {
     "name": "stderr",
     "output_type": "stream",
     "text": [
      "2024-12-05 00:52:02.039012: E external/local_xla/xla/stream_executor/cuda/cuda_driver.cc:152] failed call to cuInit: INTERNAL: CUDA error: Failed call to cuInit: UNKNOWN ERROR (303)\n"
     ]
    }
   ],
   "source": [
    "# Load post-processing algorithm that equalizes the odds\n",
    "# Learn parameters with debias set to False\n",
    "sess = tf.Session()\n",
    "plain_model = AdversarialDebiasing(\n",
    "    privileged_groups=privileged_groups,\n",
    "    unprivileged_groups=unprivileged_groups,\n",
    "    scope_name=\"plain_classifier\",\n",
    "    debias=False,\n",
    "    sess=sess,\n",
    ")"
   ]
  },
  {
   "cell_type": "code",
   "execution_count": 7,
   "metadata": {
    "scrolled": true
   },
   "outputs": [
    {
     "name": "stdout",
     "output_type": "stream",
     "text": [
      "WARNING:tensorflow:From /home/ubuntu/miniconda3/envs/aif360/lib/python3.11/site-packages/tensorflow/python/util/dispatch.py:1260: calling dropout (from tensorflow.python.ops.nn_ops) with keep_prob is deprecated and will be removed in a future version.\n",
      "Instructions for updating:\n",
      "Please use `rate` instead of `keep_prob`. Rate should be set to `rate = 1 - keep_prob`.\n"
     ]
    },
    {
     "name": "stderr",
     "output_type": "stream",
     "text": [
      "WARNING: All log messages before absl::InitializeLog() is called are written to STDERR\n",
      "I0000 00:00:1733359922.150754  130338 mlir_graph_optimization_pass.cc:401] MLIR V1 optimization pass is not enabled\n"
     ]
    },
    {
     "name": "stdout",
     "output_type": "stream",
     "text": [
      "epoch 0; iter: 0; batch classifier loss: 0.663466\n",
      "epoch 0; iter: 200; batch classifier loss: 0.422570\n",
      "epoch 1; iter: 0; batch classifier loss: 0.489817\n",
      "epoch 1; iter: 200; batch classifier loss: 0.376444\n",
      "epoch 2; iter: 0; batch classifier loss: 0.318581\n",
      "epoch 2; iter: 200; batch classifier loss: 0.438537\n",
      "epoch 3; iter: 0; batch classifier loss: 0.461199\n",
      "epoch 3; iter: 200; batch classifier loss: 0.380708\n",
      "epoch 4; iter: 0; batch classifier loss: 0.432632\n",
      "epoch 4; iter: 200; batch classifier loss: 0.494056\n",
      "epoch 5; iter: 0; batch classifier loss: 0.364169\n",
      "epoch 5; iter: 200; batch classifier loss: 0.505840\n",
      "epoch 6; iter: 0; batch classifier loss: 0.452828\n",
      "epoch 6; iter: 200; batch classifier loss: 0.352655\n",
      "epoch 7; iter: 0; batch classifier loss: 0.441420\n",
      "epoch 7; iter: 200; batch classifier loss: 0.382624\n",
      "epoch 8; iter: 0; batch classifier loss: 0.397260\n",
      "epoch 8; iter: 200; batch classifier loss: 0.606083\n",
      "epoch 9; iter: 0; batch classifier loss: 0.355213\n",
      "epoch 9; iter: 200; batch classifier loss: 0.448798\n",
      "epoch 10; iter: 0; batch classifier loss: 0.508807\n",
      "epoch 10; iter: 200; batch classifier loss: 0.364334\n",
      "epoch 11; iter: 0; batch classifier loss: 0.422804\n",
      "epoch 11; iter: 200; batch classifier loss: 0.416027\n",
      "epoch 12; iter: 0; batch classifier loss: 0.367770\n",
      "epoch 12; iter: 200; batch classifier loss: 0.363580\n",
      "epoch 13; iter: 0; batch classifier loss: 0.473280\n",
      "epoch 13; iter: 200; batch classifier loss: 0.404177\n",
      "epoch 14; iter: 0; batch classifier loss: 0.419870\n",
      "epoch 14; iter: 200; batch classifier loss: 0.422817\n",
      "epoch 15; iter: 0; batch classifier loss: 0.439770\n",
      "epoch 15; iter: 200; batch classifier loss: 0.440820\n",
      "epoch 16; iter: 0; batch classifier loss: 0.379909\n",
      "epoch 16; iter: 200; batch classifier loss: 0.405803\n",
      "epoch 17; iter: 0; batch classifier loss: 0.568178\n",
      "epoch 17; iter: 200; batch classifier loss: 0.404698\n",
      "epoch 18; iter: 0; batch classifier loss: 0.438039\n",
      "epoch 18; iter: 200; batch classifier loss: 0.368518\n",
      "epoch 19; iter: 0; batch classifier loss: 0.422546\n",
      "epoch 19; iter: 200; batch classifier loss: 0.426913\n",
      "epoch 20; iter: 0; batch classifier loss: 0.388384\n",
      "epoch 20; iter: 200; batch classifier loss: 0.490097\n",
      "epoch 21; iter: 0; batch classifier loss: 0.433129\n",
      "epoch 21; iter: 200; batch classifier loss: 0.367900\n",
      "epoch 22; iter: 0; batch classifier loss: 0.404335\n",
      "epoch 22; iter: 200; batch classifier loss: 0.446284\n",
      "epoch 23; iter: 0; batch classifier loss: 0.459093\n",
      "epoch 23; iter: 200; batch classifier loss: 0.419593\n",
      "epoch 24; iter: 0; batch classifier loss: 0.414612\n",
      "epoch 24; iter: 200; batch classifier loss: 0.435103\n",
      "epoch 25; iter: 0; batch classifier loss: 0.433529\n",
      "epoch 25; iter: 200; batch classifier loss: 0.401289\n",
      "epoch 26; iter: 0; batch classifier loss: 0.435055\n",
      "epoch 26; iter: 200; batch classifier loss: 0.416793\n",
      "epoch 27; iter: 0; batch classifier loss: 0.382431\n",
      "epoch 27; iter: 200; batch classifier loss: 0.426503\n",
      "epoch 28; iter: 0; batch classifier loss: 0.482149\n",
      "epoch 28; iter: 200; batch classifier loss: 0.391710\n",
      "epoch 29; iter: 0; batch classifier loss: 0.336413\n",
      "epoch 29; iter: 200; batch classifier loss: 0.301063\n",
      "epoch 30; iter: 0; batch classifier loss: 0.509953\n",
      "epoch 30; iter: 200; batch classifier loss: 0.495896\n",
      "epoch 31; iter: 0; batch classifier loss: 0.454933\n",
      "epoch 31; iter: 200; batch classifier loss: 0.441712\n",
      "epoch 32; iter: 0; batch classifier loss: 0.419024\n",
      "epoch 32; iter: 200; batch classifier loss: 0.540698\n",
      "epoch 33; iter: 0; batch classifier loss: 0.409954\n",
      "epoch 33; iter: 200; batch classifier loss: 0.426990\n",
      "epoch 34; iter: 0; batch classifier loss: 0.429021\n",
      "epoch 34; iter: 200; batch classifier loss: 0.404979\n",
      "epoch 35; iter: 0; batch classifier loss: 0.464529\n",
      "epoch 35; iter: 200; batch classifier loss: 0.350366\n",
      "epoch 36; iter: 0; batch classifier loss: 0.440556\n",
      "epoch 36; iter: 200; batch classifier loss: 0.418249\n",
      "epoch 37; iter: 0; batch classifier loss: 0.340176\n",
      "epoch 37; iter: 200; batch classifier loss: 0.473463\n",
      "epoch 38; iter: 0; batch classifier loss: 0.345884\n",
      "epoch 38; iter: 200; batch classifier loss: 0.371396\n",
      "epoch 39; iter: 0; batch classifier loss: 0.397265\n",
      "epoch 39; iter: 200; batch classifier loss: 0.449291\n",
      "epoch 40; iter: 0; batch classifier loss: 0.340319\n",
      "epoch 40; iter: 200; batch classifier loss: 0.413152\n",
      "epoch 41; iter: 0; batch classifier loss: 0.444501\n",
      "epoch 41; iter: 200; batch classifier loss: 0.329379\n",
      "epoch 42; iter: 0; batch classifier loss: 0.424668\n",
      "epoch 42; iter: 200; batch classifier loss: 0.413868\n",
      "epoch 43; iter: 0; batch classifier loss: 0.496120\n",
      "epoch 43; iter: 200; batch classifier loss: 0.400771\n",
      "epoch 44; iter: 0; batch classifier loss: 0.336126\n",
      "epoch 44; iter: 200; batch classifier loss: 0.469310\n",
      "epoch 45; iter: 0; batch classifier loss: 0.366588\n",
      "epoch 45; iter: 200; batch classifier loss: 0.437841\n",
      "epoch 46; iter: 0; batch classifier loss: 0.393338\n",
      "epoch 46; iter: 200; batch classifier loss: 0.476041\n",
      "epoch 47; iter: 0; batch classifier loss: 0.442804\n",
      "epoch 47; iter: 200; batch classifier loss: 0.428481\n",
      "epoch 48; iter: 0; batch classifier loss: 0.442555\n",
      "epoch 48; iter: 200; batch classifier loss: 0.438758\n",
      "epoch 49; iter: 0; batch classifier loss: 0.437771\n",
      "epoch 49; iter: 200; batch classifier loss: 0.488308\n"
     ]
    },
    {
     "data": {
      "text/plain": [
       "<aif360.algorithms.inprocessing.adversarial_debiasing.AdversarialDebiasing at 0x7f9bbadea7d0>"
      ]
     },
     "execution_count": 7,
     "metadata": {},
     "output_type": "execute_result"
    }
   ],
   "source": [
    "plain_model.fit(dataset_orig_train)"
   ]
  },
  {
   "cell_type": "code",
   "execution_count": 8,
   "metadata": {},
   "outputs": [],
   "source": [
    "# Apply the plain model to test data\n",
    "dataset_nodebiasing_train = plain_model.predict(dataset_orig_train)\n",
    "dataset_nodebiasing_test = plain_model.predict(dataset_orig_test)"
   ]
  },
  {
   "cell_type": "code",
   "execution_count": 9,
   "metadata": {},
   "outputs": [
    {
     "data": {
      "text/markdown": [
       "#### Plain model - without debiasing - dataset metrics"
      ],
      "text/plain": [
       "<IPython.core.display.Markdown object>"
      ]
     },
     "metadata": {},
     "output_type": "display_data"
    },
    {
     "name": "stdout",
     "output_type": "stream",
     "text": [
      "Train set: Difference in mean outcomes between unprivileged and privileged groups = -0.237592\n",
      "Test set: Difference in mean outcomes between unprivileged and privileged groups = -0.232933\n"
     ]
    },
    {
     "data": {
      "text/markdown": [
       "#### Plain model - without debiasing - classification metrics"
      ],
      "text/plain": [
       "<IPython.core.display.Markdown object>"
      ]
     },
     "metadata": {},
     "output_type": "display_data"
    },
    {
     "name": "stdout",
     "output_type": "stream",
     "text": [
      "Test set: Classification accuracy = 0.802771\n",
      "Test set: Balanced classification accuracy = 0.667469\n",
      "Test set: Disparate impact = 0.000000\n",
      "Test set: Equal opportunity difference = -0.483696\n",
      "Test set: Average odds difference = -0.304008\n",
      "Test set: Theil_index = 0.172518\n"
     ]
    }
   ],
   "source": [
    "# Metrics for the dataset from plain model (without debiasing)\n",
    "display(Markdown(\"#### Plain model - without debiasing - dataset metrics\"))\n",
    "metric_dataset_nodebiasing_train = BinaryLabelDatasetMetric(\n",
    "    dataset_nodebiasing_train,\n",
    "    unprivileged_groups=unprivileged_groups,\n",
    "    privileged_groups=privileged_groups,\n",
    ")\n",
    "\n",
    "print(\n",
    "    \"Train set: Difference in mean outcomes between unprivileged and privileged groups = %f\"\n",
    "    % metric_dataset_nodebiasing_train.mean_difference()\n",
    ")\n",
    "\n",
    "metric_dataset_nodebiasing_test = BinaryLabelDatasetMetric(\n",
    "    dataset_nodebiasing_test,\n",
    "    unprivileged_groups=unprivileged_groups,\n",
    "    privileged_groups=privileged_groups,\n",
    ")\n",
    "\n",
    "print(\n",
    "    \"Test set: Difference in mean outcomes between unprivileged and privileged groups = %f\"\n",
    "    % metric_dataset_nodebiasing_test.mean_difference()\n",
    ")\n",
    "\n",
    "display(Markdown(\"#### Plain model - without debiasing - classification metrics\"))\n",
    "classified_metric_nodebiasing_test = ClassificationMetric(\n",
    "    dataset_orig_test,\n",
    "    dataset_nodebiasing_test,\n",
    "    unprivileged_groups=unprivileged_groups,\n",
    "    privileged_groups=privileged_groups,\n",
    ")\n",
    "print(\n",
    "    \"Test set: Classification accuracy = %f\"\n",
    "    % classified_metric_nodebiasing_test.accuracy()\n",
    ")\n",
    "TPR = classified_metric_nodebiasing_test.true_positive_rate()\n",
    "TNR = classified_metric_nodebiasing_test.true_negative_rate()\n",
    "bal_acc_nodebiasing_test = 0.5 * (TPR + TNR)\n",
    "print(\"Test set: Balanced classification accuracy = %f\" % bal_acc_nodebiasing_test)\n",
    "print(\n",
    "    \"Test set: Disparate impact = %f\"\n",
    "    % classified_metric_nodebiasing_test.disparate_impact()\n",
    ")\n",
    "print(\n",
    "    \"Test set: Equal opportunity difference = %f\"\n",
    "    % classified_metric_nodebiasing_test.equal_opportunity_difference()\n",
    ")\n",
    "print(\n",
    "    \"Test set: Average odds difference = %f\"\n",
    "    % classified_metric_nodebiasing_test.average_odds_difference()\n",
    ")\n",
    "print(\"Test set: Theil_index = %f\" % classified_metric_nodebiasing_test.theil_index())"
   ]
  },
  {
   "cell_type": "markdown",
   "metadata": {},
   "source": [
    "### Apply in-processing algorithm based on adversarial learning"
   ]
  },
  {
   "cell_type": "code",
   "execution_count": 10,
   "metadata": {},
   "outputs": [],
   "source": [
    "sess.close()\n",
    "tf.reset_default_graph()\n",
    "sess = tf.Session()"
   ]
  },
  {
   "cell_type": "code",
   "execution_count": 11,
   "metadata": {},
   "outputs": [],
   "source": [
    "# Learn parameters with debias set to True\n",
    "debiased_model = AdversarialDebiasing(\n",
    "    privileged_groups=privileged_groups,\n",
    "    unprivileged_groups=unprivileged_groups,\n",
    "    scope_name=\"debiased_classifier\",\n",
    "    debias=True,\n",
    "    sess=sess,\n",
    ")"
   ]
  },
  {
   "cell_type": "code",
   "execution_count": 12,
   "metadata": {
    "scrolled": true
   },
   "outputs": [
    {
     "name": "stdout",
     "output_type": "stream",
     "text": [
      "epoch 0; iter: 0; batch classifier loss: 0.627397; batch adversarial loss: 0.704342\n",
      "epoch 0; iter: 200; batch classifier loss: 0.414052; batch adversarial loss: 0.610458\n",
      "epoch 1; iter: 0; batch classifier loss: 0.524902; batch adversarial loss: 0.592831\n",
      "epoch 1; iter: 200; batch classifier loss: 0.461776; batch adversarial loss: 0.598482\n",
      "epoch 2; iter: 0; batch classifier loss: 0.339040; batch adversarial loss: 0.629536\n",
      "epoch 2; iter: 200; batch classifier loss: 0.435791; batch adversarial loss: 0.621570\n",
      "epoch 3; iter: 0; batch classifier loss: 0.376206; batch adversarial loss: 0.642700\n",
      "epoch 3; iter: 200; batch classifier loss: 0.435921; batch adversarial loss: 0.670054\n",
      "epoch 4; iter: 0; batch classifier loss: 0.444486; batch adversarial loss: 0.678655\n",
      "epoch 4; iter: 200; batch classifier loss: 0.461230; batch adversarial loss: 0.603155\n",
      "epoch 5; iter: 0; batch classifier loss: 0.446085; batch adversarial loss: 0.682651\n",
      "epoch 5; iter: 200; batch classifier loss: 0.530594; batch adversarial loss: 0.634002\n",
      "epoch 6; iter: 0; batch classifier loss: 0.472457; batch adversarial loss: 0.658505\n",
      "epoch 6; iter: 200; batch classifier loss: 0.440336; batch adversarial loss: 0.619817\n",
      "epoch 7; iter: 0; batch classifier loss: 0.496652; batch adversarial loss: 0.654780\n",
      "epoch 7; iter: 200; batch classifier loss: 0.515845; batch adversarial loss: 0.579368\n",
      "epoch 8; iter: 0; batch classifier loss: 0.525394; batch adversarial loss: 0.670267\n",
      "epoch 8; iter: 200; batch classifier loss: 0.361838; batch adversarial loss: 0.651939\n",
      "epoch 9; iter: 0; batch classifier loss: 0.529374; batch adversarial loss: 0.583476\n",
      "epoch 9; iter: 200; batch classifier loss: 0.479129; batch adversarial loss: 0.589018\n",
      "epoch 10; iter: 0; batch classifier loss: 0.379071; batch adversarial loss: 0.631280\n",
      "epoch 10; iter: 200; batch classifier loss: 0.439156; batch adversarial loss: 0.560435\n",
      "epoch 11; iter: 0; batch classifier loss: 0.436718; batch adversarial loss: 0.536158\n",
      "epoch 11; iter: 200; batch classifier loss: 0.367940; batch adversarial loss: 0.630655\n",
      "epoch 12; iter: 0; batch classifier loss: 0.375925; batch adversarial loss: 0.585725\n",
      "epoch 12; iter: 200; batch classifier loss: 0.497087; batch adversarial loss: 0.592110\n",
      "epoch 13; iter: 0; batch classifier loss: 0.484437; batch adversarial loss: 0.637636\n",
      "epoch 13; iter: 200; batch classifier loss: 0.344231; batch adversarial loss: 0.634035\n",
      "epoch 14; iter: 0; batch classifier loss: 0.421351; batch adversarial loss: 0.621736\n",
      "epoch 14; iter: 200; batch classifier loss: 0.444574; batch adversarial loss: 0.538779\n",
      "epoch 15; iter: 0; batch classifier loss: 0.398375; batch adversarial loss: 0.530332\n",
      "epoch 15; iter: 200; batch classifier loss: 0.452198; batch adversarial loss: 0.585946\n",
      "epoch 16; iter: 0; batch classifier loss: 0.462712; batch adversarial loss: 0.596160\n",
      "epoch 16; iter: 200; batch classifier loss: 0.428591; batch adversarial loss: 0.566654\n",
      "epoch 17; iter: 0; batch classifier loss: 0.427881; batch adversarial loss: 0.610721\n",
      "epoch 17; iter: 200; batch classifier loss: 0.456627; batch adversarial loss: 0.630902\n",
      "epoch 18; iter: 0; batch classifier loss: 0.394366; batch adversarial loss: 0.641720\n",
      "epoch 18; iter: 200; batch classifier loss: 0.421785; batch adversarial loss: 0.586951\n",
      "epoch 19; iter: 0; batch classifier loss: 0.500653; batch adversarial loss: 0.597082\n",
      "epoch 19; iter: 200; batch classifier loss: 0.385282; batch adversarial loss: 0.624035\n",
      "epoch 20; iter: 0; batch classifier loss: 0.375085; batch adversarial loss: 0.623432\n",
      "epoch 20; iter: 200; batch classifier loss: 0.506933; batch adversarial loss: 0.557415\n",
      "epoch 21; iter: 0; batch classifier loss: 0.348533; batch adversarial loss: 0.636554\n",
      "epoch 21; iter: 200; batch classifier loss: 0.445893; batch adversarial loss: 0.625345\n",
      "epoch 22; iter: 0; batch classifier loss: 0.491999; batch adversarial loss: 0.593472\n",
      "epoch 22; iter: 200; batch classifier loss: 0.385785; batch adversarial loss: 0.667088\n",
      "epoch 23; iter: 0; batch classifier loss: 0.335789; batch adversarial loss: 0.663279\n",
      "epoch 23; iter: 200; batch classifier loss: 0.435272; batch adversarial loss: 0.579530\n",
      "epoch 24; iter: 0; batch classifier loss: 0.310164; batch adversarial loss: 0.740266\n",
      "epoch 24; iter: 200; batch classifier loss: 0.415124; batch adversarial loss: 0.604972\n",
      "epoch 25; iter: 0; batch classifier loss: 0.439655; batch adversarial loss: 0.657043\n",
      "epoch 25; iter: 200; batch classifier loss: 0.344336; batch adversarial loss: 0.645791\n",
      "epoch 26; iter: 0; batch classifier loss: 0.431221; batch adversarial loss: 0.513541\n",
      "epoch 26; iter: 200; batch classifier loss: 0.387404; batch adversarial loss: 0.618699\n",
      "epoch 27; iter: 0; batch classifier loss: 0.457168; batch adversarial loss: 0.625331\n",
      "epoch 27; iter: 200; batch classifier loss: 0.500336; batch adversarial loss: 0.596579\n",
      "epoch 28; iter: 0; batch classifier loss: 0.372426; batch adversarial loss: 0.567549\n",
      "epoch 28; iter: 200; batch classifier loss: 0.485677; batch adversarial loss: 0.581079\n",
      "epoch 29; iter: 0; batch classifier loss: 0.391924; batch adversarial loss: 0.532781\n",
      "epoch 29; iter: 200; batch classifier loss: 0.444330; batch adversarial loss: 0.602513\n",
      "epoch 30; iter: 0; batch classifier loss: 0.380055; batch adversarial loss: 0.613519\n",
      "epoch 30; iter: 200; batch classifier loss: 0.482127; batch adversarial loss: 0.654248\n",
      "epoch 31; iter: 0; batch classifier loss: 0.411130; batch adversarial loss: 0.644418\n",
      "epoch 31; iter: 200; batch classifier loss: 0.404535; batch adversarial loss: 0.540852\n",
      "epoch 32; iter: 0; batch classifier loss: 0.351346; batch adversarial loss: 0.613874\n",
      "epoch 32; iter: 200; batch classifier loss: 0.398826; batch adversarial loss: 0.597461\n",
      "epoch 33; iter: 0; batch classifier loss: 0.428938; batch adversarial loss: 0.573168\n",
      "epoch 33; iter: 200; batch classifier loss: 0.431385; batch adversarial loss: 0.511096\n",
      "epoch 34; iter: 0; batch classifier loss: 0.410109; batch adversarial loss: 0.647788\n",
      "epoch 34; iter: 200; batch classifier loss: 0.455677; batch adversarial loss: 0.692527\n",
      "epoch 35; iter: 0; batch classifier loss: 0.401741; batch adversarial loss: 0.615086\n",
      "epoch 35; iter: 200; batch classifier loss: 0.450377; batch adversarial loss: 0.580311\n",
      "epoch 36; iter: 0; batch classifier loss: 0.436346; batch adversarial loss: 0.563781\n",
      "epoch 36; iter: 200; batch classifier loss: 0.466045; batch adversarial loss: 0.596689\n",
      "epoch 37; iter: 0; batch classifier loss: 0.447948; batch adversarial loss: 0.600741\n",
      "epoch 37; iter: 200; batch classifier loss: 0.395300; batch adversarial loss: 0.574753\n",
      "epoch 38; iter: 0; batch classifier loss: 0.372996; batch adversarial loss: 0.592155\n",
      "epoch 38; iter: 200; batch classifier loss: 0.459546; batch adversarial loss: 0.584676\n",
      "epoch 39; iter: 0; batch classifier loss: 0.383536; batch adversarial loss: 0.598470\n",
      "epoch 39; iter: 200; batch classifier loss: 0.382451; batch adversarial loss: 0.650634\n",
      "epoch 40; iter: 0; batch classifier loss: 0.323937; batch adversarial loss: 0.580322\n",
      "epoch 40; iter: 200; batch classifier loss: 0.528977; batch adversarial loss: 0.600475\n",
      "epoch 41; iter: 0; batch classifier loss: 0.358229; batch adversarial loss: 0.648310\n",
      "epoch 41; iter: 200; batch classifier loss: 0.383262; batch adversarial loss: 0.589804\n",
      "epoch 42; iter: 0; batch classifier loss: 0.508141; batch adversarial loss: 0.625363\n",
      "epoch 42; iter: 200; batch classifier loss: 0.397720; batch adversarial loss: 0.620086\n",
      "epoch 43; iter: 0; batch classifier loss: 0.469975; batch adversarial loss: 0.648652\n",
      "epoch 43; iter: 200; batch classifier loss: 0.352396; batch adversarial loss: 0.576703\n",
      "epoch 44; iter: 0; batch classifier loss: 0.461210; batch adversarial loss: 0.622090\n",
      "epoch 44; iter: 200; batch classifier loss: 0.485016; batch adversarial loss: 0.638526\n",
      "epoch 45; iter: 0; batch classifier loss: 0.379248; batch adversarial loss: 0.595100\n",
      "epoch 45; iter: 200; batch classifier loss: 0.372017; batch adversarial loss: 0.595402\n",
      "epoch 46; iter: 0; batch classifier loss: 0.398776; batch adversarial loss: 0.574253\n",
      "epoch 46; iter: 200; batch classifier loss: 0.426394; batch adversarial loss: 0.628949\n",
      "epoch 47; iter: 0; batch classifier loss: 0.433572; batch adversarial loss: 0.586874\n",
      "epoch 47; iter: 200; batch classifier loss: 0.466244; batch adversarial loss: 0.571552\n",
      "epoch 48; iter: 0; batch classifier loss: 0.431917; batch adversarial loss: 0.572524\n",
      "epoch 48; iter: 200; batch classifier loss: 0.454289; batch adversarial loss: 0.590933\n",
      "epoch 49; iter: 0; batch classifier loss: 0.560274; batch adversarial loss: 0.625959\n",
      "epoch 49; iter: 200; batch classifier loss: 0.345459; batch adversarial loss: 0.650845\n"
     ]
    },
    {
     "data": {
      "text/plain": [
       "<aif360.algorithms.inprocessing.adversarial_debiasing.AdversarialDebiasing at 0x7f9bb2c1f5d0>"
      ]
     },
     "execution_count": 12,
     "metadata": {},
     "output_type": "execute_result"
    }
   ],
   "source": [
    "debiased_model.fit(dataset_orig_train)"
   ]
  },
  {
   "cell_type": "code",
   "execution_count": 13,
   "metadata": {},
   "outputs": [],
   "source": [
    "# Apply the plain model to test data\n",
    "dataset_debiasing_train = debiased_model.predict(dataset_orig_train)\n",
    "dataset_debiasing_test = debiased_model.predict(dataset_orig_test)"
   ]
  },
  {
   "cell_type": "code",
   "execution_count": 14,
   "metadata": {},
   "outputs": [
    {
     "data": {
      "text/markdown": [
       "#### Plain model - without debiasing - dataset metrics"
      ],
      "text/plain": [
       "<IPython.core.display.Markdown object>"
      ]
     },
     "metadata": {},
     "output_type": "display_data"
    },
    {
     "name": "stdout",
     "output_type": "stream",
     "text": [
      "Train set: Difference in mean outcomes between unprivileged and privileged groups = -0.237592\n",
      "Test set: Difference in mean outcomes between unprivileged and privileged groups = -0.232933\n"
     ]
    },
    {
     "data": {
      "text/markdown": [
       "#### Model - with debiasing - dataset metrics"
      ],
      "text/plain": [
       "<IPython.core.display.Markdown object>"
      ]
     },
     "metadata": {},
     "output_type": "display_data"
    },
    {
     "name": "stdout",
     "output_type": "stream",
     "text": [
      "Train set: Difference in mean outcomes between unprivileged and privileged groups = -0.071356\n",
      "Test set: Difference in mean outcomes between unprivileged and privileged groups = -0.065841\n"
     ]
    },
    {
     "data": {
      "text/markdown": [
       "#### Plain model - without debiasing - classification metrics"
      ],
      "text/plain": [
       "<IPython.core.display.Markdown object>"
      ]
     },
     "metadata": {},
     "output_type": "display_data"
    },
    {
     "name": "stdout",
     "output_type": "stream",
     "text": [
      "Test set: Classification accuracy = 0.802771\n",
      "Test set: Balanced classification accuracy = 0.667469\n",
      "Test set: Disparate impact = 0.000000\n",
      "Test set: Equal opportunity difference = -0.483696\n",
      "Test set: Average odds difference = -0.304008\n",
      "Test set: Theil_index = 0.172518\n"
     ]
    },
    {
     "data": {
      "text/markdown": [
       "#### Model - with debiasing - classification metrics"
      ],
      "text/plain": [
       "<IPython.core.display.Markdown object>"
      ]
     },
     "metadata": {},
     "output_type": "display_data"
    },
    {
     "name": "stdout",
     "output_type": "stream",
     "text": [
      "Test set: Classification accuracy = 0.791647\n",
      "Test set: Balanced classification accuracy = 0.670821\n",
      "Test set: Disparate impact = 0.675099\n",
      "Test set: Equal opportunity difference = 0.011891\n",
      "Test set: Average odds difference = 0.005501\n",
      "Test set: Theil_index = 0.169571\n"
     ]
    }
   ],
   "source": [
    "# Metrics for the dataset from plain model (without debiasing)\n",
    "display(Markdown(\"#### Plain model - without debiasing - dataset metrics\"))\n",
    "print(\n",
    "    \"Train set: Difference in mean outcomes between unprivileged and privileged groups = %f\"\n",
    "    % metric_dataset_nodebiasing_train.mean_difference()\n",
    ")\n",
    "print(\n",
    "    \"Test set: Difference in mean outcomes between unprivileged and privileged groups = %f\"\n",
    "    % metric_dataset_nodebiasing_test.mean_difference()\n",
    ")\n",
    "\n",
    "# Metrics for the dataset from model with debiasing\n",
    "display(Markdown(\"#### Model - with debiasing - dataset metrics\"))\n",
    "metric_dataset_debiasing_train = BinaryLabelDatasetMetric(\n",
    "    dataset_debiasing_train,\n",
    "    unprivileged_groups=unprivileged_groups,\n",
    "    privileged_groups=privileged_groups,\n",
    ")\n",
    "\n",
    "print(\n",
    "    \"Train set: Difference in mean outcomes between unprivileged and privileged groups = %f\"\n",
    "    % metric_dataset_debiasing_train.mean_difference()\n",
    ")\n",
    "\n",
    "metric_dataset_debiasing_test = BinaryLabelDatasetMetric(\n",
    "    dataset_debiasing_test,\n",
    "    unprivileged_groups=unprivileged_groups,\n",
    "    privileged_groups=privileged_groups,\n",
    ")\n",
    "\n",
    "print(\n",
    "    \"Test set: Difference in mean outcomes between unprivileged and privileged groups = %f\"\n",
    "    % metric_dataset_debiasing_test.mean_difference()\n",
    ")\n",
    "\n",
    "\n",
    "display(Markdown(\"#### Plain model - without debiasing - classification metrics\"))\n",
    "print(\n",
    "    \"Test set: Classification accuracy = %f\"\n",
    "    % classified_metric_nodebiasing_test.accuracy()\n",
    ")\n",
    "TPR = classified_metric_nodebiasing_test.true_positive_rate()\n",
    "TNR = classified_metric_nodebiasing_test.true_negative_rate()\n",
    "bal_acc_nodebiasing_test = 0.5 * (TPR + TNR)\n",
    "print(\"Test set: Balanced classification accuracy = %f\" % bal_acc_nodebiasing_test)\n",
    "print(\n",
    "    \"Test set: Disparate impact = %f\"\n",
    "    % classified_metric_nodebiasing_test.disparate_impact()\n",
    ")\n",
    "print(\n",
    "    \"Test set: Equal opportunity difference = %f\"\n",
    "    % classified_metric_nodebiasing_test.equal_opportunity_difference()\n",
    ")\n",
    "print(\n",
    "    \"Test set: Average odds difference = %f\"\n",
    "    % classified_metric_nodebiasing_test.average_odds_difference()\n",
    ")\n",
    "print(\"Test set: Theil_index = %f\" % classified_metric_nodebiasing_test.theil_index())\n",
    "\n",
    "\n",
    "display(Markdown(\"#### Model - with debiasing - classification metrics\"))\n",
    "classified_metric_debiasing_test = ClassificationMetric(\n",
    "    dataset_orig_test,\n",
    "    dataset_debiasing_test,\n",
    "    unprivileged_groups=unprivileged_groups,\n",
    "    privileged_groups=privileged_groups,\n",
    ")\n",
    "print(\n",
    "    \"Test set: Classification accuracy = %f\"\n",
    "    % classified_metric_debiasing_test.accuracy()\n",
    ")\n",
    "TPR = classified_metric_debiasing_test.true_positive_rate()\n",
    "TNR = classified_metric_debiasing_test.true_negative_rate()\n",
    "bal_acc_debiasing_test = 0.5 * (TPR + TNR)\n",
    "print(\"Test set: Balanced classification accuracy = %f\" % bal_acc_debiasing_test)\n",
    "print(\n",
    "    \"Test set: Disparate impact = %f\"\n",
    "    % classified_metric_debiasing_test.disparate_impact()\n",
    ")\n",
    "print(\n",
    "    \"Test set: Equal opportunity difference = %f\"\n",
    "    % classified_metric_debiasing_test.equal_opportunity_difference()\n",
    ")\n",
    "print(\n",
    "    \"Test set: Average odds difference = %f\"\n",
    "    % classified_metric_debiasing_test.average_odds_difference()\n",
    ")\n",
    "print(\"Test set: Theil_index = %f\" % classified_metric_debiasing_test.theil_index())"
   ]
  },
  {
   "cell_type": "markdown",
   "metadata": {},
   "source": [
    "\n",
    "    References:\n",
    "    [1] B. H. Zhang, B. Lemoine, and M. Mitchell, \"Mitigating UnwantedBiases with Adversarial Learning,\" \n",
    "    AAAI/ACM Conference on Artificial Intelligence, Ethics, and Society, 2018."
   ]
  },
  {
   "cell_type": "code",
   "execution_count": null,
   "metadata": {},
   "outputs": [],
   "source": []
  }
 ],
 "metadata": {
  "kernelspec": {
   "display_name": "aif360",
   "language": "python",
   "name": "aif360"
  },
  "language_info": {
   "codemirror_mode": {
    "name": "ipython",
    "version": 3
   },
   "file_extension": ".py",
   "mimetype": "text/x-python",
   "name": "python",
   "nbconvert_exporter": "python",
   "pygments_lexer": "ipython3",
   "version": "3.11.10"
  }
 },
 "nbformat": 4,
 "nbformat_minor": 4
}
