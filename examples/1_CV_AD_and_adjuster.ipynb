{
 "cells": [
  {
   "cell_type": "markdown",
   "id": "f77f78f1-bbf9-4aa2-8ec6-770e81cff82c",
   "metadata": {},
   "source": [
    "# CV Routine"
   ]
  },
  {
   "cell_type": "code",
   "execution_count": 1,
   "id": "779c3e6c-a01b-4980-955f-13df60267837",
   "metadata": {},
   "outputs": [
    {
     "name": "stderr",
     "output_type": "stream",
     "text": [
      "2024-12-10 00:55:19.469913: E external/local_xla/xla/stream_executor/cuda/cuda_fft.cc:477] Unable to register cuFFT factory: Attempting to register factory for plugin cuFFT when one has already been registered\n",
      "WARNING: All log messages before absl::InitializeLog() is called are written to STDERR\n",
      "E0000 00:00:1733792119.481472   96779 cuda_dnn.cc:8310] Unable to register cuDNN factory: Attempting to register factory for plugin cuDNN when one has already been registered\n",
      "E0000 00:00:1733792119.484969   96779 cuda_blas.cc:1418] Unable to register cuBLAS factory: Attempting to register factory for plugin cuBLAS when one has already been registered\n",
      "2024-12-10 00:55:19.497534: I tensorflow/core/platform/cpu_feature_guard.cc:210] This TensorFlow binary is optimized to use available CPU instructions in performance-critical operations.\n",
      "To enable the following instructions: AVX2 FMA, in other operations, rebuild TensorFlow with the appropriate compiler flags.\n",
      "/home/ubuntu/miniconda3/envs/aif360/lib/python3.11/site-packages/inFairness/utils/ndcg.py:37: FutureWarning: We've integrated functorch into PyTorch. As the final step of the integration, `functorch.vmap` is deprecated as of PyTorch 2.0 and will be deleted in a future version of PyTorch >= 2.3. Please use `torch.vmap` instead; see the PyTorch 2.0 release notes and/or the `torch.func` migration guide for more details https://pytorch.org/docs/main/func.migrating.html\n",
      "  vect_normalized_discounted_cumulative_gain = vmap(\n",
      "/home/ubuntu/miniconda3/envs/aif360/lib/python3.11/site-packages/inFairness/utils/ndcg.py:48: FutureWarning: We've integrated functorch into PyTorch. As the final step of the integration, `functorch.vmap` is deprecated as of PyTorch 2.0 and will be deleted in a future version of PyTorch >= 2.3. Please use `torch.vmap` instead; see the PyTorch 2.0 release notes and/or the `torch.func` migration guide for more details https://pytorch.org/docs/main/func.migrating.html\n",
      "  monte_carlo_vect_ndcg = vmap(vect_normalized_discounted_cumulative_gain, in_dims=(0,))\n"
     ]
    }
   ],
   "source": [
    "%matplotlib inline\n",
    "# Load all necessary packages\n",
    "import sys\n",
    "\n",
    "import pandas as pd\n",
    "\n",
    "sys.path.append(\"../\")\n",
    "import matplotlib.pyplot as plt\n",
    "import tensorflow.compat.v1 as tf\n",
    "from aif360.algorithms.inprocessing.adversarial_debiasing import AdversarialDebiasing\n",
    "from aif360.algorithms.inprocessing.fairness_adjuster import FairnessAdjuster\n",
    "from aif360.algorithms.preprocessing.optim_preproc_helpers.data_preproc_functions import (\n",
    "    load_preproc_data_adult,\n",
    "    load_preproc_data_compas,\n",
    "    load_preproc_data_german,\n",
    ")\n",
    "from aif360.datasets import (\n",
    "    AdultDataset,\n",
    "    BinaryLabelDataset,\n",
    "    CompasDataset,\n",
    "    GermanDataset,\n",
    ")\n",
    "from aif360.metrics import BinaryLabelDatasetMetric, ClassificationMetric\n",
    "from aif360.metrics.utils import compute_boolean_conditioning_vector\n",
    "from IPython.display import Markdown, display\n",
    "from sklearn.linear_model import LogisticRegression\n",
    "from sklearn.metrics import accuracy_score\n",
    "from sklearn.preprocessing import MaxAbsScaler, StandardScaler\n",
    "\n",
    "tf.disable_eager_execution()"
   ]
  },
  {
   "cell_type": "code",
   "execution_count": 2,
   "id": "faaf39f4-c97f-41d0-8fbc-bc77ea549c5b",
   "metadata": {},
   "outputs": [
    {
     "name": "stderr",
     "output_type": "stream",
     "text": [
      "/home/ubuntu/AIF360_dev/aif360/algorithms/preprocessing/optim_preproc_helpers/data_preproc_functions.py:261: FutureWarning: Downcasting behavior in `replace` is deprecated and will be removed in a future version. To retain the old behavior, explicitly call `result.infer_objects(copy=False)`. To opt-in to the future behavior, set `pd.set_option('future.no_silent_downcasting', True)`\n",
      "  df['sex'] = df['personal_status'].replace(status_map)\n"
     ]
    }
   ],
   "source": [
    "dataset_orig = load_preproc_data_german([\"age\", \"sex\"])\n",
    "privileged_groups = [{\"age\": 1}]\n",
    "unprivileged_groups = [{\"age\": 0}]"
   ]
  },
  {
   "cell_type": "code",
   "execution_count": 3,
   "id": "23007a55-be71-44bc-9fd2-f78ce2bd3c3d",
   "metadata": {},
   "outputs": [],
   "source": [
    "from sklearn.model_selection import KFold, cross_val_score, cross_validate\n",
    "\n",
    "min_max_scaler = MaxAbsScaler()"
   ]
  },
  {
   "cell_type": "markdown",
   "id": "0e72b206-70b0-4189-97a2-c255e21f7614",
   "metadata": {},
   "source": [
    "Prep"
   ]
  },
  {
   "cell_type": "code",
   "execution_count": 4,
   "id": "9a49cb98-4106-4c39-828f-88ddecec6471",
   "metadata": {},
   "outputs": [],
   "source": [
    "dataset_orig.features = min_max_scaler.fit_transform(dataset_orig.features)"
   ]
  },
  {
   "cell_type": "markdown",
   "id": "29974c55-e8af-45e6-a41f-e71184477f62",
   "metadata": {},
   "source": [
    "CV"
   ]
  },
  {
   "cell_type": "code",
   "execution_count": 5,
   "id": "a45f5854-17ad-4b22-9408-40ec54907c4e",
   "metadata": {},
   "outputs": [],
   "source": [
    "def get_metrics(\n",
    "    dataset_orig_test, dataset_pred_test, unprivileged_groups, privileged_groups\n",
    "):\n",
    "    metric_dataset_debiasing_test = BinaryLabelDatasetMetric(\n",
    "        dataset_orig_test,\n",
    "        unprivileged_groups=unprivileged_groups,\n",
    "        privileged_groups=privileged_groups,\n",
    "    )\n",
    "    classified_metric_debiasing_test = ClassificationMetric(\n",
    "        dataset_orig_test,\n",
    "        dataset_pred_test,\n",
    "        unprivileged_groups=unprivileged_groups,\n",
    "        privileged_groups=privileged_groups,\n",
    "    )\n",
    "    metrics_dict = {\n",
    "        \"Test Set: mean outcomes difference\": metric_dataset_debiasing_test.mean_difference(),\n",
    "        \"Test Set: Classification accuracy\": classified_metric_debiasing_test.accuracy(),\n",
    "        \"Test Set: Disparate impact\": classified_metric_debiasing_test.disparate_impact(),\n",
    "        \"Test Set: Average odds difference\": classified_metric_debiasing_test.average_odds_difference(),\n",
    "    }\n",
    "    return metrics_dict"
   ]
  },
  {
   "cell_type": "code",
   "execution_count": 6,
   "id": "166e2407-f436-49aa-819d-0cc61542cbd1",
   "metadata": {},
   "outputs": [],
   "source": [
    "from copy import copy, deepcopy\n",
    "\n",
    "import numpy as np\n",
    "from sklearn.metrics import accuracy_score  # Replace with desired metric\n",
    "from sklearn.model_selection import KFold\n",
    "\n",
    "\n",
    "def cross_validate_seeds(\n",
    "    model_class,\n",
    "    model_kwargs,\n",
    "    dataset,\n",
    "    seeds=5,\n",
    "    n_folds=5,\n",
    "):\n",
    "    \"\"\"\n",
    "    Runs cross-validation with multiple seeds.\n",
    "\n",
    "    Parameters:\n",
    "        model: The Scikit-learn model to validate.\n",
    "        X: Feature matrix.\n",
    "        y: Target vector.\n",
    "        seeds: Number of seeds for cross-validation.\n",
    "        folds: Number of folds for each cross-validation.\n",
    "\n",
    "    Returns:\n",
    "        results: Dictionary containing accuracy scores for each seed and fold.\n",
    "    \"\"\"\n",
    "    results = {}\n",
    "    scope_name = model_kwargs[\"scope_name\"]\n",
    "    original_df = dataset.convert_to_dataframe()[0]\n",
    "    for seed in range(seeds):\n",
    "        print(f\"\\nSeed {seed + 1}/{seeds}\")\n",
    "        kf = KFold(n_splits=n_folds, shuffle=True, random_state=seed)\n",
    "        seed_results = {}\n",
    "        for to_debias in [True, False]:\n",
    "            model_kwargs[\"debias\"] = to_debias\n",
    "            fold_results = []\n",
    "            for fold, (train_idx, test_idx) in enumerate(kf.split(original_df)):\n",
    "                print(f\"{seed=} || {fold=}\")\n",
    "                # Splitting data\n",
    "                dataset_X_train, dataset_X_test = dataset.subset(\n",
    "                    train_idx\n",
    "                ), dataset.subset(test_idx)\n",
    "\n",
    "                # Training model\n",
    "                sess = tf.Session()\n",
    "                model_kwargs[\"sess\"] = sess\n",
    "                model_kwargs[\"scope_name\"] = scope_name + f\"_{seed}_{fold}\"\n",
    "                model = model_class(**model_kwargs)\n",
    "                model.fit(dataset_X_train, verbose=False)\n",
    "\n",
    "                # Making predictions\n",
    "                dataset_preds = model.predict(dataset_X_test)\n",
    "\n",
    "                # Evaluating model\n",
    "                metrics = get_metrics(\n",
    "                    dataset_X_test,\n",
    "                    dataset_preds,\n",
    "                    model_kwargs[\"unprivileged_groups\"],\n",
    "                    model_kwargs[\"privileged_groups\"],\n",
    "                )\n",
    "                fold_results.append(metrics)\n",
    "\n",
    "                # end session\n",
    "                sess.close()\n",
    "                tf.reset_default_graph()\n",
    "            seed_results[f\"{to_debias=}\"] = fold_results\n",
    "        results[f\"Seed {seed}\"] = seed_results\n",
    "\n",
    "    return results"
   ]
  },
  {
   "cell_type": "markdown",
   "id": "8abd638e-026b-4ed7-9010-5e0fadcf7e99",
   "metadata": {},
   "source": [
    "Fairness adjuster"
   ]
  },
  {
   "cell_type": "code",
   "execution_count": 7,
   "id": "c8fa353a-7302-4cda-83b6-d840f1802397",
   "metadata": {},
   "outputs": [],
   "source": [
    "model_class = FairnessAdjuster\n",
    "model_kwargs = {\n",
    "    \"privileged_groups\": privileged_groups,\n",
    "    \"unprivileged_groups\": unprivileged_groups,\n",
    "    \"scope_name\": \"debiased_classifier\",\n",
    "    \"adversary_loss_weight\": 0.01,\n",
    "    \"classifier_num_hidden_units\": 100,\n",
    "}"
   ]
  },
  {
   "cell_type": "code",
   "execution_count": 8,
   "id": "cddf7c8f-1cbd-48f5-90bb-77fe8eb235d6",
   "metadata": {
    "scrolled": true
   },
   "outputs": [
    {
     "name": "stdout",
     "output_type": "stream",
     "text": [
      "\n",
      "Seed 1/3\n",
      "seed=0 || fold=0\n",
      "WARNING:tensorflow:From /home/ubuntu/miniconda3/envs/aif360/lib/python3.11/site-packages/tensorflow/python/util/dispatch.py:1260: calling dropout (from tensorflow.python.ops.nn_ops) with keep_prob is deprecated and will be removed in a future version.\n",
      "Instructions for updating:\n",
      "Please use `rate` instead of `keep_prob`. Rate should be set to `rate = 1 - keep_prob`.\n"
     ]
    },
    {
     "name": "stderr",
     "output_type": "stream",
     "text": [
      "2024-12-10 00:55:23.699157: E external/local_xla/xla/stream_executor/cuda/cuda_driver.cc:152] failed call to cuInit: INTERNAL: CUDA error: Failed call to cuInit: UNKNOWN ERROR (303)\n",
      "WARNING: All log messages before absl::InitializeLog() is called are written to STDERR\n",
      "I0000 00:00:1733792123.816294   96779 mlir_graph_optimization_pass.cc:401] MLIR V1 optimization pass is not enabled\n",
      "2024-12-10 00:55:25.151927: W tensorflow/c/c_api.cc:305] Operation '{name:'debiased_classifier_0_0/debiased_classifier_0_0/classifier_model/b2/Adam_1/Assign' id:265 op device:{requested: '', assigned: ''} def:{{{node debiased_classifier_0_0/debiased_classifier_0_0/classifier_model/b2/Adam_1/Assign}} = AssignVariableOp[_has_manual_control_dependencies=true, dtype=DT_FLOAT, validate_shape=false](debiased_classifier_0_0/debiased_classifier_0_0/classifier_model/b2/Adam_1, debiased_classifier_0_0/debiased_classifier_0_0/classifier_model/b2/Adam_1/Initializer/zeros)}}' was changed by setting attribute after it was run by a session. This mutation will have no effect, and will trigger an error in the future. Either don't modify nodes after running them or create a new session.\n"
     ]
    },
    {
     "name": "stdout",
     "output_type": "stream",
     "text": [
      "seed=0 || fold=1\n"
     ]
    },
    {
     "name": "stderr",
     "output_type": "stream",
     "text": [
      "2024-12-10 00:55:26.805433: W tensorflow/c/c_api.cc:305] Operation '{name:'debiased_classifier_0_1/debiased_classifier_0_1/classifier_model/b2/Adam_1/Assign' id:265 op device:{requested: '', assigned: ''} def:{{{node debiased_classifier_0_1/debiased_classifier_0_1/classifier_model/b2/Adam_1/Assign}} = AssignVariableOp[_has_manual_control_dependencies=true, dtype=DT_FLOAT, validate_shape=false](debiased_classifier_0_1/debiased_classifier_0_1/classifier_model/b2/Adam_1, debiased_classifier_0_1/debiased_classifier_0_1/classifier_model/b2/Adam_1/Initializer/zeros)}}' was changed by setting attribute after it was run by a session. This mutation will have no effect, and will trigger an error in the future. Either don't modify nodes after running them or create a new session.\n"
     ]
    },
    {
     "name": "stdout",
     "output_type": "stream",
     "text": [
      "seed=0 || fold=2\n"
     ]
    },
    {
     "name": "stderr",
     "output_type": "stream",
     "text": [
      "2024-12-10 00:55:28.324078: W tensorflow/c/c_api.cc:305] Operation '{name:'debiased_classifier_0_2/debiased_classifier_0_2/classifier_model/b2/Adam_1/Assign' id:265 op device:{requested: '', assigned: ''} def:{{{node debiased_classifier_0_2/debiased_classifier_0_2/classifier_model/b2/Adam_1/Assign}} = AssignVariableOp[_has_manual_control_dependencies=true, dtype=DT_FLOAT, validate_shape=false](debiased_classifier_0_2/debiased_classifier_0_2/classifier_model/b2/Adam_1, debiased_classifier_0_2/debiased_classifier_0_2/classifier_model/b2/Adam_1/Initializer/zeros)}}' was changed by setting attribute after it was run by a session. This mutation will have no effect, and will trigger an error in the future. Either don't modify nodes after running them or create a new session.\n"
     ]
    },
    {
     "name": "stdout",
     "output_type": "stream",
     "text": [
      "seed=0 || fold=3\n"
     ]
    },
    {
     "name": "stderr",
     "output_type": "stream",
     "text": [
      "2024-12-10 00:55:30.179621: W tensorflow/c/c_api.cc:305] Operation '{name:'debiased_classifier_0_3/debiased_classifier_0_3/classifier_model/b2/Adam_1/Assign' id:265 op device:{requested: '', assigned: ''} def:{{{node debiased_classifier_0_3/debiased_classifier_0_3/classifier_model/b2/Adam_1/Assign}} = AssignVariableOp[_has_manual_control_dependencies=true, dtype=DT_FLOAT, validate_shape=false](debiased_classifier_0_3/debiased_classifier_0_3/classifier_model/b2/Adam_1, debiased_classifier_0_3/debiased_classifier_0_3/classifier_model/b2/Adam_1/Initializer/zeros)}}' was changed by setting attribute after it was run by a session. This mutation will have no effect, and will trigger an error in the future. Either don't modify nodes after running them or create a new session.\n"
     ]
    },
    {
     "name": "stdout",
     "output_type": "stream",
     "text": [
      "seed=0 || fold=4\n"
     ]
    },
    {
     "name": "stderr",
     "output_type": "stream",
     "text": [
      "2024-12-10 00:55:31.837841: W tensorflow/c/c_api.cc:305] Operation '{name:'debiased_classifier_0_4/debiased_classifier_0_4/classifier_model/b2/Adam_1/Assign' id:265 op device:{requested: '', assigned: ''} def:{{{node debiased_classifier_0_4/debiased_classifier_0_4/classifier_model/b2/Adam_1/Assign}} = AssignVariableOp[_has_manual_control_dependencies=true, dtype=DT_FLOAT, validate_shape=false](debiased_classifier_0_4/debiased_classifier_0_4/classifier_model/b2/Adam_1, debiased_classifier_0_4/debiased_classifier_0_4/classifier_model/b2/Adam_1/Initializer/zeros)}}' was changed by setting attribute after it was run by a session. This mutation will have no effect, and will trigger an error in the future. Either don't modify nodes after running them or create a new session.\n"
     ]
    },
    {
     "name": "stdout",
     "output_type": "stream",
     "text": [
      "seed=0 || fold=5\n"
     ]
    },
    {
     "name": "stderr",
     "output_type": "stream",
     "text": [
      "2024-12-10 00:55:33.385751: W tensorflow/c/c_api.cc:305] Operation '{name:'debiased_classifier_0_5/debiased_classifier_0_5/classifier_model/b2/Adam_1/Assign' id:265 op device:{requested: '', assigned: ''} def:{{{node debiased_classifier_0_5/debiased_classifier_0_5/classifier_model/b2/Adam_1/Assign}} = AssignVariableOp[_has_manual_control_dependencies=true, dtype=DT_FLOAT, validate_shape=false](debiased_classifier_0_5/debiased_classifier_0_5/classifier_model/b2/Adam_1, debiased_classifier_0_5/debiased_classifier_0_5/classifier_model/b2/Adam_1/Initializer/zeros)}}' was changed by setting attribute after it was run by a session. This mutation will have no effect, and will trigger an error in the future. Either don't modify nodes after running them or create a new session.\n"
     ]
    },
    {
     "name": "stdout",
     "output_type": "stream",
     "text": [
      "seed=0 || fold=6\n"
     ]
    },
    {
     "name": "stderr",
     "output_type": "stream",
     "text": [
      "2024-12-10 00:55:34.986632: W tensorflow/c/c_api.cc:305] Operation '{name:'debiased_classifier_0_6/debiased_classifier_0_6/classifier_model/b2/Adam_1/Assign' id:265 op device:{requested: '', assigned: ''} def:{{{node debiased_classifier_0_6/debiased_classifier_0_6/classifier_model/b2/Adam_1/Assign}} = AssignVariableOp[_has_manual_control_dependencies=true, dtype=DT_FLOAT, validate_shape=false](debiased_classifier_0_6/debiased_classifier_0_6/classifier_model/b2/Adam_1, debiased_classifier_0_6/debiased_classifier_0_6/classifier_model/b2/Adam_1/Initializer/zeros)}}' was changed by setting attribute after it was run by a session. This mutation will have no effect, and will trigger an error in the future. Either don't modify nodes after running them or create a new session.\n"
     ]
    },
    {
     "name": "stdout",
     "output_type": "stream",
     "text": [
      "seed=0 || fold=7\n"
     ]
    },
    {
     "name": "stderr",
     "output_type": "stream",
     "text": [
      "2024-12-10 00:55:36.487669: W tensorflow/c/c_api.cc:305] Operation '{name:'debiased_classifier_0_7/debiased_classifier_0_7/classifier_model/b2/Adam_1/Assign' id:265 op device:{requested: '', assigned: ''} def:{{{node debiased_classifier_0_7/debiased_classifier_0_7/classifier_model/b2/Adam_1/Assign}} = AssignVariableOp[_has_manual_control_dependencies=true, dtype=DT_FLOAT, validate_shape=false](debiased_classifier_0_7/debiased_classifier_0_7/classifier_model/b2/Adam_1, debiased_classifier_0_7/debiased_classifier_0_7/classifier_model/b2/Adam_1/Initializer/zeros)}}' was changed by setting attribute after it was run by a session. This mutation will have no effect, and will trigger an error in the future. Either don't modify nodes after running them or create a new session.\n"
     ]
    },
    {
     "name": "stdout",
     "output_type": "stream",
     "text": [
      "seed=0 || fold=8\n"
     ]
    },
    {
     "name": "stderr",
     "output_type": "stream",
     "text": [
      "2024-12-10 00:55:38.081684: W tensorflow/c/c_api.cc:305] Operation '{name:'debiased_classifier_0_8/debiased_classifier_0_8/classifier_model/b2/Adam_1/Assign' id:265 op device:{requested: '', assigned: ''} def:{{{node debiased_classifier_0_8/debiased_classifier_0_8/classifier_model/b2/Adam_1/Assign}} = AssignVariableOp[_has_manual_control_dependencies=true, dtype=DT_FLOAT, validate_shape=false](debiased_classifier_0_8/debiased_classifier_0_8/classifier_model/b2/Adam_1, debiased_classifier_0_8/debiased_classifier_0_8/classifier_model/b2/Adam_1/Initializer/zeros)}}' was changed by setting attribute after it was run by a session. This mutation will have no effect, and will trigger an error in the future. Either don't modify nodes after running them or create a new session.\n"
     ]
    },
    {
     "name": "stdout",
     "output_type": "stream",
     "text": [
      "seed=0 || fold=9\n"
     ]
    },
    {
     "name": "stderr",
     "output_type": "stream",
     "text": [
      "2024-12-10 00:55:39.580150: W tensorflow/c/c_api.cc:305] Operation '{name:'debiased_classifier_0_9/debiased_classifier_0_9/classifier_model/b2/Adam_1/Assign' id:265 op device:{requested: '', assigned: ''} def:{{{node debiased_classifier_0_9/debiased_classifier_0_9/classifier_model/b2/Adam_1/Assign}} = AssignVariableOp[_has_manual_control_dependencies=true, dtype=DT_FLOAT, validate_shape=false](debiased_classifier_0_9/debiased_classifier_0_9/classifier_model/b2/Adam_1, debiased_classifier_0_9/debiased_classifier_0_9/classifier_model/b2/Adam_1/Initializer/zeros)}}' was changed by setting attribute after it was run by a session. This mutation will have no effect, and will trigger an error in the future. Either don't modify nodes after running them or create a new session.\n"
     ]
    },
    {
     "name": "stdout",
     "output_type": "stream",
     "text": [
      "seed=0 || fold=0\n"
     ]
    },
    {
     "name": "stderr",
     "output_type": "stream",
     "text": [
      "2024-12-10 00:55:40.812974: W tensorflow/c/c_api.cc:305] Operation '{name:'debiased_classifier_0_0/debiased_classifier_0_0/classifier_model/b2/Adam_1/Assign' id:265 op device:{requested: '', assigned: ''} def:{{{node debiased_classifier_0_0/debiased_classifier_0_0/classifier_model/b2/Adam_1/Assign}} = AssignVariableOp[_has_manual_control_dependencies=true, dtype=DT_FLOAT, validate_shape=false](debiased_classifier_0_0/debiased_classifier_0_0/classifier_model/b2/Adam_1, debiased_classifier_0_0/debiased_classifier_0_0/classifier_model/b2/Adam_1/Initializer/zeros)}}' was changed by setting attribute after it was run by a session. This mutation will have no effect, and will trigger an error in the future. Either don't modify nodes after running them or create a new session.\n"
     ]
    },
    {
     "name": "stdout",
     "output_type": "stream",
     "text": [
      "seed=0 || fold=1\n"
     ]
    },
    {
     "name": "stderr",
     "output_type": "stream",
     "text": [
      "2024-12-10 00:55:42.151868: W tensorflow/c/c_api.cc:305] Operation '{name:'debiased_classifier_0_1/debiased_classifier_0_1/classifier_model/b2/Adam_1/Assign' id:265 op device:{requested: '', assigned: ''} def:{{{node debiased_classifier_0_1/debiased_classifier_0_1/classifier_model/b2/Adam_1/Assign}} = AssignVariableOp[_has_manual_control_dependencies=true, dtype=DT_FLOAT, validate_shape=false](debiased_classifier_0_1/debiased_classifier_0_1/classifier_model/b2/Adam_1, debiased_classifier_0_1/debiased_classifier_0_1/classifier_model/b2/Adam_1/Initializer/zeros)}}' was changed by setting attribute after it was run by a session. This mutation will have no effect, and will trigger an error in the future. Either don't modify nodes after running them or create a new session.\n"
     ]
    },
    {
     "name": "stdout",
     "output_type": "stream",
     "text": [
      "seed=0 || fold=2\n"
     ]
    },
    {
     "name": "stderr",
     "output_type": "stream",
     "text": [
      "2024-12-10 00:55:43.390460: W tensorflow/c/c_api.cc:305] Operation '{name:'debiased_classifier_0_2/debiased_classifier_0_2/classifier_model/b2/Adam_1/Assign' id:265 op device:{requested: '', assigned: ''} def:{{{node debiased_classifier_0_2/debiased_classifier_0_2/classifier_model/b2/Adam_1/Assign}} = AssignVariableOp[_has_manual_control_dependencies=true, dtype=DT_FLOAT, validate_shape=false](debiased_classifier_0_2/debiased_classifier_0_2/classifier_model/b2/Adam_1, debiased_classifier_0_2/debiased_classifier_0_2/classifier_model/b2/Adam_1/Initializer/zeros)}}' was changed by setting attribute after it was run by a session. This mutation will have no effect, and will trigger an error in the future. Either don't modify nodes after running them or create a new session.\n"
     ]
    },
    {
     "name": "stdout",
     "output_type": "stream",
     "text": [
      "seed=0 || fold=3\n"
     ]
    },
    {
     "name": "stderr",
     "output_type": "stream",
     "text": [
      "2024-12-10 00:55:44.633903: W tensorflow/c/c_api.cc:305] Operation '{name:'debiased_classifier_0_3/debiased_classifier_0_3/classifier_model/b2/Adam_1/Assign' id:265 op device:{requested: '', assigned: ''} def:{{{node debiased_classifier_0_3/debiased_classifier_0_3/classifier_model/b2/Adam_1/Assign}} = AssignVariableOp[_has_manual_control_dependencies=true, dtype=DT_FLOAT, validate_shape=false](debiased_classifier_0_3/debiased_classifier_0_3/classifier_model/b2/Adam_1, debiased_classifier_0_3/debiased_classifier_0_3/classifier_model/b2/Adam_1/Initializer/zeros)}}' was changed by setting attribute after it was run by a session. This mutation will have no effect, and will trigger an error in the future. Either don't modify nodes after running them or create a new session.\n"
     ]
    },
    {
     "name": "stdout",
     "output_type": "stream",
     "text": [
      "seed=0 || fold=4\n"
     ]
    },
    {
     "name": "stderr",
     "output_type": "stream",
     "text": [
      "2024-12-10 00:55:45.950200: W tensorflow/c/c_api.cc:305] Operation '{name:'debiased_classifier_0_4/debiased_classifier_0_4/classifier_model/b2/Adam_1/Assign' id:265 op device:{requested: '', assigned: ''} def:{{{node debiased_classifier_0_4/debiased_classifier_0_4/classifier_model/b2/Adam_1/Assign}} = AssignVariableOp[_has_manual_control_dependencies=true, dtype=DT_FLOAT, validate_shape=false](debiased_classifier_0_4/debiased_classifier_0_4/classifier_model/b2/Adam_1, debiased_classifier_0_4/debiased_classifier_0_4/classifier_model/b2/Adam_1/Initializer/zeros)}}' was changed by setting attribute after it was run by a session. This mutation will have no effect, and will trigger an error in the future. Either don't modify nodes after running them or create a new session.\n"
     ]
    },
    {
     "name": "stdout",
     "output_type": "stream",
     "text": [
      "seed=0 || fold=5\n"
     ]
    },
    {
     "name": "stderr",
     "output_type": "stream",
     "text": [
      "2024-12-10 00:55:47.193586: W tensorflow/c/c_api.cc:305] Operation '{name:'debiased_classifier_0_5/debiased_classifier_0_5/classifier_model/b2/Adam_1/Assign' id:265 op device:{requested: '', assigned: ''} def:{{{node debiased_classifier_0_5/debiased_classifier_0_5/classifier_model/b2/Adam_1/Assign}} = AssignVariableOp[_has_manual_control_dependencies=true, dtype=DT_FLOAT, validate_shape=false](debiased_classifier_0_5/debiased_classifier_0_5/classifier_model/b2/Adam_1, debiased_classifier_0_5/debiased_classifier_0_5/classifier_model/b2/Adam_1/Initializer/zeros)}}' was changed by setting attribute after it was run by a session. This mutation will have no effect, and will trigger an error in the future. Either don't modify nodes after running them or create a new session.\n"
     ]
    },
    {
     "name": "stdout",
     "output_type": "stream",
     "text": [
      "seed=0 || fold=6\n"
     ]
    },
    {
     "name": "stderr",
     "output_type": "stream",
     "text": [
      "2024-12-10 00:55:48.412176: W tensorflow/c/c_api.cc:305] Operation '{name:'debiased_classifier_0_6/debiased_classifier_0_6/classifier_model/b2/Adam_1/Assign' id:265 op device:{requested: '', assigned: ''} def:{{{node debiased_classifier_0_6/debiased_classifier_0_6/classifier_model/b2/Adam_1/Assign}} = AssignVariableOp[_has_manual_control_dependencies=true, dtype=DT_FLOAT, validate_shape=false](debiased_classifier_0_6/debiased_classifier_0_6/classifier_model/b2/Adam_1, debiased_classifier_0_6/debiased_classifier_0_6/classifier_model/b2/Adam_1/Initializer/zeros)}}' was changed by setting attribute after it was run by a session. This mutation will have no effect, and will trigger an error in the future. Either don't modify nodes after running them or create a new session.\n"
     ]
    },
    {
     "name": "stdout",
     "output_type": "stream",
     "text": [
      "seed=0 || fold=7\n"
     ]
    },
    {
     "name": "stderr",
     "output_type": "stream",
     "text": [
      "2024-12-10 00:55:49.712461: W tensorflow/c/c_api.cc:305] Operation '{name:'debiased_classifier_0_7/debiased_classifier_0_7/classifier_model/b2/Adam_1/Assign' id:265 op device:{requested: '', assigned: ''} def:{{{node debiased_classifier_0_7/debiased_classifier_0_7/classifier_model/b2/Adam_1/Assign}} = AssignVariableOp[_has_manual_control_dependencies=true, dtype=DT_FLOAT, validate_shape=false](debiased_classifier_0_7/debiased_classifier_0_7/classifier_model/b2/Adam_1, debiased_classifier_0_7/debiased_classifier_0_7/classifier_model/b2/Adam_1/Initializer/zeros)}}' was changed by setting attribute after it was run by a session. This mutation will have no effect, and will trigger an error in the future. Either don't modify nodes after running them or create a new session.\n"
     ]
    },
    {
     "name": "stdout",
     "output_type": "stream",
     "text": [
      "seed=0 || fold=8\n"
     ]
    },
    {
     "name": "stderr",
     "output_type": "stream",
     "text": [
      "2024-12-10 00:55:50.885627: W tensorflow/c/c_api.cc:305] Operation '{name:'debiased_classifier_0_8/debiased_classifier_0_8/classifier_model/b2/Adam_1/Assign' id:265 op device:{requested: '', assigned: ''} def:{{{node debiased_classifier_0_8/debiased_classifier_0_8/classifier_model/b2/Adam_1/Assign}} = AssignVariableOp[_has_manual_control_dependencies=true, dtype=DT_FLOAT, validate_shape=false](debiased_classifier_0_8/debiased_classifier_0_8/classifier_model/b2/Adam_1, debiased_classifier_0_8/debiased_classifier_0_8/classifier_model/b2/Adam_1/Initializer/zeros)}}' was changed by setting attribute after it was run by a session. This mutation will have no effect, and will trigger an error in the future. Either don't modify nodes after running them or create a new session.\n"
     ]
    },
    {
     "name": "stdout",
     "output_type": "stream",
     "text": [
      "seed=0 || fold=9\n"
     ]
    },
    {
     "name": "stderr",
     "output_type": "stream",
     "text": [
      "2024-12-10 00:55:52.150188: W tensorflow/c/c_api.cc:305] Operation '{name:'debiased_classifier_0_9/debiased_classifier_0_9/classifier_model/b2/Adam_1/Assign' id:265 op device:{requested: '', assigned: ''} def:{{{node debiased_classifier_0_9/debiased_classifier_0_9/classifier_model/b2/Adam_1/Assign}} = AssignVariableOp[_has_manual_control_dependencies=true, dtype=DT_FLOAT, validate_shape=false](debiased_classifier_0_9/debiased_classifier_0_9/classifier_model/b2/Adam_1, debiased_classifier_0_9/debiased_classifier_0_9/classifier_model/b2/Adam_1/Initializer/zeros)}}' was changed by setting attribute after it was run by a session. This mutation will have no effect, and will trigger an error in the future. Either don't modify nodes after running them or create a new session.\n"
     ]
    },
    {
     "name": "stdout",
     "output_type": "stream",
     "text": [
      "\n",
      "Seed 2/3\n",
      "seed=1 || fold=0\n"
     ]
    },
    {
     "name": "stderr",
     "output_type": "stream",
     "text": [
      "2024-12-10 00:55:53.691401: W tensorflow/c/c_api.cc:305] Operation '{name:'debiased_classifier_1_0/debiased_classifier_1_0/classifier_model/b2/Adam_1/Assign' id:265 op device:{requested: '', assigned: ''} def:{{{node debiased_classifier_1_0/debiased_classifier_1_0/classifier_model/b2/Adam_1/Assign}} = AssignVariableOp[_has_manual_control_dependencies=true, dtype=DT_FLOAT, validate_shape=false](debiased_classifier_1_0/debiased_classifier_1_0/classifier_model/b2/Adam_1, debiased_classifier_1_0/debiased_classifier_1_0/classifier_model/b2/Adam_1/Initializer/zeros)}}' was changed by setting attribute after it was run by a session. This mutation will have no effect, and will trigger an error in the future. Either don't modify nodes after running them or create a new session.\n"
     ]
    },
    {
     "name": "stdout",
     "output_type": "stream",
     "text": [
      "seed=1 || fold=1\n"
     ]
    },
    {
     "name": "stderr",
     "output_type": "stream",
     "text": [
      "2024-12-10 00:55:55.255528: W tensorflow/c/c_api.cc:305] Operation '{name:'debiased_classifier_1_1/debiased_classifier_1_1/classifier_model/b2/Adam_1/Assign' id:265 op device:{requested: '', assigned: ''} def:{{{node debiased_classifier_1_1/debiased_classifier_1_1/classifier_model/b2/Adam_1/Assign}} = AssignVariableOp[_has_manual_control_dependencies=true, dtype=DT_FLOAT, validate_shape=false](debiased_classifier_1_1/debiased_classifier_1_1/classifier_model/b2/Adam_1, debiased_classifier_1_1/debiased_classifier_1_1/classifier_model/b2/Adam_1/Initializer/zeros)}}' was changed by setting attribute after it was run by a session. This mutation will have no effect, and will trigger an error in the future. Either don't modify nodes after running them or create a new session.\n"
     ]
    },
    {
     "name": "stdout",
     "output_type": "stream",
     "text": [
      "seed=1 || fold=2\n"
     ]
    },
    {
     "name": "stderr",
     "output_type": "stream",
     "text": [
      "2024-12-10 00:55:56.810803: W tensorflow/c/c_api.cc:305] Operation '{name:'debiased_classifier_1_2/debiased_classifier_1_2/classifier_model/b2/Adam_1/Assign' id:265 op device:{requested: '', assigned: ''} def:{{{node debiased_classifier_1_2/debiased_classifier_1_2/classifier_model/b2/Adam_1/Assign}} = AssignVariableOp[_has_manual_control_dependencies=true, dtype=DT_FLOAT, validate_shape=false](debiased_classifier_1_2/debiased_classifier_1_2/classifier_model/b2/Adam_1, debiased_classifier_1_2/debiased_classifier_1_2/classifier_model/b2/Adam_1/Initializer/zeros)}}' was changed by setting attribute after it was run by a session. This mutation will have no effect, and will trigger an error in the future. Either don't modify nodes after running them or create a new session.\n"
     ]
    },
    {
     "name": "stdout",
     "output_type": "stream",
     "text": [
      "seed=1 || fold=3\n"
     ]
    },
    {
     "name": "stderr",
     "output_type": "stream",
     "text": [
      "2024-12-10 00:55:58.340857: W tensorflow/c/c_api.cc:305] Operation '{name:'debiased_classifier_1_3/debiased_classifier_1_3/classifier_model/b2/Adam_1/Assign' id:265 op device:{requested: '', assigned: ''} def:{{{node debiased_classifier_1_3/debiased_classifier_1_3/classifier_model/b2/Adam_1/Assign}} = AssignVariableOp[_has_manual_control_dependencies=true, dtype=DT_FLOAT, validate_shape=false](debiased_classifier_1_3/debiased_classifier_1_3/classifier_model/b2/Adam_1, debiased_classifier_1_3/debiased_classifier_1_3/classifier_model/b2/Adam_1/Initializer/zeros)}}' was changed by setting attribute after it was run by a session. This mutation will have no effect, and will trigger an error in the future. Either don't modify nodes after running them or create a new session.\n"
     ]
    },
    {
     "name": "stdout",
     "output_type": "stream",
     "text": [
      "seed=1 || fold=4\n"
     ]
    },
    {
     "name": "stderr",
     "output_type": "stream",
     "text": [
      "2024-12-10 00:55:59.945658: W tensorflow/c/c_api.cc:305] Operation '{name:'debiased_classifier_1_4/debiased_classifier_1_4/classifier_model/b2/Adam_1/Assign' id:265 op device:{requested: '', assigned: ''} def:{{{node debiased_classifier_1_4/debiased_classifier_1_4/classifier_model/b2/Adam_1/Assign}} = AssignVariableOp[_has_manual_control_dependencies=true, dtype=DT_FLOAT, validate_shape=false](debiased_classifier_1_4/debiased_classifier_1_4/classifier_model/b2/Adam_1, debiased_classifier_1_4/debiased_classifier_1_4/classifier_model/b2/Adam_1/Initializer/zeros)}}' was changed by setting attribute after it was run by a session. This mutation will have no effect, and will trigger an error in the future. Either don't modify nodes after running them or create a new session.\n"
     ]
    },
    {
     "name": "stdout",
     "output_type": "stream",
     "text": [
      "seed=1 || fold=5\n"
     ]
    },
    {
     "name": "stderr",
     "output_type": "stream",
     "text": [
      "2024-12-10 00:56:01.519308: W tensorflow/c/c_api.cc:305] Operation '{name:'debiased_classifier_1_5/debiased_classifier_1_5/classifier_model/b2/Adam_1/Assign' id:265 op device:{requested: '', assigned: ''} def:{{{node debiased_classifier_1_5/debiased_classifier_1_5/classifier_model/b2/Adam_1/Assign}} = AssignVariableOp[_has_manual_control_dependencies=true, dtype=DT_FLOAT, validate_shape=false](debiased_classifier_1_5/debiased_classifier_1_5/classifier_model/b2/Adam_1, debiased_classifier_1_5/debiased_classifier_1_5/classifier_model/b2/Adam_1/Initializer/zeros)}}' was changed by setting attribute after it was run by a session. This mutation will have no effect, and will trigger an error in the future. Either don't modify nodes after running them or create a new session.\n"
     ]
    },
    {
     "name": "stdout",
     "output_type": "stream",
     "text": [
      "seed=1 || fold=6\n"
     ]
    },
    {
     "name": "stderr",
     "output_type": "stream",
     "text": [
      "2024-12-10 00:56:03.099744: W tensorflow/c/c_api.cc:305] Operation '{name:'debiased_classifier_1_6/debiased_classifier_1_6/classifier_model/b2/Adam_1/Assign' id:265 op device:{requested: '', assigned: ''} def:{{{node debiased_classifier_1_6/debiased_classifier_1_6/classifier_model/b2/Adam_1/Assign}} = AssignVariableOp[_has_manual_control_dependencies=true, dtype=DT_FLOAT, validate_shape=false](debiased_classifier_1_6/debiased_classifier_1_6/classifier_model/b2/Adam_1, debiased_classifier_1_6/debiased_classifier_1_6/classifier_model/b2/Adam_1/Initializer/zeros)}}' was changed by setting attribute after it was run by a session. This mutation will have no effect, and will trigger an error in the future. Either don't modify nodes after running them or create a new session.\n"
     ]
    },
    {
     "name": "stdout",
     "output_type": "stream",
     "text": [
      "seed=1 || fold=7\n"
     ]
    },
    {
     "name": "stderr",
     "output_type": "stream",
     "text": [
      "2024-12-10 00:56:04.699341: W tensorflow/c/c_api.cc:305] Operation '{name:'debiased_classifier_1_7/debiased_classifier_1_7/classifier_model/b2/Adam_1/Assign' id:265 op device:{requested: '', assigned: ''} def:{{{node debiased_classifier_1_7/debiased_classifier_1_7/classifier_model/b2/Adam_1/Assign}} = AssignVariableOp[_has_manual_control_dependencies=true, dtype=DT_FLOAT, validate_shape=false](debiased_classifier_1_7/debiased_classifier_1_7/classifier_model/b2/Adam_1, debiased_classifier_1_7/debiased_classifier_1_7/classifier_model/b2/Adam_1/Initializer/zeros)}}' was changed by setting attribute after it was run by a session. This mutation will have no effect, and will trigger an error in the future. Either don't modify nodes after running them or create a new session.\n"
     ]
    },
    {
     "name": "stdout",
     "output_type": "stream",
     "text": [
      "seed=1 || fold=8\n"
     ]
    },
    {
     "name": "stderr",
     "output_type": "stream",
     "text": [
      "2024-12-10 00:56:06.299577: W tensorflow/c/c_api.cc:305] Operation '{name:'debiased_classifier_1_8/debiased_classifier_1_8/classifier_model/b2/Adam_1/Assign' id:265 op device:{requested: '', assigned: ''} def:{{{node debiased_classifier_1_8/debiased_classifier_1_8/classifier_model/b2/Adam_1/Assign}} = AssignVariableOp[_has_manual_control_dependencies=true, dtype=DT_FLOAT, validate_shape=false](debiased_classifier_1_8/debiased_classifier_1_8/classifier_model/b2/Adam_1, debiased_classifier_1_8/debiased_classifier_1_8/classifier_model/b2/Adam_1/Initializer/zeros)}}' was changed by setting attribute after it was run by a session. This mutation will have no effect, and will trigger an error in the future. Either don't modify nodes after running them or create a new session.\n"
     ]
    },
    {
     "name": "stdout",
     "output_type": "stream",
     "text": [
      "seed=1 || fold=9\n"
     ]
    },
    {
     "name": "stderr",
     "output_type": "stream",
     "text": [
      "2024-12-10 00:56:07.917476: W tensorflow/c/c_api.cc:305] Operation '{name:'debiased_classifier_1_9/debiased_classifier_1_9/classifier_model/b2/Adam_1/Assign' id:265 op device:{requested: '', assigned: ''} def:{{{node debiased_classifier_1_9/debiased_classifier_1_9/classifier_model/b2/Adam_1/Assign}} = AssignVariableOp[_has_manual_control_dependencies=true, dtype=DT_FLOAT, validate_shape=false](debiased_classifier_1_9/debiased_classifier_1_9/classifier_model/b2/Adam_1, debiased_classifier_1_9/debiased_classifier_1_9/classifier_model/b2/Adam_1/Initializer/zeros)}}' was changed by setting attribute after it was run by a session. This mutation will have no effect, and will trigger an error in the future. Either don't modify nodes after running them or create a new session.\n"
     ]
    },
    {
     "name": "stdout",
     "output_type": "stream",
     "text": [
      "seed=1 || fold=0\n"
     ]
    },
    {
     "name": "stderr",
     "output_type": "stream",
     "text": [
      "2024-12-10 00:56:09.141077: W tensorflow/c/c_api.cc:305] Operation '{name:'debiased_classifier_1_0/debiased_classifier_1_0/classifier_model/b2/Adam_1/Assign' id:265 op device:{requested: '', assigned: ''} def:{{{node debiased_classifier_1_0/debiased_classifier_1_0/classifier_model/b2/Adam_1/Assign}} = AssignVariableOp[_has_manual_control_dependencies=true, dtype=DT_FLOAT, validate_shape=false](debiased_classifier_1_0/debiased_classifier_1_0/classifier_model/b2/Adam_1, debiased_classifier_1_0/debiased_classifier_1_0/classifier_model/b2/Adam_1/Initializer/zeros)}}' was changed by setting attribute after it was run by a session. This mutation will have no effect, and will trigger an error in the future. Either don't modify nodes after running them or create a new session.\n"
     ]
    },
    {
     "name": "stdout",
     "output_type": "stream",
     "text": [
      "seed=1 || fold=1\n"
     ]
    },
    {
     "name": "stderr",
     "output_type": "stream",
     "text": [
      "2024-12-10 00:56:10.292198: W tensorflow/c/c_api.cc:305] Operation '{name:'debiased_classifier_1_1/debiased_classifier_1_1/classifier_model/b2/Adam_1/Assign' id:265 op device:{requested: '', assigned: ''} def:{{{node debiased_classifier_1_1/debiased_classifier_1_1/classifier_model/b2/Adam_1/Assign}} = AssignVariableOp[_has_manual_control_dependencies=true, dtype=DT_FLOAT, validate_shape=false](debiased_classifier_1_1/debiased_classifier_1_1/classifier_model/b2/Adam_1, debiased_classifier_1_1/debiased_classifier_1_1/classifier_model/b2/Adam_1/Initializer/zeros)}}' was changed by setting attribute after it was run by a session. This mutation will have no effect, and will trigger an error in the future. Either don't modify nodes after running them or create a new session.\n"
     ]
    },
    {
     "name": "stdout",
     "output_type": "stream",
     "text": [
      "seed=1 || fold=2\n"
     ]
    },
    {
     "name": "stderr",
     "output_type": "stream",
     "text": [
      "2024-12-10 00:56:11.533847: W tensorflow/c/c_api.cc:305] Operation '{name:'debiased_classifier_1_2/debiased_classifier_1_2/classifier_model/b2/Adam_1/Assign' id:265 op device:{requested: '', assigned: ''} def:{{{node debiased_classifier_1_2/debiased_classifier_1_2/classifier_model/b2/Adam_1/Assign}} = AssignVariableOp[_has_manual_control_dependencies=true, dtype=DT_FLOAT, validate_shape=false](debiased_classifier_1_2/debiased_classifier_1_2/classifier_model/b2/Adam_1, debiased_classifier_1_2/debiased_classifier_1_2/classifier_model/b2/Adam_1/Initializer/zeros)}}' was changed by setting attribute after it was run by a session. This mutation will have no effect, and will trigger an error in the future. Either don't modify nodes after running them or create a new session.\n"
     ]
    },
    {
     "name": "stdout",
     "output_type": "stream",
     "text": [
      "seed=1 || fold=3\n"
     ]
    },
    {
     "name": "stderr",
     "output_type": "stream",
     "text": [
      "2024-12-10 00:56:13.176906: W tensorflow/c/c_api.cc:305] Operation '{name:'debiased_classifier_1_3/debiased_classifier_1_3/classifier_model/b2/Adam_1/Assign' id:265 op device:{requested: '', assigned: ''} def:{{{node debiased_classifier_1_3/debiased_classifier_1_3/classifier_model/b2/Adam_1/Assign}} = AssignVariableOp[_has_manual_control_dependencies=true, dtype=DT_FLOAT, validate_shape=false](debiased_classifier_1_3/debiased_classifier_1_3/classifier_model/b2/Adam_1, debiased_classifier_1_3/debiased_classifier_1_3/classifier_model/b2/Adam_1/Initializer/zeros)}}' was changed by setting attribute after it was run by a session. This mutation will have no effect, and will trigger an error in the future. Either don't modify nodes after running them or create a new session.\n"
     ]
    },
    {
     "name": "stdout",
     "output_type": "stream",
     "text": [
      "seed=1 || fold=4\n"
     ]
    },
    {
     "name": "stderr",
     "output_type": "stream",
     "text": [
      "2024-12-10 00:56:14.426720: W tensorflow/c/c_api.cc:305] Operation '{name:'debiased_classifier_1_4/debiased_classifier_1_4/classifier_model/b2/Adam_1/Assign' id:265 op device:{requested: '', assigned: ''} def:{{{node debiased_classifier_1_4/debiased_classifier_1_4/classifier_model/b2/Adam_1/Assign}} = AssignVariableOp[_has_manual_control_dependencies=true, dtype=DT_FLOAT, validate_shape=false](debiased_classifier_1_4/debiased_classifier_1_4/classifier_model/b2/Adam_1, debiased_classifier_1_4/debiased_classifier_1_4/classifier_model/b2/Adam_1/Initializer/zeros)}}' was changed by setting attribute after it was run by a session. This mutation will have no effect, and will trigger an error in the future. Either don't modify nodes after running them or create a new session.\n"
     ]
    },
    {
     "name": "stdout",
     "output_type": "stream",
     "text": [
      "seed=1 || fold=5\n"
     ]
    },
    {
     "name": "stderr",
     "output_type": "stream",
     "text": [
      "2024-12-10 00:56:15.718530: W tensorflow/c/c_api.cc:305] Operation '{name:'debiased_classifier_1_5/debiased_classifier_1_5/classifier_model/b2/Adam_1/Assign' id:265 op device:{requested: '', assigned: ''} def:{{{node debiased_classifier_1_5/debiased_classifier_1_5/classifier_model/b2/Adam_1/Assign}} = AssignVariableOp[_has_manual_control_dependencies=true, dtype=DT_FLOAT, validate_shape=false](debiased_classifier_1_5/debiased_classifier_1_5/classifier_model/b2/Adam_1, debiased_classifier_1_5/debiased_classifier_1_5/classifier_model/b2/Adam_1/Initializer/zeros)}}' was changed by setting attribute after it was run by a session. This mutation will have no effect, and will trigger an error in the future. Either don't modify nodes after running them or create a new session.\n"
     ]
    },
    {
     "name": "stdout",
     "output_type": "stream",
     "text": [
      "seed=1 || fold=6\n"
     ]
    },
    {
     "name": "stderr",
     "output_type": "stream",
     "text": [
      "2024-12-10 00:56:16.919872: W tensorflow/c/c_api.cc:305] Operation '{name:'debiased_classifier_1_6/debiased_classifier_1_6/classifier_model/b2/Adam_1/Assign' id:265 op device:{requested: '', assigned: ''} def:{{{node debiased_classifier_1_6/debiased_classifier_1_6/classifier_model/b2/Adam_1/Assign}} = AssignVariableOp[_has_manual_control_dependencies=true, dtype=DT_FLOAT, validate_shape=false](debiased_classifier_1_6/debiased_classifier_1_6/classifier_model/b2/Adam_1, debiased_classifier_1_6/debiased_classifier_1_6/classifier_model/b2/Adam_1/Initializer/zeros)}}' was changed by setting attribute after it was run by a session. This mutation will have no effect, and will trigger an error in the future. Either don't modify nodes after running them or create a new session.\n"
     ]
    },
    {
     "name": "stdout",
     "output_type": "stream",
     "text": [
      "seed=1 || fold=7\n"
     ]
    },
    {
     "name": "stderr",
     "output_type": "stream",
     "text": [
      "2024-12-10 00:56:18.189617: W tensorflow/c/c_api.cc:305] Operation '{name:'debiased_classifier_1_7/debiased_classifier_1_7/classifier_model/b2/Adam_1/Assign' id:265 op device:{requested: '', assigned: ''} def:{{{node debiased_classifier_1_7/debiased_classifier_1_7/classifier_model/b2/Adam_1/Assign}} = AssignVariableOp[_has_manual_control_dependencies=true, dtype=DT_FLOAT, validate_shape=false](debiased_classifier_1_7/debiased_classifier_1_7/classifier_model/b2/Adam_1, debiased_classifier_1_7/debiased_classifier_1_7/classifier_model/b2/Adam_1/Initializer/zeros)}}' was changed by setting attribute after it was run by a session. This mutation will have no effect, and will trigger an error in the future. Either don't modify nodes after running them or create a new session.\n"
     ]
    },
    {
     "name": "stdout",
     "output_type": "stream",
     "text": [
      "seed=1 || fold=8\n"
     ]
    },
    {
     "name": "stderr",
     "output_type": "stream",
     "text": [
      "2024-12-10 00:56:19.379790: W tensorflow/c/c_api.cc:305] Operation '{name:'debiased_classifier_1_8/debiased_classifier_1_8/classifier_model/b2/Adam_1/Assign' id:265 op device:{requested: '', assigned: ''} def:{{{node debiased_classifier_1_8/debiased_classifier_1_8/classifier_model/b2/Adam_1/Assign}} = AssignVariableOp[_has_manual_control_dependencies=true, dtype=DT_FLOAT, validate_shape=false](debiased_classifier_1_8/debiased_classifier_1_8/classifier_model/b2/Adam_1, debiased_classifier_1_8/debiased_classifier_1_8/classifier_model/b2/Adam_1/Initializer/zeros)}}' was changed by setting attribute after it was run by a session. This mutation will have no effect, and will trigger an error in the future. Either don't modify nodes after running them or create a new session.\n"
     ]
    },
    {
     "name": "stdout",
     "output_type": "stream",
     "text": [
      "seed=1 || fold=9\n"
     ]
    },
    {
     "name": "stderr",
     "output_type": "stream",
     "text": [
      "2024-12-10 00:56:20.563596: W tensorflow/c/c_api.cc:305] Operation '{name:'debiased_classifier_1_9/debiased_classifier_1_9/classifier_model/b2/Adam_1/Assign' id:265 op device:{requested: '', assigned: ''} def:{{{node debiased_classifier_1_9/debiased_classifier_1_9/classifier_model/b2/Adam_1/Assign}} = AssignVariableOp[_has_manual_control_dependencies=true, dtype=DT_FLOAT, validate_shape=false](debiased_classifier_1_9/debiased_classifier_1_9/classifier_model/b2/Adam_1, debiased_classifier_1_9/debiased_classifier_1_9/classifier_model/b2/Adam_1/Initializer/zeros)}}' was changed by setting attribute after it was run by a session. This mutation will have no effect, and will trigger an error in the future. Either don't modify nodes after running them or create a new session.\n"
     ]
    },
    {
     "name": "stdout",
     "output_type": "stream",
     "text": [
      "\n",
      "Seed 3/3\n",
      "seed=2 || fold=0\n"
     ]
    },
    {
     "name": "stderr",
     "output_type": "stream",
     "text": [
      "2024-12-10 00:56:22.126040: W tensorflow/c/c_api.cc:305] Operation '{name:'debiased_classifier_2_0/debiased_classifier_2_0/classifier_model/b2/Adam_1/Assign' id:265 op device:{requested: '', assigned: ''} def:{{{node debiased_classifier_2_0/debiased_classifier_2_0/classifier_model/b2/Adam_1/Assign}} = AssignVariableOp[_has_manual_control_dependencies=true, dtype=DT_FLOAT, validate_shape=false](debiased_classifier_2_0/debiased_classifier_2_0/classifier_model/b2/Adam_1, debiased_classifier_2_0/debiased_classifier_2_0/classifier_model/b2/Adam_1/Initializer/zeros)}}' was changed by setting attribute after it was run by a session. This mutation will have no effect, and will trigger an error in the future. Either don't modify nodes after running them or create a new session.\n"
     ]
    },
    {
     "name": "stdout",
     "output_type": "stream",
     "text": [
      "seed=2 || fold=1\n"
     ]
    },
    {
     "name": "stderr",
     "output_type": "stream",
     "text": [
      "2024-12-10 00:56:23.623299: W tensorflow/c/c_api.cc:305] Operation '{name:'debiased_classifier_2_1/debiased_classifier_2_1/classifier_model/b2/Adam_1/Assign' id:265 op device:{requested: '', assigned: ''} def:{{{node debiased_classifier_2_1/debiased_classifier_2_1/classifier_model/b2/Adam_1/Assign}} = AssignVariableOp[_has_manual_control_dependencies=true, dtype=DT_FLOAT, validate_shape=false](debiased_classifier_2_1/debiased_classifier_2_1/classifier_model/b2/Adam_1, debiased_classifier_2_1/debiased_classifier_2_1/classifier_model/b2/Adam_1/Initializer/zeros)}}' was changed by setting attribute after it was run by a session. This mutation will have no effect, and will trigger an error in the future. Either don't modify nodes after running them or create a new session.\n"
     ]
    },
    {
     "name": "stdout",
     "output_type": "stream",
     "text": [
      "seed=2 || fold=2\n"
     ]
    },
    {
     "name": "stderr",
     "output_type": "stream",
     "text": [
      "2024-12-10 00:56:25.238436: W tensorflow/c/c_api.cc:305] Operation '{name:'debiased_classifier_2_2/debiased_classifier_2_2/classifier_model/b2/Adam_1/Assign' id:265 op device:{requested: '', assigned: ''} def:{{{node debiased_classifier_2_2/debiased_classifier_2_2/classifier_model/b2/Adam_1/Assign}} = AssignVariableOp[_has_manual_control_dependencies=true, dtype=DT_FLOAT, validate_shape=false](debiased_classifier_2_2/debiased_classifier_2_2/classifier_model/b2/Adam_1, debiased_classifier_2_2/debiased_classifier_2_2/classifier_model/b2/Adam_1/Initializer/zeros)}}' was changed by setting attribute after it was run by a session. This mutation will have no effect, and will trigger an error in the future. Either don't modify nodes after running them or create a new session.\n"
     ]
    },
    {
     "name": "stdout",
     "output_type": "stream",
     "text": [
      "seed=2 || fold=3\n"
     ]
    },
    {
     "name": "stderr",
     "output_type": "stream",
     "text": [
      "2024-12-10 00:56:26.860238: W tensorflow/c/c_api.cc:305] Operation '{name:'debiased_classifier_2_3/debiased_classifier_2_3/classifier_model/b2/Adam_1/Assign' id:265 op device:{requested: '', assigned: ''} def:{{{node debiased_classifier_2_3/debiased_classifier_2_3/classifier_model/b2/Adam_1/Assign}} = AssignVariableOp[_has_manual_control_dependencies=true, dtype=DT_FLOAT, validate_shape=false](debiased_classifier_2_3/debiased_classifier_2_3/classifier_model/b2/Adam_1, debiased_classifier_2_3/debiased_classifier_2_3/classifier_model/b2/Adam_1/Initializer/zeros)}}' was changed by setting attribute after it was run by a session. This mutation will have no effect, and will trigger an error in the future. Either don't modify nodes after running them or create a new session.\n"
     ]
    },
    {
     "name": "stdout",
     "output_type": "stream",
     "text": [
      "seed=2 || fold=4\n"
     ]
    },
    {
     "name": "stderr",
     "output_type": "stream",
     "text": [
      "2024-12-10 00:56:28.440807: W tensorflow/c/c_api.cc:305] Operation '{name:'debiased_classifier_2_4/debiased_classifier_2_4/classifier_model/b2/Adam_1/Assign' id:265 op device:{requested: '', assigned: ''} def:{{{node debiased_classifier_2_4/debiased_classifier_2_4/classifier_model/b2/Adam_1/Assign}} = AssignVariableOp[_has_manual_control_dependencies=true, dtype=DT_FLOAT, validate_shape=false](debiased_classifier_2_4/debiased_classifier_2_4/classifier_model/b2/Adam_1, debiased_classifier_2_4/debiased_classifier_2_4/classifier_model/b2/Adam_1/Initializer/zeros)}}' was changed by setting attribute after it was run by a session. This mutation will have no effect, and will trigger an error in the future. Either don't modify nodes after running them or create a new session.\n"
     ]
    },
    {
     "name": "stdout",
     "output_type": "stream",
     "text": [
      "seed=2 || fold=5\n"
     ]
    },
    {
     "name": "stderr",
     "output_type": "stream",
     "text": [
      "2024-12-10 00:56:30.042286: W tensorflow/c/c_api.cc:305] Operation '{name:'debiased_classifier_2_5/debiased_classifier_2_5/classifier_model/b2/Adam_1/Assign' id:265 op device:{requested: '', assigned: ''} def:{{{node debiased_classifier_2_5/debiased_classifier_2_5/classifier_model/b2/Adam_1/Assign}} = AssignVariableOp[_has_manual_control_dependencies=true, dtype=DT_FLOAT, validate_shape=false](debiased_classifier_2_5/debiased_classifier_2_5/classifier_model/b2/Adam_1, debiased_classifier_2_5/debiased_classifier_2_5/classifier_model/b2/Adam_1/Initializer/zeros)}}' was changed by setting attribute after it was run by a session. This mutation will have no effect, and will trigger an error in the future. Either don't modify nodes after running them or create a new session.\n"
     ]
    },
    {
     "name": "stdout",
     "output_type": "stream",
     "text": [
      "seed=2 || fold=6\n"
     ]
    },
    {
     "name": "stderr",
     "output_type": "stream",
     "text": [
      "2024-12-10 00:56:31.645912: W tensorflow/c/c_api.cc:305] Operation '{name:'debiased_classifier_2_6/debiased_classifier_2_6/classifier_model/b2/Adam_1/Assign' id:265 op device:{requested: '', assigned: ''} def:{{{node debiased_classifier_2_6/debiased_classifier_2_6/classifier_model/b2/Adam_1/Assign}} = AssignVariableOp[_has_manual_control_dependencies=true, dtype=DT_FLOAT, validate_shape=false](debiased_classifier_2_6/debiased_classifier_2_6/classifier_model/b2/Adam_1, debiased_classifier_2_6/debiased_classifier_2_6/classifier_model/b2/Adam_1/Initializer/zeros)}}' was changed by setting attribute after it was run by a session. This mutation will have no effect, and will trigger an error in the future. Either don't modify nodes after running them or create a new session.\n"
     ]
    },
    {
     "name": "stdout",
     "output_type": "stream",
     "text": [
      "seed=2 || fold=7\n"
     ]
    },
    {
     "name": "stderr",
     "output_type": "stream",
     "text": [
      "2024-12-10 00:56:33.185457: W tensorflow/c/c_api.cc:305] Operation '{name:'debiased_classifier_2_7/debiased_classifier_2_7/classifier_model/b2/Adam_1/Assign' id:265 op device:{requested: '', assigned: ''} def:{{{node debiased_classifier_2_7/debiased_classifier_2_7/classifier_model/b2/Adam_1/Assign}} = AssignVariableOp[_has_manual_control_dependencies=true, dtype=DT_FLOAT, validate_shape=false](debiased_classifier_2_7/debiased_classifier_2_7/classifier_model/b2/Adam_1, debiased_classifier_2_7/debiased_classifier_2_7/classifier_model/b2/Adam_1/Initializer/zeros)}}' was changed by setting attribute after it was run by a session. This mutation will have no effect, and will trigger an error in the future. Either don't modify nodes after running them or create a new session.\n"
     ]
    },
    {
     "name": "stdout",
     "output_type": "stream",
     "text": [
      "seed=2 || fold=8\n"
     ]
    },
    {
     "name": "stderr",
     "output_type": "stream",
     "text": [
      "2024-12-10 00:56:34.795521: W tensorflow/c/c_api.cc:305] Operation '{name:'debiased_classifier_2_8/debiased_classifier_2_8/classifier_model/b2/Adam_1/Assign' id:265 op device:{requested: '', assigned: ''} def:{{{node debiased_classifier_2_8/debiased_classifier_2_8/classifier_model/b2/Adam_1/Assign}} = AssignVariableOp[_has_manual_control_dependencies=true, dtype=DT_FLOAT, validate_shape=false](debiased_classifier_2_8/debiased_classifier_2_8/classifier_model/b2/Adam_1, debiased_classifier_2_8/debiased_classifier_2_8/classifier_model/b2/Adam_1/Initializer/zeros)}}' was changed by setting attribute after it was run by a session. This mutation will have no effect, and will trigger an error in the future. Either don't modify nodes after running them or create a new session.\n"
     ]
    },
    {
     "name": "stdout",
     "output_type": "stream",
     "text": [
      "seed=2 || fold=9\n"
     ]
    },
    {
     "name": "stderr",
     "output_type": "stream",
     "text": [
      "2024-12-10 00:56:36.381747: W tensorflow/c/c_api.cc:305] Operation '{name:'debiased_classifier_2_9/debiased_classifier_2_9/classifier_model/b2/Adam_1/Assign' id:265 op device:{requested: '', assigned: ''} def:{{{node debiased_classifier_2_9/debiased_classifier_2_9/classifier_model/b2/Adam_1/Assign}} = AssignVariableOp[_has_manual_control_dependencies=true, dtype=DT_FLOAT, validate_shape=false](debiased_classifier_2_9/debiased_classifier_2_9/classifier_model/b2/Adam_1, debiased_classifier_2_9/debiased_classifier_2_9/classifier_model/b2/Adam_1/Initializer/zeros)}}' was changed by setting attribute after it was run by a session. This mutation will have no effect, and will trigger an error in the future. Either don't modify nodes after running them or create a new session.\n"
     ]
    },
    {
     "name": "stdout",
     "output_type": "stream",
     "text": [
      "seed=2 || fold=0\n"
     ]
    },
    {
     "name": "stderr",
     "output_type": "stream",
     "text": [
      "2024-12-10 00:56:37.618951: W tensorflow/c/c_api.cc:305] Operation '{name:'debiased_classifier_2_0/debiased_classifier_2_0/classifier_model/b2/Adam_1/Assign' id:265 op device:{requested: '', assigned: ''} def:{{{node debiased_classifier_2_0/debiased_classifier_2_0/classifier_model/b2/Adam_1/Assign}} = AssignVariableOp[_has_manual_control_dependencies=true, dtype=DT_FLOAT, validate_shape=false](debiased_classifier_2_0/debiased_classifier_2_0/classifier_model/b2/Adam_1, debiased_classifier_2_0/debiased_classifier_2_0/classifier_model/b2/Adam_1/Initializer/zeros)}}' was changed by setting attribute after it was run by a session. This mutation will have no effect, and will trigger an error in the future. Either don't modify nodes after running them or create a new session.\n"
     ]
    },
    {
     "name": "stdout",
     "output_type": "stream",
     "text": [
      "seed=2 || fold=1\n"
     ]
    },
    {
     "name": "stderr",
     "output_type": "stream",
     "text": [
      "2024-12-10 00:56:38.818516: W tensorflow/c/c_api.cc:305] Operation '{name:'debiased_classifier_2_1/debiased_classifier_2_1/classifier_model/b2/Adam_1/Assign' id:265 op device:{requested: '', assigned: ''} def:{{{node debiased_classifier_2_1/debiased_classifier_2_1/classifier_model/b2/Adam_1/Assign}} = AssignVariableOp[_has_manual_control_dependencies=true, dtype=DT_FLOAT, validate_shape=false](debiased_classifier_2_1/debiased_classifier_2_1/classifier_model/b2/Adam_1, debiased_classifier_2_1/debiased_classifier_2_1/classifier_model/b2/Adam_1/Initializer/zeros)}}' was changed by setting attribute after it was run by a session. This mutation will have no effect, and will trigger an error in the future. Either don't modify nodes after running them or create a new session.\n"
     ]
    },
    {
     "name": "stdout",
     "output_type": "stream",
     "text": [
      "seed=2 || fold=2\n"
     ]
    },
    {
     "name": "stderr",
     "output_type": "stream",
     "text": [
      "2024-12-10 00:56:40.055484: W tensorflow/c/c_api.cc:305] Operation '{name:'debiased_classifier_2_2/debiased_classifier_2_2/classifier_model/b2/Adam_1/Assign' id:265 op device:{requested: '', assigned: ''} def:{{{node debiased_classifier_2_2/debiased_classifier_2_2/classifier_model/b2/Adam_1/Assign}} = AssignVariableOp[_has_manual_control_dependencies=true, dtype=DT_FLOAT, validate_shape=false](debiased_classifier_2_2/debiased_classifier_2_2/classifier_model/b2/Adam_1, debiased_classifier_2_2/debiased_classifier_2_2/classifier_model/b2/Adam_1/Initializer/zeros)}}' was changed by setting attribute after it was run by a session. This mutation will have no effect, and will trigger an error in the future. Either don't modify nodes after running them or create a new session.\n"
     ]
    },
    {
     "name": "stdout",
     "output_type": "stream",
     "text": [
      "seed=2 || fold=3\n"
     ]
    },
    {
     "name": "stderr",
     "output_type": "stream",
     "text": [
      "2024-12-10 00:56:41.278444: W tensorflow/c/c_api.cc:305] Operation '{name:'debiased_classifier_2_3/debiased_classifier_2_3/classifier_model/b2/Adam_1/Assign' id:265 op device:{requested: '', assigned: ''} def:{{{node debiased_classifier_2_3/debiased_classifier_2_3/classifier_model/b2/Adam_1/Assign}} = AssignVariableOp[_has_manual_control_dependencies=true, dtype=DT_FLOAT, validate_shape=false](debiased_classifier_2_3/debiased_classifier_2_3/classifier_model/b2/Adam_1, debiased_classifier_2_3/debiased_classifier_2_3/classifier_model/b2/Adam_1/Initializer/zeros)}}' was changed by setting attribute after it was run by a session. This mutation will have no effect, and will trigger an error in the future. Either don't modify nodes after running them or create a new session.\n"
     ]
    },
    {
     "name": "stdout",
     "output_type": "stream",
     "text": [
      "seed=2 || fold=4\n"
     ]
    },
    {
     "name": "stderr",
     "output_type": "stream",
     "text": [
      "2024-12-10 00:56:42.469360: W tensorflow/c/c_api.cc:305] Operation '{name:'debiased_classifier_2_4/debiased_classifier_2_4/classifier_model/b2/Adam_1/Assign' id:265 op device:{requested: '', assigned: ''} def:{{{node debiased_classifier_2_4/debiased_classifier_2_4/classifier_model/b2/Adam_1/Assign}} = AssignVariableOp[_has_manual_control_dependencies=true, dtype=DT_FLOAT, validate_shape=false](debiased_classifier_2_4/debiased_classifier_2_4/classifier_model/b2/Adam_1, debiased_classifier_2_4/debiased_classifier_2_4/classifier_model/b2/Adam_1/Initializer/zeros)}}' was changed by setting attribute after it was run by a session. This mutation will have no effect, and will trigger an error in the future. Either don't modify nodes after running them or create a new session.\n"
     ]
    },
    {
     "name": "stdout",
     "output_type": "stream",
     "text": [
      "seed=2 || fold=5\n"
     ]
    },
    {
     "name": "stderr",
     "output_type": "stream",
     "text": [
      "2024-12-10 00:56:43.804624: W tensorflow/c/c_api.cc:305] Operation '{name:'debiased_classifier_2_5/debiased_classifier_2_5/classifier_model/b2/Adam_1/Assign' id:265 op device:{requested: '', assigned: ''} def:{{{node debiased_classifier_2_5/debiased_classifier_2_5/classifier_model/b2/Adam_1/Assign}} = AssignVariableOp[_has_manual_control_dependencies=true, dtype=DT_FLOAT, validate_shape=false](debiased_classifier_2_5/debiased_classifier_2_5/classifier_model/b2/Adam_1, debiased_classifier_2_5/debiased_classifier_2_5/classifier_model/b2/Adam_1/Initializer/zeros)}}' was changed by setting attribute after it was run by a session. This mutation will have no effect, and will trigger an error in the future. Either don't modify nodes after running them or create a new session.\n"
     ]
    },
    {
     "name": "stdout",
     "output_type": "stream",
     "text": [
      "seed=2 || fold=6\n"
     ]
    },
    {
     "name": "stderr",
     "output_type": "stream",
     "text": [
      "2024-12-10 00:56:45.099847: W tensorflow/c/c_api.cc:305] Operation '{name:'debiased_classifier_2_6/debiased_classifier_2_6/classifier_model/b2/Adam_1/Assign' id:265 op device:{requested: '', assigned: ''} def:{{{node debiased_classifier_2_6/debiased_classifier_2_6/classifier_model/b2/Adam_1/Assign}} = AssignVariableOp[_has_manual_control_dependencies=true, dtype=DT_FLOAT, validate_shape=false](debiased_classifier_2_6/debiased_classifier_2_6/classifier_model/b2/Adam_1, debiased_classifier_2_6/debiased_classifier_2_6/classifier_model/b2/Adam_1/Initializer/zeros)}}' was changed by setting attribute after it was run by a session. This mutation will have no effect, and will trigger an error in the future. Either don't modify nodes after running them or create a new session.\n"
     ]
    },
    {
     "name": "stdout",
     "output_type": "stream",
     "text": [
      "seed=2 || fold=7\n"
     ]
    },
    {
     "name": "stderr",
     "output_type": "stream",
     "text": [
      "2024-12-10 00:56:46.329395: W tensorflow/c/c_api.cc:305] Operation '{name:'debiased_classifier_2_7/debiased_classifier_2_7/classifier_model/b2/Adam_1/Assign' id:265 op device:{requested: '', assigned: ''} def:{{{node debiased_classifier_2_7/debiased_classifier_2_7/classifier_model/b2/Adam_1/Assign}} = AssignVariableOp[_has_manual_control_dependencies=true, dtype=DT_FLOAT, validate_shape=false](debiased_classifier_2_7/debiased_classifier_2_7/classifier_model/b2/Adam_1, debiased_classifier_2_7/debiased_classifier_2_7/classifier_model/b2/Adam_1/Initializer/zeros)}}' was changed by setting attribute after it was run by a session. This mutation will have no effect, and will trigger an error in the future. Either don't modify nodes after running them or create a new session.\n"
     ]
    },
    {
     "name": "stdout",
     "output_type": "stream",
     "text": [
      "seed=2 || fold=8\n"
     ]
    },
    {
     "name": "stderr",
     "output_type": "stream",
     "text": [
      "2024-12-10 00:56:47.565429: W tensorflow/c/c_api.cc:305] Operation '{name:'debiased_classifier_2_8/debiased_classifier_2_8/classifier_model/b2/Adam_1/Assign' id:265 op device:{requested: '', assigned: ''} def:{{{node debiased_classifier_2_8/debiased_classifier_2_8/classifier_model/b2/Adam_1/Assign}} = AssignVariableOp[_has_manual_control_dependencies=true, dtype=DT_FLOAT, validate_shape=false](debiased_classifier_2_8/debiased_classifier_2_8/classifier_model/b2/Adam_1, debiased_classifier_2_8/debiased_classifier_2_8/classifier_model/b2/Adam_1/Initializer/zeros)}}' was changed by setting attribute after it was run by a session. This mutation will have no effect, and will trigger an error in the future. Either don't modify nodes after running them or create a new session.\n"
     ]
    },
    {
     "name": "stdout",
     "output_type": "stream",
     "text": [
      "seed=2 || fold=9\n"
     ]
    },
    {
     "name": "stderr",
     "output_type": "stream",
     "text": [
      "2024-12-10 00:56:48.813170: W tensorflow/c/c_api.cc:305] Operation '{name:'debiased_classifier_2_9/debiased_classifier_2_9/classifier_model/b2/Adam_1/Assign' id:265 op device:{requested: '', assigned: ''} def:{{{node debiased_classifier_2_9/debiased_classifier_2_9/classifier_model/b2/Adam_1/Assign}} = AssignVariableOp[_has_manual_control_dependencies=true, dtype=DT_FLOAT, validate_shape=false](debiased_classifier_2_9/debiased_classifier_2_9/classifier_model/b2/Adam_1, debiased_classifier_2_9/debiased_classifier_2_9/classifier_model/b2/Adam_1/Initializer/zeros)}}' was changed by setting attribute after it was run by a session. This mutation will have no effect, and will trigger an error in the future. Either don't modify nodes after running them or create a new session.\n"
     ]
    }
   ],
   "source": [
    "results = cross_validate_seeds(\n",
    "    model_class,\n",
    "    model_kwargs,\n",
    "    dataset_orig,\n",
    "    seeds=3,\n",
    "    n_folds=10,\n",
    ")"
   ]
  },
  {
   "cell_type": "code",
   "execution_count": 9,
   "id": "ac515715-373e-4375-bfba-c351bf09c340",
   "metadata": {},
   "outputs": [],
   "source": [
    "import pickle\n",
    "\n",
    "with open(\"./data/adjuster_group_cv_results.pickle\", \"wb\") as path:\n",
    "    pickle.dump(results, path, protocol=pickle.HIGHEST_PROTOCOL)"
   ]
  },
  {
   "cell_type": "code",
   "execution_count": 10,
   "id": "f0f6d54e-b6c6-4ab9-bf7a-9303c9e891a7",
   "metadata": {},
   "outputs": [
    {
     "data": {
      "text/html": [
       "<div>\n",
       "<style scoped>\n",
       "    .dataframe tbody tr th:only-of-type {\n",
       "        vertical-align: middle;\n",
       "    }\n",
       "\n",
       "    .dataframe tbody tr th {\n",
       "        vertical-align: top;\n",
       "    }\n",
       "\n",
       "    .dataframe thead th {\n",
       "        text-align: right;\n",
       "    }\n",
       "</style>\n",
       "<table border=\"1\" class=\"dataframe\">\n",
       "  <thead>\n",
       "    <tr style=\"text-align: right;\">\n",
       "      <th></th>\n",
       "      <th></th>\n",
       "      <th>Test Set: mean outcomes difference</th>\n",
       "      <th>Test Set: Classification accuracy</th>\n",
       "      <th>Test Set: Disparate impact</th>\n",
       "      <th>Test Set: Average odds difference</th>\n",
       "    </tr>\n",
       "  </thead>\n",
       "  <tbody>\n",
       "    <tr>\n",
       "      <th rowspan=\"2\" valign=\"top\">Seed 0</th>\n",
       "      <th>to_debias=True</th>\n",
       "      <td>-0.1388 (-0.2802,0.0504)</td>\n",
       "      <td>0.7130 (0.6268,0.7678)</td>\n",
       "      <td>0.7423 (0.6229,0.9049)</td>\n",
       "      <td>-0.2852 (-0.4432,-0.1024)</td>\n",
       "    </tr>\n",
       "    <tr>\n",
       "      <th>to_debias=False</th>\n",
       "      <td>-0.1388 (-0.2802,0.0504)</td>\n",
       "      <td>0.7120 (0.6268,0.7678)</td>\n",
       "      <td>0.7411 (0.6229,0.8960)</td>\n",
       "      <td>-0.2882 (-0.4432,-0.1252)</td>\n",
       "    </tr>\n",
       "    <tr>\n",
       "      <th rowspan=\"2\" valign=\"top\">Seed 1</th>\n",
       "      <th>to_debias=True</th>\n",
       "      <td>-0.1554 (-0.3321,-0.0244)</td>\n",
       "      <td>0.7070 (0.6312,0.7600)</td>\n",
       "      <td>0.7062 (0.3700,0.9553)</td>\n",
       "      <td>-0.3154 (-0.6683,-0.0551)</td>\n",
       "    </tr>\n",
       "    <tr>\n",
       "      <th>to_debias=False</th>\n",
       "      <td>-0.1554 (-0.3321,-0.0244)</td>\n",
       "      <td>0.7090 (0.6545,0.7600)</td>\n",
       "      <td>0.7376 (0.6111,0.9259)</td>\n",
       "      <td>-0.2882 (-0.4803,-0.0913)</td>\n",
       "    </tr>\n",
       "    <tr>\n",
       "      <th rowspan=\"2\" valign=\"top\">Seed 2</th>\n",
       "      <th>to_debias=True</th>\n",
       "      <td>-0.1534 (-0.3167,-0.0148)</td>\n",
       "      <td>0.7030 (0.6500,0.7655)</td>\n",
       "      <td>0.7133 (0.5000,0.9403)</td>\n",
       "      <td>-0.3023 (-0.5223,-0.0556)</td>\n",
       "    </tr>\n",
       "    <tr>\n",
       "      <th>to_debias=False</th>\n",
       "      <td>-0.1534 (-0.3167,-0.0148)</td>\n",
       "      <td>0.7080 (0.6545,0.7855)</td>\n",
       "      <td>0.7493 (0.6141,0.8750)</td>\n",
       "      <td>-0.2653 (-0.4187,-0.1483)</td>\n",
       "    </tr>\n",
       "  </tbody>\n",
       "</table>\n",
       "</div>"
      ],
      "text/plain": [
       "                       Test Set: mean outcomes difference  \\\n",
       "Seed 0 to_debias=True            -0.1388 (-0.2802,0.0504)   \n",
       "       to_debias=False           -0.1388 (-0.2802,0.0504)   \n",
       "Seed 1 to_debias=True           -0.1554 (-0.3321,-0.0244)   \n",
       "       to_debias=False          -0.1554 (-0.3321,-0.0244)   \n",
       "Seed 2 to_debias=True           -0.1534 (-0.3167,-0.0148)   \n",
       "       to_debias=False          -0.1534 (-0.3167,-0.0148)   \n",
       "\n",
       "                       Test Set: Classification accuracy  \\\n",
       "Seed 0 to_debias=True             0.7130 (0.6268,0.7678)   \n",
       "       to_debias=False            0.7120 (0.6268,0.7678)   \n",
       "Seed 1 to_debias=True             0.7070 (0.6312,0.7600)   \n",
       "       to_debias=False            0.7090 (0.6545,0.7600)   \n",
       "Seed 2 to_debias=True             0.7030 (0.6500,0.7655)   \n",
       "       to_debias=False            0.7080 (0.6545,0.7855)   \n",
       "\n",
       "                       Test Set: Disparate impact  \\\n",
       "Seed 0 to_debias=True      0.7423 (0.6229,0.9049)   \n",
       "       to_debias=False     0.7411 (0.6229,0.8960)   \n",
       "Seed 1 to_debias=True      0.7062 (0.3700,0.9553)   \n",
       "       to_debias=False     0.7376 (0.6111,0.9259)   \n",
       "Seed 2 to_debias=True      0.7133 (0.5000,0.9403)   \n",
       "       to_debias=False     0.7493 (0.6141,0.8750)   \n",
       "\n",
       "                       Test Set: Average odds difference  \n",
       "Seed 0 to_debias=True          -0.2852 (-0.4432,-0.1024)  \n",
       "       to_debias=False         -0.2882 (-0.4432,-0.1252)  \n",
       "Seed 1 to_debias=True          -0.3154 (-0.6683,-0.0551)  \n",
       "       to_debias=False         -0.2882 (-0.4803,-0.0913)  \n",
       "Seed 2 to_debias=True          -0.3023 (-0.5223,-0.0556)  \n",
       "       to_debias=False         -0.2653 (-0.4187,-0.1483)  "
      ]
     },
     "execution_count": 10,
     "metadata": {},
     "output_type": "execute_result"
    }
   ],
   "source": [
    "aggs = {}\n",
    "for seed, res_dict in results.items():\n",
    "    aggs[seed] = {}\n",
    "    for to_debias, fold_res_dict in res_dict.items():\n",
    "        res = pd.DataFrame(fold_res_dict).quantile([0.025, 0.975]).T\n",
    "        res[\"means\"] = pd.DataFrame(fold_res_dict).mean()\n",
    "        aggs[seed][to_debias] = res.apply(\n",
    "            lambda x: f\"{x.means:.4f} ({x[0.025]:.4f},{x[0.975]:.4f})\", axis=1\n",
    "        )\n",
    "\n",
    "reform = {\n",
    "    (outerKey, innerKey): values\n",
    "    for outerKey, innerDict in aggs.items()\n",
    "    for innerKey, values in innerDict.items()\n",
    "}\n",
    "pd.DataFrame(reform).T"
   ]
  },
  {
   "cell_type": "markdown",
   "id": "5ce3e8fd-af1a-4af3-9385-cf961c315102",
   "metadata": {},
   "source": [
    "AD"
   ]
  },
  {
   "cell_type": "code",
   "execution_count": 11,
   "id": "6d43353e-c3d3-4093-a180-81aad160953d",
   "metadata": {},
   "outputs": [],
   "source": [
    "model_class = AdversarialDebiasing\n",
    "model_kwargs = {\n",
    "    \"privileged_groups\": privileged_groups,\n",
    "    \"unprivileged_groups\": unprivileged_groups,\n",
    "    \"scope_name\": \"adversarial_debiased_classifier\",\n",
    "    \"adversary_loss_weight\": 0.01,\n",
    "    \"classifier_num_hidden_units\": 100,\n",
    "}"
   ]
  },
  {
   "cell_type": "code",
   "execution_count": 12,
   "id": "ff72dd54-832a-4600-b630-603643e7e075",
   "metadata": {
    "scrolled": true
   },
   "outputs": [
    {
     "name": "stdout",
     "output_type": "stream",
     "text": [
      "\n",
      "Seed 1/3\n",
      "seed=0 || fold=0\n",
      "seed=0 || fold=1\n",
      "seed=0 || fold=2\n",
      "seed=0 || fold=3\n",
      "seed=0 || fold=4\n",
      "seed=0 || fold=5\n",
      "seed=0 || fold=6\n",
      "seed=0 || fold=7\n",
      "seed=0 || fold=8\n",
      "seed=0 || fold=9\n",
      "seed=0 || fold=0\n",
      "seed=0 || fold=1\n",
      "seed=0 || fold=2\n",
      "seed=0 || fold=3\n",
      "seed=0 || fold=4\n",
      "seed=0 || fold=5\n",
      "seed=0 || fold=6\n",
      "seed=0 || fold=7\n",
      "seed=0 || fold=8\n",
      "seed=0 || fold=9\n",
      "\n",
      "Seed 2/3\n",
      "seed=1 || fold=0\n",
      "seed=1 || fold=1\n",
      "seed=1 || fold=2\n",
      "seed=1 || fold=3\n",
      "seed=1 || fold=4\n",
      "seed=1 || fold=5\n",
      "seed=1 || fold=6\n",
      "seed=1 || fold=7\n",
      "seed=1 || fold=8\n",
      "seed=1 || fold=9\n",
      "seed=1 || fold=0\n",
      "seed=1 || fold=1\n",
      "seed=1 || fold=2\n",
      "seed=1 || fold=3\n",
      "seed=1 || fold=4\n",
      "seed=1 || fold=5\n",
      "seed=1 || fold=6\n",
      "seed=1 || fold=7\n",
      "seed=1 || fold=8\n",
      "seed=1 || fold=9\n",
      "\n",
      "Seed 3/3\n",
      "seed=2 || fold=0\n",
      "seed=2 || fold=1\n",
      "seed=2 || fold=2\n",
      "seed=2 || fold=3\n",
      "seed=2 || fold=4\n",
      "seed=2 || fold=5\n",
      "seed=2 || fold=6\n",
      "seed=2 || fold=7\n",
      "seed=2 || fold=8\n",
      "seed=2 || fold=9\n",
      "seed=2 || fold=0\n",
      "seed=2 || fold=1\n",
      "seed=2 || fold=2\n",
      "seed=2 || fold=3\n",
      "seed=2 || fold=4\n",
      "seed=2 || fold=5\n",
      "seed=2 || fold=6\n",
      "seed=2 || fold=7\n",
      "seed=2 || fold=8\n",
      "seed=2 || fold=9\n"
     ]
    }
   ],
   "source": [
    "results = cross_validate_seeds(\n",
    "    model_class,\n",
    "    model_kwargs,\n",
    "    dataset_orig,\n",
    "    seeds=3,\n",
    "    n_folds=10,\n",
    ")"
   ]
  },
  {
   "cell_type": "code",
   "execution_count": 13,
   "id": "9b5d194e-86a2-49a1-9a0d-100cd333dc54",
   "metadata": {
    "jupyter": {
     "source_hidden": true
    }
   },
   "outputs": [],
   "source": [
    "import pickle\n",
    "\n",
    "with open(\"./data/ad_group_cv_results.pickle\", \"wb\") as path:\n",
    "    pickle.dump(results, path, protocol=pickle.HIGHEST_PROTOCOL)"
   ]
  },
  {
   "cell_type": "code",
   "execution_count": 14,
   "id": "5b0bddb0-96c5-4e83-9c50-3b1bc1f08f6b",
   "metadata": {
    "jupyter": {
     "source_hidden": true
    }
   },
   "outputs": [
    {
     "data": {
      "text/html": [
       "<div>\n",
       "<style scoped>\n",
       "    .dataframe tbody tr th:only-of-type {\n",
       "        vertical-align: middle;\n",
       "    }\n",
       "\n",
       "    .dataframe tbody tr th {\n",
       "        vertical-align: top;\n",
       "    }\n",
       "\n",
       "    .dataframe thead th {\n",
       "        text-align: right;\n",
       "    }\n",
       "</style>\n",
       "<table border=\"1\" class=\"dataframe\">\n",
       "  <thead>\n",
       "    <tr style=\"text-align: right;\">\n",
       "      <th></th>\n",
       "      <th></th>\n",
       "      <th>Test Set: mean outcomes difference</th>\n",
       "      <th>Test Set: Classification accuracy</th>\n",
       "      <th>Test Set: Disparate impact</th>\n",
       "      <th>Test Set: Average odds difference</th>\n",
       "    </tr>\n",
       "  </thead>\n",
       "  <tbody>\n",
       "    <tr>\n",
       "      <th rowspan=\"2\" valign=\"top\">Seed 0</th>\n",
       "      <th>to_debias=True</th>\n",
       "      <td>-0.1388 (-0.2802,0.0504)</td>\n",
       "      <td>0.6740 (0.5867,0.7610)</td>\n",
       "      <td>1.0463 (0.7028,1.3873)</td>\n",
       "      <td>0.0062 (-0.3203,0.2919)</td>\n",
       "    </tr>\n",
       "    <tr>\n",
       "      <th>to_debias=False</th>\n",
       "      <td>-0.1388 (-0.2802,0.0504)</td>\n",
       "      <td>0.7070 (0.6268,0.7755)</td>\n",
       "      <td>0.7304 (0.6279,0.8873)</td>\n",
       "      <td>-0.2906 (-0.4253,-0.1024)</td>\n",
       "    </tr>\n",
       "    <tr>\n",
       "      <th rowspan=\"2\" valign=\"top\">Seed 1</th>\n",
       "      <th>to_debias=True</th>\n",
       "      <td>-0.1554 (-0.3321,-0.0244)</td>\n",
       "      <td>0.6740 (0.5912,0.7355)</td>\n",
       "      <td>0.9905 (0.6111,1.3181)</td>\n",
       "      <td>-0.0357 (-0.4803,0.2489)</td>\n",
       "    </tr>\n",
       "    <tr>\n",
       "      <th>to_debias=False</th>\n",
       "      <td>-0.1554 (-0.3321,-0.0244)</td>\n",
       "      <td>0.7090 (0.6545,0.7600)</td>\n",
       "      <td>0.7456 (0.6111,0.9364)</td>\n",
       "      <td>-0.2790 (-0.4803,-0.0852)</td>\n",
       "    </tr>\n",
       "    <tr>\n",
       "      <th rowspan=\"2\" valign=\"top\">Seed 2</th>\n",
       "      <th>to_debias=True</th>\n",
       "      <td>-0.1534 (-0.3167,-0.0148)</td>\n",
       "      <td>0.6590 (0.5745,0.7500)</td>\n",
       "      <td>1.0549 (0.5482,1.8830)</td>\n",
       "      <td>-0.0199 (-0.4751,0.4999)</td>\n",
       "    </tr>\n",
       "    <tr>\n",
       "      <th>to_debias=False</th>\n",
       "      <td>-0.1534 (-0.3167,-0.0148)</td>\n",
       "      <td>0.7080 (0.6545,0.7878)</td>\n",
       "      <td>0.7394 (0.6082,0.8750)</td>\n",
       "      <td>-0.2744 (-0.4248,-0.1483)</td>\n",
       "    </tr>\n",
       "  </tbody>\n",
       "</table>\n",
       "</div>"
      ],
      "text/plain": [
       "                       Test Set: mean outcomes difference  \\\n",
       "Seed 0 to_debias=True            -0.1388 (-0.2802,0.0504)   \n",
       "       to_debias=False           -0.1388 (-0.2802,0.0504)   \n",
       "Seed 1 to_debias=True           -0.1554 (-0.3321,-0.0244)   \n",
       "       to_debias=False          -0.1554 (-0.3321,-0.0244)   \n",
       "Seed 2 to_debias=True           -0.1534 (-0.3167,-0.0148)   \n",
       "       to_debias=False          -0.1534 (-0.3167,-0.0148)   \n",
       "\n",
       "                       Test Set: Classification accuracy  \\\n",
       "Seed 0 to_debias=True             0.6740 (0.5867,0.7610)   \n",
       "       to_debias=False            0.7070 (0.6268,0.7755)   \n",
       "Seed 1 to_debias=True             0.6740 (0.5912,0.7355)   \n",
       "       to_debias=False            0.7090 (0.6545,0.7600)   \n",
       "Seed 2 to_debias=True             0.6590 (0.5745,0.7500)   \n",
       "       to_debias=False            0.7080 (0.6545,0.7878)   \n",
       "\n",
       "                       Test Set: Disparate impact  \\\n",
       "Seed 0 to_debias=True      1.0463 (0.7028,1.3873)   \n",
       "       to_debias=False     0.7304 (0.6279,0.8873)   \n",
       "Seed 1 to_debias=True      0.9905 (0.6111,1.3181)   \n",
       "       to_debias=False     0.7456 (0.6111,0.9364)   \n",
       "Seed 2 to_debias=True      1.0549 (0.5482,1.8830)   \n",
       "       to_debias=False     0.7394 (0.6082,0.8750)   \n",
       "\n",
       "                       Test Set: Average odds difference  \n",
       "Seed 0 to_debias=True            0.0062 (-0.3203,0.2919)  \n",
       "       to_debias=False         -0.2906 (-0.4253,-0.1024)  \n",
       "Seed 1 to_debias=True           -0.0357 (-0.4803,0.2489)  \n",
       "       to_debias=False         -0.2790 (-0.4803,-0.0852)  \n",
       "Seed 2 to_debias=True           -0.0199 (-0.4751,0.4999)  \n",
       "       to_debias=False         -0.2744 (-0.4248,-0.1483)  "
      ]
     },
     "execution_count": 14,
     "metadata": {},
     "output_type": "execute_result"
    }
   ],
   "source": [
    "aggs = {}\n",
    "for seed, res_dict in results.items():\n",
    "    aggs[seed] = {}\n",
    "    for to_debias, fold_res_dict in res_dict.items():\n",
    "        res = pd.DataFrame(fold_res_dict).quantile([0.025, 0.975]).T\n",
    "        res[\"means\"] = pd.DataFrame(fold_res_dict).mean()\n",
    "        aggs[seed][to_debias] = res.apply(\n",
    "            lambda x: f\"{x.means:.4f} ({x[0.025]:.4f},{x[0.975]:.4f})\", axis=1\n",
    "        )\n",
    "\n",
    "reform = {\n",
    "    (outerKey, innerKey): values\n",
    "    for outerKey, innerDict in aggs.items()\n",
    "    for innerKey, values in innerDict.items()\n",
    "}\n",
    "pd.DataFrame(reform).T"
   ]
  }
 ],
 "metadata": {
  "kernelspec": {
   "display_name": "aif360",
   "language": "python",
   "name": "aif360"
  },
  "language_info": {
   "codemirror_mode": {
    "name": "ipython",
    "version": 3
   },
   "file_extension": ".py",
   "mimetype": "text/x-python",
   "name": "python",
   "nbconvert_exporter": "python",
   "pygments_lexer": "ipython3",
   "version": "3.11.10"
  }
 },
 "nbformat": 4,
 "nbformat_minor": 5
}
