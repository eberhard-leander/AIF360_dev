{
 "cells": [
  {
   "cell_type": "markdown",
   "id": "f77f78f1-bbf9-4aa2-8ec6-770e81cff82c",
   "metadata": {},
   "source": [
    "# CV Routine"
   ]
  },
  {
   "cell_type": "code",
   "execution_count": 1,
   "id": "779c3e6c-a01b-4980-955f-13df60267837",
   "metadata": {},
   "outputs": [
    {
     "name": "stderr",
     "output_type": "stream",
     "text": [
      "2024-12-10 18:10:23.569937: E external/local_xla/xla/stream_executor/cuda/cuda_fft.cc:477] Unable to register cuFFT factory: Attempting to register factory for plugin cuFFT when one has already been registered\n",
      "WARNING: All log messages before absl::InitializeLog() is called are written to STDERR\n",
      "E0000 00:00:1733854223.581299   14917 cuda_dnn.cc:8310] Unable to register cuDNN factory: Attempting to register factory for plugin cuDNN when one has already been registered\n",
      "E0000 00:00:1733854223.584812   14917 cuda_blas.cc:1418] Unable to register cuBLAS factory: Attempting to register factory for plugin cuBLAS when one has already been registered\n",
      "2024-12-10 18:10:23.600420: I tensorflow/core/platform/cpu_feature_guard.cc:210] This TensorFlow binary is optimized to use available CPU instructions in performance-critical operations.\n",
      "To enable the following instructions: AVX2 FMA, in other operations, rebuild TensorFlow with the appropriate compiler flags.\n",
      "/home/ubuntu/miniconda3/envs/aif360/lib/python3.11/site-packages/inFairness/utils/ndcg.py:37: FutureWarning: We've integrated functorch into PyTorch. As the final step of the integration, `functorch.vmap` is deprecated as of PyTorch 2.0 and will be deleted in a future version of PyTorch >= 2.3. Please use `torch.vmap` instead; see the PyTorch 2.0 release notes and/or the `torch.func` migration guide for more details https://pytorch.org/docs/main/func.migrating.html\n",
      "  vect_normalized_discounted_cumulative_gain = vmap(\n",
      "/home/ubuntu/miniconda3/envs/aif360/lib/python3.11/site-packages/inFairness/utils/ndcg.py:48: FutureWarning: We've integrated functorch into PyTorch. As the final step of the integration, `functorch.vmap` is deprecated as of PyTorch 2.0 and will be deleted in a future version of PyTorch >= 2.3. Please use `torch.vmap` instead; see the PyTorch 2.0 release notes and/or the `torch.func` migration guide for more details https://pytorch.org/docs/main/func.migrating.html\n",
      "  monte_carlo_vect_ndcg = vmap(vect_normalized_discounted_cumulative_gain, in_dims=(0,))\n"
     ]
    }
   ],
   "source": [
    "%matplotlib inline\n",
    "# Load all necessary packages\n",
    "import sys\n",
    "\n",
    "import pandas as pd\n",
    "\n",
    "sys.path.append(\"../\")\n",
    "import matplotlib.pyplot as plt\n",
    "import tensorflow.compat.v1 as tf\n",
    "from aif360.algorithms.inprocessing.adversarial_debiasing import AdversarialDebiasing\n",
    "from aif360.algorithms.inprocessing.fairness_adjuster import FairnessAdjuster\n",
    "from aif360.algorithms.preprocessing.optim_preproc_helpers.data_preproc_functions import (\n",
    "    load_preproc_data_adult,\n",
    "    load_preproc_data_compas,\n",
    "    load_preproc_data_german,\n",
    ")\n",
    "from aif360.datasets import (\n",
    "    AdultDataset,\n",
    "    BinaryLabelDataset,\n",
    "    CompasDataset,\n",
    "    GermanDataset,\n",
    ")\n",
    "from aif360.metrics import BinaryLabelDatasetMetric, ClassificationMetric\n",
    "from aif360.metrics.utils import compute_boolean_conditioning_vector\n",
    "from IPython.display import Markdown, display\n",
    "from sklearn.linear_model import LogisticRegression\n",
    "from sklearn.metrics import accuracy_score\n",
    "from sklearn.preprocessing import MaxAbsScaler, StandardScaler\n",
    "\n",
    "tf.disable_eager_execution()"
   ]
  },
  {
   "cell_type": "code",
   "execution_count": 2,
   "id": "faaf39f4-c97f-41d0-8fbc-bc77ea549c5b",
   "metadata": {},
   "outputs": [
    {
     "name": "stderr",
     "output_type": "stream",
     "text": [
      "/home/ubuntu/AIF360_dev/aif360/algorithms/preprocessing/optim_preproc_helpers/data_preproc_functions.py:261: FutureWarning: Downcasting behavior in `replace` is deprecated and will be removed in a future version. To retain the old behavior, explicitly call `result.infer_objects(copy=False)`. To opt-in to the future behavior, set `pd.set_option('future.no_silent_downcasting', True)`\n",
      "  df['sex'] = df['personal_status'].replace(status_map)\n"
     ]
    }
   ],
   "source": [
    "dataset_orig = load_preproc_data_german([\"age\", \"sex\"])\n",
    "privileged_groups = [{\"age\": 1}]\n",
    "unprivileged_groups = [{\"age\": 0}]"
   ]
  },
  {
   "cell_type": "code",
   "execution_count": 3,
   "id": "23007a55-be71-44bc-9fd2-f78ce2bd3c3d",
   "metadata": {},
   "outputs": [],
   "source": [
    "from sklearn.model_selection import KFold, cross_val_score, cross_validate\n",
    "\n",
    "min_max_scaler = MaxAbsScaler()"
   ]
  },
  {
   "cell_type": "markdown",
   "id": "0e72b206-70b0-4189-97a2-c255e21f7614",
   "metadata": {},
   "source": [
    "Prep"
   ]
  },
  {
   "cell_type": "code",
   "execution_count": 4,
   "id": "9a49cb98-4106-4c39-828f-88ddecec6471",
   "metadata": {},
   "outputs": [],
   "source": [
    "dataset_orig.features = min_max_scaler.fit_transform(dataset_orig.features)"
   ]
  },
  {
   "cell_type": "markdown",
   "id": "29974c55-e8af-45e6-a41f-e71184477f62",
   "metadata": {},
   "source": [
    "CV"
   ]
  },
  {
   "cell_type": "code",
   "execution_count": 5,
   "id": "a45f5854-17ad-4b22-9408-40ec54907c4e",
   "metadata": {},
   "outputs": [],
   "source": [
    "def get_metrics(\n",
    "    dataset_orig_test, dataset_pred_test, unprivileged_groups, privileged_groups\n",
    "):\n",
    "    metric_dataset_debiasing_test = BinaryLabelDatasetMetric(\n",
    "        dataset_orig_test,\n",
    "        unprivileged_groups=unprivileged_groups,\n",
    "        privileged_groups=privileged_groups,\n",
    "    )\n",
    "    classified_metric_debiasing_test = ClassificationMetric(\n",
    "        dataset_orig_test,\n",
    "        dataset_pred_test,\n",
    "        unprivileged_groups=unprivileged_groups,\n",
    "        privileged_groups=privileged_groups,\n",
    "    )\n",
    "    metrics_dict = {\n",
    "        \"Test Set: mean outcomes difference\": metric_dataset_debiasing_test.mean_difference(),\n",
    "        \"Test Set: Classification accuracy\": classified_metric_debiasing_test.accuracy(),\n",
    "        \"Test Set: Disparate impact\": classified_metric_debiasing_test.disparate_impact(),\n",
    "        \"Test Set: Average odds difference\": classified_metric_debiasing_test.average_odds_difference(),\n",
    "    }\n",
    "    return metrics_dict"
   ]
  },
  {
   "cell_type": "code",
   "execution_count": 6,
   "id": "166e2407-f436-49aa-819d-0cc61542cbd1",
   "metadata": {},
   "outputs": [],
   "source": [
    "from copy import copy, deepcopy\n",
    "\n",
    "import numpy as np\n",
    "from sklearn.metrics import accuracy_score  # Replace with desired metric\n",
    "from sklearn.model_selection import KFold\n",
    "\n",
    "\n",
    "def cross_validate_seeds(\n",
    "    model_class,\n",
    "    model_kwargs,\n",
    "    dataset,\n",
    "    seeds=5,\n",
    "    n_folds=5,\n",
    "):\n",
    "    \"\"\"\n",
    "    Runs cross-validation with multiple seeds.\n",
    "\n",
    "    Parameters:\n",
    "        model: The Scikit-learn model to validate.\n",
    "        X: Feature matrix.\n",
    "        y: Target vector.\n",
    "        seeds: Number of seeds for cross-validation.\n",
    "        folds: Number of folds for each cross-validation.\n",
    "\n",
    "    Returns:\n",
    "        results: Dictionary containing accuracy scores for each seed and fold.\n",
    "    \"\"\"\n",
    "    results = {}\n",
    "    scope_name = model_kwargs[\"scope_name\"]\n",
    "    original_df = dataset.convert_to_dataframe()[0]\n",
    "    for seed in range(seeds):\n",
    "        print(f\"\\nSeed {seed + 1}/{seeds}\")\n",
    "        kf = KFold(n_splits=n_folds, shuffle=True, random_state=seed)\n",
    "        seed_results = {}\n",
    "        for to_debias in [True, False]:\n",
    "            model_kwargs[\"debias\"] = to_debias\n",
    "            fold_results = []\n",
    "            for fold, (train_idx, test_idx) in enumerate(kf.split(original_df)):\n",
    "                print(f\"{seed=} || {fold=}\")\n",
    "                # Splitting data\n",
    "                dataset_X_train, dataset_X_test = dataset.subset(\n",
    "                    train_idx\n",
    "                ), dataset.subset(test_idx)\n",
    "\n",
    "                # Training model\n",
    "                sess = tf.Session()\n",
    "                model_kwargs[\"sess\"] = sess\n",
    "                model_kwargs[\"scope_name\"] = scope_name + f\"_{seed}_{fold}\"\n",
    "                model = model_class(**model_kwargs)\n",
    "                model.fit(dataset_X_train, verbose=False)\n",
    "\n",
    "                # Making predictions\n",
    "                dataset_preds = model.predict(dataset_X_test)\n",
    "\n",
    "                # Evaluating model\n",
    "                metrics = get_metrics(\n",
    "                    dataset_X_test,\n",
    "                    dataset_preds,\n",
    "                    model_kwargs[\"unprivileged_groups\"],\n",
    "                    model_kwargs[\"privileged_groups\"],\n",
    "                )\n",
    "                fold_results.append(metrics)\n",
    "\n",
    "                # end session\n",
    "                sess.close()\n",
    "                tf.reset_default_graph()\n",
    "            seed_results[f\"{to_debias=}\"] = fold_results\n",
    "        results[f\"Seed {seed}\"] = seed_results\n",
    "\n",
    "    return results"
   ]
  },
  {
   "cell_type": "markdown",
   "id": "8abd638e-026b-4ed7-9010-5e0fadcf7e99",
   "metadata": {},
   "source": [
    "Fairness adjuster"
   ]
  },
  {
   "cell_type": "code",
   "execution_count": 7,
   "id": "c8fa353a-7302-4cda-83b6-d840f1802397",
   "metadata": {},
   "outputs": [],
   "source": [
    "model_class = FairnessAdjuster\n",
    "model_kwargs = {\n",
    "    \"privileged_groups\": privileged_groups,\n",
    "    \"unprivileged_groups\": unprivileged_groups,\n",
    "    \"scope_name\": \"debiased_classifier\",\n",
    "    \"adversary_loss_weight\": 0.01,\n",
    "    \"classifier_num_hidden_units\": 100,\n",
    "    \"seed\": 1234,\n",
    "}"
   ]
  },
  {
   "cell_type": "code",
   "execution_count": 8,
   "id": "cddf7c8f-1cbd-48f5-90bb-77fe8eb235d6",
   "metadata": {
    "scrolled": true
   },
   "outputs": [
    {
     "name": "stdout",
     "output_type": "stream",
     "text": [
      "\n",
      "Seed 1/3\n",
      "seed=0 || fold=0\n",
      "WARNING:tensorflow:From /home/ubuntu/miniconda3/envs/aif360/lib/python3.11/site-packages/tensorflow/python/util/dispatch.py:1260: calling dropout (from tensorflow.python.ops.nn_ops) with keep_prob is deprecated and will be removed in a future version.\n",
      "Instructions for updating:\n",
      "Please use `rate` instead of `keep_prob`. Rate should be set to `rate = 1 - keep_prob`.\n"
     ]
    },
    {
     "name": "stderr",
     "output_type": "stream",
     "text": [
      "2024-12-10 18:10:27.949307: E external/local_xla/xla/stream_executor/cuda/cuda_driver.cc:152] failed call to cuInit: INTERNAL: CUDA error: Failed call to cuInit: UNKNOWN ERROR (303)\n",
      "WARNING: All log messages before absl::InitializeLog() is called are written to STDERR\n",
      "I0000 00:00:1733854228.068695   14917 mlir_graph_optimization_pass.cc:401] MLIR V1 optimization pass is not enabled\n",
      "2024-12-10 18:10:29.449788: W tensorflow/c/c_api.cc:305] Operation '{name:'debiased_classifier_0_0/debiased_classifier_0_0/classifier_model/b2/Adam_1/Assign' id:265 op device:{requested: '', assigned: ''} def:{{{node debiased_classifier_0_0/debiased_classifier_0_0/classifier_model/b2/Adam_1/Assign}} = AssignVariableOp[_has_manual_control_dependencies=true, dtype=DT_FLOAT, validate_shape=false](debiased_classifier_0_0/debiased_classifier_0_0/classifier_model/b2/Adam_1, debiased_classifier_0_0/debiased_classifier_0_0/classifier_model/b2/Adam_1/Initializer/zeros)}}' was changed by setting attribute after it was run by a session. This mutation will have no effect, and will trigger an error in the future. Either don't modify nodes after running them or create a new session.\n"
     ]
    },
    {
     "name": "stdout",
     "output_type": "stream",
     "text": [
      "seed=0 || fold=1\n"
     ]
    },
    {
     "name": "stderr",
     "output_type": "stream",
     "text": [
      "2024-12-10 18:10:30.978803: W tensorflow/c/c_api.cc:305] Operation '{name:'debiased_classifier_0_1/debiased_classifier_0_1/classifier_model/b2/Adam_1/Assign' id:265 op device:{requested: '', assigned: ''} def:{{{node debiased_classifier_0_1/debiased_classifier_0_1/classifier_model/b2/Adam_1/Assign}} = AssignVariableOp[_has_manual_control_dependencies=true, dtype=DT_FLOAT, validate_shape=false](debiased_classifier_0_1/debiased_classifier_0_1/classifier_model/b2/Adam_1, debiased_classifier_0_1/debiased_classifier_0_1/classifier_model/b2/Adam_1/Initializer/zeros)}}' was changed by setting attribute after it was run by a session. This mutation will have no effect, and will trigger an error in the future. Either don't modify nodes after running them or create a new session.\n"
     ]
    },
    {
     "name": "stdout",
     "output_type": "stream",
     "text": [
      "seed=0 || fold=2\n"
     ]
    },
    {
     "name": "stderr",
     "output_type": "stream",
     "text": [
      "2024-12-10 18:10:32.508417: W tensorflow/c/c_api.cc:305] Operation '{name:'debiased_classifier_0_2/debiased_classifier_0_2/classifier_model/b2/Adam_1/Assign' id:265 op device:{requested: '', assigned: ''} def:{{{node debiased_classifier_0_2/debiased_classifier_0_2/classifier_model/b2/Adam_1/Assign}} = AssignVariableOp[_has_manual_control_dependencies=true, dtype=DT_FLOAT, validate_shape=false](debiased_classifier_0_2/debiased_classifier_0_2/classifier_model/b2/Adam_1, debiased_classifier_0_2/debiased_classifier_0_2/classifier_model/b2/Adam_1/Initializer/zeros)}}' was changed by setting attribute after it was run by a session. This mutation will have no effect, and will trigger an error in the future. Either don't modify nodes after running them or create a new session.\n"
     ]
    },
    {
     "name": "stdout",
     "output_type": "stream",
     "text": [
      "seed=0 || fold=3\n"
     ]
    },
    {
     "name": "stderr",
     "output_type": "stream",
     "text": [
      "2024-12-10 18:10:34.466931: W tensorflow/c/c_api.cc:305] Operation '{name:'debiased_classifier_0_3/debiased_classifier_0_3/classifier_model/b2/Adam_1/Assign' id:265 op device:{requested: '', assigned: ''} def:{{{node debiased_classifier_0_3/debiased_classifier_0_3/classifier_model/b2/Adam_1/Assign}} = AssignVariableOp[_has_manual_control_dependencies=true, dtype=DT_FLOAT, validate_shape=false](debiased_classifier_0_3/debiased_classifier_0_3/classifier_model/b2/Adam_1, debiased_classifier_0_3/debiased_classifier_0_3/classifier_model/b2/Adam_1/Initializer/zeros)}}' was changed by setting attribute after it was run by a session. This mutation will have no effect, and will trigger an error in the future. Either don't modify nodes after running them or create a new session.\n"
     ]
    },
    {
     "name": "stdout",
     "output_type": "stream",
     "text": [
      "seed=0 || fold=4\n"
     ]
    },
    {
     "name": "stderr",
     "output_type": "stream",
     "text": [
      "2024-12-10 18:10:36.051451: W tensorflow/c/c_api.cc:305] Operation '{name:'debiased_classifier_0_4/debiased_classifier_0_4/classifier_model/b2/Adam_1/Assign' id:265 op device:{requested: '', assigned: ''} def:{{{node debiased_classifier_0_4/debiased_classifier_0_4/classifier_model/b2/Adam_1/Assign}} = AssignVariableOp[_has_manual_control_dependencies=true, dtype=DT_FLOAT, validate_shape=false](debiased_classifier_0_4/debiased_classifier_0_4/classifier_model/b2/Adam_1, debiased_classifier_0_4/debiased_classifier_0_4/classifier_model/b2/Adam_1/Initializer/zeros)}}' was changed by setting attribute after it was run by a session. This mutation will have no effect, and will trigger an error in the future. Either don't modify nodes after running them or create a new session.\n"
     ]
    },
    {
     "name": "stdout",
     "output_type": "stream",
     "text": [
      "seed=0 || fold=5\n"
     ]
    },
    {
     "name": "stderr",
     "output_type": "stream",
     "text": [
      "2024-12-10 18:10:37.569673: W tensorflow/c/c_api.cc:305] Operation '{name:'debiased_classifier_0_5/debiased_classifier_0_5/classifier_model/b2/Adam_1/Assign' id:265 op device:{requested: '', assigned: ''} def:{{{node debiased_classifier_0_5/debiased_classifier_0_5/classifier_model/b2/Adam_1/Assign}} = AssignVariableOp[_has_manual_control_dependencies=true, dtype=DT_FLOAT, validate_shape=false](debiased_classifier_0_5/debiased_classifier_0_5/classifier_model/b2/Adam_1, debiased_classifier_0_5/debiased_classifier_0_5/classifier_model/b2/Adam_1/Initializer/zeros)}}' was changed by setting attribute after it was run by a session. This mutation will have no effect, and will trigger an error in the future. Either don't modify nodes after running them or create a new session.\n"
     ]
    },
    {
     "name": "stdout",
     "output_type": "stream",
     "text": [
      "seed=0 || fold=6\n"
     ]
    },
    {
     "name": "stderr",
     "output_type": "stream",
     "text": [
      "2024-12-10 18:10:39.101878: W tensorflow/c/c_api.cc:305] Operation '{name:'debiased_classifier_0_6/debiased_classifier_0_6/classifier_model/b2/Adam_1/Assign' id:265 op device:{requested: '', assigned: ''} def:{{{node debiased_classifier_0_6/debiased_classifier_0_6/classifier_model/b2/Adam_1/Assign}} = AssignVariableOp[_has_manual_control_dependencies=true, dtype=DT_FLOAT, validate_shape=false](debiased_classifier_0_6/debiased_classifier_0_6/classifier_model/b2/Adam_1, debiased_classifier_0_6/debiased_classifier_0_6/classifier_model/b2/Adam_1/Initializer/zeros)}}' was changed by setting attribute after it was run by a session. This mutation will have no effect, and will trigger an error in the future. Either don't modify nodes after running them or create a new session.\n"
     ]
    },
    {
     "name": "stdout",
     "output_type": "stream",
     "text": [
      "seed=0 || fold=7\n"
     ]
    },
    {
     "name": "stderr",
     "output_type": "stream",
     "text": [
      "2024-12-10 18:10:40.636747: W tensorflow/c/c_api.cc:305] Operation '{name:'debiased_classifier_0_7/debiased_classifier_0_7/classifier_model/b2/Adam_1/Assign' id:265 op device:{requested: '', assigned: ''} def:{{{node debiased_classifier_0_7/debiased_classifier_0_7/classifier_model/b2/Adam_1/Assign}} = AssignVariableOp[_has_manual_control_dependencies=true, dtype=DT_FLOAT, validate_shape=false](debiased_classifier_0_7/debiased_classifier_0_7/classifier_model/b2/Adam_1, debiased_classifier_0_7/debiased_classifier_0_7/classifier_model/b2/Adam_1/Initializer/zeros)}}' was changed by setting attribute after it was run by a session. This mutation will have no effect, and will trigger an error in the future. Either don't modify nodes after running them or create a new session.\n"
     ]
    },
    {
     "name": "stdout",
     "output_type": "stream",
     "text": [
      "seed=0 || fold=8\n"
     ]
    },
    {
     "name": "stderr",
     "output_type": "stream",
     "text": [
      "2024-12-10 18:10:42.349791: W tensorflow/c/c_api.cc:305] Operation '{name:'debiased_classifier_0_8/debiased_classifier_0_8/classifier_model/b2/Adam_1/Assign' id:265 op device:{requested: '', assigned: ''} def:{{{node debiased_classifier_0_8/debiased_classifier_0_8/classifier_model/b2/Adam_1/Assign}} = AssignVariableOp[_has_manual_control_dependencies=true, dtype=DT_FLOAT, validate_shape=false](debiased_classifier_0_8/debiased_classifier_0_8/classifier_model/b2/Adam_1, debiased_classifier_0_8/debiased_classifier_0_8/classifier_model/b2/Adam_1/Initializer/zeros)}}' was changed by setting attribute after it was run by a session. This mutation will have no effect, and will trigger an error in the future. Either don't modify nodes after running them or create a new session.\n"
     ]
    },
    {
     "name": "stdout",
     "output_type": "stream",
     "text": [
      "seed=0 || fold=9\n"
     ]
    },
    {
     "name": "stderr",
     "output_type": "stream",
     "text": [
      "2024-12-10 18:10:43.981234: W tensorflow/c/c_api.cc:305] Operation '{name:'debiased_classifier_0_9/debiased_classifier_0_9/classifier_model/b2/Adam_1/Assign' id:265 op device:{requested: '', assigned: ''} def:{{{node debiased_classifier_0_9/debiased_classifier_0_9/classifier_model/b2/Adam_1/Assign}} = AssignVariableOp[_has_manual_control_dependencies=true, dtype=DT_FLOAT, validate_shape=false](debiased_classifier_0_9/debiased_classifier_0_9/classifier_model/b2/Adam_1, debiased_classifier_0_9/debiased_classifier_0_9/classifier_model/b2/Adam_1/Initializer/zeros)}}' was changed by setting attribute after it was run by a session. This mutation will have no effect, and will trigger an error in the future. Either don't modify nodes after running them or create a new session.\n"
     ]
    },
    {
     "name": "stdout",
     "output_type": "stream",
     "text": [
      "seed=0 || fold=0\n"
     ]
    },
    {
     "name": "stderr",
     "output_type": "stream",
     "text": [
      "2024-12-10 18:10:45.226604: W tensorflow/c/c_api.cc:305] Operation '{name:'debiased_classifier_0_0/debiased_classifier_0_0/classifier_model/b2/Adam_1/Assign' id:265 op device:{requested: '', assigned: ''} def:{{{node debiased_classifier_0_0/debiased_classifier_0_0/classifier_model/b2/Adam_1/Assign}} = AssignVariableOp[_has_manual_control_dependencies=true, dtype=DT_FLOAT, validate_shape=false](debiased_classifier_0_0/debiased_classifier_0_0/classifier_model/b2/Adam_1, debiased_classifier_0_0/debiased_classifier_0_0/classifier_model/b2/Adam_1/Initializer/zeros)}}' was changed by setting attribute after it was run by a session. This mutation will have no effect, and will trigger an error in the future. Either don't modify nodes after running them or create a new session.\n"
     ]
    },
    {
     "name": "stdout",
     "output_type": "stream",
     "text": [
      "seed=0 || fold=1\n"
     ]
    },
    {
     "name": "stderr",
     "output_type": "stream",
     "text": [
      "2024-12-10 18:10:46.479715: W tensorflow/c/c_api.cc:305] Operation '{name:'debiased_classifier_0_1/debiased_classifier_0_1/classifier_model/b2/Adam_1/Assign' id:265 op device:{requested: '', assigned: ''} def:{{{node debiased_classifier_0_1/debiased_classifier_0_1/classifier_model/b2/Adam_1/Assign}} = AssignVariableOp[_has_manual_control_dependencies=true, dtype=DT_FLOAT, validate_shape=false](debiased_classifier_0_1/debiased_classifier_0_1/classifier_model/b2/Adam_1, debiased_classifier_0_1/debiased_classifier_0_1/classifier_model/b2/Adam_1/Initializer/zeros)}}' was changed by setting attribute after it was run by a session. This mutation will have no effect, and will trigger an error in the future. Either don't modify nodes after running them or create a new session.\n"
     ]
    },
    {
     "name": "stdout",
     "output_type": "stream",
     "text": [
      "seed=0 || fold=2\n"
     ]
    },
    {
     "name": "stderr",
     "output_type": "stream",
     "text": [
      "2024-12-10 18:10:47.697867: W tensorflow/c/c_api.cc:305] Operation '{name:'debiased_classifier_0_2/debiased_classifier_0_2/classifier_model/b2/Adam_1/Assign' id:265 op device:{requested: '', assigned: ''} def:{{{node debiased_classifier_0_2/debiased_classifier_0_2/classifier_model/b2/Adam_1/Assign}} = AssignVariableOp[_has_manual_control_dependencies=true, dtype=DT_FLOAT, validate_shape=false](debiased_classifier_0_2/debiased_classifier_0_2/classifier_model/b2/Adam_1, debiased_classifier_0_2/debiased_classifier_0_2/classifier_model/b2/Adam_1/Initializer/zeros)}}' was changed by setting attribute after it was run by a session. This mutation will have no effect, and will trigger an error in the future. Either don't modify nodes after running them or create a new session.\n"
     ]
    },
    {
     "name": "stdout",
     "output_type": "stream",
     "text": [
      "seed=0 || fold=3\n"
     ]
    },
    {
     "name": "stderr",
     "output_type": "stream",
     "text": [
      "2024-12-10 18:10:48.869559: W tensorflow/c/c_api.cc:305] Operation '{name:'debiased_classifier_0_3/debiased_classifier_0_3/classifier_model/b2/Adam_1/Assign' id:265 op device:{requested: '', assigned: ''} def:{{{node debiased_classifier_0_3/debiased_classifier_0_3/classifier_model/b2/Adam_1/Assign}} = AssignVariableOp[_has_manual_control_dependencies=true, dtype=DT_FLOAT, validate_shape=false](debiased_classifier_0_3/debiased_classifier_0_3/classifier_model/b2/Adam_1, debiased_classifier_0_3/debiased_classifier_0_3/classifier_model/b2/Adam_1/Initializer/zeros)}}' was changed by setting attribute after it was run by a session. This mutation will have no effect, and will trigger an error in the future. Either don't modify nodes after running them or create a new session.\n"
     ]
    },
    {
     "name": "stdout",
     "output_type": "stream",
     "text": [
      "seed=0 || fold=4\n"
     ]
    },
    {
     "name": "stderr",
     "output_type": "stream",
     "text": [
      "2024-12-10 18:10:50.037670: W tensorflow/c/c_api.cc:305] Operation '{name:'debiased_classifier_0_4/debiased_classifier_0_4/classifier_model/b2/Adam_1/Assign' id:265 op device:{requested: '', assigned: ''} def:{{{node debiased_classifier_0_4/debiased_classifier_0_4/classifier_model/b2/Adam_1/Assign}} = AssignVariableOp[_has_manual_control_dependencies=true, dtype=DT_FLOAT, validate_shape=false](debiased_classifier_0_4/debiased_classifier_0_4/classifier_model/b2/Adam_1, debiased_classifier_0_4/debiased_classifier_0_4/classifier_model/b2/Adam_1/Initializer/zeros)}}' was changed by setting attribute after it was run by a session. This mutation will have no effect, and will trigger an error in the future. Either don't modify nodes after running them or create a new session.\n"
     ]
    },
    {
     "name": "stdout",
     "output_type": "stream",
     "text": [
      "seed=0 || fold=5\n"
     ]
    },
    {
     "name": "stderr",
     "output_type": "stream",
     "text": [
      "2024-12-10 18:10:51.144885: W tensorflow/c/c_api.cc:305] Operation '{name:'debiased_classifier_0_5/debiased_classifier_0_5/classifier_model/b2/Adam_1/Assign' id:265 op device:{requested: '', assigned: ''} def:{{{node debiased_classifier_0_5/debiased_classifier_0_5/classifier_model/b2/Adam_1/Assign}} = AssignVariableOp[_has_manual_control_dependencies=true, dtype=DT_FLOAT, validate_shape=false](debiased_classifier_0_5/debiased_classifier_0_5/classifier_model/b2/Adam_1, debiased_classifier_0_5/debiased_classifier_0_5/classifier_model/b2/Adam_1/Initializer/zeros)}}' was changed by setting attribute after it was run by a session. This mutation will have no effect, and will trigger an error in the future. Either don't modify nodes after running them or create a new session.\n"
     ]
    },
    {
     "name": "stdout",
     "output_type": "stream",
     "text": [
      "seed=0 || fold=6\n"
     ]
    },
    {
     "name": "stderr",
     "output_type": "stream",
     "text": [
      "2024-12-10 18:10:52.337110: W tensorflow/c/c_api.cc:305] Operation '{name:'debiased_classifier_0_6/debiased_classifier_0_6/classifier_model/b2/Adam_1/Assign' id:265 op device:{requested: '', assigned: ''} def:{{{node debiased_classifier_0_6/debiased_classifier_0_6/classifier_model/b2/Adam_1/Assign}} = AssignVariableOp[_has_manual_control_dependencies=true, dtype=DT_FLOAT, validate_shape=false](debiased_classifier_0_6/debiased_classifier_0_6/classifier_model/b2/Adam_1, debiased_classifier_0_6/debiased_classifier_0_6/classifier_model/b2/Adam_1/Initializer/zeros)}}' was changed by setting attribute after it was run by a session. This mutation will have no effect, and will trigger an error in the future. Either don't modify nodes after running them or create a new session.\n"
     ]
    },
    {
     "name": "stdout",
     "output_type": "stream",
     "text": [
      "seed=0 || fold=7\n"
     ]
    },
    {
     "name": "stderr",
     "output_type": "stream",
     "text": [
      "2024-12-10 18:10:53.463084: W tensorflow/c/c_api.cc:305] Operation '{name:'debiased_classifier_0_7/debiased_classifier_0_7/classifier_model/b2/Adam_1/Assign' id:265 op device:{requested: '', assigned: ''} def:{{{node debiased_classifier_0_7/debiased_classifier_0_7/classifier_model/b2/Adam_1/Assign}} = AssignVariableOp[_has_manual_control_dependencies=true, dtype=DT_FLOAT, validate_shape=false](debiased_classifier_0_7/debiased_classifier_0_7/classifier_model/b2/Adam_1, debiased_classifier_0_7/debiased_classifier_0_7/classifier_model/b2/Adam_1/Initializer/zeros)}}' was changed by setting attribute after it was run by a session. This mutation will have no effect, and will trigger an error in the future. Either don't modify nodes after running them or create a new session.\n"
     ]
    },
    {
     "name": "stdout",
     "output_type": "stream",
     "text": [
      "seed=0 || fold=8\n"
     ]
    },
    {
     "name": "stderr",
     "output_type": "stream",
     "text": [
      "2024-12-10 18:10:54.604290: W tensorflow/c/c_api.cc:305] Operation '{name:'debiased_classifier_0_8/debiased_classifier_0_8/classifier_model/b2/Adam_1/Assign' id:265 op device:{requested: '', assigned: ''} def:{{{node debiased_classifier_0_8/debiased_classifier_0_8/classifier_model/b2/Adam_1/Assign}} = AssignVariableOp[_has_manual_control_dependencies=true, dtype=DT_FLOAT, validate_shape=false](debiased_classifier_0_8/debiased_classifier_0_8/classifier_model/b2/Adam_1, debiased_classifier_0_8/debiased_classifier_0_8/classifier_model/b2/Adam_1/Initializer/zeros)}}' was changed by setting attribute after it was run by a session. This mutation will have no effect, and will trigger an error in the future. Either don't modify nodes after running them or create a new session.\n"
     ]
    },
    {
     "name": "stdout",
     "output_type": "stream",
     "text": [
      "seed=0 || fold=9\n"
     ]
    },
    {
     "name": "stderr",
     "output_type": "stream",
     "text": [
      "2024-12-10 18:10:55.765959: W tensorflow/c/c_api.cc:305] Operation '{name:'debiased_classifier_0_9/debiased_classifier_0_9/classifier_model/b2/Adam_1/Assign' id:265 op device:{requested: '', assigned: ''} def:{{{node debiased_classifier_0_9/debiased_classifier_0_9/classifier_model/b2/Adam_1/Assign}} = AssignVariableOp[_has_manual_control_dependencies=true, dtype=DT_FLOAT, validate_shape=false](debiased_classifier_0_9/debiased_classifier_0_9/classifier_model/b2/Adam_1, debiased_classifier_0_9/debiased_classifier_0_9/classifier_model/b2/Adam_1/Initializer/zeros)}}' was changed by setting attribute after it was run by a session. This mutation will have no effect, and will trigger an error in the future. Either don't modify nodes after running them or create a new session.\n"
     ]
    },
    {
     "name": "stdout",
     "output_type": "stream",
     "text": [
      "\n",
      "Seed 2/3\n",
      "seed=1 || fold=0\n"
     ]
    },
    {
     "name": "stderr",
     "output_type": "stream",
     "text": [
      "2024-12-10 18:10:57.297192: W tensorflow/c/c_api.cc:305] Operation '{name:'debiased_classifier_1_0/debiased_classifier_1_0/classifier_model/b2/Adam_1/Assign' id:265 op device:{requested: '', assigned: ''} def:{{{node debiased_classifier_1_0/debiased_classifier_1_0/classifier_model/b2/Adam_1/Assign}} = AssignVariableOp[_has_manual_control_dependencies=true, dtype=DT_FLOAT, validate_shape=false](debiased_classifier_1_0/debiased_classifier_1_0/classifier_model/b2/Adam_1, debiased_classifier_1_0/debiased_classifier_1_0/classifier_model/b2/Adam_1/Initializer/zeros)}}' was changed by setting attribute after it was run by a session. This mutation will have no effect, and will trigger an error in the future. Either don't modify nodes after running them or create a new session.\n"
     ]
    },
    {
     "name": "stdout",
     "output_type": "stream",
     "text": [
      "seed=1 || fold=1\n"
     ]
    },
    {
     "name": "stderr",
     "output_type": "stream",
     "text": [
      "2024-12-10 18:10:58.852199: W tensorflow/c/c_api.cc:305] Operation '{name:'debiased_classifier_1_1/debiased_classifier_1_1/classifier_model/b2/Adam_1/Assign' id:265 op device:{requested: '', assigned: ''} def:{{{node debiased_classifier_1_1/debiased_classifier_1_1/classifier_model/b2/Adam_1/Assign}} = AssignVariableOp[_has_manual_control_dependencies=true, dtype=DT_FLOAT, validate_shape=false](debiased_classifier_1_1/debiased_classifier_1_1/classifier_model/b2/Adam_1, debiased_classifier_1_1/debiased_classifier_1_1/classifier_model/b2/Adam_1/Initializer/zeros)}}' was changed by setting attribute after it was run by a session. This mutation will have no effect, and will trigger an error in the future. Either don't modify nodes after running them or create a new session.\n"
     ]
    },
    {
     "name": "stdout",
     "output_type": "stream",
     "text": [
      "seed=1 || fold=2\n"
     ]
    },
    {
     "name": "stderr",
     "output_type": "stream",
     "text": [
      "2024-12-10 18:11:00.436693: W tensorflow/c/c_api.cc:305] Operation '{name:'debiased_classifier_1_2/debiased_classifier_1_2/classifier_model/b2/Adam_1/Assign' id:265 op device:{requested: '', assigned: ''} def:{{{node debiased_classifier_1_2/debiased_classifier_1_2/classifier_model/b2/Adam_1/Assign}} = AssignVariableOp[_has_manual_control_dependencies=true, dtype=DT_FLOAT, validate_shape=false](debiased_classifier_1_2/debiased_classifier_1_2/classifier_model/b2/Adam_1, debiased_classifier_1_2/debiased_classifier_1_2/classifier_model/b2/Adam_1/Initializer/zeros)}}' was changed by setting attribute after it was run by a session. This mutation will have no effect, and will trigger an error in the future. Either don't modify nodes after running them or create a new session.\n"
     ]
    },
    {
     "name": "stdout",
     "output_type": "stream",
     "text": [
      "seed=1 || fold=3\n"
     ]
    },
    {
     "name": "stderr",
     "output_type": "stream",
     "text": [
      "2024-12-10 18:11:01.965346: W tensorflow/c/c_api.cc:305] Operation '{name:'debiased_classifier_1_3/debiased_classifier_1_3/classifier_model/b2/Adam_1/Assign' id:265 op device:{requested: '', assigned: ''} def:{{{node debiased_classifier_1_3/debiased_classifier_1_3/classifier_model/b2/Adam_1/Assign}} = AssignVariableOp[_has_manual_control_dependencies=true, dtype=DT_FLOAT, validate_shape=false](debiased_classifier_1_3/debiased_classifier_1_3/classifier_model/b2/Adam_1, debiased_classifier_1_3/debiased_classifier_1_3/classifier_model/b2/Adam_1/Initializer/zeros)}}' was changed by setting attribute after it was run by a session. This mutation will have no effect, and will trigger an error in the future. Either don't modify nodes after running them or create a new session.\n"
     ]
    },
    {
     "name": "stdout",
     "output_type": "stream",
     "text": [
      "seed=1 || fold=4\n"
     ]
    },
    {
     "name": "stderr",
     "output_type": "stream",
     "text": [
      "2024-12-10 18:11:03.639735: W tensorflow/c/c_api.cc:305] Operation '{name:'debiased_classifier_1_4/debiased_classifier_1_4/classifier_model/b2/Adam_1/Assign' id:265 op device:{requested: '', assigned: ''} def:{{{node debiased_classifier_1_4/debiased_classifier_1_4/classifier_model/b2/Adam_1/Assign}} = AssignVariableOp[_has_manual_control_dependencies=true, dtype=DT_FLOAT, validate_shape=false](debiased_classifier_1_4/debiased_classifier_1_4/classifier_model/b2/Adam_1, debiased_classifier_1_4/debiased_classifier_1_4/classifier_model/b2/Adam_1/Initializer/zeros)}}' was changed by setting attribute after it was run by a session. This mutation will have no effect, and will trigger an error in the future. Either don't modify nodes after running them or create a new session.\n"
     ]
    },
    {
     "name": "stdout",
     "output_type": "stream",
     "text": [
      "seed=1 || fold=5\n"
     ]
    },
    {
     "name": "stderr",
     "output_type": "stream",
     "text": [
      "2024-12-10 18:11:05.226919: W tensorflow/c/c_api.cc:305] Operation '{name:'debiased_classifier_1_5/debiased_classifier_1_5/classifier_model/b2/Adam_1/Assign' id:265 op device:{requested: '', assigned: ''} def:{{{node debiased_classifier_1_5/debiased_classifier_1_5/classifier_model/b2/Adam_1/Assign}} = AssignVariableOp[_has_manual_control_dependencies=true, dtype=DT_FLOAT, validate_shape=false](debiased_classifier_1_5/debiased_classifier_1_5/classifier_model/b2/Adam_1, debiased_classifier_1_5/debiased_classifier_1_5/classifier_model/b2/Adam_1/Initializer/zeros)}}' was changed by setting attribute after it was run by a session. This mutation will have no effect, and will trigger an error in the future. Either don't modify nodes after running them or create a new session.\n"
     ]
    },
    {
     "name": "stdout",
     "output_type": "stream",
     "text": [
      "seed=1 || fold=6\n"
     ]
    },
    {
     "name": "stderr",
     "output_type": "stream",
     "text": [
      "2024-12-10 18:11:06.845244: W tensorflow/c/c_api.cc:305] Operation '{name:'debiased_classifier_1_6/debiased_classifier_1_6/classifier_model/b2/Adam_1/Assign' id:265 op device:{requested: '', assigned: ''} def:{{{node debiased_classifier_1_6/debiased_classifier_1_6/classifier_model/b2/Adam_1/Assign}} = AssignVariableOp[_has_manual_control_dependencies=true, dtype=DT_FLOAT, validate_shape=false](debiased_classifier_1_6/debiased_classifier_1_6/classifier_model/b2/Adam_1, debiased_classifier_1_6/debiased_classifier_1_6/classifier_model/b2/Adam_1/Initializer/zeros)}}' was changed by setting attribute after it was run by a session. This mutation will have no effect, and will trigger an error in the future. Either don't modify nodes after running them or create a new session.\n"
     ]
    },
    {
     "name": "stdout",
     "output_type": "stream",
     "text": [
      "seed=1 || fold=7\n"
     ]
    },
    {
     "name": "stderr",
     "output_type": "stream",
     "text": [
      "2024-12-10 18:11:08.473992: W tensorflow/c/c_api.cc:305] Operation '{name:'debiased_classifier_1_7/debiased_classifier_1_7/classifier_model/b2/Adam_1/Assign' id:265 op device:{requested: '', assigned: ''} def:{{{node debiased_classifier_1_7/debiased_classifier_1_7/classifier_model/b2/Adam_1/Assign}} = AssignVariableOp[_has_manual_control_dependencies=true, dtype=DT_FLOAT, validate_shape=false](debiased_classifier_1_7/debiased_classifier_1_7/classifier_model/b2/Adam_1, debiased_classifier_1_7/debiased_classifier_1_7/classifier_model/b2/Adam_1/Initializer/zeros)}}' was changed by setting attribute after it was run by a session. This mutation will have no effect, and will trigger an error in the future. Either don't modify nodes after running them or create a new session.\n"
     ]
    },
    {
     "name": "stdout",
     "output_type": "stream",
     "text": [
      "seed=1 || fold=8\n"
     ]
    },
    {
     "name": "stderr",
     "output_type": "stream",
     "text": [
      "2024-12-10 18:11:10.031916: W tensorflow/c/c_api.cc:305] Operation '{name:'debiased_classifier_1_8/debiased_classifier_1_8/classifier_model/b2/Adam_1/Assign' id:265 op device:{requested: '', assigned: ''} def:{{{node debiased_classifier_1_8/debiased_classifier_1_8/classifier_model/b2/Adam_1/Assign}} = AssignVariableOp[_has_manual_control_dependencies=true, dtype=DT_FLOAT, validate_shape=false](debiased_classifier_1_8/debiased_classifier_1_8/classifier_model/b2/Adam_1, debiased_classifier_1_8/debiased_classifier_1_8/classifier_model/b2/Adam_1/Initializer/zeros)}}' was changed by setting attribute after it was run by a session. This mutation will have no effect, and will trigger an error in the future. Either don't modify nodes after running them or create a new session.\n"
     ]
    },
    {
     "name": "stdout",
     "output_type": "stream",
     "text": [
      "seed=1 || fold=9\n"
     ]
    },
    {
     "name": "stderr",
     "output_type": "stream",
     "text": [
      "2024-12-10 18:11:11.640771: W tensorflow/c/c_api.cc:305] Operation '{name:'debiased_classifier_1_9/debiased_classifier_1_9/classifier_model/b2/Adam_1/Assign' id:265 op device:{requested: '', assigned: ''} def:{{{node debiased_classifier_1_9/debiased_classifier_1_9/classifier_model/b2/Adam_1/Assign}} = AssignVariableOp[_has_manual_control_dependencies=true, dtype=DT_FLOAT, validate_shape=false](debiased_classifier_1_9/debiased_classifier_1_9/classifier_model/b2/Adam_1, debiased_classifier_1_9/debiased_classifier_1_9/classifier_model/b2/Adam_1/Initializer/zeros)}}' was changed by setting attribute after it was run by a session. This mutation will have no effect, and will trigger an error in the future. Either don't modify nodes after running them or create a new session.\n"
     ]
    },
    {
     "name": "stdout",
     "output_type": "stream",
     "text": [
      "seed=1 || fold=0\n"
     ]
    },
    {
     "name": "stderr",
     "output_type": "stream",
     "text": [
      "2024-12-10 18:11:12.880256: W tensorflow/c/c_api.cc:305] Operation '{name:'debiased_classifier_1_0/debiased_classifier_1_0/classifier_model/b2/Adam_1/Assign' id:265 op device:{requested: '', assigned: ''} def:{{{node debiased_classifier_1_0/debiased_classifier_1_0/classifier_model/b2/Adam_1/Assign}} = AssignVariableOp[_has_manual_control_dependencies=true, dtype=DT_FLOAT, validate_shape=false](debiased_classifier_1_0/debiased_classifier_1_0/classifier_model/b2/Adam_1, debiased_classifier_1_0/debiased_classifier_1_0/classifier_model/b2/Adam_1/Initializer/zeros)}}' was changed by setting attribute after it was run by a session. This mutation will have no effect, and will trigger an error in the future. Either don't modify nodes after running them or create a new session.\n"
     ]
    },
    {
     "name": "stdout",
     "output_type": "stream",
     "text": [
      "seed=1 || fold=1\n"
     ]
    },
    {
     "name": "stderr",
     "output_type": "stream",
     "text": [
      "2024-12-10 18:11:14.113030: W tensorflow/c/c_api.cc:305] Operation '{name:'debiased_classifier_1_1/debiased_classifier_1_1/classifier_model/b2/Adam_1/Assign' id:265 op device:{requested: '', assigned: ''} def:{{{node debiased_classifier_1_1/debiased_classifier_1_1/classifier_model/b2/Adam_1/Assign}} = AssignVariableOp[_has_manual_control_dependencies=true, dtype=DT_FLOAT, validate_shape=false](debiased_classifier_1_1/debiased_classifier_1_1/classifier_model/b2/Adam_1, debiased_classifier_1_1/debiased_classifier_1_1/classifier_model/b2/Adam_1/Initializer/zeros)}}' was changed by setting attribute after it was run by a session. This mutation will have no effect, and will trigger an error in the future. Either don't modify nodes after running them or create a new session.\n"
     ]
    },
    {
     "name": "stdout",
     "output_type": "stream",
     "text": [
      "seed=1 || fold=2\n"
     ]
    },
    {
     "name": "stderr",
     "output_type": "stream",
     "text": [
      "2024-12-10 18:11:15.294104: W tensorflow/c/c_api.cc:305] Operation '{name:'debiased_classifier_1_2/debiased_classifier_1_2/classifier_model/b2/Adam_1/Assign' id:265 op device:{requested: '', assigned: ''} def:{{{node debiased_classifier_1_2/debiased_classifier_1_2/classifier_model/b2/Adam_1/Assign}} = AssignVariableOp[_has_manual_control_dependencies=true, dtype=DT_FLOAT, validate_shape=false](debiased_classifier_1_2/debiased_classifier_1_2/classifier_model/b2/Adam_1, debiased_classifier_1_2/debiased_classifier_1_2/classifier_model/b2/Adam_1/Initializer/zeros)}}' was changed by setting attribute after it was run by a session. This mutation will have no effect, and will trigger an error in the future. Either don't modify nodes after running them or create a new session.\n"
     ]
    },
    {
     "name": "stdout",
     "output_type": "stream",
     "text": [
      "seed=1 || fold=3\n"
     ]
    },
    {
     "name": "stderr",
     "output_type": "stream",
     "text": [
      "2024-12-10 18:11:17.015379: W tensorflow/c/c_api.cc:305] Operation '{name:'debiased_classifier_1_3/debiased_classifier_1_3/classifier_model/b2/Adam_1/Assign' id:265 op device:{requested: '', assigned: ''} def:{{{node debiased_classifier_1_3/debiased_classifier_1_3/classifier_model/b2/Adam_1/Assign}} = AssignVariableOp[_has_manual_control_dependencies=true, dtype=DT_FLOAT, validate_shape=false](debiased_classifier_1_3/debiased_classifier_1_3/classifier_model/b2/Adam_1, debiased_classifier_1_3/debiased_classifier_1_3/classifier_model/b2/Adam_1/Initializer/zeros)}}' was changed by setting attribute after it was run by a session. This mutation will have no effect, and will trigger an error in the future. Either don't modify nodes after running them or create a new session.\n"
     ]
    },
    {
     "name": "stdout",
     "output_type": "stream",
     "text": [
      "seed=1 || fold=4\n"
     ]
    },
    {
     "name": "stderr",
     "output_type": "stream",
     "text": [
      "2024-12-10 18:11:18.298137: W tensorflow/c/c_api.cc:305] Operation '{name:'debiased_classifier_1_4/debiased_classifier_1_4/classifier_model/b2/Adam_1/Assign' id:265 op device:{requested: '', assigned: ''} def:{{{node debiased_classifier_1_4/debiased_classifier_1_4/classifier_model/b2/Adam_1/Assign}} = AssignVariableOp[_has_manual_control_dependencies=true, dtype=DT_FLOAT, validate_shape=false](debiased_classifier_1_4/debiased_classifier_1_4/classifier_model/b2/Adam_1, debiased_classifier_1_4/debiased_classifier_1_4/classifier_model/b2/Adam_1/Initializer/zeros)}}' was changed by setting attribute after it was run by a session. This mutation will have no effect, and will trigger an error in the future. Either don't modify nodes after running them or create a new session.\n"
     ]
    },
    {
     "name": "stdout",
     "output_type": "stream",
     "text": [
      "seed=1 || fold=5\n"
     ]
    },
    {
     "name": "stderr",
     "output_type": "stream",
     "text": [
      "2024-12-10 18:11:19.519682: W tensorflow/c/c_api.cc:305] Operation '{name:'debiased_classifier_1_5/debiased_classifier_1_5/classifier_model/b2/Adam_1/Assign' id:265 op device:{requested: '', assigned: ''} def:{{{node debiased_classifier_1_5/debiased_classifier_1_5/classifier_model/b2/Adam_1/Assign}} = AssignVariableOp[_has_manual_control_dependencies=true, dtype=DT_FLOAT, validate_shape=false](debiased_classifier_1_5/debiased_classifier_1_5/classifier_model/b2/Adam_1, debiased_classifier_1_5/debiased_classifier_1_5/classifier_model/b2/Adam_1/Initializer/zeros)}}' was changed by setting attribute after it was run by a session. This mutation will have no effect, and will trigger an error in the future. Either don't modify nodes after running them or create a new session.\n"
     ]
    },
    {
     "name": "stdout",
     "output_type": "stream",
     "text": [
      "seed=1 || fold=6\n"
     ]
    },
    {
     "name": "stderr",
     "output_type": "stream",
     "text": [
      "2024-12-10 18:11:20.720723: W tensorflow/c/c_api.cc:305] Operation '{name:'debiased_classifier_1_6/debiased_classifier_1_6/classifier_model/b2/Adam_1/Assign' id:265 op device:{requested: '', assigned: ''} def:{{{node debiased_classifier_1_6/debiased_classifier_1_6/classifier_model/b2/Adam_1/Assign}} = AssignVariableOp[_has_manual_control_dependencies=true, dtype=DT_FLOAT, validate_shape=false](debiased_classifier_1_6/debiased_classifier_1_6/classifier_model/b2/Adam_1, debiased_classifier_1_6/debiased_classifier_1_6/classifier_model/b2/Adam_1/Initializer/zeros)}}' was changed by setting attribute after it was run by a session. This mutation will have no effect, and will trigger an error in the future. Either don't modify nodes after running them or create a new session.\n"
     ]
    },
    {
     "name": "stdout",
     "output_type": "stream",
     "text": [
      "seed=1 || fold=7\n"
     ]
    },
    {
     "name": "stderr",
     "output_type": "stream",
     "text": [
      "2024-12-10 18:11:21.945259: W tensorflow/c/c_api.cc:305] Operation '{name:'debiased_classifier_1_7/debiased_classifier_1_7/classifier_model/b2/Adam_1/Assign' id:265 op device:{requested: '', assigned: ''} def:{{{node debiased_classifier_1_7/debiased_classifier_1_7/classifier_model/b2/Adam_1/Assign}} = AssignVariableOp[_has_manual_control_dependencies=true, dtype=DT_FLOAT, validate_shape=false](debiased_classifier_1_7/debiased_classifier_1_7/classifier_model/b2/Adam_1, debiased_classifier_1_7/debiased_classifier_1_7/classifier_model/b2/Adam_1/Initializer/zeros)}}' was changed by setting attribute after it was run by a session. This mutation will have no effect, and will trigger an error in the future. Either don't modify nodes after running them or create a new session.\n"
     ]
    },
    {
     "name": "stdout",
     "output_type": "stream",
     "text": [
      "seed=1 || fold=8\n"
     ]
    },
    {
     "name": "stderr",
     "output_type": "stream",
     "text": [
      "2024-12-10 18:11:23.149530: W tensorflow/c/c_api.cc:305] Operation '{name:'debiased_classifier_1_8/debiased_classifier_1_8/classifier_model/b2/Adam_1/Assign' id:265 op device:{requested: '', assigned: ''} def:{{{node debiased_classifier_1_8/debiased_classifier_1_8/classifier_model/b2/Adam_1/Assign}} = AssignVariableOp[_has_manual_control_dependencies=true, dtype=DT_FLOAT, validate_shape=false](debiased_classifier_1_8/debiased_classifier_1_8/classifier_model/b2/Adam_1, debiased_classifier_1_8/debiased_classifier_1_8/classifier_model/b2/Adam_1/Initializer/zeros)}}' was changed by setting attribute after it was run by a session. This mutation will have no effect, and will trigger an error in the future. Either don't modify nodes after running them or create a new session.\n"
     ]
    },
    {
     "name": "stdout",
     "output_type": "stream",
     "text": [
      "seed=1 || fold=9\n"
     ]
    },
    {
     "name": "stderr",
     "output_type": "stream",
     "text": [
      "2024-12-10 18:11:24.389914: W tensorflow/c/c_api.cc:305] Operation '{name:'debiased_classifier_1_9/debiased_classifier_1_9/classifier_model/b2/Adam_1/Assign' id:265 op device:{requested: '', assigned: ''} def:{{{node debiased_classifier_1_9/debiased_classifier_1_9/classifier_model/b2/Adam_1/Assign}} = AssignVariableOp[_has_manual_control_dependencies=true, dtype=DT_FLOAT, validate_shape=false](debiased_classifier_1_9/debiased_classifier_1_9/classifier_model/b2/Adam_1, debiased_classifier_1_9/debiased_classifier_1_9/classifier_model/b2/Adam_1/Initializer/zeros)}}' was changed by setting attribute after it was run by a session. This mutation will have no effect, and will trigger an error in the future. Either don't modify nodes after running them or create a new session.\n"
     ]
    },
    {
     "name": "stdout",
     "output_type": "stream",
     "text": [
      "\n",
      "Seed 3/3\n",
      "seed=2 || fold=0\n"
     ]
    },
    {
     "name": "stderr",
     "output_type": "stream",
     "text": [
      "2024-12-10 18:11:25.980109: W tensorflow/c/c_api.cc:305] Operation '{name:'debiased_classifier_2_0/debiased_classifier_2_0/classifier_model/b2/Adam_1/Assign' id:265 op device:{requested: '', assigned: ''} def:{{{node debiased_classifier_2_0/debiased_classifier_2_0/classifier_model/b2/Adam_1/Assign}} = AssignVariableOp[_has_manual_control_dependencies=true, dtype=DT_FLOAT, validate_shape=false](debiased_classifier_2_0/debiased_classifier_2_0/classifier_model/b2/Adam_1, debiased_classifier_2_0/debiased_classifier_2_0/classifier_model/b2/Adam_1/Initializer/zeros)}}' was changed by setting attribute after it was run by a session. This mutation will have no effect, and will trigger an error in the future. Either don't modify nodes after running them or create a new session.\n"
     ]
    },
    {
     "name": "stdout",
     "output_type": "stream",
     "text": [
      "seed=2 || fold=1\n"
     ]
    },
    {
     "name": "stderr",
     "output_type": "stream",
     "text": [
      "2024-12-10 18:11:27.554873: W tensorflow/c/c_api.cc:305] Operation '{name:'debiased_classifier_2_1/debiased_classifier_2_1/classifier_model/b2/Adam_1/Assign' id:265 op device:{requested: '', assigned: ''} def:{{{node debiased_classifier_2_1/debiased_classifier_2_1/classifier_model/b2/Adam_1/Assign}} = AssignVariableOp[_has_manual_control_dependencies=true, dtype=DT_FLOAT, validate_shape=false](debiased_classifier_2_1/debiased_classifier_2_1/classifier_model/b2/Adam_1, debiased_classifier_2_1/debiased_classifier_2_1/classifier_model/b2/Adam_1/Initializer/zeros)}}' was changed by setting attribute after it was run by a session. This mutation will have no effect, and will trigger an error in the future. Either don't modify nodes after running them or create a new session.\n"
     ]
    },
    {
     "name": "stdout",
     "output_type": "stream",
     "text": [
      "seed=2 || fold=2\n"
     ]
    },
    {
     "name": "stderr",
     "output_type": "stream",
     "text": [
      "2024-12-10 18:11:29.147561: W tensorflow/c/c_api.cc:305] Operation '{name:'debiased_classifier_2_2/debiased_classifier_2_2/classifier_model/b2/Adam_1/Assign' id:265 op device:{requested: '', assigned: ''} def:{{{node debiased_classifier_2_2/debiased_classifier_2_2/classifier_model/b2/Adam_1/Assign}} = AssignVariableOp[_has_manual_control_dependencies=true, dtype=DT_FLOAT, validate_shape=false](debiased_classifier_2_2/debiased_classifier_2_2/classifier_model/b2/Adam_1, debiased_classifier_2_2/debiased_classifier_2_2/classifier_model/b2/Adam_1/Initializer/zeros)}}' was changed by setting attribute after it was run by a session. This mutation will have no effect, and will trigger an error in the future. Either don't modify nodes after running them or create a new session.\n"
     ]
    },
    {
     "name": "stdout",
     "output_type": "stream",
     "text": [
      "seed=2 || fold=3\n"
     ]
    },
    {
     "name": "stderr",
     "output_type": "stream",
     "text": [
      "2024-12-10 18:11:30.739704: W tensorflow/c/c_api.cc:305] Operation '{name:'debiased_classifier_2_3/debiased_classifier_2_3/classifier_model/b2/Adam_1/Assign' id:265 op device:{requested: '', assigned: ''} def:{{{node debiased_classifier_2_3/debiased_classifier_2_3/classifier_model/b2/Adam_1/Assign}} = AssignVariableOp[_has_manual_control_dependencies=true, dtype=DT_FLOAT, validate_shape=false](debiased_classifier_2_3/debiased_classifier_2_3/classifier_model/b2/Adam_1, debiased_classifier_2_3/debiased_classifier_2_3/classifier_model/b2/Adam_1/Initializer/zeros)}}' was changed by setting attribute after it was run by a session. This mutation will have no effect, and will trigger an error in the future. Either don't modify nodes after running them or create a new session.\n"
     ]
    },
    {
     "name": "stdout",
     "output_type": "stream",
     "text": [
      "seed=2 || fold=4\n"
     ]
    },
    {
     "name": "stderr",
     "output_type": "stream",
     "text": [
      "2024-12-10 18:11:32.344569: W tensorflow/c/c_api.cc:305] Operation '{name:'debiased_classifier_2_4/debiased_classifier_2_4/classifier_model/b2/Adam_1/Assign' id:265 op device:{requested: '', assigned: ''} def:{{{node debiased_classifier_2_4/debiased_classifier_2_4/classifier_model/b2/Adam_1/Assign}} = AssignVariableOp[_has_manual_control_dependencies=true, dtype=DT_FLOAT, validate_shape=false](debiased_classifier_2_4/debiased_classifier_2_4/classifier_model/b2/Adam_1, debiased_classifier_2_4/debiased_classifier_2_4/classifier_model/b2/Adam_1/Initializer/zeros)}}' was changed by setting attribute after it was run by a session. This mutation will have no effect, and will trigger an error in the future. Either don't modify nodes after running them or create a new session.\n"
     ]
    },
    {
     "name": "stdout",
     "output_type": "stream",
     "text": [
      "seed=2 || fold=5\n"
     ]
    },
    {
     "name": "stderr",
     "output_type": "stream",
     "text": [
      "2024-12-10 18:11:33.902641: W tensorflow/c/c_api.cc:305] Operation '{name:'debiased_classifier_2_5/debiased_classifier_2_5/classifier_model/b2/Adam_1/Assign' id:265 op device:{requested: '', assigned: ''} def:{{{node debiased_classifier_2_5/debiased_classifier_2_5/classifier_model/b2/Adam_1/Assign}} = AssignVariableOp[_has_manual_control_dependencies=true, dtype=DT_FLOAT, validate_shape=false](debiased_classifier_2_5/debiased_classifier_2_5/classifier_model/b2/Adam_1, debiased_classifier_2_5/debiased_classifier_2_5/classifier_model/b2/Adam_1/Initializer/zeros)}}' was changed by setting attribute after it was run by a session. This mutation will have no effect, and will trigger an error in the future. Either don't modify nodes after running them or create a new session.\n"
     ]
    },
    {
     "name": "stdout",
     "output_type": "stream",
     "text": [
      "seed=2 || fold=6\n"
     ]
    },
    {
     "name": "stderr",
     "output_type": "stream",
     "text": [
      "2024-12-10 18:11:35.525932: W tensorflow/c/c_api.cc:305] Operation '{name:'debiased_classifier_2_6/debiased_classifier_2_6/classifier_model/b2/Adam_1/Assign' id:265 op device:{requested: '', assigned: ''} def:{{{node debiased_classifier_2_6/debiased_classifier_2_6/classifier_model/b2/Adam_1/Assign}} = AssignVariableOp[_has_manual_control_dependencies=true, dtype=DT_FLOAT, validate_shape=false](debiased_classifier_2_6/debiased_classifier_2_6/classifier_model/b2/Adam_1, debiased_classifier_2_6/debiased_classifier_2_6/classifier_model/b2/Adam_1/Initializer/zeros)}}' was changed by setting attribute after it was run by a session. This mutation will have no effect, and will trigger an error in the future. Either don't modify nodes after running them or create a new session.\n"
     ]
    },
    {
     "name": "stdout",
     "output_type": "stream",
     "text": [
      "seed=2 || fold=7\n"
     ]
    },
    {
     "name": "stderr",
     "output_type": "stream",
     "text": [
      "2024-12-10 18:11:37.072776: W tensorflow/c/c_api.cc:305] Operation '{name:'debiased_classifier_2_7/debiased_classifier_2_7/classifier_model/b2/Adam_1/Assign' id:265 op device:{requested: '', assigned: ''} def:{{{node debiased_classifier_2_7/debiased_classifier_2_7/classifier_model/b2/Adam_1/Assign}} = AssignVariableOp[_has_manual_control_dependencies=true, dtype=DT_FLOAT, validate_shape=false](debiased_classifier_2_7/debiased_classifier_2_7/classifier_model/b2/Adam_1, debiased_classifier_2_7/debiased_classifier_2_7/classifier_model/b2/Adam_1/Initializer/zeros)}}' was changed by setting attribute after it was run by a session. This mutation will have no effect, and will trigger an error in the future. Either don't modify nodes after running them or create a new session.\n"
     ]
    },
    {
     "name": "stdout",
     "output_type": "stream",
     "text": [
      "seed=2 || fold=8\n"
     ]
    },
    {
     "name": "stderr",
     "output_type": "stream",
     "text": [
      "2024-12-10 18:11:38.691189: W tensorflow/c/c_api.cc:305] Operation '{name:'debiased_classifier_2_8/debiased_classifier_2_8/classifier_model/b2/Adam_1/Assign' id:265 op device:{requested: '', assigned: ''} def:{{{node debiased_classifier_2_8/debiased_classifier_2_8/classifier_model/b2/Adam_1/Assign}} = AssignVariableOp[_has_manual_control_dependencies=true, dtype=DT_FLOAT, validate_shape=false](debiased_classifier_2_8/debiased_classifier_2_8/classifier_model/b2/Adam_1, debiased_classifier_2_8/debiased_classifier_2_8/classifier_model/b2/Adam_1/Initializer/zeros)}}' was changed by setting attribute after it was run by a session. This mutation will have no effect, and will trigger an error in the future. Either don't modify nodes after running them or create a new session.\n"
     ]
    },
    {
     "name": "stdout",
     "output_type": "stream",
     "text": [
      "seed=2 || fold=9\n"
     ]
    },
    {
     "name": "stderr",
     "output_type": "stream",
     "text": [
      "2024-12-10 18:11:40.275881: W tensorflow/c/c_api.cc:305] Operation '{name:'debiased_classifier_2_9/debiased_classifier_2_9/classifier_model/b2/Adam_1/Assign' id:265 op device:{requested: '', assigned: ''} def:{{{node debiased_classifier_2_9/debiased_classifier_2_9/classifier_model/b2/Adam_1/Assign}} = AssignVariableOp[_has_manual_control_dependencies=true, dtype=DT_FLOAT, validate_shape=false](debiased_classifier_2_9/debiased_classifier_2_9/classifier_model/b2/Adam_1, debiased_classifier_2_9/debiased_classifier_2_9/classifier_model/b2/Adam_1/Initializer/zeros)}}' was changed by setting attribute after it was run by a session. This mutation will have no effect, and will trigger an error in the future. Either don't modify nodes after running them or create a new session.\n"
     ]
    },
    {
     "name": "stdout",
     "output_type": "stream",
     "text": [
      "seed=2 || fold=0\n"
     ]
    },
    {
     "name": "stderr",
     "output_type": "stream",
     "text": [
      "2024-12-10 18:11:41.486713: W tensorflow/c/c_api.cc:305] Operation '{name:'debiased_classifier_2_0/debiased_classifier_2_0/classifier_model/b2/Adam_1/Assign' id:265 op device:{requested: '', assigned: ''} def:{{{node debiased_classifier_2_0/debiased_classifier_2_0/classifier_model/b2/Adam_1/Assign}} = AssignVariableOp[_has_manual_control_dependencies=true, dtype=DT_FLOAT, validate_shape=false](debiased_classifier_2_0/debiased_classifier_2_0/classifier_model/b2/Adam_1, debiased_classifier_2_0/debiased_classifier_2_0/classifier_model/b2/Adam_1/Initializer/zeros)}}' was changed by setting attribute after it was run by a session. This mutation will have no effect, and will trigger an error in the future. Either don't modify nodes after running them or create a new session.\n"
     ]
    },
    {
     "name": "stdout",
     "output_type": "stream",
     "text": [
      "seed=2 || fold=1\n"
     ]
    },
    {
     "name": "stderr",
     "output_type": "stream",
     "text": [
      "2024-12-10 18:11:42.702974: W tensorflow/c/c_api.cc:305] Operation '{name:'debiased_classifier_2_1/debiased_classifier_2_1/classifier_model/b2/Adam_1/Assign' id:265 op device:{requested: '', assigned: ''} def:{{{node debiased_classifier_2_1/debiased_classifier_2_1/classifier_model/b2/Adam_1/Assign}} = AssignVariableOp[_has_manual_control_dependencies=true, dtype=DT_FLOAT, validate_shape=false](debiased_classifier_2_1/debiased_classifier_2_1/classifier_model/b2/Adam_1, debiased_classifier_2_1/debiased_classifier_2_1/classifier_model/b2/Adam_1/Initializer/zeros)}}' was changed by setting attribute after it was run by a session. This mutation will have no effect, and will trigger an error in the future. Either don't modify nodes after running them or create a new session.\n"
     ]
    },
    {
     "name": "stdout",
     "output_type": "stream",
     "text": [
      "seed=2 || fold=2\n"
     ]
    },
    {
     "name": "stderr",
     "output_type": "stream",
     "text": [
      "2024-12-10 18:11:43.943834: W tensorflow/c/c_api.cc:305] Operation '{name:'debiased_classifier_2_2/debiased_classifier_2_2/classifier_model/b2/Adam_1/Assign' id:265 op device:{requested: '', assigned: ''} def:{{{node debiased_classifier_2_2/debiased_classifier_2_2/classifier_model/b2/Adam_1/Assign}} = AssignVariableOp[_has_manual_control_dependencies=true, dtype=DT_FLOAT, validate_shape=false](debiased_classifier_2_2/debiased_classifier_2_2/classifier_model/b2/Adam_1, debiased_classifier_2_2/debiased_classifier_2_2/classifier_model/b2/Adam_1/Initializer/zeros)}}' was changed by setting attribute after it was run by a session. This mutation will have no effect, and will trigger an error in the future. Either don't modify nodes after running them or create a new session.\n"
     ]
    },
    {
     "name": "stdout",
     "output_type": "stream",
     "text": [
      "seed=2 || fold=3\n"
     ]
    },
    {
     "name": "stderr",
     "output_type": "stream",
     "text": [
      "2024-12-10 18:11:45.170790: W tensorflow/c/c_api.cc:305] Operation '{name:'debiased_classifier_2_3/debiased_classifier_2_3/classifier_model/b2/Adam_1/Assign' id:265 op device:{requested: '', assigned: ''} def:{{{node debiased_classifier_2_3/debiased_classifier_2_3/classifier_model/b2/Adam_1/Assign}} = AssignVariableOp[_has_manual_control_dependencies=true, dtype=DT_FLOAT, validate_shape=false](debiased_classifier_2_3/debiased_classifier_2_3/classifier_model/b2/Adam_1, debiased_classifier_2_3/debiased_classifier_2_3/classifier_model/b2/Adam_1/Initializer/zeros)}}' was changed by setting attribute after it was run by a session. This mutation will have no effect, and will trigger an error in the future. Either don't modify nodes after running them or create a new session.\n"
     ]
    },
    {
     "name": "stdout",
     "output_type": "stream",
     "text": [
      "seed=2 || fold=4\n"
     ]
    },
    {
     "name": "stderr",
     "output_type": "stream",
     "text": [
      "2024-12-10 18:11:46.351168: W tensorflow/c/c_api.cc:305] Operation '{name:'debiased_classifier_2_4/debiased_classifier_2_4/classifier_model/b2/Adam_1/Assign' id:265 op device:{requested: '', assigned: ''} def:{{{node debiased_classifier_2_4/debiased_classifier_2_4/classifier_model/b2/Adam_1/Assign}} = AssignVariableOp[_has_manual_control_dependencies=true, dtype=DT_FLOAT, validate_shape=false](debiased_classifier_2_4/debiased_classifier_2_4/classifier_model/b2/Adam_1, debiased_classifier_2_4/debiased_classifier_2_4/classifier_model/b2/Adam_1/Initializer/zeros)}}' was changed by setting attribute after it was run by a session. This mutation will have no effect, and will trigger an error in the future. Either don't modify nodes after running them or create a new session.\n"
     ]
    },
    {
     "name": "stdout",
     "output_type": "stream",
     "text": [
      "seed=2 || fold=5\n"
     ]
    },
    {
     "name": "stderr",
     "output_type": "stream",
     "text": [
      "2024-12-10 18:11:47.580370: W tensorflow/c/c_api.cc:305] Operation '{name:'debiased_classifier_2_5/debiased_classifier_2_5/classifier_model/b2/Adam_1/Assign' id:265 op device:{requested: '', assigned: ''} def:{{{node debiased_classifier_2_5/debiased_classifier_2_5/classifier_model/b2/Adam_1/Assign}} = AssignVariableOp[_has_manual_control_dependencies=true, dtype=DT_FLOAT, validate_shape=false](debiased_classifier_2_5/debiased_classifier_2_5/classifier_model/b2/Adam_1, debiased_classifier_2_5/debiased_classifier_2_5/classifier_model/b2/Adam_1/Initializer/zeros)}}' was changed by setting attribute after it was run by a session. This mutation will have no effect, and will trigger an error in the future. Either don't modify nodes after running them or create a new session.\n"
     ]
    },
    {
     "name": "stdout",
     "output_type": "stream",
     "text": [
      "seed=2 || fold=6\n"
     ]
    },
    {
     "name": "stderr",
     "output_type": "stream",
     "text": [
      "2024-12-10 18:11:48.811460: W tensorflow/c/c_api.cc:305] Operation '{name:'debiased_classifier_2_6/debiased_classifier_2_6/classifier_model/b2/Adam_1/Assign' id:265 op device:{requested: '', assigned: ''} def:{{{node debiased_classifier_2_6/debiased_classifier_2_6/classifier_model/b2/Adam_1/Assign}} = AssignVariableOp[_has_manual_control_dependencies=true, dtype=DT_FLOAT, validate_shape=false](debiased_classifier_2_6/debiased_classifier_2_6/classifier_model/b2/Adam_1, debiased_classifier_2_6/debiased_classifier_2_6/classifier_model/b2/Adam_1/Initializer/zeros)}}' was changed by setting attribute after it was run by a session. This mutation will have no effect, and will trigger an error in the future. Either don't modify nodes after running them or create a new session.\n"
     ]
    },
    {
     "name": "stdout",
     "output_type": "stream",
     "text": [
      "seed=2 || fold=7\n"
     ]
    },
    {
     "name": "stderr",
     "output_type": "stream",
     "text": [
      "2024-12-10 18:11:50.077537: W tensorflow/c/c_api.cc:305] Operation '{name:'debiased_classifier_2_7/debiased_classifier_2_7/classifier_model/b2/Adam_1/Assign' id:265 op device:{requested: '', assigned: ''} def:{{{node debiased_classifier_2_7/debiased_classifier_2_7/classifier_model/b2/Adam_1/Assign}} = AssignVariableOp[_has_manual_control_dependencies=true, dtype=DT_FLOAT, validate_shape=false](debiased_classifier_2_7/debiased_classifier_2_7/classifier_model/b2/Adam_1, debiased_classifier_2_7/debiased_classifier_2_7/classifier_model/b2/Adam_1/Initializer/zeros)}}' was changed by setting attribute after it was run by a session. This mutation will have no effect, and will trigger an error in the future. Either don't modify nodes after running them or create a new session.\n"
     ]
    },
    {
     "name": "stdout",
     "output_type": "stream",
     "text": [
      "seed=2 || fold=8\n"
     ]
    },
    {
     "name": "stderr",
     "output_type": "stream",
     "text": [
      "2024-12-10 18:11:51.335387: W tensorflow/c/c_api.cc:305] Operation '{name:'debiased_classifier_2_8/debiased_classifier_2_8/classifier_model/b2/Adam_1/Assign' id:265 op device:{requested: '', assigned: ''} def:{{{node debiased_classifier_2_8/debiased_classifier_2_8/classifier_model/b2/Adam_1/Assign}} = AssignVariableOp[_has_manual_control_dependencies=true, dtype=DT_FLOAT, validate_shape=false](debiased_classifier_2_8/debiased_classifier_2_8/classifier_model/b2/Adam_1, debiased_classifier_2_8/debiased_classifier_2_8/classifier_model/b2/Adam_1/Initializer/zeros)}}' was changed by setting attribute after it was run by a session. This mutation will have no effect, and will trigger an error in the future. Either don't modify nodes after running them or create a new session.\n"
     ]
    },
    {
     "name": "stdout",
     "output_type": "stream",
     "text": [
      "seed=2 || fold=9\n"
     ]
    },
    {
     "name": "stderr",
     "output_type": "stream",
     "text": [
      "2024-12-10 18:11:52.741574: W tensorflow/c/c_api.cc:305] Operation '{name:'debiased_classifier_2_9/debiased_classifier_2_9/classifier_model/b2/Adam_1/Assign' id:265 op device:{requested: '', assigned: ''} def:{{{node debiased_classifier_2_9/debiased_classifier_2_9/classifier_model/b2/Adam_1/Assign}} = AssignVariableOp[_has_manual_control_dependencies=true, dtype=DT_FLOAT, validate_shape=false](debiased_classifier_2_9/debiased_classifier_2_9/classifier_model/b2/Adam_1, debiased_classifier_2_9/debiased_classifier_2_9/classifier_model/b2/Adam_1/Initializer/zeros)}}' was changed by setting attribute after it was run by a session. This mutation will have no effect, and will trigger an error in the future. Either don't modify nodes after running them or create a new session.\n"
     ]
    }
   ],
   "source": [
    "results = cross_validate_seeds(\n",
    "    model_class,\n",
    "    model_kwargs,\n",
    "    dataset_orig,\n",
    "    seeds=3,\n",
    "    n_folds=10,\n",
    ")"
   ]
  },
  {
   "cell_type": "code",
   "execution_count": 9,
   "id": "ac515715-373e-4375-bfba-c351bf09c340",
   "metadata": {},
   "outputs": [],
   "source": [
    "import pickle\n",
    "\n",
    "with open(\"./data/adjuster_group_cv_results.pickle\", \"wb\") as path:\n",
    "    pickle.dump(results, path, protocol=pickle.HIGHEST_PROTOCOL)"
   ]
  },
  {
   "cell_type": "code",
   "execution_count": 10,
   "id": "f0f6d54e-b6c6-4ab9-bf7a-9303c9e891a7",
   "metadata": {},
   "outputs": [
    {
     "data": {
      "text/html": [
       "<div>\n",
       "<style scoped>\n",
       "    .dataframe tbody tr th:only-of-type {\n",
       "        vertical-align: middle;\n",
       "    }\n",
       "\n",
       "    .dataframe tbody tr th {\n",
       "        vertical-align: top;\n",
       "    }\n",
       "\n",
       "    .dataframe thead th {\n",
       "        text-align: right;\n",
       "    }\n",
       "</style>\n",
       "<table border=\"1\" class=\"dataframe\">\n",
       "  <thead>\n",
       "    <tr style=\"text-align: right;\">\n",
       "      <th></th>\n",
       "      <th></th>\n",
       "      <th>Test Set: mean outcomes difference</th>\n",
       "      <th>Test Set: Classification accuracy</th>\n",
       "      <th>Test Set: Disparate impact</th>\n",
       "      <th>Test Set: Average odds difference</th>\n",
       "    </tr>\n",
       "  </thead>\n",
       "  <tbody>\n",
       "    <tr>\n",
       "      <th rowspan=\"2\" valign=\"top\">Seed 0</th>\n",
       "      <th>to_debias=True</th>\n",
       "      <td>-0.1388 (-0.2802,0.0504)</td>\n",
       "      <td>0.7100 (0.6268,0.7678)</td>\n",
       "      <td>0.7464 (0.6279,0.9049)</td>\n",
       "      <td>-0.2796 (-0.4253,-0.1024)</td>\n",
       "    </tr>\n",
       "    <tr>\n",
       "      <th>to_debias=False</th>\n",
       "      <td>-0.1388 (-0.2802,0.0504)</td>\n",
       "      <td>0.7070 (0.6268,0.7678)</td>\n",
       "      <td>0.7287 (0.6279,0.8873)</td>\n",
       "      <td>-0.2912 (-0.4253,-0.1024)</td>\n",
       "    </tr>\n",
       "    <tr>\n",
       "      <th rowspan=\"2\" valign=\"top\">Seed 1</th>\n",
       "      <th>to_debias=True</th>\n",
       "      <td>-0.1554 (-0.3321,-0.0244)</td>\n",
       "      <td>0.7080 (0.6390,0.7600)</td>\n",
       "      <td>0.7374 (0.6111,0.9274)</td>\n",
       "      <td>-0.2888 (-0.4803,-0.0913)</td>\n",
       "    </tr>\n",
       "    <tr>\n",
       "      <th>to_debias=False</th>\n",
       "      <td>-0.1554 (-0.3321,-0.0244)</td>\n",
       "      <td>0.7070 (0.6390,0.7600)</td>\n",
       "      <td>0.7229 (0.6111,0.9259)</td>\n",
       "      <td>-0.3023 (-0.4803,-0.0929)</td>\n",
       "    </tr>\n",
       "    <tr>\n",
       "      <th rowspan=\"2\" valign=\"top\">Seed 2</th>\n",
       "      <th>to_debias=True</th>\n",
       "      <td>-0.1534 (-0.3167,-0.0148)</td>\n",
       "      <td>0.7110 (0.6545,0.7855)</td>\n",
       "      <td>0.7574 (0.6141,0.8750)</td>\n",
       "      <td>-0.2575 (-0.4187,-0.1483)</td>\n",
       "    </tr>\n",
       "    <tr>\n",
       "      <th>to_debias=False</th>\n",
       "      <td>-0.1534 (-0.3167,-0.0148)</td>\n",
       "      <td>0.7090 (0.6545,0.7933)</td>\n",
       "      <td>0.7349 (0.6141,0.8609)</td>\n",
       "      <td>-0.2814 (-0.4187,-0.1483)</td>\n",
       "    </tr>\n",
       "  </tbody>\n",
       "</table>\n",
       "</div>"
      ],
      "text/plain": [
       "                       Test Set: mean outcomes difference  \\\n",
       "Seed 0 to_debias=True            -0.1388 (-0.2802,0.0504)   \n",
       "       to_debias=False           -0.1388 (-0.2802,0.0504)   \n",
       "Seed 1 to_debias=True           -0.1554 (-0.3321,-0.0244)   \n",
       "       to_debias=False          -0.1554 (-0.3321,-0.0244)   \n",
       "Seed 2 to_debias=True           -0.1534 (-0.3167,-0.0148)   \n",
       "       to_debias=False          -0.1534 (-0.3167,-0.0148)   \n",
       "\n",
       "                       Test Set: Classification accuracy  \\\n",
       "Seed 0 to_debias=True             0.7100 (0.6268,0.7678)   \n",
       "       to_debias=False            0.7070 (0.6268,0.7678)   \n",
       "Seed 1 to_debias=True             0.7080 (0.6390,0.7600)   \n",
       "       to_debias=False            0.7070 (0.6390,0.7600)   \n",
       "Seed 2 to_debias=True             0.7110 (0.6545,0.7855)   \n",
       "       to_debias=False            0.7090 (0.6545,0.7933)   \n",
       "\n",
       "                       Test Set: Disparate impact  \\\n",
       "Seed 0 to_debias=True      0.7464 (0.6279,0.9049)   \n",
       "       to_debias=False     0.7287 (0.6279,0.8873)   \n",
       "Seed 1 to_debias=True      0.7374 (0.6111,0.9274)   \n",
       "       to_debias=False     0.7229 (0.6111,0.9259)   \n",
       "Seed 2 to_debias=True      0.7574 (0.6141,0.8750)   \n",
       "       to_debias=False     0.7349 (0.6141,0.8609)   \n",
       "\n",
       "                       Test Set: Average odds difference  \n",
       "Seed 0 to_debias=True          -0.2796 (-0.4253,-0.1024)  \n",
       "       to_debias=False         -0.2912 (-0.4253,-0.1024)  \n",
       "Seed 1 to_debias=True          -0.2888 (-0.4803,-0.0913)  \n",
       "       to_debias=False         -0.3023 (-0.4803,-0.0929)  \n",
       "Seed 2 to_debias=True          -0.2575 (-0.4187,-0.1483)  \n",
       "       to_debias=False         -0.2814 (-0.4187,-0.1483)  "
      ]
     },
     "execution_count": 10,
     "metadata": {},
     "output_type": "execute_result"
    }
   ],
   "source": [
    "aggs = {}\n",
    "for seed, res_dict in results.items():\n",
    "    aggs[seed] = {}\n",
    "    for to_debias, fold_res_dict in res_dict.items():\n",
    "        res = pd.DataFrame(fold_res_dict).quantile([0.025, 0.975]).T\n",
    "        res[\"means\"] = pd.DataFrame(fold_res_dict).mean()\n",
    "        aggs[seed][to_debias] = res.apply(\n",
    "            lambda x: f\"{x.means:.4f} ({x[0.025]:.4f},{x[0.975]:.4f})\", axis=1\n",
    "        )\n",
    "\n",
    "reform = {\n",
    "    (outerKey, innerKey): values\n",
    "    for outerKey, innerDict in aggs.items()\n",
    "    for innerKey, values in innerDict.items()\n",
    "}\n",
    "pd.DataFrame(reform).T"
   ]
  },
  {
   "cell_type": "markdown",
   "id": "5ce3e8fd-af1a-4af3-9385-cf961c315102",
   "metadata": {},
   "source": [
    "AD"
   ]
  },
  {
   "cell_type": "code",
   "execution_count": 11,
   "id": "6d43353e-c3d3-4093-a180-81aad160953d",
   "metadata": {},
   "outputs": [],
   "source": [
    "model_class = AdversarialDebiasing\n",
    "model_kwargs = {\n",
    "    \"privileged_groups\": privileged_groups,\n",
    "    \"unprivileged_groups\": unprivileged_groups,\n",
    "    \"scope_name\": \"adversarial_debiased_classifier\",\n",
    "    \"adversary_loss_weight\": 0.01,\n",
    "    \"classifier_num_hidden_units\": 100,\n",
    "    \"seed\": 1234,\n",
    "}"
   ]
  },
  {
   "cell_type": "code",
   "execution_count": 12,
   "id": "ff72dd54-832a-4600-b630-603643e7e075",
   "metadata": {
    "scrolled": true
   },
   "outputs": [
    {
     "name": "stdout",
     "output_type": "stream",
     "text": [
      "\n",
      "Seed 1/3\n",
      "seed=0 || fold=0\n",
      "seed=0 || fold=1\n",
      "seed=0 || fold=2\n",
      "seed=0 || fold=3\n",
      "seed=0 || fold=4\n",
      "seed=0 || fold=5\n",
      "seed=0 || fold=6\n",
      "seed=0 || fold=7\n",
      "seed=0 || fold=8\n",
      "seed=0 || fold=9\n",
      "seed=0 || fold=0\n",
      "seed=0 || fold=1\n",
      "seed=0 || fold=2\n",
      "seed=0 || fold=3\n",
      "seed=0 || fold=4\n",
      "seed=0 || fold=5\n",
      "seed=0 || fold=6\n",
      "seed=0 || fold=7\n",
      "seed=0 || fold=8\n",
      "seed=0 || fold=9\n",
      "\n",
      "Seed 2/3\n",
      "seed=1 || fold=0\n",
      "seed=1 || fold=1\n",
      "seed=1 || fold=2\n",
      "seed=1 || fold=3\n",
      "seed=1 || fold=4\n",
      "seed=1 || fold=5\n",
      "seed=1 || fold=6\n",
      "seed=1 || fold=7\n",
      "seed=1 || fold=8\n",
      "seed=1 || fold=9\n",
      "seed=1 || fold=0\n",
      "seed=1 || fold=1\n",
      "seed=1 || fold=2\n",
      "seed=1 || fold=3\n",
      "seed=1 || fold=4\n",
      "seed=1 || fold=5\n",
      "seed=1 || fold=6\n",
      "seed=1 || fold=7\n",
      "seed=1 || fold=8\n",
      "seed=1 || fold=9\n",
      "\n",
      "Seed 3/3\n",
      "seed=2 || fold=0\n",
      "seed=2 || fold=1\n",
      "seed=2 || fold=2\n",
      "seed=2 || fold=3\n",
      "seed=2 || fold=4\n",
      "seed=2 || fold=5\n",
      "seed=2 || fold=6\n",
      "seed=2 || fold=7\n",
      "seed=2 || fold=8\n",
      "seed=2 || fold=9\n",
      "seed=2 || fold=0\n",
      "seed=2 || fold=1\n",
      "seed=2 || fold=2\n",
      "seed=2 || fold=3\n",
      "seed=2 || fold=4\n",
      "seed=2 || fold=5\n",
      "seed=2 || fold=6\n",
      "seed=2 || fold=7\n",
      "seed=2 || fold=8\n",
      "seed=2 || fold=9\n"
     ]
    }
   ],
   "source": [
    "results = cross_validate_seeds(\n",
    "    model_class,\n",
    "    model_kwargs,\n",
    "    dataset_orig,\n",
    "    seeds=3,\n",
    "    n_folds=10,\n",
    ")"
   ]
  },
  {
   "cell_type": "code",
   "execution_count": 13,
   "id": "9b5d194e-86a2-49a1-9a0d-100cd333dc54",
   "metadata": {
    "jupyter": {
     "source_hidden": true
    }
   },
   "outputs": [],
   "source": [
    "import pickle\n",
    "\n",
    "with open(\"./data/ad_group_cv_results.pickle\", \"wb\") as path:\n",
    "    pickle.dump(results, path, protocol=pickle.HIGHEST_PROTOCOL)"
   ]
  },
  {
   "cell_type": "code",
   "execution_count": 14,
   "id": "5b0bddb0-96c5-4e83-9c50-3b1bc1f08f6b",
   "metadata": {
    "jupyter": {
     "source_hidden": true
    }
   },
   "outputs": [
    {
     "data": {
      "text/html": [
       "<div>\n",
       "<style scoped>\n",
       "    .dataframe tbody tr th:only-of-type {\n",
       "        vertical-align: middle;\n",
       "    }\n",
       "\n",
       "    .dataframe tbody tr th {\n",
       "        vertical-align: top;\n",
       "    }\n",
       "\n",
       "    .dataframe thead th {\n",
       "        text-align: right;\n",
       "    }\n",
       "</style>\n",
       "<table border=\"1\" class=\"dataframe\">\n",
       "  <thead>\n",
       "    <tr style=\"text-align: right;\">\n",
       "      <th></th>\n",
       "      <th></th>\n",
       "      <th>Test Set: mean outcomes difference</th>\n",
       "      <th>Test Set: Classification accuracy</th>\n",
       "      <th>Test Set: Disparate impact</th>\n",
       "      <th>Test Set: Average odds difference</th>\n",
       "    </tr>\n",
       "  </thead>\n",
       "  <tbody>\n",
       "    <tr>\n",
       "      <th rowspan=\"2\" valign=\"top\">Seed 0</th>\n",
       "      <th>to_debias=True</th>\n",
       "      <td>-0.1388 (-0.2802,0.0504)</td>\n",
       "      <td>0.6040 (0.5258,0.6688)</td>\n",
       "      <td>1.3837 (0.7824,2.0300)</td>\n",
       "      <td>0.2274 (-0.1901,0.5326)</td>\n",
       "    </tr>\n",
       "    <tr>\n",
       "      <th>to_debias=False</th>\n",
       "      <td>-0.1388 (-0.2802,0.0504)</td>\n",
       "      <td>0.7100 (0.6268,0.7678)</td>\n",
       "      <td>0.7464 (0.6279,0.9049)</td>\n",
       "      <td>-0.2796 (-0.4253,-0.1024)</td>\n",
       "    </tr>\n",
       "    <tr>\n",
       "      <th rowspan=\"2\" valign=\"top\">Seed 1</th>\n",
       "      <th>to_debias=True</th>\n",
       "      <td>-0.1554 (-0.3321,-0.0244)</td>\n",
       "      <td>0.6130 (0.5490,0.7155)</td>\n",
       "      <td>1.4211 (0.7195,1.9602)</td>\n",
       "      <td>0.2474 (-0.3515,0.5524)</td>\n",
       "    </tr>\n",
       "    <tr>\n",
       "      <th>to_debias=False</th>\n",
       "      <td>-0.1554 (-0.3321,-0.0244)</td>\n",
       "      <td>0.7070 (0.6390,0.7600)</td>\n",
       "      <td>0.7229 (0.6111,0.9259)</td>\n",
       "      <td>-0.3023 (-0.4803,-0.0929)</td>\n",
       "    </tr>\n",
       "    <tr>\n",
       "      <th rowspan=\"2\" valign=\"top\">Seed 2</th>\n",
       "      <th>to_debias=True</th>\n",
       "      <td>-0.1534 (-0.3167,-0.0148)</td>\n",
       "      <td>0.6260 (0.5545,0.7355)</td>\n",
       "      <td>1.2825 (0.9149,1.8939)</td>\n",
       "      <td>0.1875 (-0.0496,0.5128)</td>\n",
       "    </tr>\n",
       "    <tr>\n",
       "      <th>to_debias=False</th>\n",
       "      <td>-0.1534 (-0.3167,-0.0148)</td>\n",
       "      <td>0.7070 (0.6545,0.7855)</td>\n",
       "      <td>0.7402 (0.6141,0.8750)</td>\n",
       "      <td>-0.2736 (-0.4187,-0.1483)</td>\n",
       "    </tr>\n",
       "  </tbody>\n",
       "</table>\n",
       "</div>"
      ],
      "text/plain": [
       "                       Test Set: mean outcomes difference  \\\n",
       "Seed 0 to_debias=True            -0.1388 (-0.2802,0.0504)   \n",
       "       to_debias=False           -0.1388 (-0.2802,0.0504)   \n",
       "Seed 1 to_debias=True           -0.1554 (-0.3321,-0.0244)   \n",
       "       to_debias=False          -0.1554 (-0.3321,-0.0244)   \n",
       "Seed 2 to_debias=True           -0.1534 (-0.3167,-0.0148)   \n",
       "       to_debias=False          -0.1534 (-0.3167,-0.0148)   \n",
       "\n",
       "                       Test Set: Classification accuracy  \\\n",
       "Seed 0 to_debias=True             0.6040 (0.5258,0.6688)   \n",
       "       to_debias=False            0.7100 (0.6268,0.7678)   \n",
       "Seed 1 to_debias=True             0.6130 (0.5490,0.7155)   \n",
       "       to_debias=False            0.7070 (0.6390,0.7600)   \n",
       "Seed 2 to_debias=True             0.6260 (0.5545,0.7355)   \n",
       "       to_debias=False            0.7070 (0.6545,0.7855)   \n",
       "\n",
       "                       Test Set: Disparate impact  \\\n",
       "Seed 0 to_debias=True      1.3837 (0.7824,2.0300)   \n",
       "       to_debias=False     0.7464 (0.6279,0.9049)   \n",
       "Seed 1 to_debias=True      1.4211 (0.7195,1.9602)   \n",
       "       to_debias=False     0.7229 (0.6111,0.9259)   \n",
       "Seed 2 to_debias=True      1.2825 (0.9149,1.8939)   \n",
       "       to_debias=False     0.7402 (0.6141,0.8750)   \n",
       "\n",
       "                       Test Set: Average odds difference  \n",
       "Seed 0 to_debias=True            0.2274 (-0.1901,0.5326)  \n",
       "       to_debias=False         -0.2796 (-0.4253,-0.1024)  \n",
       "Seed 1 to_debias=True            0.2474 (-0.3515,0.5524)  \n",
       "       to_debias=False         -0.3023 (-0.4803,-0.0929)  \n",
       "Seed 2 to_debias=True            0.1875 (-0.0496,0.5128)  \n",
       "       to_debias=False         -0.2736 (-0.4187,-0.1483)  "
      ]
     },
     "execution_count": 14,
     "metadata": {},
     "output_type": "execute_result"
    }
   ],
   "source": [
    "aggs = {}\n",
    "for seed, res_dict in results.items():\n",
    "    aggs[seed] = {}\n",
    "    for to_debias, fold_res_dict in res_dict.items():\n",
    "        res = pd.DataFrame(fold_res_dict).quantile([0.025, 0.975]).T\n",
    "        res[\"means\"] = pd.DataFrame(fold_res_dict).mean()\n",
    "        aggs[seed][to_debias] = res.apply(\n",
    "            lambda x: f\"{x.means:.4f} ({x[0.025]:.4f},{x[0.975]:.4f})\", axis=1\n",
    "        )\n",
    "\n",
    "reform = {\n",
    "    (outerKey, innerKey): values\n",
    "    for outerKey, innerDict in aggs.items()\n",
    "    for innerKey, values in innerDict.items()\n",
    "}\n",
    "pd.DataFrame(reform).T"
   ]
  }
 ],
 "metadata": {
  "kernelspec": {
   "display_name": "aif360",
   "language": "python",
   "name": "aif360"
  },
  "language_info": {
   "codemirror_mode": {
    "name": "ipython",
    "version": 3
   },
   "file_extension": ".py",
   "mimetype": "text/x-python",
   "name": "python",
   "nbconvert_exporter": "python",
   "pygments_lexer": "ipython3",
   "version": "3.11.10"
  }
 },
 "nbformat": 4,
 "nbformat_minor": 5
}
