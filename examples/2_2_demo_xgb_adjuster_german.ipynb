{
 "cells": [
  {
   "cell_type": "markdown",
   "id": "4c1ceb52-54f2-4ec2-84b6-0f957a821a61",
   "metadata": {},
   "source": [
    "#### This notebook demonstrates the use of adversarial debiasing algorithm to learn a fair classifier.\n",
    "Adversarial debiasing [1] is an in-processing technique that learns a classifier to maximize prediction accuracy and simultaneously reduce an adversary's ability to determine the protected attribute from the predictions. This approach leads to a fair classifier as the predictions cannot carry any group discrimination information that the adversary can exploit. We will see how to use this algorithm for learning models with and without fairness constraints and apply them on the Adult dataset."
   ]
  },
  {
   "cell_type": "code",
   "execution_count": 1,
   "id": "251820e6-9521-487d-a857-e84fde309fbe",
   "metadata": {},
   "outputs": [],
   "source": [
    "%load_ext autoreload\n",
    "%autoreload 2"
   ]
  },
  {
   "cell_type": "code",
<<<<<<< HEAD
   "execution_count": 2,
=======
   "execution_count": 3,
>>>>>>> origin/main
   "id": "9880e0d5-9cbd-4b8e-aa72-712efcfb25ac",
   "metadata": {
    "scrolled": true
   },
   "outputs": [
    {
     "name": "stderr",
     "output_type": "stream",
     "text": [
      "2025-01-15 21:37:56.950291: I tensorflow/core/util/port.cc:111] oneDNN custom operations are on. You may see slightly different numerical results due to floating-point round-off errors from different computation orders. To turn them off, set the environment variable `TF_ENABLE_ONEDNN_OPTS=0`.\n",
      "2025-01-15 21:37:56.952356: I tensorflow/tsl/cuda/cudart_stub.cc:28] Could not find cuda drivers on your machine, GPU will not be used.\n",
      "2025-01-15 21:37:56.982360: E tensorflow/compiler/xla/stream_executor/cuda/cuda_dnn.cc:9342] Unable to register cuDNN factory: Attempting to register factory for plugin cuDNN when one has already been registered\n",
      "2025-01-15 21:37:56.982385: E tensorflow/compiler/xla/stream_executor/cuda/cuda_fft.cc:609] Unable to register cuFFT factory: Attempting to register factory for plugin cuFFT when one has already been registered\n",
      "2025-01-15 21:37:56.982403: E tensorflow/compiler/xla/stream_executor/cuda/cuda_blas.cc:1518] Unable to register cuBLAS factory: Attempting to register factory for plugin cuBLAS when one has already been registered\n",
      "2025-01-15 21:37:56.988196: I tensorflow/tsl/cuda/cudart_stub.cc:28] Could not find cuda drivers on your machine, GPU will not be used.\n",
      "2025-01-15 21:37:56.988966: I tensorflow/core/platform/cpu_feature_guard.cc:182] This TensorFlow binary is optimized to use available CPU instructions in performance-critical operations.\n",
      "To enable the following instructions: AVX2 AVX512F AVX512_VNNI AVX512_BF16 AVX_VNNI AMX_TILE AMX_INT8 AMX_BF16 FMA, in other operations, rebuild TensorFlow with the appropriate compiler flags.\n",
      "2025-01-15 21:37:57.588488: W tensorflow/compiler/tf2tensorrt/utils/py_utils.cc:38] TF-TRT Warning: Could not find TensorRT\n"
     ]
    }
   ],
   "source": [
    "from aif360.algorithms.inprocessing.xgb_fairness_adjuster import XGBFairnessAdjuster\n",
    "from aif360.algorithms.preprocessing.optim_preproc_helpers.data_preproc_functions import (\n",
    "    load_preproc_data_german,\n",
    ")\n",
    "from aif360.metrics import BinaryLabelDatasetMetric, ClassificationMetric\n",
    "from IPython.display import Markdown, display"
   ]
  },
  {
   "cell_type": "markdown",
   "id": "97f4683b-2336-4563-a90e-ee7dae7b6fe2",
   "metadata": {},
   "source": [
    "#### Load dataset and set options"
   ]
  },
  {
   "cell_type": "code",
   "execution_count": 4,
   "id": "a4fe68c4-6f1b-455a-850d-507c53718838",
   "metadata": {},
   "outputs": [],
   "source": [
    "dataset_orig = load_preproc_data_german([\"age\", \"sex\"])\n",
    "privileged_groups = [{\"age\": 1}]\n",
    "unprivileged_groups = [{\"age\": 0}]\n",
    "\n",
    "dataset_orig_train, dataset_orig_test = dataset_orig.split(\n",
    "    [0.7], shuffle=True, seed=1234\n",
    ")"
   ]
  },
  {
   "cell_type": "code",
   "execution_count": 6,
   "id": "1ed3b31e-b6b3-46b9-93d8-d82b05bbf8dc",
   "metadata": {},
   "outputs": [
    {
     "data": {
      "text/markdown": [
       "#### Training Dataset shape"
      ],
      "text/plain": [
       "<IPython.core.display.Markdown object>"
      ]
     },
     "metadata": {},
     "output_type": "display_data"
    },
    {
     "name": "stdout",
     "output_type": "stream",
     "text": [
      "(700, 11)\n"
     ]
    },
    {
     "data": {
      "text/markdown": [
       "#### Favorable and unfavorable labels"
      ],
      "text/plain": [
       "<IPython.core.display.Markdown object>"
      ]
     },
     "metadata": {},
     "output_type": "display_data"
    },
    {
     "name": "stdout",
     "output_type": "stream",
     "text": [
      "1.0 2.0\n"
     ]
    },
    {
     "data": {
      "text/markdown": [
       "#### Protected attribute names"
      ],
      "text/plain": [
       "<IPython.core.display.Markdown object>"
      ]
     },
     "metadata": {},
     "output_type": "display_data"
    },
    {
     "name": "stdout",
     "output_type": "stream",
     "text": [
      "['age', 'sex']\n"
     ]
    },
    {
     "data": {
      "text/markdown": [
       "#### Privileged and unprivileged protected attribute values"
      ],
      "text/plain": [
       "<IPython.core.display.Markdown object>"
      ]
     },
     "metadata": {},
     "output_type": "display_data"
    },
    {
     "name": "stdout",
     "output_type": "stream",
     "text": [
      "[array([1.]), array([1.])] [array([0.]), array([0.])]\n"
     ]
    },
    {
     "data": {
      "text/markdown": [
       "#### Dataset feature names"
      ],
      "text/plain": [
       "<IPython.core.display.Markdown object>"
      ]
     },
     "metadata": {},
     "output_type": "display_data"
    },
    {
     "name": "stdout",
     "output_type": "stream",
     "text": [
      "['age', 'sex', 'credit_history=Delay', 'credit_history=None/Paid', 'credit_history=Other', 'savings=500+', 'savings=<500', 'savings=Unknown/None', 'employment=1-4 years', 'employment=4+ years', 'employment=Unemployed']\n"
     ]
    }
   ],
   "source": [
    "# print out some labels, names, etc.\n",
    "display(Markdown(\"#### Training Dataset shape\"))\n",
    "print(dataset_orig_train.features.shape)\n",
    "display(Markdown(\"#### Favorable and unfavorable labels\"))\n",
    "print(dataset_orig_train.favorable_label, dataset_orig_train.unfavorable_label)\n",
    "display(Markdown(\"#### Protected attribute names\"))\n",
    "print(dataset_orig_train.protected_attribute_names)\n",
    "display(Markdown(\"#### Privileged and unprivileged protected attribute values\"))\n",
    "print(\n",
    "    dataset_orig_train.privileged_protected_attributes,\n",
    "    dataset_orig_train.unprivileged_protected_attributes,\n",
    ")\n",
    "display(Markdown(\"#### Dataset feature names\"))\n",
    "print(dataset_orig_train.feature_names)"
   ]
  },
  {
   "cell_type": "markdown",
   "id": "cd8ec93b-140e-4f66-af88-005e8fb72dcb",
   "metadata": {},
   "source": [
    "#### Metric for original training data"
   ]
  },
  {
   "cell_type": "code",
   "execution_count": 7,
   "id": "8a4bb1fb-68ec-4045-99b2-9dc84b77191f",
   "metadata": {},
   "outputs": [
    {
     "data": {
      "text/markdown": [
       "#### Original dataset"
      ],
      "text/plain": [
       "<IPython.core.display.Markdown object>"
      ]
     },
     "metadata": {},
     "output_type": "display_data"
    },
    {
     "name": "stdout",
     "output_type": "stream",
     "text": [
      "Overall: Difference in mean outcomes between unprivileged and privileged groups = -0.149448\n"
     ]
    },
    {
     "data": {
      "text/markdown": [
       "#### Original training dataset"
      ],
      "text/plain": [
       "<IPython.core.display.Markdown object>"
      ]
     },
     "metadata": {},
     "output_type": "display_data"
    },
    {
     "name": "stdout",
     "output_type": "stream",
     "text": [
      "Train set: Difference in mean outcomes between unprivileged and privileged groups = -0.135639\n",
      "Test set: Difference in mean outcomes between unprivileged and privileged groups = -0.183895\n"
     ]
    }
   ],
   "source": [
    "# Metric for the original dataset\n",
    "metric_orig = BinaryLabelDatasetMetric(\n",
    "    dataset_orig,\n",
    "    unprivileged_groups=unprivileged_groups,\n",
    "    privileged_groups=privileged_groups,\n",
    ")\n",
    "\n",
    "display(Markdown(\"#### Original dataset\"))\n",
    "print(\n",
    "    \"Overall: Difference in mean outcomes between unprivileged and privileged groups = %f\"\n",
    "    % metric_orig.mean_difference()\n",
    ")\n",
    "# Metric for the training dataset\n",
    "\n",
    "metric_orig_train = BinaryLabelDatasetMetric(\n",
    "    dataset_orig_train,\n",
    "    unprivileged_groups=unprivileged_groups,\n",
    "    privileged_groups=privileged_groups,\n",
    ")\n",
    "display(Markdown(\"#### Original training dataset\"))\n",
    "print(\n",
    "    \"Train set: Difference in mean outcomes between unprivileged and privileged groups = %f\"\n",
    "    % metric_orig_train.mean_difference()\n",
    ")\n",
    "# Metric for the Test dataset\n",
    "\n",
    "metric_orig_test = BinaryLabelDatasetMetric(\n",
    "    dataset_orig_test,\n",
    "    unprivileged_groups=unprivileged_groups,\n",
    "    privileged_groups=privileged_groups,\n",
    ")\n",
    "print(\n",
    "    \"Test set: Difference in mean outcomes between unprivileged and privileged groups = %f\"\n",
    "    % metric_orig_test.mean_difference()\n",
    ")"
   ]
  },
  {
   "cell_type": "markdown",
   "id": "2a16b86d-e757-437c-9a81-7d19b946227e",
   "metadata": {},
   "source": [
    "### Learn plan classifier without debiasing"
   ]
  },
  {
   "cell_type": "code",
<<<<<<< HEAD
   "execution_count": 6,
   "id": "7c960f48",
   "metadata": {},
   "outputs": [],
   "source": [
    "base_settings = {\n",
    "    \"time_budget\": 6000,  # total running time in seconds\n",
    "    \"metric\": \"log_loss\",\n",
    "}     "
   ]
  },
  {
   "cell_type": "code",
   "execution_count": 7,
=======
   "execution_count": 8,
>>>>>>> origin/main
   "id": "e631abf2-4478-44af-8d3c-1b295446e342",
   "metadata": {},
   "outputs": [],
   "source": [
    "from _utils import _XGBFairnessAdjuster\n",
    "\n",
    "plain_model = _XGBFairnessAdjuster(\n",
    "    unprivileged_groups=unprivileged_groups,\n",
    "    privileged_groups=privileged_groups,\n",
    "    seed=1234,\n",
    "    debias=False,\n",
    "    tune_hyperparameters_base=True,\n",
    "    tuning_settings_base=base_settings\n",
    ")"
   ]
  },
  {
   "cell_type": "code",
<<<<<<< HEAD
   "execution_count": 8,
=======
   "execution_count": 9,
>>>>>>> origin/main
   "id": "4e77a704-19c3-4371-affb-9733bf7f0278",
   "metadata": {
    "scrolled": true
   },
   "outputs": [
    {
     "data": {
      "text/plain": [
<<<<<<< HEAD
       "<aif360.algorithms.inprocessing.xgb_fairness_adjuster.XGBFairnessAdjuster at 0x7f55c4648100>"
      ]
     },
     "execution_count": 8,
=======
       "<_utils._XGBFairnessAdjuster at 0x7f55fa003a90>"
      ]
     },
     "execution_count": 9,
>>>>>>> origin/main
     "metadata": {},
     "output_type": "execute_result"
    }
   ],
   "source": [
    "plain_model.fit(dataset_orig_train, test_dataset=dataset_orig_test)"
   ]
  },
  {
   "cell_type": "code",
<<<<<<< HEAD
   "execution_count": 9,
=======
   "execution_count": 10,
>>>>>>> origin/main
   "id": "a0491160-1a05-44c2-8810-09be145ec168",
   "metadata": {},
   "outputs": [],
   "source": [
    "# Apply the plain model to test data\n",
    "dataset_nodebiasing_train = plain_model.predict(dataset_orig_train)\n",
    "dataset_nodebiasing_test = plain_model.predict(dataset_orig_test)"
   ]
  },
  {
   "cell_type": "code",
<<<<<<< HEAD
   "execution_count": 10,
=======
   "execution_count": 11,
>>>>>>> origin/main
   "id": "2ccfbab8-b16a-43ce-9ce5-218cdaaf4de3",
   "metadata": {},
   "outputs": [
    {
     "data": {
      "text/markdown": [
       "#### Plain model - without debiasing - dataset metrics"
      ],
      "text/plain": [
       "<IPython.core.display.Markdown object>"
      ]
     },
     "metadata": {},
     "output_type": "display_data"
    },
    {
     "name": "stdout",
     "output_type": "stream",
     "text": [
      "Train set: Difference in mean outcomes between unprivileged and privileged groups = -0.302326\n",
      "Test set: Difference in mean outcomes between unprivileged and privileged groups = -0.360656\n"
     ]
    },
    {
     "data": {
      "text/markdown": [
       "#### Plain model - without debiasing - classification metrics"
      ],
      "text/plain": [
       "<IPython.core.display.Markdown object>"
      ]
     },
     "metadata": {},
     "output_type": "display_data"
    },
    {
     "name": "stdout",
     "output_type": "stream",
     "text": [
      "Test set: Classification accuracy = 0.736667\n",
      "Test set: Balanced classification accuracy = 0.544733\n",
      "Test set: Disparate impact = 0.639344\n",
      "Test set: Equal opportunity difference = -0.305556\n",
      "Test set: Average odds difference = -0.372778\n",
      "Test set: Theil_index = 0.090103\n"
     ]
    }
   ],
   "source": [
    "# Metrics for the dataset from plain model (without debiasing)\n",
    "display(Markdown(\"#### Plain model - without debiasing - dataset metrics\"))\n",
    "metric_dataset_nodebiasing_train = BinaryLabelDatasetMetric(\n",
    "    dataset_nodebiasing_train,\n",
    "    unprivileged_groups=unprivileged_groups,\n",
    "    privileged_groups=privileged_groups,\n",
    ")\n",
    "\n",
    "print(\n",
    "    \"Train set: Difference in mean outcomes between unprivileged and privileged groups = %f\"\n",
    "    % metric_dataset_nodebiasing_train.mean_difference()\n",
    ")\n",
    "\n",
    "metric_dataset_nodebiasing_test = BinaryLabelDatasetMetric(\n",
    "    dataset_nodebiasing_test,\n",
    "    unprivileged_groups=unprivileged_groups,\n",
    "    privileged_groups=privileged_groups,\n",
    ")\n",
    "\n",
    "print(\n",
    "    \"Test set: Difference in mean outcomes between unprivileged and privileged groups = %f\"\n",
    "    % metric_dataset_nodebiasing_test.mean_difference()\n",
    ")\n",
    "\n",
    "display(Markdown(\"#### Plain model - without debiasing - classification metrics\"))\n",
    "classified_metric_nodebiasing_test = ClassificationMetric(\n",
    "    dataset_orig_test,\n",
    "    dataset_nodebiasing_test,\n",
    "    unprivileged_groups=unprivileged_groups,\n",
    "    privileged_groups=privileged_groups,\n",
    ")\n",
    "print(\n",
    "    \"Test set: Classification accuracy = %f\"\n",
    "    % classified_metric_nodebiasing_test.accuracy()\n",
    ")\n",
    "TPR = classified_metric_nodebiasing_test.true_positive_rate()\n",
    "TNR = classified_metric_nodebiasing_test.true_negative_rate()\n",
    "bal_acc_nodebiasing_test = 0.5 * (TPR + TNR)\n",
    "print(\"Test set: Balanced classification accuracy = %f\" % bal_acc_nodebiasing_test)\n",
    "print(\n",
    "    \"Test set: Disparate impact = %f\"\n",
    "    % classified_metric_nodebiasing_test.disparate_impact()\n",
    ")\n",
    "print(\n",
    "    \"Test set: Equal opportunity difference = %f\"\n",
    "    % classified_metric_nodebiasing_test.equal_opportunity_difference()\n",
    ")\n",
    "print(\n",
    "    \"Test set: Average odds difference = %f\"\n",
    "    % classified_metric_nodebiasing_test.average_odds_difference()\n",
    ")\n",
    "print(\"Test set: Theil_index = %f\" % classified_metric_nodebiasing_test.theil_index())"
   ]
  },
  {
   "cell_type": "markdown",
   "id": "a0fc8347-736a-4e96-8cd3-c24d718cbdcd",
   "metadata": {},
   "source": [
    "### Apply in-processing algorithm based on adversarial learning"
   ]
  },
  {
   "cell_type": "code",
<<<<<<< HEAD
   "execution_count": 11,
=======
   "execution_count": 12,
>>>>>>> origin/main
   "id": "a58c98dd-d323-4db3-98b7-2a94940721e4",
   "metadata": {},
   "outputs": [],
   "source": [
    "from _utils import _XGBFairnessAdjuster\n",
    "\n",
    "debiased_model = _XGBFairnessAdjuster(\n",
    "    unprivileged_groups=unprivileged_groups,\n",
    "    privileged_groups=privileged_groups,\n",
    "    seed=1234,\n",
    "    debias=True,\n",
<<<<<<< HEAD
    "    adversary_loss_weight=1.0,\n",
    "    tune_hyperparameters_base=True,\n",
    "    tuning_settings_base=base_settings,\n",
    "    tune_hyperparameters_adjuster=True,\n",
    "    tuning_settings_adjuster=None,\n",
    "    debug=False,\n",
    "    task=\"classification\",\n",
=======
    "    adversary_loss_weight=10,\n",
    "    debug=False,\n",
>>>>>>> origin/main
    ")"
   ]
  },
  {
   "cell_type": "code",
<<<<<<< HEAD
   "execution_count": 12,
=======
   "execution_count": 13,
>>>>>>> origin/main
   "id": "1fbf48ef-0b64-4fb7-90c2-34128da3be02",
   "metadata": {
    "scrolled": true
   },
   "outputs": [
    {
     "data": {
      "text/plain": [
<<<<<<< HEAD
       "<aif360.algorithms.inprocessing.xgb_fairness_adjuster.XGBFairnessAdjuster at 0x7f55c452bb20>"
      ]
     },
     "execution_count": 12,
=======
       "<_utils._XGBFairnessAdjuster at 0x7f55f9f89e50>"
      ]
     },
     "execution_count": 13,
>>>>>>> origin/main
     "metadata": {},
     "output_type": "execute_result"
    }
   ],
   "source": [
    "debiased_model.fit(dataset_orig_train, test_dataset=dataset_orig_test)"
   ]
  },
  {
   "cell_type": "code",
<<<<<<< HEAD
   "execution_count": 13,
=======
   "execution_count": 14,
>>>>>>> origin/main
   "id": "74db4876-6c63-4d95-aaaf-45bbd72f8c42",
   "metadata": {},
   "outputs": [],
   "source": [
    "# Apply the plain model to test data\n",
    "dataset_debiasing_train = debiased_model.predict(dataset_orig_train)\n",
    "dataset_debiasing_test = debiased_model.predict(dataset_orig_test)"
   ]
  },
  {
   "cell_type": "code",
<<<<<<< HEAD
   "execution_count": 14,
=======
   "execution_count": 15,
>>>>>>> origin/main
   "id": "038c9554-70a0-4d26-99be-29a242202fd4",
   "metadata": {},
   "outputs": [
    {
     "data": {
      "text/markdown": [
       "#### Plain model - without debiasing - dataset metrics"
      ],
      "text/plain": [
       "<IPython.core.display.Markdown object>"
      ]
     },
     "metadata": {},
     "output_type": "display_data"
    },
    {
     "name": "stdout",
     "output_type": "stream",
     "text": [
      "Train set: Difference in mean outcomes between unprivileged and privileged groups = -0.302326\n",
      "Test set: Difference in mean outcomes between unprivileged and privileged groups = -0.360656\n"
     ]
    },
    {
     "data": {
      "text/markdown": [
       "#### Model - with debiasing - dataset metrics"
      ],
      "text/plain": [
       "<IPython.core.display.Markdown object>"
      ]
     },
     "metadata": {},
     "output_type": "display_data"
    },
    {
     "name": "stdout",
     "output_type": "stream",
     "text": [
<<<<<<< HEAD
      "Train set: Difference in mean outcomes between unprivileged and privileged groups = 0.000000\n",
      "Test set: Difference in mean outcomes between unprivileged and privileged groups = 0.000000\n"
=======
      "Train set: Difference in mean outcomes between unprivileged and privileged groups = -0.172756\n",
      "Test set: Difference in mean outcomes between unprivileged and privileged groups = -0.302421\n"
>>>>>>> origin/main
     ]
    },
    {
     "data": {
      "text/markdown": [
       "#### Plain model - without debiasing - classification metrics"
      ],
      "text/plain": [
       "<IPython.core.display.Markdown object>"
      ]
     },
     "metadata": {},
     "output_type": "display_data"
    },
    {
     "name": "stdout",
     "output_type": "stream",
     "text": [
      "Test set: Classification accuracy = 0.736667\n",
      "Test set: Balanced classification accuracy = 0.544733\n",
      "Test set: Disparate impact = 0.639344\n",
      "Test set: Equal opportunity difference = -0.305556\n",
      "Test set: Average odds difference = -0.372778\n",
      "Test set: Theil_index = 0.090103\n"
     ]
    },
    {
     "data": {
      "text/markdown": [
       "#### Model - with debiasing - classification metrics"
      ],
      "text/plain": [
       "<IPython.core.display.Markdown object>"
      ]
     },
     "metadata": {},
     "output_type": "display_data"
    },
    {
     "name": "stdout",
     "output_type": "stream",
     "text": [
<<<<<<< HEAD
      "Test set: Classification accuracy = 0.736667\n",
      "Test set: Balanced classification accuracy = 0.500000\n",
      "Test set: Disparate impact = 1.000000\n",
      "Test set: Equal opportunity difference = 0.000000\n",
      "Test set: Average odds difference = 0.000000\n",
      "Test set: Theil_index = 0.055210\n"
=======
      "Test set: Classification accuracy = 0.713333\n",
      "Test set: Balanced classification accuracy = 0.532963\n",
      "Test set: Disparate impact = 0.684373\n",
      "Test set: Equal opportunity difference = -0.262312\n",
      "Test set: Average odds difference = -0.312638\n",
      "Test set: Theil_index = 0.118481\n"
>>>>>>> origin/main
     ]
    }
   ],
   "source": [
    "# Metrics for the dataset from plain model (without debiasing)\n",
    "display(Markdown(\"#### Plain model - without debiasing - dataset metrics\"))\n",
    "print(\n",
    "    \"Train set: Difference in mean outcomes between unprivileged and privileged groups = %f\"\n",
    "    % metric_dataset_nodebiasing_train.mean_difference()\n",
    ")\n",
    "print(\n",
    "    \"Test set: Difference in mean outcomes between unprivileged and privileged groups = %f\"\n",
    "    % metric_dataset_nodebiasing_test.mean_difference()\n",
    ")\n",
    "\n",
    "# Metrics for the dataset from model with debiasing\n",
    "display(Markdown(\"#### Model - with debiasing - dataset metrics\"))\n",
    "metric_dataset_debiasing_train = BinaryLabelDatasetMetric(\n",
    "    dataset_debiasing_train,\n",
    "    unprivileged_groups=unprivileged_groups,\n",
    "    privileged_groups=privileged_groups,\n",
    ")\n",
    "\n",
    "print(\n",
    "    \"Train set: Difference in mean outcomes between unprivileged and privileged groups = %f\"\n",
    "    % metric_dataset_debiasing_train.mean_difference()\n",
    ")\n",
    "\n",
    "metric_dataset_debiasing_test = BinaryLabelDatasetMetric(\n",
    "    dataset_debiasing_test,\n",
    "    unprivileged_groups=unprivileged_groups,\n",
    "    privileged_groups=privileged_groups,\n",
    ")\n",
    "\n",
    "print(\n",
    "    \"Test set: Difference in mean outcomes between unprivileged and privileged groups = %f\"\n",
    "    % metric_dataset_debiasing_test.mean_difference()\n",
    ")\n",
    "\n",
    "\n",
    "display(Markdown(\"#### Plain model - without debiasing - classification metrics\"))\n",
    "print(\n",
    "    \"Test set: Classification accuracy = %f\"\n",
    "    % classified_metric_nodebiasing_test.accuracy()\n",
    ")\n",
    "TPR = classified_metric_nodebiasing_test.true_positive_rate()\n",
    "TNR = classified_metric_nodebiasing_test.true_negative_rate()\n",
    "bal_acc_nodebiasing_test = 0.5 * (TPR + TNR)\n",
    "print(\"Test set: Balanced classification accuracy = %f\" % bal_acc_nodebiasing_test)\n",
    "print(\n",
    "    \"Test set: Disparate impact = %f\"\n",
    "    % classified_metric_nodebiasing_test.disparate_impact()\n",
    ")\n",
    "print(\n",
    "    \"Test set: Equal opportunity difference = %f\"\n",
    "    % classified_metric_nodebiasing_test.equal_opportunity_difference()\n",
    ")\n",
    "print(\n",
    "    \"Test set: Average odds difference = %f\"\n",
    "    % classified_metric_nodebiasing_test.average_odds_difference()\n",
    ")\n",
    "print(\"Test set: Theil_index = %f\" % classified_metric_nodebiasing_test.theil_index())\n",
    "\n",
    "\n",
    "display(Markdown(\"#### Model - with debiasing - classification metrics\"))\n",
    "classified_metric_debiasing_test = ClassificationMetric(\n",
    "    dataset_orig_test,\n",
    "    dataset_debiasing_test,\n",
    "    unprivileged_groups=unprivileged_groups,\n",
    "    privileged_groups=privileged_groups,\n",
    ")\n",
    "print(\n",
    "    \"Test set: Classification accuracy = %f\"\n",
    "    % classified_metric_debiasing_test.accuracy()\n",
    ")\n",
    "TPR = classified_metric_debiasing_test.true_positive_rate()\n",
    "TNR = classified_metric_debiasing_test.true_negative_rate()\n",
    "bal_acc_debiasing_test = 0.5 * (TPR + TNR)\n",
    "print(\"Test set: Balanced classification accuracy = %f\" % bal_acc_debiasing_test)\n",
    "print(\n",
    "    \"Test set: Disparate impact = %f\"\n",
    "    % classified_metric_debiasing_test.disparate_impact()\n",
    ")\n",
    "print(\n",
    "    \"Test set: Equal opportunity difference = %f\"\n",
    "    % classified_metric_debiasing_test.equal_opportunity_difference()\n",
    ")\n",
    "print(\n",
    "    \"Test set: Average odds difference = %f\"\n",
    "    % classified_metric_debiasing_test.average_odds_difference()\n",
    ")\n",
    "print(\"Test set: Theil_index = %f\" % classified_metric_debiasing_test.theil_index())"
   ]
  },
  {
   "cell_type": "code",
<<<<<<< HEAD
   "execution_count": 15,
=======
   "execution_count": 20,
>>>>>>> origin/main
   "id": "31f29b50-a2c9-45b5-b713-7d569fab14ff",
   "metadata": {},
   "outputs": [
    {
     "data": {
<<<<<<< HEAD
      "image/png": "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",
=======
      "image/png": "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",
>>>>>>> origin/main
      "text/plain": [
       "<Figure size 640x480 with 1 Axes>"
      ]
     },
     "metadata": {},
     "output_type": "display_data"
    }
   ],
   "source": [
    "import matplotlib.pyplot as plt\n",
    "\n",
    "bins = 20\n",
    "probs_ad = debiased_model.predict_proba(dataset_orig_test)\n",
    "base_probs = plain_model.predict_proba(dataset_orig_test)\n",
<<<<<<< HEAD
    "plt.hist(probs_ad, bins=bins, histtype=\"step\", label=\"Fairness Adjuster\")\n",
=======
    "# plt.hist(adjusted_probs, bins=bins, histtype=\"step\", label=\"Fairness Adjuster\")\n",
    "plt.hist(probs_ad, bins=bins, histtype=\"step\", label=\"Adversarial Debiasing\")\n",
>>>>>>> origin/main
    "plt.hist(base_probs, bins=bins, histtype=\"step\", label=\"Plain Model\")\n",
    "plt.legend()\n",
    "plt.show()"
   ]
  },
  {
<<<<<<< HEAD
   "cell_type": "code",
   "execution_count": 16,
   "id": "70190765-1401-4bed-aaaf-56c248b53829",
   "metadata": {},
   "outputs": [
    {
     "data": {
      "text/plain": [
       "{'n_estimators': 39,\n",
       " 'max_leaves': 10,\n",
       " 'min_child_weight': 0.0161445270899228,\n",
       " 'learning_rate': 1.0,\n",
       " 'subsample': 0.23897200706768115,\n",
       " 'colsample_bylevel': 0.402794697364951,\n",
       " 'colsample_bytree': 0.2687499489421885,\n",
       " 'reg_alpha': 0.003216116408209221,\n",
       " 'reg_lambda': 6.9123138735089205}"
      ]
     },
     "execution_count": 16,
     "metadata": {},
     "output_type": "execute_result"
    }
   ],
   "source": [
    "plain_model.base_estimator.best_config"
   ]
  },
  {
   "cell_type": "code",
   "execution_count": 17,
   "id": "363dded6-ad1d-45a7-a489-2204655da035",
   "metadata": {},
   "outputs": [
    {
     "data": {
      "text/plain": [
       "False"
      ]
     },
     "execution_count": 17,
     "metadata": {},
     "output_type": "execute_result"
    }
   ],
   "source": [
    "hasattr(plain_model, \"model_adjuster\")"
   ]
  },
  {
   "cell_type": "code",
   "execution_count": 18,
   "id": "e57b982d-d86d-4c8c-b3ab-b066d82bd0ef",
   "metadata": {},
   "outputs": [
    {
     "data": {
      "text/plain": [
       "{'n_estimators': 39,\n",
       " 'max_leaves': 10,\n",
       " 'min_child_weight': 0.0161445270899228,\n",
       " 'learning_rate': 1.0,\n",
       " 'subsample': 0.23897200706768115,\n",
       " 'colsample_bylevel': 0.402794697364951,\n",
       " 'colsample_bytree': 0.2687499489421885,\n",
       " 'reg_alpha': 0.003216116408209221,\n",
       " 'reg_lambda': 6.9123138735089205}"
      ]
     },
     "execution_count": 18,
     "metadata": {},
     "output_type": "execute_result"
    }
   ],
   "source": [
    "debiased_model.base_estimator.best_config"
   ]
  },
  {
   "cell_type": "code",
   "execution_count": 19,
   "id": "af405d20-3f69-4a21-9117-e67e4536081e",
   "metadata": {},
   "outputs": [
    {
     "data": {
      "text/plain": [
       "xgboost.sklearn.XGBRegressor"
      ]
     },
     "execution_count": 19,
     "metadata": {},
     "output_type": "execute_result"
    }
   ],
   "source": [
    "type(debiased_model.model_adjuster)"
   ]
  },
  {
   "cell_type": "code",
   "execution_count": null,
   "id": "2a228351-bc92-44d7-87d2-79aaa6c10904",
   "metadata": {},
   "outputs": [],
   "source": []
  },
  {
=======
>>>>>>> origin/main
   "cell_type": "markdown",
   "id": "d8892995-7732-4b40-9905-c8fc49194798",
   "metadata": {},
   "source": [
    "\n",
    "    References:\n",
    "    [1] B. H. Zhang, B. Lemoine, and M. Mitchell, \"Mitigating UnwantedBiases with Adversarial Learning,\" \n",
    "    AAAI/ACM Conference on Artificial Intelligence, Ethics, and Society, 2018."
   ]
  },
  {
   "cell_type": "code",
   "execution_count": null,
   "id": "aaafd33c-24c9-4bb5-983b-dbb9ba0009d6",
   "metadata": {},
   "outputs": [],
   "source": []
  }
 ],
 "metadata": {
  "kernelspec": {
   "display_name": "aif360",
   "language": "python",
   "name": "aif360"
  },
  "language_info": {
   "codemirror_mode": {
    "name": "ipython",
    "version": 3
   },
   "file_extension": ".py",
   "mimetype": "text/x-python",
   "name": "python",
   "nbconvert_exporter": "python",
   "pygments_lexer": "ipython3",
   "version": "3.10.15"
  }
 },
 "nbformat": 4,
 "nbformat_minor": 5
}
